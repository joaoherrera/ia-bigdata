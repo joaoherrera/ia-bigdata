{
  "cells": [
    {
      "cell_type": "markdown",
      "metadata": {
        "id": "mGKHv1rCvyRJ"
      },
      "source": [
        "# SCC-ICMC-USP  \n",
        "\n",
        "\n",
        "# CURSO 2 - CD-AM-DM\n",
        "# EXERCICIO DE FIXAÇÃO - 2A. QUINZENA\n",
        "\n",
        "# OBJETIVO - **COMITES DE ÁRVORES DE DECISÃO**\n",
        "\n",
        "# Profa. Roseli A. F. Romero\n",
        "\n",
        "---\n",
        "\n",
        "### Objetivos:\n",
        "- Fazer exploração e préprocessamento dos dados utilizando onehot encoding e padronização\n",
        "- Testar os algoritmos DecisionTree, RandomForests e XGB utilizando métricas RMSE e R2"
      ]
    },
    {
      "cell_type": "markdown",
      "metadata": {
        "id": "5W60BKvfr2pq"
      },
      "source": [
        "### Base:\n",
        "\n",
        "Considere o arquivo `houses_to_rent_v2.csv`. Esta base tem dados de imóveis para 5 cidades do Brasil. Esta base pode ser usada tanto pelo proprietário quanto pelo locatário. Pretende-se que um proprietario\n",
        "tenha uma estimativa do preço que pode alugar seu imóvel, através de seus atributos. Por outro lado, pretende-se que um locatário possa estimar se o aluguel é condizente."
      ]
    },
    {
      "cell_type": "markdown",
      "metadata": {
        "id": "7D9C-F06urva"
      },
      "source": [
        "### Questão 1 \n",
        " Para esta questão vc deve:\n",
        " - Remover do conjunto os atributos: \"area\", \"floor\", \"animal\", \"hoa (R\\\\$)\", \"total (R\\\\$)\", \"property tax (R\\\\$)\"\n",
        " \n",
        " "
      ]
    },
    {
      "cell_type": "markdown",
      "source": [
        " ### Questão 2 - Separar o conjunto em 80% treinamento e 20% teste"
      ],
      "metadata": {
        "id": "OBCqngqlc1pM"
      }
    },
    {
      "cell_type": "code",
      "execution_count": 1,
      "metadata": {
        "colab": {
          "base_uri": "https://localhost:8080/",
          "height": 589
        },
        "id": "wT9Yj9lzsb8V",
        "outputId": "7e590f49-4dc1-494e-eca2-665cf40841bf"
      },
      "outputs": [
        {
          "output_type": "execute_result",
          "data": {
            "text/plain": [
              "                city  rooms  bathroom  parking spaces      furniture  \\\n",
              "0          São Paulo      3         4               3      furnished   \n",
              "1          São Paulo      3         2               2  not furnished   \n",
              "2           Campinas      1         1               0  not furnished   \n",
              "3       Porto Alegre      1         1               1      furnished   \n",
              "4          São Paulo      2         2               1  not furnished   \n",
              "...              ...    ...       ...             ...            ...   \n",
              "8548       São Paulo      1         1               0      furnished   \n",
              "8549       São Paulo      3         2               2  not furnished   \n",
              "8550  Rio de Janeiro      2         2               0      furnished   \n",
              "8551       São Paulo      1         1               1      furnished   \n",
              "8552       São Paulo      2         4               4  not furnished   \n",
              "\n",
              "      rent amount (R$)  fire insurance (R$)  \n",
              "0                 8500                   33  \n",
              "1                 2300                   35  \n",
              "2                  500                    7  \n",
              "3                 2400                   36  \n",
              "4                 1700                   22  \n",
              "...                ...                  ...  \n",
              "8548              2100                   27  \n",
              "8549              3800                   49  \n",
              "8550              4700                   61  \n",
              "8551              2600                   33  \n",
              "8552              2700                   35  \n",
              "\n",
              "[8553 rows x 7 columns]"
            ],
            "text/html": [
              "\n",
              "  <div id=\"df-62a794aa-8f86-40ca-940a-2fbe4e93683a\">\n",
              "    <div class=\"colab-df-container\">\n",
              "      <div>\n",
              "<style scoped>\n",
              "    .dataframe tbody tr th:only-of-type {\n",
              "        vertical-align: middle;\n",
              "    }\n",
              "\n",
              "    .dataframe tbody tr th {\n",
              "        vertical-align: top;\n",
              "    }\n",
              "\n",
              "    .dataframe thead th {\n",
              "        text-align: right;\n",
              "    }\n",
              "</style>\n",
              "<table border=\"1\" class=\"dataframe\">\n",
              "  <thead>\n",
              "    <tr style=\"text-align: right;\">\n",
              "      <th></th>\n",
              "      <th>city</th>\n",
              "      <th>rooms</th>\n",
              "      <th>bathroom</th>\n",
              "      <th>parking spaces</th>\n",
              "      <th>furniture</th>\n",
              "      <th>rent amount (R$)</th>\n",
              "      <th>fire insurance (R$)</th>\n",
              "    </tr>\n",
              "  </thead>\n",
              "  <tbody>\n",
              "    <tr>\n",
              "      <th>0</th>\n",
              "      <td>São Paulo</td>\n",
              "      <td>3</td>\n",
              "      <td>4</td>\n",
              "      <td>3</td>\n",
              "      <td>furnished</td>\n",
              "      <td>8500</td>\n",
              "      <td>33</td>\n",
              "    </tr>\n",
              "    <tr>\n",
              "      <th>1</th>\n",
              "      <td>São Paulo</td>\n",
              "      <td>3</td>\n",
              "      <td>2</td>\n",
              "      <td>2</td>\n",
              "      <td>not furnished</td>\n",
              "      <td>2300</td>\n",
              "      <td>35</td>\n",
              "    </tr>\n",
              "    <tr>\n",
              "      <th>2</th>\n",
              "      <td>Campinas</td>\n",
              "      <td>1</td>\n",
              "      <td>1</td>\n",
              "      <td>0</td>\n",
              "      <td>not furnished</td>\n",
              "      <td>500</td>\n",
              "      <td>7</td>\n",
              "    </tr>\n",
              "    <tr>\n",
              "      <th>3</th>\n",
              "      <td>Porto Alegre</td>\n",
              "      <td>1</td>\n",
              "      <td>1</td>\n",
              "      <td>1</td>\n",
              "      <td>furnished</td>\n",
              "      <td>2400</td>\n",
              "      <td>36</td>\n",
              "    </tr>\n",
              "    <tr>\n",
              "      <th>4</th>\n",
              "      <td>São Paulo</td>\n",
              "      <td>2</td>\n",
              "      <td>2</td>\n",
              "      <td>1</td>\n",
              "      <td>not furnished</td>\n",
              "      <td>1700</td>\n",
              "      <td>22</td>\n",
              "    </tr>\n",
              "    <tr>\n",
              "      <th>...</th>\n",
              "      <td>...</td>\n",
              "      <td>...</td>\n",
              "      <td>...</td>\n",
              "      <td>...</td>\n",
              "      <td>...</td>\n",
              "      <td>...</td>\n",
              "      <td>...</td>\n",
              "    </tr>\n",
              "    <tr>\n",
              "      <th>8548</th>\n",
              "      <td>São Paulo</td>\n",
              "      <td>1</td>\n",
              "      <td>1</td>\n",
              "      <td>0</td>\n",
              "      <td>furnished</td>\n",
              "      <td>2100</td>\n",
              "      <td>27</td>\n",
              "    </tr>\n",
              "    <tr>\n",
              "      <th>8549</th>\n",
              "      <td>São Paulo</td>\n",
              "      <td>3</td>\n",
              "      <td>2</td>\n",
              "      <td>2</td>\n",
              "      <td>not furnished</td>\n",
              "      <td>3800</td>\n",
              "      <td>49</td>\n",
              "    </tr>\n",
              "    <tr>\n",
              "      <th>8550</th>\n",
              "      <td>Rio de Janeiro</td>\n",
              "      <td>2</td>\n",
              "      <td>2</td>\n",
              "      <td>0</td>\n",
              "      <td>furnished</td>\n",
              "      <td>4700</td>\n",
              "      <td>61</td>\n",
              "    </tr>\n",
              "    <tr>\n",
              "      <th>8551</th>\n",
              "      <td>São Paulo</td>\n",
              "      <td>1</td>\n",
              "      <td>1</td>\n",
              "      <td>1</td>\n",
              "      <td>furnished</td>\n",
              "      <td>2600</td>\n",
              "      <td>33</td>\n",
              "    </tr>\n",
              "    <tr>\n",
              "      <th>8552</th>\n",
              "      <td>São Paulo</td>\n",
              "      <td>2</td>\n",
              "      <td>4</td>\n",
              "      <td>4</td>\n",
              "      <td>not furnished</td>\n",
              "      <td>2700</td>\n",
              "      <td>35</td>\n",
              "    </tr>\n",
              "  </tbody>\n",
              "</table>\n",
              "<p>8553 rows × 7 columns</p>\n",
              "</div>\n",
              "      <button class=\"colab-df-convert\" onclick=\"convertToInteractive('df-62a794aa-8f86-40ca-940a-2fbe4e93683a')\"\n",
              "              title=\"Convert this dataframe to an interactive table.\"\n",
              "              style=\"display:none;\">\n",
              "        \n",
              "  <svg xmlns=\"http://www.w3.org/2000/svg\" height=\"24px\"viewBox=\"0 0 24 24\"\n",
              "       width=\"24px\">\n",
              "    <path d=\"M0 0h24v24H0V0z\" fill=\"none\"/>\n",
              "    <path d=\"M18.56 5.44l.94 2.06.94-2.06 2.06-.94-2.06-.94-.94-2.06-.94 2.06-2.06.94zm-11 1L8.5 8.5l.94-2.06 2.06-.94-2.06-.94L8.5 2.5l-.94 2.06-2.06.94zm10 10l.94 2.06.94-2.06 2.06-.94-2.06-.94-.94-2.06-.94 2.06-2.06.94z\"/><path d=\"M17.41 7.96l-1.37-1.37c-.4-.4-.92-.59-1.43-.59-.52 0-1.04.2-1.43.59L10.3 9.45l-7.72 7.72c-.78.78-.78 2.05 0 2.83L4 21.41c.39.39.9.59 1.41.59.51 0 1.02-.2 1.41-.59l7.78-7.78 2.81-2.81c.8-.78.8-2.07 0-2.86zM5.41 20L4 18.59l7.72-7.72 1.47 1.35L5.41 20z\"/>\n",
              "  </svg>\n",
              "      </button>\n",
              "      \n",
              "  <style>\n",
              "    .colab-df-container {\n",
              "      display:flex;\n",
              "      flex-wrap:wrap;\n",
              "      gap: 12px;\n",
              "    }\n",
              "\n",
              "    .colab-df-convert {\n",
              "      background-color: #E8F0FE;\n",
              "      border: none;\n",
              "      border-radius: 50%;\n",
              "      cursor: pointer;\n",
              "      display: none;\n",
              "      fill: #1967D2;\n",
              "      height: 32px;\n",
              "      padding: 0 0 0 0;\n",
              "      width: 32px;\n",
              "    }\n",
              "\n",
              "    .colab-df-convert:hover {\n",
              "      background-color: #E2EBFA;\n",
              "      box-shadow: 0px 1px 2px rgba(60, 64, 67, 0.3), 0px 1px 3px 1px rgba(60, 64, 67, 0.15);\n",
              "      fill: #174EA6;\n",
              "    }\n",
              "\n",
              "    [theme=dark] .colab-df-convert {\n",
              "      background-color: #3B4455;\n",
              "      fill: #D2E3FC;\n",
              "    }\n",
              "\n",
              "    [theme=dark] .colab-df-convert:hover {\n",
              "      background-color: #434B5C;\n",
              "      box-shadow: 0px 1px 3px 1px rgba(0, 0, 0, 0.15);\n",
              "      filter: drop-shadow(0px 1px 2px rgba(0, 0, 0, 0.3));\n",
              "      fill: #FFFFFF;\n",
              "    }\n",
              "  </style>\n",
              "\n",
              "      <script>\n",
              "        const buttonEl =\n",
              "          document.querySelector('#df-62a794aa-8f86-40ca-940a-2fbe4e93683a button.colab-df-convert');\n",
              "        buttonEl.style.display =\n",
              "          google.colab.kernel.accessAllowed ? 'block' : 'none';\n",
              "\n",
              "        async function convertToInteractive(key) {\n",
              "          const element = document.querySelector('#df-62a794aa-8f86-40ca-940a-2fbe4e93683a');\n",
              "          const dataTable =\n",
              "            await google.colab.kernel.invokeFunction('convertToInteractive',\n",
              "                                                     [key], {});\n",
              "          if (!dataTable) return;\n",
              "\n",
              "          const docLinkHtml = 'Like what you see? Visit the ' +\n",
              "            '<a target=\"_blank\" href=https://colab.research.google.com/notebooks/data_table.ipynb>data table notebook</a>'\n",
              "            + ' to learn more about interactive tables.';\n",
              "          element.innerHTML = '';\n",
              "          dataTable['output_type'] = 'display_data';\n",
              "          await google.colab.output.renderOutput(dataTable, element);\n",
              "          const docLink = document.createElement('div');\n",
              "          docLink.innerHTML = docLinkHtml;\n",
              "          element.appendChild(docLink);\n",
              "        }\n",
              "      </script>\n",
              "    </div>\n",
              "  </div>\n",
              "  "
            ]
          },
          "metadata": {},
          "execution_count": 1
        }
      ],
      "source": [
        "from sklearn.model_selection import train_test_split\n",
        "from sklearn.metrics import mean_squared_error\n",
        "from sklearn.metrics import r2_score\n",
        "import pandas as pd\n",
        "import numpy as np\n",
        "\n",
        "data = pd.read_csv('houses_to_rent_v2.csv', na_values='-')\n",
        "# Vamos ignorar algumas colunas para simplificar o problema\n",
        "data = data.drop([\"area\", \"floor\", \"animal\", \"hoa (R$)\", \"total (R$)\", \"property tax (R$)\"], axis=1)\n",
        "\n",
        "train_data, test_data = train_test_split(data, test_size=0.2, random_state=42)\n",
        "train_data.reset_index(drop=True, inplace=True)\n",
        "test_data.reset_index(drop=True, inplace=True)\n",
        "train_data"
      ]
    },
    {
      "cell_type": "code",
      "execution_count": 2,
      "metadata": {
        "id": "PaKFYmPNI6nH",
        "outputId": "46879e89-6c37-4455-ecd0-02a5099cf8f5",
        "colab": {
          "base_uri": "https://localhost:8080/",
          "height": 624
        }
      },
      "outputs": [
        {
          "output_type": "execute_result",
          "data": {
            "text/plain": [
              "                city  rooms  bathroom  parking spaces      furniture  \\\n",
              "0           Campinas      3         3               2  not furnished   \n",
              "1     Rio de Janeiro      2         1               1  not furnished   \n",
              "2           Campinas      2         2               1      furnished   \n",
              "3     Belo Horizonte      3         2               1  not furnished   \n",
              "4          São Paulo      4         2               0  not furnished   \n",
              "...              ...    ...       ...             ...            ...   \n",
              "2134       São Paulo      5         4               4  not furnished   \n",
              "2135    Porto Alegre      3         1               1  not furnished   \n",
              "2136        Campinas      2         1               1  not furnished   \n",
              "2137    Porto Alegre      3         2               1      furnished   \n",
              "2138        Campinas      3         2               1  not furnished   \n",
              "\n",
              "      rent amount (R$)  fire insurance (R$)  \n",
              "0                 2500                   32  \n",
              "1                 1900                   25  \n",
              "2                 2000                   26  \n",
              "3                 1400                   19  \n",
              "4                15000                  191  \n",
              "...                ...                  ...  \n",
              "2134              4600                   70  \n",
              "2135              1240                   19  \n",
              "2136              1000                   13  \n",
              "2137              2900                   43  \n",
              "2138               900                   12  \n",
              "\n",
              "[2139 rows x 7 columns]"
            ],
            "text/html": [
              "\n",
              "  <div id=\"df-a6e1fc02-c0c4-4f0f-90fb-c1d014160b0d\">\n",
              "    <div class=\"colab-df-container\">\n",
              "      <div>\n",
              "<style scoped>\n",
              "    .dataframe tbody tr th:only-of-type {\n",
              "        vertical-align: middle;\n",
              "    }\n",
              "\n",
              "    .dataframe tbody tr th {\n",
              "        vertical-align: top;\n",
              "    }\n",
              "\n",
              "    .dataframe thead th {\n",
              "        text-align: right;\n",
              "    }\n",
              "</style>\n",
              "<table border=\"1\" class=\"dataframe\">\n",
              "  <thead>\n",
              "    <tr style=\"text-align: right;\">\n",
              "      <th></th>\n",
              "      <th>city</th>\n",
              "      <th>rooms</th>\n",
              "      <th>bathroom</th>\n",
              "      <th>parking spaces</th>\n",
              "      <th>furniture</th>\n",
              "      <th>rent amount (R$)</th>\n",
              "      <th>fire insurance (R$)</th>\n",
              "    </tr>\n",
              "  </thead>\n",
              "  <tbody>\n",
              "    <tr>\n",
              "      <th>0</th>\n",
              "      <td>Campinas</td>\n",
              "      <td>3</td>\n",
              "      <td>3</td>\n",
              "      <td>2</td>\n",
              "      <td>not furnished</td>\n",
              "      <td>2500</td>\n",
              "      <td>32</td>\n",
              "    </tr>\n",
              "    <tr>\n",
              "      <th>1</th>\n",
              "      <td>Rio de Janeiro</td>\n",
              "      <td>2</td>\n",
              "      <td>1</td>\n",
              "      <td>1</td>\n",
              "      <td>not furnished</td>\n",
              "      <td>1900</td>\n",
              "      <td>25</td>\n",
              "    </tr>\n",
              "    <tr>\n",
              "      <th>2</th>\n",
              "      <td>Campinas</td>\n",
              "      <td>2</td>\n",
              "      <td>2</td>\n",
              "      <td>1</td>\n",
              "      <td>furnished</td>\n",
              "      <td>2000</td>\n",
              "      <td>26</td>\n",
              "    </tr>\n",
              "    <tr>\n",
              "      <th>3</th>\n",
              "      <td>Belo Horizonte</td>\n",
              "      <td>3</td>\n",
              "      <td>2</td>\n",
              "      <td>1</td>\n",
              "      <td>not furnished</td>\n",
              "      <td>1400</td>\n",
              "      <td>19</td>\n",
              "    </tr>\n",
              "    <tr>\n",
              "      <th>4</th>\n",
              "      <td>São Paulo</td>\n",
              "      <td>4</td>\n",
              "      <td>2</td>\n",
              "      <td>0</td>\n",
              "      <td>not furnished</td>\n",
              "      <td>15000</td>\n",
              "      <td>191</td>\n",
              "    </tr>\n",
              "    <tr>\n",
              "      <th>...</th>\n",
              "      <td>...</td>\n",
              "      <td>...</td>\n",
              "      <td>...</td>\n",
              "      <td>...</td>\n",
              "      <td>...</td>\n",
              "      <td>...</td>\n",
              "      <td>...</td>\n",
              "    </tr>\n",
              "    <tr>\n",
              "      <th>2134</th>\n",
              "      <td>São Paulo</td>\n",
              "      <td>5</td>\n",
              "      <td>4</td>\n",
              "      <td>4</td>\n",
              "      <td>not furnished</td>\n",
              "      <td>4600</td>\n",
              "      <td>70</td>\n",
              "    </tr>\n",
              "    <tr>\n",
              "      <th>2135</th>\n",
              "      <td>Porto Alegre</td>\n",
              "      <td>3</td>\n",
              "      <td>1</td>\n",
              "      <td>1</td>\n",
              "      <td>not furnished</td>\n",
              "      <td>1240</td>\n",
              "      <td>19</td>\n",
              "    </tr>\n",
              "    <tr>\n",
              "      <th>2136</th>\n",
              "      <td>Campinas</td>\n",
              "      <td>2</td>\n",
              "      <td>1</td>\n",
              "      <td>1</td>\n",
              "      <td>not furnished</td>\n",
              "      <td>1000</td>\n",
              "      <td>13</td>\n",
              "    </tr>\n",
              "    <tr>\n",
              "      <th>2137</th>\n",
              "      <td>Porto Alegre</td>\n",
              "      <td>3</td>\n",
              "      <td>2</td>\n",
              "      <td>1</td>\n",
              "      <td>furnished</td>\n",
              "      <td>2900</td>\n",
              "      <td>43</td>\n",
              "    </tr>\n",
              "    <tr>\n",
              "      <th>2138</th>\n",
              "      <td>Campinas</td>\n",
              "      <td>3</td>\n",
              "      <td>2</td>\n",
              "      <td>1</td>\n",
              "      <td>not furnished</td>\n",
              "      <td>900</td>\n",
              "      <td>12</td>\n",
              "    </tr>\n",
              "  </tbody>\n",
              "</table>\n",
              "<p>2139 rows × 7 columns</p>\n",
              "</div>\n",
              "      <button class=\"colab-df-convert\" onclick=\"convertToInteractive('df-a6e1fc02-c0c4-4f0f-90fb-c1d014160b0d')\"\n",
              "              title=\"Convert this dataframe to an interactive table.\"\n",
              "              style=\"display:none;\">\n",
              "        \n",
              "  <svg xmlns=\"http://www.w3.org/2000/svg\" height=\"24px\"viewBox=\"0 0 24 24\"\n",
              "       width=\"24px\">\n",
              "    <path d=\"M0 0h24v24H0V0z\" fill=\"none\"/>\n",
              "    <path d=\"M18.56 5.44l.94 2.06.94-2.06 2.06-.94-2.06-.94-.94-2.06-.94 2.06-2.06.94zm-11 1L8.5 8.5l.94-2.06 2.06-.94-2.06-.94L8.5 2.5l-.94 2.06-2.06.94zm10 10l.94 2.06.94-2.06 2.06-.94-2.06-.94-.94-2.06-.94 2.06-2.06.94z\"/><path d=\"M17.41 7.96l-1.37-1.37c-.4-.4-.92-.59-1.43-.59-.52 0-1.04.2-1.43.59L10.3 9.45l-7.72 7.72c-.78.78-.78 2.05 0 2.83L4 21.41c.39.39.9.59 1.41.59.51 0 1.02-.2 1.41-.59l7.78-7.78 2.81-2.81c.8-.78.8-2.07 0-2.86zM5.41 20L4 18.59l7.72-7.72 1.47 1.35L5.41 20z\"/>\n",
              "  </svg>\n",
              "      </button>\n",
              "      \n",
              "  <style>\n",
              "    .colab-df-container {\n",
              "      display:flex;\n",
              "      flex-wrap:wrap;\n",
              "      gap: 12px;\n",
              "    }\n",
              "\n",
              "    .colab-df-convert {\n",
              "      background-color: #E8F0FE;\n",
              "      border: none;\n",
              "      border-radius: 50%;\n",
              "      cursor: pointer;\n",
              "      display: none;\n",
              "      fill: #1967D2;\n",
              "      height: 32px;\n",
              "      padding: 0 0 0 0;\n",
              "      width: 32px;\n",
              "    }\n",
              "\n",
              "    .colab-df-convert:hover {\n",
              "      background-color: #E2EBFA;\n",
              "      box-shadow: 0px 1px 2px rgba(60, 64, 67, 0.3), 0px 1px 3px 1px rgba(60, 64, 67, 0.15);\n",
              "      fill: #174EA6;\n",
              "    }\n",
              "\n",
              "    [theme=dark] .colab-df-convert {\n",
              "      background-color: #3B4455;\n",
              "      fill: #D2E3FC;\n",
              "    }\n",
              "\n",
              "    [theme=dark] .colab-df-convert:hover {\n",
              "      background-color: #434B5C;\n",
              "      box-shadow: 0px 1px 3px 1px rgba(0, 0, 0, 0.15);\n",
              "      filter: drop-shadow(0px 1px 2px rgba(0, 0, 0, 0.3));\n",
              "      fill: #FFFFFF;\n",
              "    }\n",
              "  </style>\n",
              "\n",
              "      <script>\n",
              "        const buttonEl =\n",
              "          document.querySelector('#df-a6e1fc02-c0c4-4f0f-90fb-c1d014160b0d button.colab-df-convert');\n",
              "        buttonEl.style.display =\n",
              "          google.colab.kernel.accessAllowed ? 'block' : 'none';\n",
              "\n",
              "        async function convertToInteractive(key) {\n",
              "          const element = document.querySelector('#df-a6e1fc02-c0c4-4f0f-90fb-c1d014160b0d');\n",
              "          const dataTable =\n",
              "            await google.colab.kernel.invokeFunction('convertToInteractive',\n",
              "                                                     [key], {});\n",
              "          if (!dataTable) return;\n",
              "\n",
              "          const docLinkHtml = 'Like what you see? Visit the ' +\n",
              "            '<a target=\"_blank\" href=https://colab.research.google.com/notebooks/data_table.ipynb>data table notebook</a>'\n",
              "            + ' to learn more about interactive tables.';\n",
              "          element.innerHTML = '';\n",
              "          dataTable['output_type'] = 'display_data';\n",
              "          await google.colab.output.renderOutput(dataTable, element);\n",
              "          const docLink = document.createElement('div');\n",
              "          docLink.innerHTML = docLinkHtml;\n",
              "          element.appendChild(docLink);\n",
              "        }\n",
              "      </script>\n",
              "    </div>\n",
              "  </div>\n",
              "  "
            ]
          },
          "metadata": {},
          "execution_count": 2
        }
      ],
      "source": [
        "test_data"
      ]
    },
    {
      "cell_type": "code",
      "execution_count": 3,
      "metadata": {
        "id": "-Q69vom9I6nI",
        "outputId": "4e59e12a-8f1e-41d9-a224-8719adcd7c0e",
        "colab": {
          "base_uri": "https://localhost:8080/"
        }
      },
      "outputs": [
        {
          "output_type": "stream",
          "name": "stdout",
          "text": [
            "<class 'pandas.core.frame.DataFrame'>\n",
            "RangeIndex: 8553 entries, 0 to 8552\n",
            "Data columns (total 7 columns):\n",
            " #   Column               Non-Null Count  Dtype \n",
            "---  ------               --------------  ----- \n",
            " 0   city                 8553 non-null   object\n",
            " 1   rooms                8553 non-null   int64 \n",
            " 2   bathroom             8553 non-null   int64 \n",
            " 3   parking spaces       8553 non-null   int64 \n",
            " 4   furniture            8553 non-null   object\n",
            " 5   rent amount (R$)     8553 non-null   int64 \n",
            " 6   fire insurance (R$)  8553 non-null   int64 \n",
            "dtypes: int64(5), object(2)\n",
            "memory usage: 467.9+ KB\n"
          ]
        }
      ],
      "source": [
        "train_data.info()"
      ]
    },
    {
      "cell_type": "markdown",
      "metadata": {
        "id": "0IM5y4Zg4iHR"
      },
      "source": [
        "### Questão 3 - Verificar se existem valores nulos."
      ]
    },
    {
      "cell_type": "code",
      "execution_count": 4,
      "metadata": {
        "colab": {
          "base_uri": "https://localhost:8080/"
        },
        "id": "FQHMIpXuvbyO",
        "outputId": "8c3e5d7c-1214-4687-fcb0-595bc4f4f786"
      },
      "outputs": [
        {
          "output_type": "execute_result",
          "data": {
            "text/plain": [
              "city                   0\n",
              "rooms                  0\n",
              "bathroom               0\n",
              "parking spaces         0\n",
              "furniture              0\n",
              "rent amount (R$)       0\n",
              "fire insurance (R$)    0\n",
              "dtype: int64"
            ]
          },
          "metadata": {},
          "execution_count": 4
        }
      ],
      "source": [
        "train_data.isnull().sum()"
      ]
    },
    {
      "cell_type": "markdown",
      "metadata": {
        "id": "QIjQxqU3I6nK"
      },
      "source": [
        "### Questão 4 - Remover os outliers do conjunto em relação ao atributo rent amount (considere um outlier o dado que estiver a mais de Q3 + 1.5 * IQR ou a menos que Q1 - 1.5 * IQR, onde Q1 e Q3 são o primeiro e terceiro quartis, respectivamente, e IQR= Q3 - Q1). Note que é interessante fazer a análise dos outliers separadamente para cada cidade, pois há grande variação do aluguel entre cidades.\n",
        "\n",
        "- Utilize [Pipelines](https://scikit-learn.org/stable/modules/generated/sklearn.pipeline.Pipeline.html) e [ColunmTransformer](https://scikit-learn.org/stable/modules/generated/sklearn.compose.ColumnTransformer.html) para padronizar os dados numéricos e aplicar one hot encoding nos categóricos. "
      ]
    },
    {
      "cell_type": "markdown",
      "metadata": {
        "id": "zGpgav-64w61"
      },
      "source": [
        "Vamos limpar os dados para que fiquem sem outliers em relação ao atributo rent amount. Os outliers serão analisados no contexto de cada cidade, pois o aluguel entre as cidades pode possuir grande variação.\n"
      ]
    },
    {
      "cell_type": "code",
      "execution_count": 5,
      "metadata": {
        "id": "-l7OdYVKI6nL",
        "outputId": "fc2a4215-8e4b-4f55-c2bc-285ae87c4959",
        "colab": {
          "base_uri": "https://localhost:8080/",
          "height": 614
        }
      },
      "outputs": [
        {
          "output_type": "stream",
          "name": "stderr",
          "text": [
            "/usr/local/lib/python3.7/dist-packages/matplotlib/cbook/__init__.py:1376: VisibleDeprecationWarning: Creating an ndarray from ragged nested sequences (which is a list-or-tuple of lists-or-tuples-or ndarrays with different lengths or shapes) is deprecated. If you meant to do this, you must specify 'dtype=object' when creating the ndarray.\n",
            "  X = np.atleast_1d(X.T if isinstance(X, np.ndarray) else np.asarray(X))\n"
          ]
        },
        {
          "output_type": "stream",
          "name": "stdout",
          "text": [
            "Obliquidade por cidade:\n",
            "city\n",
            "Belo Horizonte    1.748219\n",
            "Campinas          2.689998\n",
            "Porto Alegre      3.184732\n",
            "Rio de Janeiro    2.208262\n",
            "São Paulo         1.625930\n",
            "Name: rent amount (R$), dtype: float64\n"
          ]
        },
        {
          "output_type": "display_data",
          "data": {
            "text/plain": [
              "<Figure size 576x432 with 1 Axes>"
            ],
            "image/png": "[encoded data removed]"
          },
          "metadata": {
            "needs_background": "light"
          }
        }
      ],
      "source": [
        "from matplotlib import pyplot as plt\n",
        "\n",
        "fig = plt.figure(figsize=(8,6))\n",
        "ax = fig.gca()  \n",
        "train_data[['city','rent amount (R$)']].boxplot(by='city', ax=ax)\n",
        "ax.set_title('') # Give the plot a main title\n",
        "ax.set_xlabel('City') # Set text for the x axis\n",
        "ax.set_ylabel('rent amount (R$)')# Set text for y axis\n",
        "print(\"Obliquidade por cidade:\")\n",
        "print(train_data.groupby(\"city\")['rent amount (R$)'].skew())"
      ]
    },
    {
      "cell_type": "code",
      "execution_count": 6,
      "metadata": {
        "id": "vPiaCXZzI6nM",
        "outputId": "42a069bc-87f9-4cf5-d028-cd50205b69ce",
        "colab": {
          "base_uri": "https://localhost:8080/"
        }
      },
      "outputs": [
        {
          "output_type": "stream",
          "name": "stdout",
          "text": [
            "Primeiro quartil:\n",
            "city\n",
            "Belo Horizonte    1250.0\n",
            "Campinas          1000.0\n",
            "Porto Alegre      1100.0\n",
            "Rio de Janeiro    1500.0\n",
            "São Paulo         2000.0\n",
            "Name: rent amount (R$), dtype: float64\n",
            "\n",
            "Terceiro quartil:\n",
            "city\n",
            "Belo Horizonte    4600.0\n",
            "Campinas          2692.5\n",
            "Porto Alegre      2600.0\n",
            "Rio de Janeiro    4000.0\n",
            "São Paulo         6292.5\n",
            "Name: rent amount (R$), dtype: float64\n"
          ]
        }
      ],
      "source": [
        "# Primeiro vamos criar um agrupamento por cidades, para facilitar a manipulação:\n",
        "city_group = train_data.groupby('city')['rent amount (R$)']\n",
        "\n",
        "# Analisando o primeiro e terceiro quartil de cada cidade:\n",
        "Q1 = city_group.quantile(.25)\n",
        "Q3 = city_group.quantile(.75)\n",
        "print(\"Primeiro quartil:\")\n",
        "print(Q1)\n",
        "print(\"\\nTerceiro quartil:\")\n",
        "print(Q3)"
      ]
    },
    {
      "cell_type": "markdown",
      "metadata": {
        "id": "p2uyu9S9I6nM"
      },
      "source": [
        "Calculando o intervalo entre quartis (IQR) para calculo do limite superior e inferior:"
      ]
    },
    {
      "cell_type": "code",
      "execution_count": 7,
      "metadata": {
        "id": "VbdOgxn_I6nN",
        "outputId": "2efb835e-e816-4fa1-fb6e-be41b9a42621",
        "colab": {
          "base_uri": "https://localhost:8080/"
        }
      },
      "outputs": [
        {
          "output_type": "stream",
          "name": "stdout",
          "text": [
            "Limites inferiores:\n",
            "city\n",
            "Belo Horizonte   -3775.00\n",
            "Campinas         -1538.75\n",
            "Porto Alegre     -1150.00\n",
            "Rio de Janeiro   -2250.00\n",
            "São Paulo        -4438.75\n",
            "Name: rent amount (R$), dtype: float64\n",
            "\n",
            "Limites superiores:\n",
            "city\n",
            "Belo Horizonte     9625.00\n",
            "Campinas           5231.25\n",
            "Porto Alegre       4850.00\n",
            "Rio de Janeiro     7750.00\n",
            "São Paulo         12731.25\n",
            "Name: rent amount (R$), dtype: float64\n"
          ]
        }
      ],
      "source": [
        "# IQR = Interquartile Range\n",
        "IQR = Q3 - Q1\n",
        "\n",
        "# Limites\n",
        "inferior = Q1 - 1.5 * IQR\n",
        "superior = Q3 + 1.5 * IQR\n",
        "print(\"Limites inferiores:\")\n",
        "print(inferior)\n",
        "print(\"\\nLimites superiores:\")\n",
        "print(superior)"
      ]
    },
    {
      "cell_type": "markdown",
      "metadata": {
        "id": "ohi1En6sI6nN"
      },
      "source": [
        "Removendo os outliers:"
      ]
    },
    {
      "cell_type": "code",
      "execution_count": 10,
      "metadata": {
        "id": "CmaSguPWI6nO"
      },
      "outputs": [],
      "source": [
        "indices_a_remover = []\n",
        "# Itera através das cidades agrupadas:\n",
        "for cidade in city_group.groups.keys():\n",
        "# for cidade in [\"Campinas\"]:\n",
        "    lim_inferior = inferior[cidade]\n",
        "    lim_superior = superior[cidade]\n",
        "    # Usa-se @ dentro da query para acessar uma variável. Para atributos com espaço, deve-se\n",
        "    # usar o caractere ` entre o nome do atributo.\n",
        "    query_filtro = '(city==@cidade) & ( (`rent amount (R$)` < @lim_inferior) | (`rent amount (R$)` > @lim_superior) )'\n",
        "    # Nosso query irá selecionar tuplas em que rent amount seja menor que o limite inferior e\n",
        "    # maior que o limite superior. Lembrando que apenas devemos selecionar entre as tuplas da\n",
        "    # cidade em que estamos analisando\n",
        "    fora_do_limite = train_data.query(query_filtro)\n",
        "    # Adicionamos os índices das tuplas fora dos limites à nossa lista de itens a serem removidos:\n",
        "    indices_a_remover += fora_do_limite.index.tolist()\n",
        "    \n",
        "# Removendo todos os dados fora dos limites:\n",
        "train_data_clean = train_data.drop(indices_a_remover)\n",
        "train_data_clean.reset_index(drop=True, inplace=True)"
      ]
    },
    {
      "cell_type": "markdown",
      "metadata": {
        "id": "opdF7Pi1I6nO"
      },
      "source": [
        "Vamos agora comparar o efeito da remoção dos outliers:"
      ]
    },
    {
      "cell_type": "code",
      "execution_count": 11,
      "metadata": {
        "id": "zFOI53a2I6nP",
        "outputId": "bdef851f-28b5-4026-a4c7-600286c091d7",
        "colab": {
          "base_uri": "https://localhost:8080/",
          "height": 689
        }
      },
      "outputs": [
        {
          "output_type": "stream",
          "name": "stderr",
          "text": [
            "/usr/local/lib/python3.7/dist-packages/matplotlib/cbook/__init__.py:1376: VisibleDeprecationWarning: Creating an ndarray from ragged nested sequences (which is a list-or-tuple of lists-or-tuples-or ndarrays with different lengths or shapes) is deprecated. If you meant to do this, you must specify 'dtype=object' when creating the ndarray.\n",
            "  X = np.atleast_1d(X.T if isinstance(X, np.ndarray) else np.asarray(X))\n",
            "/usr/local/lib/python3.7/dist-packages/matplotlib/cbook/__init__.py:1376: VisibleDeprecationWarning: Creating an ndarray from ragged nested sequences (which is a list-or-tuple of lists-or-tuples-or ndarrays with different lengths or shapes) is deprecated. If you meant to do this, you must specify 'dtype=object' when creating the ndarray.\n",
            "  X = np.atleast_1d(X.T if isinstance(X, np.ndarray) else np.asarray(X))\n"
          ]
        },
        {
          "output_type": "stream",
          "name": "stdout",
          "text": [
            "Obliquidade por cidade dados originais:\n",
            "city\n",
            "Belo Horizonte    1.748219\n",
            "Campinas          2.689998\n",
            "Porto Alegre      3.184732\n",
            "Rio de Janeiro    2.208262\n",
            "São Paulo         1.625930\n",
            "Name: rent amount (R$), dtype: float64\n",
            "\n",
            "Obliquidade por cidade dados limpos:\n",
            "city\n",
            "Belo Horizonte    1.285605\n",
            "Campinas          1.231543\n",
            "Porto Alegre      1.047143\n",
            "Rio de Janeiro    1.168908\n",
            "São Paulo         1.110598\n",
            "Name: rent amount (R$), dtype: float64\n"
          ]
        },
        {
          "output_type": "display_data",
          "data": {
            "text/plain": [
              "<Figure size 1440x504 with 2 Axes>"
            ],
            "image/png": "[encoded data removed]"
          },
          "metadata": {
            "needs_background": "light"
          }
        }
      ],
      "source": [
        "fig = plt.figure(figsize=(20,7))\n",
        "\n",
        "plt.subplot(1, 2, 1)\n",
        "ax = fig.gca()\n",
        "\n",
        "train_data[['city','rent amount (R$)']].boxplot(by='city', ax=ax, showmeans=True)\n",
        "ax.set_title('Dados de treino originais') # Give the plot a main title\n",
        "ax.set_xlabel('City') # Set text for the x axis\n",
        "ax.set_ylabel('rent amount (R$)')# Set text for y axis\n",
        "print(\"Obliquidade por cidade dados originais:\")\n",
        "print(train_data.groupby(\"city\")['rent amount (R$)'].skew())\n",
        "\n",
        "plt.subplot(1, 2, 2)\n",
        "ax = fig.gca()\n",
        "train_data_clean[['city','rent amount (R$)']].boxplot(by='city', ax=ax, showmeans=True)\n",
        "ax.set_title('Dados de treino limpos') # Give the plot a main title\n",
        "ax.set_xlabel('City') # Set text for the x axis\n",
        "ax.set_ylabel('rent amount (R$)')# Set text for y axis\n",
        "print(\"\\nObliquidade por cidade dados limpos:\")\n",
        "print(train_data_clean.groupby(\"city\")['rent amount (R$)'].skew())"
      ]
    },
    {
      "cell_type": "markdown",
      "metadata": {
        "id": "b10dm-4ZI6nP"
      },
      "source": [
        "Note que ainda há outliers no nosso conjunto. Porém, eles não são tão severos quanto anteriormente. Ainda observa-se outliers pois nossa distribuição original era muito assimétrica."
      ]
    },
    {
      "cell_type": "markdown",
      "metadata": {
        "id": "njDVSU5OI6nQ"
      },
      "source": [
        "- _Utilize [Pipelines](https://scikit-learn.org/stable/modules/generated/sklearn.pipeline.Pipeline.html) e [ColunmTransformer](https://scikit-learn.org/stable/modules/generated/sklearn.compose.ColumnTransformer.html) para padronizar os dados numéricos e aplicar one hot encoding nos categóricos._\n",
        "\n",
        "Vamos agora padronizar nossos dados numéricos e transformar nossos atributos categóricos em representações OneHot"
      ]
    },
    {
      "cell_type": "code",
      "execution_count": 12,
      "metadata": {
        "id": "EuOxeMQlI6nQ",
        "outputId": "deee4756-423e-4c3b-bb65-986f4813df18",
        "colab": {
          "base_uri": "https://localhost:8080/"
        }
      },
      "outputs": [
        {
          "output_type": "stream",
          "name": "stdout",
          "text": [
            "<class 'pandas.core.frame.DataFrame'>\n",
            "RangeIndex: 7998 entries, 0 to 7997\n",
            "Data columns (total 6 columns):\n",
            " #   Column               Non-Null Count  Dtype \n",
            "---  ------               --------------  ----- \n",
            " 0   city                 7998 non-null   object\n",
            " 1   rooms                7998 non-null   int64 \n",
            " 2   bathroom             7998 non-null   int64 \n",
            " 3   parking spaces       7998 non-null   int64 \n",
            " 4   furniture            7998 non-null   object\n",
            " 5   fire insurance (R$)  7998 non-null   int64 \n",
            "dtypes: int64(4), object(2)\n",
            "memory usage: 375.0+ KB\n"
          ]
        }
      ],
      "source": [
        "X_train = train_data_clean.drop([\"rent amount (R$)\"], axis=1)\n",
        "y_train = train_data_clean[\"rent amount (R$)\"]\n",
        "\n",
        "X_test = test_data.drop([\"rent amount (R$)\"], axis=1)\n",
        "y_test = test_data[\"rent amount (R$)\"]\n",
        "\n",
        "X_train.info()"
      ]
    },
    {
      "cell_type": "code",
      "execution_count": 13,
      "metadata": {
        "id": "P30uUFKEI6nQ",
        "outputId": "00093de5-9995-42fd-fc4e-6c467c0920c0",
        "colab": {
          "base_uri": "https://localhost:8080/"
        }
      },
      "outputs": [
        {
          "output_type": "stream",
          "name": "stdout",
          "text": [
            "Features numéricas:  ['rooms', 'bathroom', 'parking spaces', 'fire insurance (R$)']\n",
            "Features categóricas:  ['city', 'furniture']\n"
          ]
        }
      ],
      "source": [
        "# O método select dtypes irá selecionar os atributos que satisfizerem nossas condições:\n",
        "features_numericas = X_train.select_dtypes(exclude=['object']).columns\n",
        "features_categoricas = X_train.select_dtypes(include=['object']).columns\n",
        "\n",
        "features_numericas = features_numericas.tolist()\n",
        "features_categoricas = features_categoricas.tolist()\n",
        "\n",
        "print(\"Features numéricas: \", features_numericas)\n",
        "print(\"Features categóricas: \", features_categoricas)"
      ]
    },
    {
      "cell_type": "markdown",
      "metadata": {
        "id": "LSXal6SII6nR"
      },
      "source": [
        "Vamos criar pipelines (sequencias de transformações) para simplificar nossas operações de preprocessamento dos dados:"
      ]
    },
    {
      "cell_type": "code",
      "execution_count": 14,
      "metadata": {
        "id": "vUP2u1e8J7Fq"
      },
      "outputs": [],
      "source": [
        "from sklearn.pipeline import Pipeline\n",
        "from sklearn.preprocessing import StandardScaler, OneHotEncoder\n",
        "from sklearn.compose import ColumnTransformer\n",
        "\n",
        "# Criamos um pipeline para processar dados categóricos\n",
        "catTransformer = Pipeline(steps=[\n",
        "    ('onehot', OneHotEncoder())\n",
        "])\n",
        "\n",
        "# Criamos um pipeline para processar dados numéricos\n",
        "numTransformer = Pipeline(steps=[\n",
        "    ('scaler', StandardScaler())\n",
        "])\n",
        "\n",
        "# Para processar as colunas do nosso dataset, vamos atribuir um pipeline às colunas\n",
        "# apropriadas com a classe ColumnTransformer:\n",
        "preprocessor = ColumnTransformer(\n",
        "    transformers=[\n",
        "        ('numeric', numTransformer, features_numericas),\n",
        "        ('categoric', catTransformer, features_categoricas)\n",
        "    ])"
      ]
    },
    {
      "cell_type": "markdown",
      "metadata": {
        "id": "FTFk-GVUTOWu"
      },
      "source": [
        "### Questão 5\n",
        "\n",
        "Treine dois modelos de regressão, o `DecisionTreeRegressor`  no conjunto de treino e calcule as métricas Root Mean Squared Error (RMSE) e R2 no conjunto de teste. Lembre-se de aplicar os pipelines criados na questão anterior."
      ]
    },
    {
      "cell_type": "code",
      "execution_count": 16,
      "metadata": {
        "colab": {
          "base_uri": "https://localhost:8080/"
        },
        "id": "BFXmh2uF6w57",
        "outputId": "4342eaab-0957-4b31-a0ab-6f7b7b55e270"
      },
      "outputs": [
        {
          "output_type": "stream",
          "name": "stdout",
          "text": [
            "RMSE:  674.1984220157917\n",
            "R2:  0.9588520689745972\n"
          ]
        }
      ],
      "source": [
        "from sklearn.tree import DecisionTreeRegressor\n",
        "\n",
        "estimator_dt = Pipeline(steps=[\n",
        "    ('preprocessor', preprocessor),\n",
        "    ('regressor', DecisionTreeRegressor(random_state=42))\n",
        "])\n",
        "\n",
        "estimator_dt.fit(X_train, y_train)\n",
        "y_pred_dt = estimator_dt.predict(X_test)\n",
        "\n",
        "resultados = {}\n",
        "\n",
        "name = \"Decision tree\"\n",
        "rmse = np.sqrt(mean_squared_error(y_test, y_pred_dt))\n",
        "r2 = r2_score(y_test, y_pred_dt)\n",
        "print('RMSE: ', rmse)\n",
        "print('R2: ', r2)\n",
        "\n",
        "resultados[name] = {}\n",
        "resultados[name][\"rmse\"] = rmse\n",
        "resultados[name][\"r2\"] = r2"
      ]
    },
    {
      "cell_type": "markdown",
      "source": [
        "### Questão 6\n",
        "\n",
        "Treine um modelo de regressão usando o `RandomForestRegressor` no conjunto de treino e calcule as métricas Root Mean Squared Error (RMSE) e R2 no conjunto de teste. Lembre-se de aplicar os pipelines criados na questão 4."
      ],
      "metadata": {
        "id": "lUo3cPO6eQx9"
      }
    },
    {
      "cell_type": "code",
      "execution_count": 17,
      "metadata": {
        "colab": {
          "base_uri": "https://localhost:8080/"
        },
        "id": "tRqW_KoQ7d41",
        "outputId": "8d0a3f97-a648-4a11-b9e3-253d250109dc"
      },
      "outputs": [
        {
          "output_type": "stream",
          "name": "stdout",
          "text": [
            "RMSE:  670.5569707510025\n",
            "R2:  0.9592953614263239\n"
          ]
        }
      ],
      "source": [
        "from sklearn.ensemble import RandomForestRegressor\n",
        " \n",
        "estimator_rf = Pipeline(steps=[\n",
        "    ('preprocessor', preprocessor),\n",
        "    ('regressor', RandomForestRegressor(random_state=42))\n",
        "])\n",
        "\n",
        "estimator_rf.fit(X_train, y_train)\n",
        "y_pred_rf = estimator_rf.predict(X_test)\n",
        "name = \"Random forest\"\n",
        "rmse = np.sqrt(mean_squared_error(y_test, y_pred_rf))\n",
        "r2 = r2_score(y_test, y_pred_rf)\n",
        "print('RMSE: ', rmse)\n",
        "print('R2: ', r2)\n",
        "\n",
        "resultados[name] = {}\n",
        "resultados[name][\"rmse\"] = rmse\n",
        "resultados[name][\"r2\"] = r2"
      ]
    },
    {
      "cell_type": "markdown",
      "metadata": {
        "id": "JJ5PK5QYTR4B"
      },
      "source": [
        "### Questão 7\n",
        "\n",
        "Treine um modelo de regressão com o método XGBoost, no conjunto de treino e calcule o Mean Squared Error (MSE) e o R2 no conjunto de teste.\n",
        "\n",
        "- Dica: Utilize `xgboost.XGBRegressor`"
      ]
    },
    {
      "cell_type": "code",
      "execution_count": 18,
      "metadata": {
        "colab": {
          "base_uri": "https://localhost:8080/"
        },
        "id": "gGfDa5pfS9VY",
        "outputId": "36424012-4575-4195-9ebb-3ed265f1dae6"
      },
      "outputs": [
        {
          "output_type": "stream",
          "name": "stdout",
          "text": [
            "[13:57:23] WARNING: /workspace/src/objective/regression_obj.cu:152: reg:linear is now deprecated in favor of reg:squarederror.\n",
            "RMSE:  697.9144844073091\n",
            "R2:  0.955906257337986\n"
          ]
        }
      ],
      "source": [
        "import xgboost as xgb\n",
        "\n",
        "\n",
        "estimator_xg = Pipeline(steps=[\n",
        "    ('preprocessor', preprocessor),\n",
        "    ('regressor', xgb.XGBRegressor(random_state=42))\n",
        "])\n",
        "\n",
        "estimator_xg.fit(X_train, y_train)\n",
        "y_pred_rg = estimator_xg.predict(X_test)\n",
        "name = \"XGB\"\n",
        "rmse = np.sqrt(mean_squared_error(y_test, y_pred_rg))\n",
        "r2 = r2_score(y_test, y_pred_rg)\n",
        "print('RMSE: ', rmse)\n",
        "print('R2: ', r2)\n",
        "\n",
        "resultados[name] = {}\n",
        "resultados[name][\"rmse\"] = rmse\n",
        "resultados[name][\"r2\"] = r2"
      ]
    },
    {
      "cell_type": "markdown",
      "metadata": {
        "id": "J16NUNU14ru7"
      },
      "source": [
        "### Questão 8\n",
        "\n",
        "Compare os resultados obtidos pelos 3 classificadores das questões anteriores. \n"
      ]
    },
    {
      "cell_type": "code",
      "execution_count": 19,
      "metadata": {
        "id": "hRAWEmgXI6nT",
        "outputId": "a416015d-8629-41c4-9338-e862f0b88b40",
        "colab": {
          "base_uri": "https://localhost:8080/"
        }
      },
      "outputs": [
        {
          "output_type": "stream",
          "name": "stdout",
          "text": [
            "Modelo: Decision tree\n",
            "\tScore RMSE: 674.2\n",
            "\tScore R2: 0.958852\n",
            "Modelo: Random forest\n",
            "\tScore RMSE: 670.56\n",
            "\tScore R2: 0.959295\n",
            "Modelo: XGB\n",
            "\tScore RMSE: 697.91\n",
            "\tScore R2: 0.955906\n"
          ]
        }
      ],
      "source": [
        "for modelo in resultados:\n",
        "    print(\"Modelo:\", modelo)\n",
        "    print(\"\\tScore RMSE:\", resultados[modelo][\"rmse\"].round(2))\n",
        "    print(\"\\tScore R2:\", resultados[modelo][\"r2\"].round(6))"
      ]
    },
    {
      "cell_type": "markdown",
      "metadata": {
        "id": "N1Xnzv8e5IuR"
      },
      "source": [
        "Podemos observar que o algoritmo RandomForest apresentou um erro RMSE menor que os demais regressores. No entanto, todos eles apresentaram um valor R2 próximos."
      ]
    },
    {
      "cell_type": "markdown",
      "metadata": {
        "id": "M_SjANzd5gdQ"
      },
      "source": [
        "### Questão 9\n",
        "\n",
        "Verifique a importância de cada feature para o modelo que apresentou melhor métrica R2. O que isso diz sobre o problema que estamos tentando resolver?"
      ]
    },
    {
      "cell_type": "code",
      "execution_count": 21,
      "metadata": {
        "colab": {
          "base_uri": "https://localhost:8080/"
        },
        "id": "L64gHHJG3mF_",
        "outputId": "06b91d3d-d5f8-4a85-da26-72fe3c0c0148"
      },
      "outputs": [
        {
          "output_type": "execute_result",
          "data": {
            "text/plain": [
              "array([0.002, 0.002, 0.003, 0.986, 0.001, 0.   , 0.001, 0.   , 0.001,\n",
              "       0.001, 0.001])"
            ]
          },
          "metadata": {},
          "execution_count": 21
        }
      ],
      "source": [
        "estimator_rf.named_steps['regressor'].feature_importances_.round(3)"
      ]
    },
    {
      "cell_type": "markdown",
      "metadata": {
        "id": "2i8-OygS53cV"
      },
      "source": [
        "Basicamente o valor do quarto atributo domina a decisão do modelo, fazendo com que mudança dos outros atributos muitas vezes não afete a predição."
      ]
    }
  ],
  "metadata": {
    "colab": {
      "collapsed_sections": [],
      "name": "Exercicio_Fixação2aQuinzena_resolvido.ipynb",
      "provenance": []
    },
    "kernelspec": {
      "display_name": "BigData2021",
      "language": "python",
      "name": "bigdata2021"
    },
    "language_info": {
      "codemirror_mode": {
        "name": "ipython",
        "version": 3
      },
      "file_extension": ".py",
      "mimetype": "text/x-python",
      "name": "python",
      "nbconvert_exporter": "python",
      "pygments_lexer": "ipython3",
      "version": "3.8.11"
    }
  },
  "nbformat": 4,
  "nbformat_minor": 0
}
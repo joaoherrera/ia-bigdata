{
  "nbformat": 4,
  "nbformat_minor": 5,
  "metadata": {
    "kernelspec": {
      "display_name": "BigData2021",
      "language": "python",
      "name": "bigdata2021"
    },
    "language_info": {
      "codemirror_mode": {
        "name": "ipython",
        "version": 3
      },
      "file_extension": ".py",
      "mimetype": "text/x-python",
      "name": "python",
      "nbconvert_exporter": "python",
      "pygments_lexer": "ipython3",
      "version": "3.8.11"
    },
    "colab": {
      "name": "Exercicio2_fixação_2a.parte.ipynb",
      "provenance": []
    }
  },
  "cells": [
    {
      "cell_type": "markdown",
      "metadata": {
        "id": "precise-split"
      },
      "source": [
        "# SCC-ICMC-USP \n",
        "# MBA em IA e BIGDATA\n",
        "\n",
        "# CURSO 2 - CD-AM-DM\n",
        "# Exercício de fixação \n",
        "# Profa. Roseli A. F. Romero\n",
        "\n",
        "---\n",
        "\n",
        "### Objetivos:\n",
        "- Praticar a utilização de Métodos de Aprendizado de Máquina \n",
        "- SVMs, NB, KNN\n",
        "- Comparar métodos diferentes\n",
        "- Curvas ROC"
      ],
      "id": "precise-split"
    },
    {
      "cell_type": "code",
      "metadata": {
        "id": "B4rixxHMAgJK"
      },
      "source": [
        ""
      ],
      "id": "B4rixxHMAgJK",
      "execution_count": null,
      "outputs": []
    },
    {
      "cell_type": "markdown",
      "metadata": {
        "id": "victorian-optics"
      },
      "source": [
        "---\n",
        "\n",
        "### Questão 1.\n",
        "\n",
        "Carregue o dataset Spambase e faça uma breve exploração dos dados."
      ],
      "id": "victorian-optics"
    },
    {
      "cell_type": "markdown",
      "metadata": {
        "id": "constant-annotation"
      },
      "source": [
        "### Questão 2- Verificar se existem dados faltantes."
      ],
      "id": "constant-annotation"
    },
    {
      "cell_type": "markdown",
      "metadata": {
        "id": "substantial-policy"
      },
      "source": [
        "### Questão 3 - Verificar a distribuição das classes."
      ],
      "id": "substantial-policy"
    },
    {
      "cell_type": "markdown",
      "metadata": {
        "id": "stopped-representative"
      },
      "source": [
        "### Questão 04.\n",
        "\n",
        "Prepare os dados dividindo-os em atributos e classes."
      ],
      "id": "stopped-representative"
    },
    {
      "cell_type": "markdown",
      "metadata": {
        "id": "oriental-qatar"
      },
      "source": [
        "### Questão 05.\n",
        "\n",
        "Gere ao menos 5 parametrizações do algoritmo SVM. Para armazenar essas parametrizações, utilize uma estrutura do tipo dicionário, armazenando um identificador da parametrização como chave e o modelo SVM como valor. Um exemplo para o modelo do KNN pode ser visto abaixo. Avalie essas parametrizações utilizando a função `avaliar_modelos` definida na célula abaixo.\n",
        "\n",
        "- Exemplo de parametrizações do knn:\n",
        "```\n",
        "parametrizacoes_knn = {\n",
        "    \"K = 2\": KNeighborsClassifier(n_neighbors=2),\n",
        "    \"K = 5\": KNeighborsClassifier(n_neighbors=5),\n",
        "    \"K = 7\": KNeighborsClassifier(n_neighbors=7)\n",
        "}\n",
        "```"
      ],
      "id": "oriental-qatar"
    },
    {
      "cell_type": "markdown",
      "source": [
        "### Questão 6. Criar as parametrizações propriamente ditas para o método SVC."
      ],
      "metadata": {
        "id": "ykGJ8kCQwXbC"
      },
      "id": "ykGJ8kCQwXbC"
    },
    {
      "cell_type": "markdown",
      "metadata": {
        "id": "labeled-consent"
      },
      "source": [
        "### Questão 7 - Vamos gerar um dataframe com o dicionário de resultados para podermos manipulá-lo mais fácilmente:"
      ],
      "id": "labeled-consent"
    },
    {
      "cell_type": "markdown",
      "metadata": {
        "id": "faced-offering"
      },
      "source": [
        "### Questão 8 - Determine a melhor parametrização, baseando-se na métrica Roc AUC, e recupere o modelo associado a ela. \n",
        "- Queremos achar a parametrização que gerou maior roc auc entre as parametrizações testadas:"
      ],
      "id": "faced-offering"
    },
    {
      "cell_type": "markdown",
      "metadata": {
        "id": "executive-infrastructure"
      },
      "source": [
        "### Questão 9 - Repetir a questão 8 mas fazendo isso diretamente com o método `idxmax()`:"
      ],
      "id": "executive-infrastructure"
    },
    {
      "cell_type": "markdown",
      "metadata": {
        "id": "classical-finder"
      },
      "source": [
        "### Questão 10 - Agora vamos recuperar o modelo com a melhor parametrização:"
      ],
      "id": "classical-finder"
    },
    {
      "cell_type": "markdown",
      "metadata": {
        "id": "living-addition"
      },
      "source": [
        "### Questão 11.\n",
        "Calcule a curva roc para a melhor parametrização encontrada, utilizando 10-fold cross-validation. Plote-as no mesmo gráfico. Para isso, utilize a função `plot_kfold_roc_curves` abaixo"
      ],
      "id": "living-addition"
    }
  ]
}
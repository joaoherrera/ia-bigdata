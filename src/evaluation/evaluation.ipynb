{
 "cells": [
  {
   "attachments": {},
   "cell_type": "markdown",
   "metadata": {},
   "source": [
    "# Evaluation Report"
   ]
  },
  {
   "cell_type": "code",
   "execution_count": 1,
   "metadata": {},
   "outputs": [],
   "source": [
    "import torch\n",
    "import numpy as np\n",
    "import matplotlib.pyplot as plt\n",
    "from src.dataset.dataset_coco import CocoDataset\n",
    "from src.architectures.detector_maskrcnn import MaskRCNNDetector\n",
    "from torch.utils.data import DataLoader\n",
    "from sklearn.metrics import (\n",
    "    confusion_matrix,\n",
    "    ConfusionMatrixDisplay,\n",
    "    PrecisionRecallDisplay,\n",
    "    recall_score,\n",
    "    precision_score,\n",
    "    accuracy_score,\n",
    "    f1_score,\n",
    ")"
   ]
  },
  {
   "cell_type": "markdown",
   "metadata": {},
   "source": [
    "Name your experiment"
   ]
  },
  {
   "cell_type": "code",
   "execution_count": null,
   "metadata": {},
   "outputs": [],
   "source": [
    "EXPERIMENT_NAME = \"ai-palatal-rugae-exp01\""
   ]
  },
  {
   "attachments": {},
   "cell_type": "markdown",
   "metadata": {},
   "source": [
    "Set dataset and model variables"
   ]
  },
  {
   "cell_type": "code",
   "execution_count": null,
   "metadata": {},
   "outputs": [],
   "source": [
    "# ~~ Dataset\n",
    "\n",
    "testset_annotations_path = f\"\"\n",
    "testset_images_path = f\"\"\n",
    "dataset = CocoDataset(testset_images_path, testset_annotations_path)\n",
    "dataloader = DataLoader(dataset, batch_size=1, shuffle=False)"
   ]
  },
  {
   "cell_type": "code",
   "execution_count": null,
   "metadata": {},
   "outputs": [],
   "source": [
    "# ~~ Model\n",
    "model_path = f\"{EXPERIMENT_NAME}/checkpoint.pth\"\n",
    "model = MaskRCNNDetector(model_path)\n",
    "model.load()\n",
    "model.to(torch.device(\"cuda:0\"))    # Load model on GPU"
   ]
  },
  {
   "attachments": {},
   "cell_type": "markdown",
   "metadata": {},
   "source": [
    "Run model over the input images."
   ]
  },
  {
   "cell_type": "code",
   "execution_count": 4,
   "metadata": {},
   "outputs": [],
   "source": [
    "preds = []\n",
    "truths = []\n",
    "\n",
    "model.eval()\n",
    "\n",
    "with torch.no_grad():\n",
    "    for batch in dataloader:\n",
    "        x_pred, y_true = batch\n",
    "        x_pred = x_pred.to(\"cuda:0\")\n",
    "\n",
    "        y_pred = model(x_pred)\n",
    "\n",
    "        preds.append(y_pred.cpu().detach().numpy()[0])\n",
    "        truths.append(y_true.cpu().detach().numpy()[0])"
   ]
  },
  {
   "attachments": {},
   "cell_type": "markdown",
   "metadata": {},
   "source": [
    "Compute evaluation metrics."
   ]
  },
  {
   "cell_type": "code",
   "execution_count": null,
   "metadata": {},
   "outputs": [],
   "source": [
    "PrecisionRecallDisplay.from_predictions(truths, preds)\n",
    "plt.show()"
   ]
  },
  {
   "cell_type": "code",
   "execution_count": null,
   "metadata": {},
   "outputs": [],
   "source": [
    "truths_classes = np.array(truths, dtype=np.uint8)\n",
    "preds_classes = np.array(np.round(preds), dtype=np.uint8)\n",
    "\n",
    "conf_mat = confusion_matrix(truths_classes, preds_classes, labels=[0, 1])\n",
    "ConfusionMatrixDisplay(conf_mat, display_labels=[\"rugae_01\", \"rugae_02\"]).plot()\n",
    "\n",
    "plt.show()"
   ]
  },
  {
   "cell_type": "code",
   "execution_count": null,
   "metadata": {},
   "outputs": [],
   "source": [
    "precision = precision_score(truths_classes, preds_classes)\n",
    "recall = recall_score(truths_classes, preds_classes)\n",
    "accuracy = accuracy_score(truths_classes, preds_classes)\n",
    "f1score = f1_score(truths_classes, preds_classes)\n",
    "\n",
    "print(f\"Precision: {precision}\")\n",
    "print(f\"Recall: {recall}\")\n",
    "print(f\"Accuracy: {accuracy}\")\n",
    "print(f\"F1 Score: {f1score}\")"
   ]
  },
  {
   "attachments": {},
   "cell_type": "markdown",
   "metadata": {},
   "source": [
    "Visualize some predictions"
   ]
  },
  {
   "cell_type": "code",
   "execution_count": null,
   "metadata": {},
   "outputs": [],
   "source": [
    "random_index = np.random.randint(0, len(dataset))\n",
    "image, ground_truth = dataset[random_index]\n",
    "image = image.unsqueeze(0)\n",
    "image = image.to(\"cuda:0\")\n",
    "\n",
    "y_pred = model(image)\n",
    "y_pred = y_pred.cpu().detach().numpy()[0]\n",
    "y_pred = np.round(y_pred)\n",
    "\n",
    "image = image.cpu().detach().numpy()[0]\n",
    "image = image.transpose(1, 2, 0)\n",
    "image = image.astype(int)\n",
    "\n",
    "print(f\"Prediction: {y_pred} / Ground Truth: {ground_truth}\")\n",
    "\n",
    "plt.imshow(image)\n",
    "plt.show()"
   ]
  }
 ],
 "metadata": {
  "kernelspec": {
   "display_name": "Python 3",
   "language": "python",
   "name": "python3"
  },
  "language_info": {
   "codemirror_mode": {
    "name": "ipython",
    "version": 3
   },
   "file_extension": ".py",
   "mimetype": "text/x-python",
   "name": "python",
   "nbconvert_exporter": "python",
   "pygments_lexer": "ipython3",
   "version": "3.10.6"
  },
  "orig_nbformat": 4
 },
 "nbformat": 4,
 "nbformat_minor": 2
}

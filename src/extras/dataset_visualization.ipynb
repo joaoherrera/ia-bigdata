{
 "cells": [
  {
   "attachments": {},
   "cell_type": "markdown",
   "metadata": {},
   "source": [
    "# JSON Dataset Visualization"
   ]
  },
  {
   "cell_type": "code",
   "execution_count": 1,
   "metadata": {},
   "outputs": [],
   "source": [
    "import matplotlib.pyplot as plt\n",
    "import json\n",
    "import os\n",
    "from src.dataset.annotations_coco import COCOAnnotations\n",
    "from src.dataset.dataset_coco import CocoDataset\n",
    "from src.dataset.annotations_utils import to_dict\n",
    "import cv2\n",
    "import numpy as np\n",
    "from mpl_toolkits.axes_grid1 import ImageGrid"
   ]
  },
  {
   "attachments": {},
   "cell_type": "markdown",
   "metadata": {},
   "source": [
    "Load images and annotation file"
   ]
  },
  {
   "cell_type": "code",
   "execution_count": null,
   "metadata": {},
   "outputs": [],
   "source": [
    "IMAGES_DIRECTORY_PATH = f\"\"\n",
    "ANNOTATIONS_FILE_PATH = f\"\""
   ]
  },
  {
   "attachments": {},
   "cell_type": "markdown",
   "metadata": {},
   "source": [
    "Use CocoDataset class to split the entire dataset into two subsets."
   ]
  },
  {
   "cell_type": "code",
   "execution_count": null,
   "metadata": {},
   "outputs": [],
   "source": [
    "print(\"Dataset Information\")\n",
    "\n",
    "dataset = CocoDataset(IMAGES_DIRECTORY_PATH, ANNOTATIONS_FILE_PATH, seed=2023)\n",
    "train_subset, test_subset = dataset.split(0.8, 0.2, random=True)\n",
    "\n",
    "print(\"Training Set Information\")\n",
    "train_subset.preview_dataset()\n",
    "\n",
    "print(\"Test Set Information\")\n",
    "test_subset.preview_dataset()"
   ]
  },
  {
   "attachments": {},
   "cell_type": "markdown",
   "metadata": {},
   "source": [
    "Show images from Training Set"
   ]
  },
  {
   "cell_type": "code",
   "execution_count": null,
   "metadata": {},
   "outputs": [],
   "source": [
    "grid_size = (5, 5)\n",
    "np.random.shuffle(train_subset.tree.data[\"images\"])\n",
    "annotations_by_id = to_dict(train_subset.tree.data[\"annotations\"], \"id\")    # id -> list of dicts\n",
    "categories_by_id = to_dict(train_subset.tree.data[\"categories\"], \"id\")  # id -> dict\n",
    "\n",
    "# Visualize the images in a grid\n",
    "fig = plt.figure(figsize=(15.0, 15.0))\n",
    "grid = ImageGrid(fig, 111, nrows_ncols=(grid_size[0], grid_size[1]), axes_pad=0.1)\n",
    "\n",
    "# Iterate over the images in the grid and write the image category on the image.\n",
    "for i in range(grid_size[0]):\n",
    "    for j in range(grid_size[1]):\n",
    "        ax = grid[i * grid_size[1] + j]\n",
    "        image_data = train_subset.tree.data[\"images\"][i * grid_size[1] + j]\n",
    "        image_name = image_data[\"file_name\"]\n",
    "        image_id = image_data[\"id\"]\n",
    "\n",
    "        cat = categories_by_id[annotations_by_id[image_id][0][\"category_id\"]][0]\n",
    "\n",
    "        image = cv2.imread(os.path.join(IMAGES_DIRECTORY_PATH, image_name))\n",
    "        cv2.putText(image, cat[\"name\"], (5, 120), cv2.FONT_HERSHEY_SIMPLEX, 0.7, (255, 0, 0), 2)\n",
    "\n",
    "        ax.imshow(image)\n",
    "        ax.axis(\"off\")\n",
    "\n",
    "plt.show()"
   ]
  }
 ],
 "metadata": {
  "kernelspec": {
   "display_name": "Python 3",
   "language": "python",
   "name": "python3"
  },
  "language_info": {
   "codemirror_mode": {
    "name": "ipython",
    "version": 3
   },
   "file_extension": ".py",
   "mimetype": "text/x-python",
   "name": "python",
   "nbconvert_exporter": "python",
   "pygments_lexer": "ipython3",
   "version": "3.10.6"
  },
  "orig_nbformat": 4
 },
 "nbformat": 4,
 "nbformat_minor": 2
}

{
  "nbformat": 4,
  "nbformat_minor": 0,
  "metadata": {
    "colab": {
      "name": "Exemplo_1.ipynb",
      "provenance": [],
      "collapsed_sections": []
    },
    "kernelspec": {
      "name": "python3",
      "display_name": "Python 3"
    }
  },
  "cells": [
    {
      "cell_type": "markdown",
      "metadata": {
        "id": "HaabIE4ETRhY"
      },
      "source": [
        "#CURSO 2 - CIENCIA DE DADOS, APRENDIZADO DE MÁQUINA e DATA MINING\n",
        "##PROFa. Roseli A F Romero\n",
        "\n",
        "\n",
        "# Exercício 01\n",
        "## Exploração e visualização de dados\n",
        " \n",
        "\n",
        "\n",
        "## Dados unidimensionais\n",
        "## Dados multidimensionais "
      ]
    },
    {
      "cell_type": "code",
      "metadata": {
        "id": "oxq0hsZLKbpq",
        "colab": {
          "base_uri": "https://localhost:8080/"
        },
        "outputId": "0c29ace5-8346-409e-eb8b-2a34ad1580d5"
      },
      "source": [
        "# Permissão de leitura para o Drive\n",
        "# Autorize o Collab a acessar seus arquivos no drive\n",
        "from google.colab import drive\n",
        "drive.mount('/content/drive')"
      ],
      "execution_count": null,
      "outputs": [
        {
          "output_type": "stream",
          "text": [
            "Mounted at /content/drive\n"
          ],
          "name": "stdout"
        }
      ]
    },
    {
      "cell_type": "markdown",
      "metadata": {
        "id": "RLBs7_E_KaAF"
      },
      "source": [
        "Considerando dados de duas cidades diferentes fornecendo as temperaturas máximas (celsius) durante diferente dias do ano.\n",
        "Os dados foram disponibilizados nos arquivos \"cidade_1.txt\" e \"cidade_2.txt\".\n",
        "\n",
        "As leituras estão em ordem cronológica, porém, o sensor da cidade 1 falhou em alguns dias. Nesses casos, a leitura foi substituida pelo o caracter \"?\".\n",
        "\n",
        "### Questão 0\n",
        "- Substitua os valores faltantes pela média das leituras do dia anterior e do dia seguinte."
      ]
    },
    {
      "cell_type": "code",
      "metadata": {
        "id": "9p4v0FJRMUW_"
      },
      "source": [
        "import numpy as np\n",
        "import pandas as pd\n",
        "\n",
        "# leia o arquivo da cidade 1\n",
        "with open(\"/content/cidade_1.txt\") as f:\n",
        "    cidade_1_lines = f.readlines()\n",
        "for i in range(0,len(cidade_1_lines)):\n",
        "  if cidade_1_lines[i] == \"?\\n\":\n",
        "    cidade_1_lines[i] = (float(cidade_1_lines[i-1])+float(cidade_1_lines[i+1]))/2\n",
        "cidade_1 = np.array([float(x) for x in cidade_1_lines])\n",
        "\n",
        "# lendo arquivo da cidade 2\n",
        "with open(\"/content/cidade_2.txt\") as f:\n",
        "    cidade_2_lines = f.readlines()\n",
        "cidade_2 = np.array([float(x) for x in cidade_2_lines])"
      ],
      "execution_count": 6,
      "outputs": []
    },
    {
      "cell_type": "markdown",
      "metadata": {
        "id": "EjMiZQwCPEm5"
      },
      "source": [
        "### Questão 01. \n",
        "Consideramos um dia como quente caso sua temperatura máxima tenha sido maior ou igual 25 graus celsius.\n",
        "\n",
        "1. Calcule a média de temperatura no ano para cada cidade.\n",
        "\n",
        "2. Demonstre visualmente o porque essa métrica não é uma boa forma de estimarmos qual cidade teve mais dias quente.\n",
        "\n",
        "   - Dica: Transforme os arrays de cada cidade em estruturas do tipo `DataFrame` da biblioteca **pandas** e utilize as funções de histograma e/ou boxplot."
      ]
    },
    {
      "cell_type": "code",
      "metadata": {
        "id": "unbEq2aNMeIJ",
        "colab": {
          "base_uri": "https://localhost:8080/",
          "height": 406
        },
        "outputId": "2a470de1-0900-4635-cf9f-eba9974a27ef"
      },
      "source": [
        "import seaborn as sns\n",
        "from matplotlib import pyplot as plt\n",
        "print('Media cidade 1 igual a: ', np.mean(cidade_1))\n",
        "print('Media cidade 2 igual a: ', np.mean(cidade_2))\n",
        "\n",
        "sns.distplot(cidade_1, bins=20, color=\"red\")\n",
        "sns.distplot(cidade_2, bins=20)"
      ],
      "execution_count": 7,
      "outputs": [
        {
          "output_type": "stream",
          "name": "stdout",
          "text": [
            "Media cidade 1 igual a:  24.012638726623994\n",
            "Media cidade 2 igual a:  27.82079587783114\n"
          ]
        },
        {
          "output_type": "stream",
          "name": "stderr",
          "text": [
            "/usr/local/lib/python3.7/dist-packages/seaborn/distributions.py:2619: FutureWarning: `distplot` is a deprecated function and will be removed in a future version. Please adapt your code to use either `displot` (a figure-level function with similar flexibility) or `histplot` (an axes-level function for histograms).\n",
            "  warnings.warn(msg, FutureWarning)\n",
            "/usr/local/lib/python3.7/dist-packages/seaborn/distributions.py:2619: FutureWarning: `distplot` is a deprecated function and will be removed in a future version. Please adapt your code to use either `displot` (a figure-level function with similar flexibility) or `histplot` (an axes-level function for histograms).\n",
            "  warnings.warn(msg, FutureWarning)\n"
          ]
        },
        {
          "output_type": "execute_result",
          "data": {
            "text/plain": [
              "<matplotlib.axes._subplots.AxesSubplot at 0x7f2eb395b0d0>"
            ]
          },
          "metadata": {},
          "execution_count": 7
        },
        {
          "output_type": "display_data",
          "data": {
            "text/plain": [
              "<Figure size 432x288 with 1 Axes>"
            ],
            "image/png": "[encoded data removed]"
          },
          "metadata": {
            "needs_background": "light"
          }
        }
      ]
    },
    {
      "cell_type": "code",
      "metadata": {
        "id": "qTdUe2_kdrCo",
        "colab": {
          "base_uri": "https://localhost:8080/",
          "height": 297
        },
        "outputId": "dad2ced0-6a14-4ce1-84fe-b15e8c63fa99"
      },
      "source": [
        "import pandas as pd\n",
        "import numpy as np\n",
        "cidades = pd.DataFrame({'Cidade': (['SCarlos']*len(cidade_1)) + (['Rio_Claro']*len(cidade_2)),\n",
        "                        'Temperatura': np.concatenate([cidade_1, cidade_2])})\n",
        "sns.boxplot(x='Cidade', y='Temperatura', data=cidades, showmeans=True)"
      ],
      "execution_count": 8,
      "outputs": [
        {
          "output_type": "execute_result",
          "data": {
            "text/plain": [
              "<matplotlib.axes._subplots.AxesSubplot at 0x7f2eb389e390>"
            ]
          },
          "metadata": {},
          "execution_count": 8
        },
        {
          "output_type": "display_data",
          "data": {
            "text/plain": [
              "<Figure size 432x288 with 1 Axes>"
            ],
            "image/png": "[encoded data removed]"
          },
          "metadata": {
            "needs_background": "light"
          }
        }
      ]
    },
    {
      "cell_type": "markdown",
      "metadata": {
        "id": "xywncXQHd8Ol"
      },
      "source": [
        "Apesar da média da cidade 2 ser maior, percebemos que são apenas alguns outliers que puxam seu valor para cima. Pelo bloxplot, percebemos também que a cidade 1 teve uma variância menor do que a cidade 2. "
      ]
    },
    {
      "cell_type": "markdown",
      "metadata": {
        "id": "JZWmSWQkc213"
      },
      "source": [
        "\n",
        "\n",
        "---\n",
        "\n",
        "### Questão 02.\n",
        "1. Calcule o número de dias quentes em cada cidade.\n",
        "- Dica: Use a função `argwhere` da biblioteca **numpy**."
      ]
    },
    {
      "cell_type": "code",
      "metadata": {
        "id": "H3bTA1hEMiB0",
        "colab": {
          "base_uri": "https://localhost:8080/"
        },
        "outputId": "fd511d1b-8afc-480d-b096-aaa77e89466a"
      },
      "source": [
        "#Dias quentes cidade 1\n",
        "dias_quentes_1 = np.argwhere(cidade_1>=25)\n",
        "print(\"Numero de Dias quentes cidade 1:\" , len(dias_quentes_1))\n",
        "\n",
        "#Dias quentes cidade 2\n",
        "dias_quentes_2 = np.argwhere(cidade_2>=25)\n",
        "print(\"Numero de Dias quentes cidade 2:\" , len(dias_quentes_2))\n"
      ],
      "execution_count": 9,
      "outputs": [
        {
          "output_type": "stream",
          "name": "stdout",
          "text": [
            "Numero de Dias quentes cidade 1: 192\n",
            "Numero de Dias quentes cidade 2: 137\n"
          ]
        }
      ]
    },
    {
      "cell_type": "markdown",
      "metadata": {
        "id": "eKwZoSVU2VcP"
      },
      "source": [
        "## Dados multidimensionais\n",
        "\n",
        "Considere o conjunto de dados dos jogadores de futebol, que está no formato .csv.\n",
        "\n",
        "\n"
      ]
    },
    {
      "cell_type": "code",
      "metadata": {
        "id": "yma46nUyUUpS",
        "colab": {
          "base_uri": "https://localhost:8080/",
          "height": 641
        },
        "outputId": "e8e2b18d-0ebc-4a45-cec3-e5d9dc2fe6c5"
      },
      "source": [
        "players = pd.read_csv(\"/content/jogadores_exercicio1.csv\")\n",
        "players"
      ],
      "execution_count": 10,
      "outputs": [
        {
          "output_type": "execute_result",
          "data": {
            "text/plain": [
              "        id  player_api_id            player_name  player_fifa_api_id  \\\n",
              "0      530         167285       Alireza Haghighi              191589   \n",
              "1     8608         184536      Philippe Coutinho              189242   \n",
              "2     7752          38947  Mustapha Jarju Alasan              178374   \n",
              "3    11073          36491              Zsolt Low              111191   \n",
              "4     8427          27613               Paulinho              164256   \n",
              "..     ...            ...                    ...                 ...   \n",
              "345  10199           7627            Thierno Bah               45269   \n",
              "346   1216         246330         Benjamin Morel              202753   \n",
              "347   4262          33793         Hugo Alcantara               14491   \n",
              "348   5886         173699              Koro Kone              207538   \n",
              "349   7946          26137         Nicolas Gillet               12489   \n",
              "\n",
              "                birthday  height     weight  age  \n",
              "0    1988-05-02 00:00:00  1.9304  79.832257   33  \n",
              "1    1992-06-12 00:00:00  1.7018  68.038855   29  \n",
              "2    1986-07-18 00:00:00  1.8288  81.193034   35  \n",
              "3    1979-04-29 00:00:00  1.8034  69.853225   42  \n",
              "4    1986-01-10 00:00:00  1.7526  72.121187   35  \n",
              "..                   ...     ...        ...  ...  \n",
              "345  1982-10-05 00:00:00  1.7526  68.038855   38  \n",
              "346  1987-06-10 00:00:00  1.8034  69.853225   34  \n",
              "347  1979-07-28 00:00:00  1.9050  84.821773   42  \n",
              "348  1989-07-05 00:00:00  1.7780  74.842741   32  \n",
              "349  1976-11-08 00:00:00  1.8542  83.914588   44  \n",
              "\n",
              "[350 rows x 8 columns]"
            ],
            "text/html": [
              "\n",
              "  <div id=\"df-099abdc5-3bf3-4e22-be04-dc1979561f81\">\n",
              "    <div class=\"colab-df-container\">\n",
              "      <div>\n",
              "<style scoped>\n",
              "    .dataframe tbody tr th:only-of-type {\n",
              "        vertical-align: middle;\n",
              "    }\n",
              "\n",
              "    .dataframe tbody tr th {\n",
              "        vertical-align: top;\n",
              "    }\n",
              "\n",
              "    .dataframe thead th {\n",
              "        text-align: right;\n",
              "    }\n",
              "</style>\n",
              "<table border=\"1\" class=\"dataframe\">\n",
              "  <thead>\n",
              "    <tr style=\"text-align: right;\">\n",
              "      <th></th>\n",
              "      <th>id</th>\n",
              "      <th>player_api_id</th>\n",
              "      <th>player_name</th>\n",
              "      <th>player_fifa_api_id</th>\n",
              "      <th>birthday</th>\n",
              "      <th>height</th>\n",
              "      <th>weight</th>\n",
              "      <th>age</th>\n",
              "    </tr>\n",
              "  </thead>\n",
              "  <tbody>\n",
              "    <tr>\n",
              "      <th>0</th>\n",
              "      <td>530</td>\n",
              "      <td>167285</td>\n",
              "      <td>Alireza Haghighi</td>\n",
              "      <td>191589</td>\n",
              "      <td>1988-05-02 00:00:00</td>\n",
              "      <td>1.9304</td>\n",
              "      <td>79.832257</td>\n",
              "      <td>33</td>\n",
              "    </tr>\n",
              "    <tr>\n",
              "      <th>1</th>\n",
              "      <td>8608</td>\n",
              "      <td>184536</td>\n",
              "      <td>Philippe Coutinho</td>\n",
              "      <td>189242</td>\n",
              "      <td>1992-06-12 00:00:00</td>\n",
              "      <td>1.7018</td>\n",
              "      <td>68.038855</td>\n",
              "      <td>29</td>\n",
              "    </tr>\n",
              "    <tr>\n",
              "      <th>2</th>\n",
              "      <td>7752</td>\n",
              "      <td>38947</td>\n",
              "      <td>Mustapha Jarju Alasan</td>\n",
              "      <td>178374</td>\n",
              "      <td>1986-07-18 00:00:00</td>\n",
              "      <td>1.8288</td>\n",
              "      <td>81.193034</td>\n",
              "      <td>35</td>\n",
              "    </tr>\n",
              "    <tr>\n",
              "      <th>3</th>\n",
              "      <td>11073</td>\n",
              "      <td>36491</td>\n",
              "      <td>Zsolt Low</td>\n",
              "      <td>111191</td>\n",
              "      <td>1979-04-29 00:00:00</td>\n",
              "      <td>1.8034</td>\n",
              "      <td>69.853225</td>\n",
              "      <td>42</td>\n",
              "    </tr>\n",
              "    <tr>\n",
              "      <th>4</th>\n",
              "      <td>8427</td>\n",
              "      <td>27613</td>\n",
              "      <td>Paulinho</td>\n",
              "      <td>164256</td>\n",
              "      <td>1986-01-10 00:00:00</td>\n",
              "      <td>1.7526</td>\n",
              "      <td>72.121187</td>\n",
              "      <td>35</td>\n",
              "    </tr>\n",
              "    <tr>\n",
              "      <th>...</th>\n",
              "      <td>...</td>\n",
              "      <td>...</td>\n",
              "      <td>...</td>\n",
              "      <td>...</td>\n",
              "      <td>...</td>\n",
              "      <td>...</td>\n",
              "      <td>...</td>\n",
              "      <td>...</td>\n",
              "    </tr>\n",
              "    <tr>\n",
              "      <th>345</th>\n",
              "      <td>10199</td>\n",
              "      <td>7627</td>\n",
              "      <td>Thierno Bah</td>\n",
              "      <td>45269</td>\n",
              "      <td>1982-10-05 00:00:00</td>\n",
              "      <td>1.7526</td>\n",
              "      <td>68.038855</td>\n",
              "      <td>38</td>\n",
              "    </tr>\n",
              "    <tr>\n",
              "      <th>346</th>\n",
              "      <td>1216</td>\n",
              "      <td>246330</td>\n",
              "      <td>Benjamin Morel</td>\n",
              "      <td>202753</td>\n",
              "      <td>1987-06-10 00:00:00</td>\n",
              "      <td>1.8034</td>\n",
              "      <td>69.853225</td>\n",
              "      <td>34</td>\n",
              "    </tr>\n",
              "    <tr>\n",
              "      <th>347</th>\n",
              "      <td>4262</td>\n",
              "      <td>33793</td>\n",
              "      <td>Hugo Alcantara</td>\n",
              "      <td>14491</td>\n",
              "      <td>1979-07-28 00:00:00</td>\n",
              "      <td>1.9050</td>\n",
              "      <td>84.821773</td>\n",
              "      <td>42</td>\n",
              "    </tr>\n",
              "    <tr>\n",
              "      <th>348</th>\n",
              "      <td>5886</td>\n",
              "      <td>173699</td>\n",
              "      <td>Koro Kone</td>\n",
              "      <td>207538</td>\n",
              "      <td>1989-07-05 00:00:00</td>\n",
              "      <td>1.7780</td>\n",
              "      <td>74.842741</td>\n",
              "      <td>32</td>\n",
              "    </tr>\n",
              "    <tr>\n",
              "      <th>349</th>\n",
              "      <td>7946</td>\n",
              "      <td>26137</td>\n",
              "      <td>Nicolas Gillet</td>\n",
              "      <td>12489</td>\n",
              "      <td>1976-11-08 00:00:00</td>\n",
              "      <td>1.8542</td>\n",
              "      <td>83.914588</td>\n",
              "      <td>44</td>\n",
              "    </tr>\n",
              "  </tbody>\n",
              "</table>\n",
              "<p>350 rows × 8 columns</p>\n",
              "</div>\n",
              "      <button class=\"colab-df-convert\" onclick=\"convertToInteractive('df-099abdc5-3bf3-4e22-be04-dc1979561f81')\"\n",
              "              title=\"Convert this dataframe to an interactive table.\"\n",
              "              style=\"display:none;\">\n",
              "        \n",
              "  <svg xmlns=\"http://www.w3.org/2000/svg\" height=\"24px\"viewBox=\"0 0 24 24\"\n",
              "       width=\"24px\">\n",
              "    <path d=\"M0 0h24v24H0V0z\" fill=\"none\"/>\n",
              "    <path d=\"M18.56 5.44l.94 2.06.94-2.06 2.06-.94-2.06-.94-.94-2.06-.94 2.06-2.06.94zm-11 1L8.5 8.5l.94-2.06 2.06-.94-2.06-.94L8.5 2.5l-.94 2.06-2.06.94zm10 10l.94 2.06.94-2.06 2.06-.94-2.06-.94-.94-2.06-.94 2.06-2.06.94z\"/><path d=\"M17.41 7.96l-1.37-1.37c-.4-.4-.92-.59-1.43-.59-.52 0-1.04.2-1.43.59L10.3 9.45l-7.72 7.72c-.78.78-.78 2.05 0 2.83L4 21.41c.39.39.9.59 1.41.59.51 0 1.02-.2 1.41-.59l7.78-7.78 2.81-2.81c.8-.78.8-2.07 0-2.86zM5.41 20L4 18.59l7.72-7.72 1.47 1.35L5.41 20z\"/>\n",
              "  </svg>\n",
              "      </button>\n",
              "      \n",
              "  <style>\n",
              "    .colab-df-container {\n",
              "      display:flex;\n",
              "      flex-wrap:wrap;\n",
              "      gap: 12px;\n",
              "    }\n",
              "\n",
              "    .colab-df-convert {\n",
              "      background-color: #E8F0FE;\n",
              "      border: none;\n",
              "      border-radius: 50%;\n",
              "      cursor: pointer;\n",
              "      display: none;\n",
              "      fill: #1967D2;\n",
              "      height: 32px;\n",
              "      padding: 0 0 0 0;\n",
              "      width: 32px;\n",
              "    }\n",
              "\n",
              "    .colab-df-convert:hover {\n",
              "      background-color: #E2EBFA;\n",
              "      box-shadow: 0px 1px 2px rgba(60, 64, 67, 0.3), 0px 1px 3px 1px rgba(60, 64, 67, 0.15);\n",
              "      fill: #174EA6;\n",
              "    }\n",
              "\n",
              "    [theme=dark] .colab-df-convert {\n",
              "      background-color: #3B4455;\n",
              "      fill: #D2E3FC;\n",
              "    }\n",
              "\n",
              "    [theme=dark] .colab-df-convert:hover {\n",
              "      background-color: #434B5C;\n",
              "      box-shadow: 0px 1px 3px 1px rgba(0, 0, 0, 0.15);\n",
              "      filter: drop-shadow(0px 1px 2px rgba(0, 0, 0, 0.3));\n",
              "      fill: #FFFFFF;\n",
              "    }\n",
              "  </style>\n",
              "\n",
              "      <script>\n",
              "        const buttonEl =\n",
              "          document.querySelector('#df-099abdc5-3bf3-4e22-be04-dc1979561f81 button.colab-df-convert');\n",
              "        buttonEl.style.display =\n",
              "          google.colab.kernel.accessAllowed ? 'block' : 'none';\n",
              "\n",
              "        async function convertToInteractive(key) {\n",
              "          const element = document.querySelector('#df-099abdc5-3bf3-4e22-be04-dc1979561f81');\n",
              "          const dataTable =\n",
              "            await google.colab.kernel.invokeFunction('convertToInteractive',\n",
              "                                                     [key], {});\n",
              "          if (!dataTable) return;\n",
              "\n",
              "          const docLinkHtml = 'Like what you see? Visit the ' +\n",
              "            '<a target=\"_blank\" href=https://colab.research.google.com/notebooks/data_table.ipynb>data table notebook</a>'\n",
              "            + ' to learn more about interactive tables.';\n",
              "          element.innerHTML = '';\n",
              "          dataTable['output_type'] = 'display_data';\n",
              "          await google.colab.output.renderOutput(dataTable, element);\n",
              "          const docLink = document.createElement('div');\n",
              "          docLink.innerHTML = docLinkHtml;\n",
              "          element.appendChild(docLink);\n",
              "        }\n",
              "      </script>\n",
              "    </div>\n",
              "  </div>\n",
              "  "
            ]
          },
          "metadata": {},
          "execution_count": 10
        }
      ]
    },
    {
      "cell_type": "markdown",
      "metadata": {
        "id": "ESFpa2pDU_xu"
      },
      "source": [
        "\n",
        "\n",
        "---\n",
        "\n",
        "\n",
        "### Questão 03.\n",
        "\n",
        "1. Calcule os quatro momentos (média, variância, obliquidade e achatamento) para cada atributo do tipo numerico (float) do conjunto.\n"
      ]
    },
    {
      "cell_type": "code",
      "metadata": {
        "id": "5PlJlMtJe_6r",
        "colab": {
          "base_uri": "https://localhost:8080/"
        },
        "outputId": "50a9aadf-bead-4dd0-db39-2c80ff7ee4f4"
      },
      "source": [
        "#Média\n",
        "media_altura = players['height'].mean()\n",
        "media_peso = players['weight'].mean()\n",
        "media_idade = players['age'].mean()\n",
        "print(\"Média de altura é:\", media_altura, \"\\n\",\"Média de peso é:\", media_peso, \"\\n\",\"Média de idade é:\", media_idade)\n",
        "print(\"\\n\")\n",
        "\n",
        "var_altura = players['height'].var()\n",
        "var_peso = players['weight'].var()\n",
        "var_idade = players['age'].var()\n",
        "print(\"Variância de altura é:\", var_altura, \"\\n\",\"Variância de peso é:\", var_peso, \"\\n\",\"Variância de idade é:\", var_idade)\n",
        "\n",
        "print(\"\\n\")\n",
        "\n",
        "obliq_altura = players['height'].skew()\n",
        "obliq_peso = players['weight'].skew()\n",
        "obliq_idade = players['age'].skew()\n",
        "print(\"Obliquidade de altura é:\", obliq_altura,\"\\n\",\"Obliquidade de peso é:\", obliq_peso,\"\\n\",\"Obliquidade de idade é:\", obliq_idade)\n",
        "\n",
        "print(\"\\n\")\n",
        "\n",
        "kurt_altura = players['height'].kurtosis()\n",
        "kurt_peso = players['weight'].kurtosis()\n",
        "kurt_idade = players['age'].kurtosis()\n",
        "print(\"Achatamento de altura é:\", kurt_altura,\"\\n\",\"Achatamento de peso é:\", kurt_peso, \"\\n\",\"Achatamento de idade é:\", kurt_idade)"
      ],
      "execution_count": 11,
      "outputs": [
        {
          "output_type": "stream",
          "name": "stdout",
          "text": [
            "Média de altura é: 1.8201639999999997 \n",
            " Média de peso é: 76.4549379308 \n",
            " Média de idade é: 34.30571428571429\n",
            "\n",
            "\n",
            "Variância de altura é: 0.003668612683094556 \n",
            " Variância de peso é: 41.28153862517228 \n",
            " Variância de idade é: 26.46501023331969\n",
            "\n",
            "\n",
            "Obliquidade de altura é: -0.12007981638318897 \n",
            " Obliquidade de peso é: 0.03027696608291131 \n",
            " Obliquidade de idade é: 0.2998913445412143\n",
            "\n",
            "\n",
            "Achatamento de altura é: -0.4321787984728007 \n",
            " Achatamento de peso é: -0.10866518706788009 \n",
            " Achatamento de idade é: -0.3340241472353571\n"
          ]
        }
      ]
    },
    {
      "cell_type": "markdown",
      "metadata": {
        "id": "ULRqO72eYtBz"
      },
      "source": [
        "\n",
        "\n",
        "---\n",
        "\n",
        "### Questão 04.\n",
        "\n",
        "1. Gere o boxplot de atributo Height do conjunto, analise se os dados estão centrados (simetria) e estime os quartis deste atributo.  \n"
      ]
    },
    {
      "cell_type": "code",
      "metadata": {
        "id": "eOgYGH7tBpE2",
        "colab": {
          "base_uri": "https://localhost:8080/",
          "height": 369
        },
        "outputId": "a297d5ad-f0b3-4530-e42a-426a4cfa3a5e"
      },
      "source": [
        "from scipy import stats\n",
        "#Boxplot e análise da altura\n",
        "boxplot_height = players.boxplot(column='height', showmeans=True)\n",
        "print('Obliquidade: {}'.format(stats.skew(players.height)))\n",
        "\n",
        "print('25 %:', players.height.quantile(0.25))\n",
        "print('50 %:', players.height.quantile(0.5))\n",
        "print('75 %:', players.height.quantile(0.75))\n",
        "\n",
        "print('Media: ', players.height.mean())\n",
        "print('Mediana: ', players.height.median())"
      ],
      "execution_count": 12,
      "outputs": [
        {
          "output_type": "stream",
          "name": "stdout",
          "text": [
            "Obliquidade: -0.11956457471844086\n",
            "25 %: 1.778\n",
            "50 %: 1.8288\n",
            "75 %: 1.8542\n",
            "Media:  1.8201639999999997\n",
            "Mediana:  1.8288\n"
          ]
        },
        {
          "output_type": "display_data",
          "data": {
            "text/plain": [
              "<Figure size 432x288 with 1 Axes>"
            ],
            "image/png": "[encoded data removed]"
          },
          "metadata": {
            "needs_background": "light"
          }
        }
      ]
    },
    {
      "cell_type": "markdown",
      "metadata": {
        "id": "H37h_Wf4gjLD"
      },
      "source": [
        "Observamos uma sutil diferença entre a média e mediana, mostrando que os dados não estão perfeitamente centralizados mas sua obliquidade é desconsiderável.\n",
        "\n",
        "Podemos confirmar calculando diretamente a obliquidade da distribuição, que teve resultado negativo porém perto de 0, indicando que a distribuição tem uma cauda à esquerda porém não muito significativa.\n"
      ]
    },
    {
      "cell_type": "markdown",
      "metadata": {
        "id": "DKB_WQOK5R1E"
      },
      "source": [
        "### Questão 05.\n",
        "O arquivo **player_attributes.csv** contém mais informações sobre os jogadores. Leia-o como DataFrame e combine suas informações com o DataFrame já existente.\n",
        "\n",
        "1. Caso um atributo não esteja disponível para algum jogador, substitua o valor NaN pela média ou valor mais comum para aquele atributo.\n",
        "\n",
        "2. Calcule a moda de cada atributo após a combinação das bases. \n",
        "\n",
        "- Dica: Utilize a função [merge](https://pandas.pydata.org/pandas-docs/stable/reference/api/pandas.DataFrame.merge.html) para combinar dois DataFrames que contém ao menos um atributo em comum\n",
        "\n",
        "- Dica 2: Ambos DataFrames possuem o atributo \"player_api_id\""
      ]
    },
    {
      "cell_type": "code",
      "metadata": {
        "id": "GFjJjiaO6TMV",
        "colab": {
          "base_uri": "https://localhost:8080/"
        },
        "outputId": "d1777509-8d00-43b6-c6bc-cf6d3da1f3bb"
      },
      "source": [
        "players_attrs = pd.read_csv(\"/content/player_attributes1.csv\")\n",
        "# o parâmetro how poderia ter outros valores que também funcionam\n",
        "jogadores = players.merge(players_attrs, how='right', on='player_api_id')\n",
        "\n",
        "# Usando a moda ou média dependendo do tipo do atributo.\n",
        "# Como o enunciado estava ambíguo, aceitei que usou só a moda\n",
        "jogadores.apply(lambda x:x.fillna(\n",
        "    x.mode()[0] if x.dtype == 'object' else x.mean(), axis=0, inplace=True))\n",
        "\n",
        "for column in jogadores.columns:\n",
        "  if 'id' not in column:\n",
        "    print('Atributo: ', column, ' Resultado: ', jogadores[column].mode()[0])\n"
      ],
      "execution_count": 13,
      "outputs": [
        {
          "output_type": "stream",
          "name": "stdout",
          "text": [
            "Atributo:  player_name  Resultado:  Luan\n",
            "Atributo:  birthday  Resultado:  1979-12-03 00:00:00\n",
            "Atributo:  height  Resultado:  1.8288\n",
            "Atributo:  weight  Resultado:  79.83225712000001\n",
            "Atributo:  age  Resultado:  34\n",
            "Atributo:  Unnamed: 0  Resultado:  451\n",
            "Atributo:  date  Resultado:  2016-04-14 00:00:00\n",
            "Atributo:  overall_rating  Resultado:  64.0\n",
            "Atributo:  potential  Resultado:  66.0\n",
            "Atributo:  preferred_foot  Resultado:  right\n",
            "Atributo:  attacking_work_rate  Resultado:  medium\n",
            "Atributo:  defensive_work_rate  Resultado:  medium\n",
            "Atributo:  crossing  Resultado:  58.0\n",
            "Atributo:  finishing  Resultado:  25.0\n",
            "Atributo:  heading_accuracy  Resultado:  68.0\n",
            "Atributo:  short_passing  Resultado:  64.0\n",
            "Atributo:  volleys  Resultado:  47.80298507462687\n",
            "Atributo:  dribbling  Resultado:  71.0\n",
            "Atributo:  curve  Resultado:  51.080597014925374\n",
            "Atributo:  free_kick_accuracy  Resultado:  58.0\n",
            "Atributo:  long_passing  Resultado:  58.0\n",
            "Atributo:  ball_control  Resultado:  62.0\n",
            "Atributo:  acceleration  Resultado:  74.0\n",
            "Atributo:  sprint_speed  Resultado:  69.0\n",
            "Atributo:  agility  Resultado:  74.0\n",
            "Atributo:  reactions  Resultado:  66.0\n",
            "Atributo:  balance  Resultado:  70.0\n",
            "Atributo:  shot_power  Resultado:  66.0\n",
            "Atributo:  jumping  Resultado:  70.0\n",
            "Atributo:  stamina  Resultado:  71.0\n",
            "Atributo:  strength  Resultado:  70.0\n",
            "Atributo:  long_shots  Resultado:  68.0\n",
            "Atributo:  aggression  Resultado:  68.0\n",
            "Atributo:  interceptions  Resultado:  66.0\n",
            "Atributo:  positioning  Resultado:  64.0\n",
            "Atributo:  vision  Resultado:  55.0\n",
            "Atributo:  penalties  Resultado:  49.0\n",
            "Atributo:  marking  Resultado:  25.0\n",
            "Atributo:  standing_tackle  Resultado:  25.0\n",
            "Atributo:  gk_diving  Resultado:  15.0\n",
            "Atributo:  gk_handling  Resultado:  10.0\n",
            "Atributo:  gk_kicking  Resultado:  7.0\n",
            "Atributo:  gk_positioning  Resultado:  8.0\n",
            "Atributo:  gk_reflexes  Resultado:  15.0\n"
          ]
        }
      ]
    }
  ]
}
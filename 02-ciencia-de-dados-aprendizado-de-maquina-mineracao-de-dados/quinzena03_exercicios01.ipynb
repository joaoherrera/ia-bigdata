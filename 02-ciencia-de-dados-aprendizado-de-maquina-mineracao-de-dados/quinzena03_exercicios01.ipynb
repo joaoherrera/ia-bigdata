{
  "nbformat": 4,
  "nbformat_minor": 0,
  "metadata": {
    "colab": {
      "name": "MBA-MD-2022-EXERCICIOS-PARTE1-5.ipynb",
      "provenance": [],
      "collapsed_sections": []
    },
    "kernelspec": {
      "display_name": "Python 3",
      "language": "python",
      "name": "python3"
    },
    "language_info": {
      "codemirror_mode": {
        "name": "ipython",
        "version": 3
      },
      "file_extension": ".py",
      "mimetype": "text/x-python",
      "name": "python",
      "nbconvert_exporter": "python",
      "pygments_lexer": "ipython3",
      "version": "3.9.5"
    },
    "toc": {
      "base_numbering": 1,
      "nav_menu": {},
      "number_sections": true,
      "sideBar": true,
      "skip_h1_title": false,
      "title_cell": "Table of Contents",
      "title_sidebar": "Contents",
      "toc_cell": false,
      "toc_position": {},
      "toc_section_display": true,
      "toc_window_display": false
    }
  },
  "cells": [
    {
      "cell_type": "markdown",
      "metadata": {
        "id": "x8VUohVKQh5l"
      },
      "source": [
        "# <font color=\"red\"> MBA em IA e Big Data</font>\n",
        "## <span style=\"color:red\">Curso 2 - Ciência de Dados, Aprendizado de Máquina e Mineração de Dados</span>\n",
        "\n",
        "### <span style=\"color:darkred\">Mineração de Dados</span>\n",
        "\n",
        "## Exercícios de Fixação - Aulas: Parte 1 até Parte 5\n",
        "\n",
        "*Ricardo M. Marcacini*<br>\n",
        "*ICMC/USP São Carlos*"
      ]
    },
    {
      "cell_type": "markdown",
      "metadata": {
        "id": "P1gGG6yeQh5m"
      },
      "source": [
        "#### <span style=\"color:red\">Recomenda-se fortemente que os exercícios sejam feitos sem consultar as respostas antecipadamente.</span>"
      ]
    },
    {
      "cell_type": "markdown",
      "metadata": {
        "id": "9sFBaTxKvOnT"
      },
      "source": [
        "# Bibliotecas necessárias para execução dos exercícios\n",
        "\n",
        "Nós usamos bibliotecas que geralmente estão disponíveis por padrão no ambiente Python-Anaconda e também no Google Colab. Caso receba mensagem de erro ao importar alguma das bibliotecas, então será necessário instalar o respectivo pacote no seu ambiente. Nesse caso, envie uma mensagem no fórum da disciplina para receber ajuda. "
      ]
    },
    {
      "cell_type": "code",
      "metadata": {
        "id": "q45g0HmtvLjb"
      },
      "source": [
        "# importando bibliotecas\n",
        "import numpy as np\n",
        "import pandas as pd\n",
        "from sklearn.neighbors import NearestNeighbors\n",
        "from sklearn import preprocessing\n",
        "import scipy\n",
        "from scipy.spatial import distance_matrix \n",
        "from scipy.cluster import hierarchy \n",
        "from scipy.spatial.distance import pdist\n",
        "from sklearn.cluster import KMeans\n",
        "from sklearn.metrics import silhouette_samples, silhouette_score\n",
        "import seaborn as sns"
      ],
      "execution_count": null,
      "outputs": []
    },
    {
      "cell_type": "markdown",
      "metadata": {
        "id": "LxKrzj_-s2mN"
      },
      "source": [
        "# Arquivo CSV (dados) para os Exercícios de Fixação\n",
        "\n",
        "Utilizar os dados do arquivo **bank_marketing_exercicio.csv** para realização dos exercícios de fixação.\n",
        "\n",
        "Para executar o código abaixo, certifique-se de que o arquivo bank_marketing_exercicio.csv esteja no mesmo diretório desse script."
      ]
    },
    {
      "cell_type": "code",
      "metadata": {
        "colab": {
          "base_uri": "https://localhost:8080/",
          "height": 417
        },
        "id": "Ksk58ZHOuB3M",
        "outputId": "63576269-559c-45bf-a5b2-5286c5134366"
      },
      "source": [
        "import pandas as pd\n",
        "\n",
        "df_dados = pd.read_csv('bank_marketing_exercicio.csv')\n",
        "df_dados"
      ],
      "execution_count": null,
      "outputs": [
        {
          "output_type": "execute_result",
          "data": {
            "text/html": [
              "<div>\n",
              "<style scoped>\n",
              "    .dataframe tbody tr th:only-of-type {\n",
              "        vertical-align: middle;\n",
              "    }\n",
              "\n",
              "    .dataframe tbody tr th {\n",
              "        vertical-align: top;\n",
              "    }\n",
              "\n",
              "    .dataframe thead th {\n",
              "        text-align: right;\n",
              "    }\n",
              "</style>\n",
              "<table border=\"1\" class=\"dataframe\">\n",
              "  <thead>\n",
              "    <tr style=\"text-align: right;\">\n",
              "      <th></th>\n",
              "      <th>age</th>\n",
              "      <th>balance</th>\n",
              "      <th>duration</th>\n",
              "    </tr>\n",
              "  </thead>\n",
              "  <tbody>\n",
              "    <tr>\n",
              "      <th>0</th>\n",
              "      <td>37</td>\n",
              "      <td>4760</td>\n",
              "      <td>182</td>\n",
              "    </tr>\n",
              "    <tr>\n",
              "      <th>1</th>\n",
              "      <td>30</td>\n",
              "      <td>-393</td>\n",
              "      <td>435</td>\n",
              "    </tr>\n",
              "    <tr>\n",
              "      <th>2</th>\n",
              "      <td>32</td>\n",
              "      <td>2979</td>\n",
              "      <td>156</td>\n",
              "    </tr>\n",
              "    <tr>\n",
              "      <th>3</th>\n",
              "      <td>30</td>\n",
              "      <td>1185</td>\n",
              "      <td>284</td>\n",
              "    </tr>\n",
              "    <tr>\n",
              "      <th>4</th>\n",
              "      <td>42</td>\n",
              "      <td>221</td>\n",
              "      <td>720</td>\n",
              "    </tr>\n",
              "    <tr>\n",
              "      <th>...</th>\n",
              "      <td>...</td>\n",
              "      <td>...</td>\n",
              "      <td>...</td>\n",
              "    </tr>\n",
              "    <tr>\n",
              "      <th>395</th>\n",
              "      <td>47</td>\n",
              "      <td>477</td>\n",
              "      <td>973</td>\n",
              "    </tr>\n",
              "    <tr>\n",
              "      <th>396</th>\n",
              "      <td>40</td>\n",
              "      <td>4795</td>\n",
              "      <td>57</td>\n",
              "    </tr>\n",
              "    <tr>\n",
              "      <th>397</th>\n",
              "      <td>42</td>\n",
              "      <td>216</td>\n",
              "      <td>144</td>\n",
              "    </tr>\n",
              "    <tr>\n",
              "      <th>398</th>\n",
              "      <td>36</td>\n",
              "      <td>2880</td>\n",
              "      <td>283</td>\n",
              "    </tr>\n",
              "    <tr>\n",
              "      <th>399</th>\n",
              "      <td>31</td>\n",
              "      <td>202</td>\n",
              "      <td>146</td>\n",
              "    </tr>\n",
              "  </tbody>\n",
              "</table>\n",
              "<p>400 rows × 3 columns</p>\n",
              "</div>"
            ],
            "text/plain": [
              "     age  balance  duration\n",
              "0     37     4760       182\n",
              "1     30     -393       435\n",
              "2     32     2979       156\n",
              "3     30     1185       284\n",
              "4     42      221       720\n",
              "..   ...      ...       ...\n",
              "395   47      477       973\n",
              "396   40     4795        57\n",
              "397   42      216       144\n",
              "398   36     2880       283\n",
              "399   31      202       146\n",
              "\n",
              "[400 rows x 3 columns]"
            ]
          },
          "metadata": {
            "tags": []
          },
          "execution_count": 2
        }
      ]
    },
    {
      "cell_type": "markdown",
      "metadata": {
        "id": "KG6rCC6gutp0"
      },
      "source": [
        "# Exercício 1\n",
        "\n",
        "Utilize a distância euclidiana para recuperar e listar os 10 objetos mais próximos ao primeiro objeto da base.\n",
        "\n",
        "Observação: o primeiro objeto será retornado como vizinho dele mesmo (distância=0), ou seja, ele também estará presente na lista dos 10 objetos mais próximos.\n"
      ]
    },
    {
      "cell_type": "markdown",
      "metadata": {
        "id": "O-pheAQEw_rc"
      },
      "source": [
        "# Exercício 2\n",
        "\n",
        "Utilize a distância de Minkowski correspondente à distância de Manhattan para recuperar e listar os 10 objetos mais próximos ao primeiro objeto da base.\n",
        "\n",
        "Observação: o primeiro objeto será retornado como vizinho dele mesmo (distância=0), ou seja, ele também estará presente na lista dos 10 objetos mais próximos."
      ]
    },
    {
      "cell_type": "markdown",
      "metadata": {
        "id": "WTLlgzKJyNOT"
      },
      "source": [
        "# Exercício 3\n",
        "\n",
        "Faça o agrupamento hierárquico da base de clientes de marketing utilizando Single-Link e distância euclidiana. Plote o dendrograma. Avalie o dendrograma por meio do índice de Correlação Cofenética.\n",
        "\n",
        "Observação: use o pdist() para calcular a matriz de distâncias."
      ]
    },
    {
      "cell_type": "markdown",
      "metadata": {
        "id": "YE_sGqAezu96"
      },
      "source": [
        "# Exercício 4\n",
        "\n",
        "Faça o agrupamento hierárquico da base de clientes de marketing utilizando Average-Link e distância euclidiana. Plote o dendrograma. Avalie o dendrograma por meio do índice de Correlação Cofenética.\n",
        "\n",
        "Observação: use o pdist() para calcular a matriz de distâncias."
      ]
    },
    {
      "cell_type": "markdown",
      "metadata": {
        "id": "OKCSJhVN0-SW"
      },
      "source": [
        "# Exercício 5\n",
        "\n",
        "Escolha o agrupamento/dendrograma com maior correlação cofenética (proveniente do exercício 3 e 4). Utilize a medida de silhueta do agrupamento para identificar um número apropriado de clusters entre 3 e 10 (melhor partição via corte no dendrograma)."
      ]
    },
    {
      "cell_type": "markdown",
      "metadata": {
        "id": "ldzXpcQW3tdm"
      },
      "source": [
        "# Exercício 6\n",
        "\n",
        "Agrupe os objetos utilizando o algoritmo k-means com as seguintes configurações:\n",
        "\n",
        "*   Número máximo de iterações igual a 300\n",
        "*   Inicialização aleatória dos centroides\n",
        "*   Número de vezes que o k-means será executado com diferentes inicializações de centroides igual a 10\n",
        "*   Número de clusters igual a 5\n",
        "\n",
        "No final, apresente os centroides.\n",
        "\n",
        "Atenção: use random_state=42 para garantir que serão utilizadas as mesmas sementes aleatórias do exercício resolvido."
      ]
    },
    {
      "cell_type": "markdown",
      "metadata": {
        "id": "KiWWpE3Z66I3"
      },
      "source": [
        "# Exercício 7\n",
        "\n",
        "Apresente os 3 objetos mais próximos do centroide representante do cluster=0. Use a distância euclidiana."
      ]
    },
    {
      "cell_type": "markdown",
      "metadata": {
        "id": "Snz6GXP_7o2n"
      },
      "source": [
        "# Exercício 8\n",
        "\n",
        "Use o índice de silhueta para identificar qual é a melhor partição entre as obtidas pelo Exercício 5 e Exercício 6."
      ]
    },
    {
      "cell_type": "markdown",
      "metadata": {
        "id": "BnWSWCTE9xDE"
      },
      "source": [
        "# Exercício 9\n",
        "\n",
        "Utilize os atributos \"balance\" (eixo x) e \"duration\" (eixo y) para plotar os objetos usando um scatter-plot. A cor dos pontos deve corresponder aos clusters obtidos pelo k-means do Exercício 6.\n",
        "\n"
      ]
    },
    {
      "cell_type": "markdown",
      "metadata": {
        "id": "1hPREkiP_bhX"
      },
      "source": [
        "# Exercício 10\n",
        "\n",
        "Utilize os atributos \"balance\" (eixo x) e \"duration\" (eixo y) para plotar os objetos usando um scatter-plot. A cor dos pontos deve corresponder aos clusters obtidos pela melhor partição extraída do dendrograma (Exercício 5)."
      ]
    }
  ]
}
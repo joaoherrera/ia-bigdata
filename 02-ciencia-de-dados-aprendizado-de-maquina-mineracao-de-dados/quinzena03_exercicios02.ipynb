{
  "nbformat": 4,
  "nbformat_minor": 0,
  "metadata": {
    "colab": {
      "name": "MBA-MD-2022-EXERCICIOS-PARTE6-8.ipynb",
      "provenance": [],
      "collapsed_sections": []
    },
    "kernelspec": {
      "display_name": "Python 3",
      "language": "python",
      "name": "python3"
    },
    "language_info": {
      "codemirror_mode": {
        "name": "ipython",
        "version": 3
      },
      "file_extension": ".py",
      "mimetype": "text/x-python",
      "name": "python",
      "nbconvert_exporter": "python",
      "pygments_lexer": "ipython3",
      "version": "3.9.5"
    },
    "toc": {
      "base_numbering": 1,
      "nav_menu": {},
      "number_sections": true,
      "sideBar": true,
      "skip_h1_title": false,
      "title_cell": "Table of Contents",
      "title_sidebar": "Contents",
      "toc_cell": false,
      "toc_position": {},
      "toc_section_display": true,
      "toc_window_display": false
    }
  },
  "cells": [
    {
      "cell_type": "markdown",
      "metadata": {
        "id": "x8VUohVKQh5l"
      },
      "source": [
        "# <font color=\"red\"> MBA em IA e Big Data</font>\n",
        "## <span style=\"color:red\">Curso 2 - Ciência de Dados, Aprendizado de Máquina e Mineração de Dados</span>\n",
        "\n",
        "### <span style=\"color:darkred\">Mineração de Dados</span>\n",
        "\n",
        "## Exercícios de Fixação - Aulas: Parte 6 até Parte 8\n",
        "\n",
        "*Ricardo M. Marcacini*<br>\n",
        "*ICMC/USP São Carlos*"
      ]
    },
    {
      "cell_type": "markdown",
      "metadata": {
        "id": "P1gGG6yeQh5m"
      },
      "source": [
        "#### <span style=\"color:red\">Recomenda-se fortemente que os exercícios sejam feitos sem consultar as respostas antecipadamente.</span>"
      ]
    },
    {
      "cell_type": "markdown",
      "metadata": {
        "id": "9sFBaTxKvOnT"
      },
      "source": [
        "# Bibliotecas necessárias para execução dos exercícios\n",
        "\n",
        "Nós usamos bibliotecas que geralmente estão disponíveis por padrão no ambiente Python-Anaconda e também no Google Colab. Caso receba mensagem de erro ao importar alguma das bibliotecas, então será necessário instalar o respectivo pacote no seu ambiente. Nesse caso, envie uma mensagem no fórum da disciplina para receber ajuda.\n",
        "\n",
        "Para análise regras de associação, nós usaremos o pacote *mlxtend*.\n",
        "\n",
        "O pacote já vem instalado no ambiente Google Colab. Em outros ambientes, pode ser necessário instalar com os comandos:\n",
        "\n",
        "Opção 1: no terminal:\n",
        "\n",
        "`pip install mlxtend`\n",
        "\n",
        "Opção 2: no ambiente Jupyter/Notebook\n",
        "\n",
        "`!pip install mlxtend`\n",
        "\n",
        "Em alguns sistemas operacionais, como no Windows, pode ser necessário instalar bibliotecas adicionais, como a *openpyxl*. Nesse caso, o comando para instalar é:\n",
        "\n",
        "`!pip install mlxtend openpyxl`\n"
      ]
    },
    {
      "cell_type": "code",
      "metadata": {
        "id": "q45g0HmtvLjb"
      },
      "source": [
        "# importando bibliotecas\n",
        "import numpy as np\n",
        "import pandas as pd\n",
        "from sklearn import preprocessing\n",
        "from mlxtend.frequent_patterns import apriori, association_rules\n",
        "from mlxtend.preprocessing import TransactionEncoder\n",
        "from sklearn.model_selection import train_test_split\n",
        "from sklearn.neighbors import KNeighborsClassifier\n",
        "from sklearn.metrics import classification_report\n",
        "from sklearn.datasets import make_blobs"
      ],
      "execution_count": null,
      "outputs": []
    },
    {
      "cell_type": "markdown",
      "metadata": {
        "id": "LxKrzj_-s2mN"
      },
      "source": [
        "# Regras de Associação\n",
        "\n",
        "Utilizar os dados do arquivo **grocery_store_transactions.csv** para realização dos Exercícios de Fixação sobre Regras de Associação.\n",
        "\n",
        "Para executar o código abaixo, certifique-se de que o arquivo **grocery_store_transactions.csv** esteja no mesmo diretório desse script."
      ]
    },
    {
      "cell_type": "code",
      "metadata": {
        "colab": {
          "base_uri": "https://localhost:8080/",
          "height": 665
        },
        "id": "Ksk58ZHOuB3M",
        "outputId": "18cfb313-0148-4d47-df57-e12b8c224a06"
      },
      "source": [
        "transacoes = pd.read_csv('grocery_store_transactions.csv')\n",
        "transacoes"
      ],
      "execution_count": null,
      "outputs": [
        {
          "output_type": "execute_result",
          "data": {
            "text/html": [
              "<div>\n",
              "<style scoped>\n",
              "    .dataframe tbody tr th:only-of-type {\n",
              "        vertical-align: middle;\n",
              "    }\n",
              "\n",
              "    .dataframe tbody tr th {\n",
              "        vertical-align: top;\n",
              "    }\n",
              "\n",
              "    .dataframe thead th {\n",
              "        text-align: right;\n",
              "    }\n",
              "</style>\n",
              "<table border=\"1\" class=\"dataframe\">\n",
              "  <thead>\n",
              "    <tr style=\"text-align: right;\">\n",
              "      <th></th>\n",
              "      <th>BISCUIT</th>\n",
              "      <th>BOURNVITA</th>\n",
              "      <th>BREAD</th>\n",
              "      <th>COCK</th>\n",
              "      <th>COFFEE</th>\n",
              "      <th>CORNFLAKES</th>\n",
              "      <th>JAM</th>\n",
              "      <th>MAGGI</th>\n",
              "      <th>MILK</th>\n",
              "      <th>SUGER</th>\n",
              "      <th>TEA</th>\n",
              "    </tr>\n",
              "  </thead>\n",
              "  <tbody>\n",
              "    <tr>\n",
              "      <th>0</th>\n",
              "      <td>1.0</td>\n",
              "      <td>0.0</td>\n",
              "      <td>1.0</td>\n",
              "      <td>0.0</td>\n",
              "      <td>0.0</td>\n",
              "      <td>0.0</td>\n",
              "      <td>0.0</td>\n",
              "      <td>0.0</td>\n",
              "      <td>1.0</td>\n",
              "      <td>0.0</td>\n",
              "      <td>0.0</td>\n",
              "    </tr>\n",
              "    <tr>\n",
              "      <th>1</th>\n",
              "      <td>1.0</td>\n",
              "      <td>0.0</td>\n",
              "      <td>1.0</td>\n",
              "      <td>0.0</td>\n",
              "      <td>0.0</td>\n",
              "      <td>1.0</td>\n",
              "      <td>0.0</td>\n",
              "      <td>0.0</td>\n",
              "      <td>1.0</td>\n",
              "      <td>0.0</td>\n",
              "      <td>0.0</td>\n",
              "    </tr>\n",
              "    <tr>\n",
              "      <th>2</th>\n",
              "      <td>0.0</td>\n",
              "      <td>1.0</td>\n",
              "      <td>1.0</td>\n",
              "      <td>0.0</td>\n",
              "      <td>0.0</td>\n",
              "      <td>0.0</td>\n",
              "      <td>0.0</td>\n",
              "      <td>0.0</td>\n",
              "      <td>0.0</td>\n",
              "      <td>0.0</td>\n",
              "      <td>1.0</td>\n",
              "    </tr>\n",
              "    <tr>\n",
              "      <th>3</th>\n",
              "      <td>0.0</td>\n",
              "      <td>0.0</td>\n",
              "      <td>1.0</td>\n",
              "      <td>0.0</td>\n",
              "      <td>0.0</td>\n",
              "      <td>0.0</td>\n",
              "      <td>1.0</td>\n",
              "      <td>1.0</td>\n",
              "      <td>1.0</td>\n",
              "      <td>0.0</td>\n",
              "      <td>0.0</td>\n",
              "    </tr>\n",
              "    <tr>\n",
              "      <th>4</th>\n",
              "      <td>1.0</td>\n",
              "      <td>0.0</td>\n",
              "      <td>0.0</td>\n",
              "      <td>0.0</td>\n",
              "      <td>0.0</td>\n",
              "      <td>0.0</td>\n",
              "      <td>0.0</td>\n",
              "      <td>1.0</td>\n",
              "      <td>0.0</td>\n",
              "      <td>0.0</td>\n",
              "      <td>1.0</td>\n",
              "    </tr>\n",
              "    <tr>\n",
              "      <th>5</th>\n",
              "      <td>0.0</td>\n",
              "      <td>1.0</td>\n",
              "      <td>1.0</td>\n",
              "      <td>0.0</td>\n",
              "      <td>0.0</td>\n",
              "      <td>0.0</td>\n",
              "      <td>0.0</td>\n",
              "      <td>0.0</td>\n",
              "      <td>0.0</td>\n",
              "      <td>0.0</td>\n",
              "      <td>1.0</td>\n",
              "    </tr>\n",
              "    <tr>\n",
              "      <th>6</th>\n",
              "      <td>0.0</td>\n",
              "      <td>0.0</td>\n",
              "      <td>0.0</td>\n",
              "      <td>0.0</td>\n",
              "      <td>0.0</td>\n",
              "      <td>1.0</td>\n",
              "      <td>0.0</td>\n",
              "      <td>1.0</td>\n",
              "      <td>0.0</td>\n",
              "      <td>0.0</td>\n",
              "      <td>1.0</td>\n",
              "    </tr>\n",
              "    <tr>\n",
              "      <th>7</th>\n",
              "      <td>1.0</td>\n",
              "      <td>0.0</td>\n",
              "      <td>1.0</td>\n",
              "      <td>0.0</td>\n",
              "      <td>0.0</td>\n",
              "      <td>0.0</td>\n",
              "      <td>0.0</td>\n",
              "      <td>1.0</td>\n",
              "      <td>0.0</td>\n",
              "      <td>0.0</td>\n",
              "      <td>1.0</td>\n",
              "    </tr>\n",
              "    <tr>\n",
              "      <th>8</th>\n",
              "      <td>0.0</td>\n",
              "      <td>0.0</td>\n",
              "      <td>1.0</td>\n",
              "      <td>0.0</td>\n",
              "      <td>0.0</td>\n",
              "      <td>0.0</td>\n",
              "      <td>1.0</td>\n",
              "      <td>1.0</td>\n",
              "      <td>0.0</td>\n",
              "      <td>0.0</td>\n",
              "      <td>1.0</td>\n",
              "    </tr>\n",
              "    <tr>\n",
              "      <th>9</th>\n",
              "      <td>0.0</td>\n",
              "      <td>0.0</td>\n",
              "      <td>1.0</td>\n",
              "      <td>0.0</td>\n",
              "      <td>0.0</td>\n",
              "      <td>0.0</td>\n",
              "      <td>0.0</td>\n",
              "      <td>0.0</td>\n",
              "      <td>1.0</td>\n",
              "      <td>0.0</td>\n",
              "      <td>0.0</td>\n",
              "    </tr>\n",
              "    <tr>\n",
              "      <th>10</th>\n",
              "      <td>1.0</td>\n",
              "      <td>0.0</td>\n",
              "      <td>0.0</td>\n",
              "      <td>1.0</td>\n",
              "      <td>1.0</td>\n",
              "      <td>1.0</td>\n",
              "      <td>0.0</td>\n",
              "      <td>0.0</td>\n",
              "      <td>0.0</td>\n",
              "      <td>0.0</td>\n",
              "      <td>0.0</td>\n",
              "    </tr>\n",
              "    <tr>\n",
              "      <th>11</th>\n",
              "      <td>1.0</td>\n",
              "      <td>0.0</td>\n",
              "      <td>0.0</td>\n",
              "      <td>1.0</td>\n",
              "      <td>1.0</td>\n",
              "      <td>1.0</td>\n",
              "      <td>0.0</td>\n",
              "      <td>0.0</td>\n",
              "      <td>0.0</td>\n",
              "      <td>0.0</td>\n",
              "      <td>0.0</td>\n",
              "    </tr>\n",
              "    <tr>\n",
              "      <th>12</th>\n",
              "      <td>0.0</td>\n",
              "      <td>1.0</td>\n",
              "      <td>0.0</td>\n",
              "      <td>0.0</td>\n",
              "      <td>1.0</td>\n",
              "      <td>0.0</td>\n",
              "      <td>0.0</td>\n",
              "      <td>0.0</td>\n",
              "      <td>0.0</td>\n",
              "      <td>1.0</td>\n",
              "      <td>0.0</td>\n",
              "    </tr>\n",
              "    <tr>\n",
              "      <th>13</th>\n",
              "      <td>0.0</td>\n",
              "      <td>0.0</td>\n",
              "      <td>1.0</td>\n",
              "      <td>1.0</td>\n",
              "      <td>1.0</td>\n",
              "      <td>0.0</td>\n",
              "      <td>0.0</td>\n",
              "      <td>0.0</td>\n",
              "      <td>0.0</td>\n",
              "      <td>0.0</td>\n",
              "      <td>0.0</td>\n",
              "    </tr>\n",
              "    <tr>\n",
              "      <th>14</th>\n",
              "      <td>1.0</td>\n",
              "      <td>0.0</td>\n",
              "      <td>1.0</td>\n",
              "      <td>0.0</td>\n",
              "      <td>0.0</td>\n",
              "      <td>0.0</td>\n",
              "      <td>0.0</td>\n",
              "      <td>0.0</td>\n",
              "      <td>0.0</td>\n",
              "      <td>1.0</td>\n",
              "      <td>0.0</td>\n",
              "    </tr>\n",
              "    <tr>\n",
              "      <th>15</th>\n",
              "      <td>0.0</td>\n",
              "      <td>0.0</td>\n",
              "      <td>0.0</td>\n",
              "      <td>0.0</td>\n",
              "      <td>1.0</td>\n",
              "      <td>1.0</td>\n",
              "      <td>0.0</td>\n",
              "      <td>0.0</td>\n",
              "      <td>0.0</td>\n",
              "      <td>1.0</td>\n",
              "      <td>0.0</td>\n",
              "    </tr>\n",
              "    <tr>\n",
              "      <th>16</th>\n",
              "      <td>0.0</td>\n",
              "      <td>1.0</td>\n",
              "      <td>1.0</td>\n",
              "      <td>0.0</td>\n",
              "      <td>0.0</td>\n",
              "      <td>0.0</td>\n",
              "      <td>0.0</td>\n",
              "      <td>0.0</td>\n",
              "      <td>0.0</td>\n",
              "      <td>1.0</td>\n",
              "      <td>0.0</td>\n",
              "    </tr>\n",
              "    <tr>\n",
              "      <th>17</th>\n",
              "      <td>0.0</td>\n",
              "      <td>0.0</td>\n",
              "      <td>1.0</td>\n",
              "      <td>0.0</td>\n",
              "      <td>1.0</td>\n",
              "      <td>0.0</td>\n",
              "      <td>0.0</td>\n",
              "      <td>0.0</td>\n",
              "      <td>0.0</td>\n",
              "      <td>1.0</td>\n",
              "      <td>0.0</td>\n",
              "    </tr>\n",
              "    <tr>\n",
              "      <th>18</th>\n",
              "      <td>0.0</td>\n",
              "      <td>0.0</td>\n",
              "      <td>1.0</td>\n",
              "      <td>0.0</td>\n",
              "      <td>1.0</td>\n",
              "      <td>0.0</td>\n",
              "      <td>0.0</td>\n",
              "      <td>0.0</td>\n",
              "      <td>0.0</td>\n",
              "      <td>1.0</td>\n",
              "      <td>0.0</td>\n",
              "    </tr>\n",
              "    <tr>\n",
              "      <th>19</th>\n",
              "      <td>0.0</td>\n",
              "      <td>0.0</td>\n",
              "      <td>0.0</td>\n",
              "      <td>0.0</td>\n",
              "      <td>1.0</td>\n",
              "      <td>1.0</td>\n",
              "      <td>0.0</td>\n",
              "      <td>0.0</td>\n",
              "      <td>1.0</td>\n",
              "      <td>0.0</td>\n",
              "      <td>1.0</td>\n",
              "    </tr>\n",
              "  </tbody>\n",
              "</table>\n",
              "</div>"
            ],
            "text/plain": [
              "    BISCUIT  BOURNVITA  BREAD  COCK  COFFEE  ...  JAM  MAGGI  MILK  SUGER  TEA\n",
              "0       1.0        0.0    1.0   0.0     0.0  ...  0.0    0.0   1.0    0.0  0.0\n",
              "1       1.0        0.0    1.0   0.0     0.0  ...  0.0    0.0   1.0    0.0  0.0\n",
              "2       0.0        1.0    1.0   0.0     0.0  ...  0.0    0.0   0.0    0.0  1.0\n",
              "3       0.0        0.0    1.0   0.0     0.0  ...  1.0    1.0   1.0    0.0  0.0\n",
              "4       1.0        0.0    0.0   0.0     0.0  ...  0.0    1.0   0.0    0.0  1.0\n",
              "5       0.0        1.0    1.0   0.0     0.0  ...  0.0    0.0   0.0    0.0  1.0\n",
              "6       0.0        0.0    0.0   0.0     0.0  ...  0.0    1.0   0.0    0.0  1.0\n",
              "7       1.0        0.0    1.0   0.0     0.0  ...  0.0    1.0   0.0    0.0  1.0\n",
              "8       0.0        0.0    1.0   0.0     0.0  ...  1.0    1.0   0.0    0.0  1.0\n",
              "9       0.0        0.0    1.0   0.0     0.0  ...  0.0    0.0   1.0    0.0  0.0\n",
              "10      1.0        0.0    0.0   1.0     1.0  ...  0.0    0.0   0.0    0.0  0.0\n",
              "11      1.0        0.0    0.0   1.0     1.0  ...  0.0    0.0   0.0    0.0  0.0\n",
              "12      0.0        1.0    0.0   0.0     1.0  ...  0.0    0.0   0.0    1.0  0.0\n",
              "13      0.0        0.0    1.0   1.0     1.0  ...  0.0    0.0   0.0    0.0  0.0\n",
              "14      1.0        0.0    1.0   0.0     0.0  ...  0.0    0.0   0.0    1.0  0.0\n",
              "15      0.0        0.0    0.0   0.0     1.0  ...  0.0    0.0   0.0    1.0  0.0\n",
              "16      0.0        1.0    1.0   0.0     0.0  ...  0.0    0.0   0.0    1.0  0.0\n",
              "17      0.0        0.0    1.0   0.0     1.0  ...  0.0    0.0   0.0    1.0  0.0\n",
              "18      0.0        0.0    1.0   0.0     1.0  ...  0.0    0.0   0.0    1.0  0.0\n",
              "19      0.0        0.0    0.0   0.0     1.0  ...  0.0    0.0   1.0    0.0  1.0\n",
              "\n",
              "[20 rows x 11 columns]"
            ]
          },
          "metadata": {},
          "execution_count": 2
        }
      ]
    },
    {
      "cell_type": "markdown",
      "metadata": {
        "id": "xR0-PPp3_-xk"
      },
      "source": [
        "## Exercício 1\n",
        "\n",
        "Obtenha os itemsets frequentes considerando um suporte mínimo (relativo) de 0.1 (10%)"
      ]
    },
    {
      "cell_type": "markdown",
      "metadata": {
        "id": "kZ8YptVQApJc"
      },
      "source": [
        "## Exercício 2\n",
        "\n",
        "A partir dos itemsets frequentes obtidos no exercício anterior, gere as regras de associação considerando uma confiança mínima de 0.7 (70%)"
      ]
    },
    {
      "cell_type": "markdown",
      "metadata": {
        "id": "iJD0m_E3Ch2Z"
      },
      "source": [
        "## Exercício 3\n",
        "\n",
        "A partir das regras de associação geradas no exercício anterior, selecione as top-3 regras mais interessantes conforme a medida objetiva LIFT."
      ]
    },
    {
      "cell_type": "markdown",
      "metadata": {
        "id": "cnClVnenDibc"
      },
      "source": [
        "## Exercício 4\n",
        "\n",
        "A partir das regras de associação geradas no Exercício 2, selecione as regras que possuem somente o item BREAD como consequente.\n"
      ]
    },
    {
      "cell_type": "markdown",
      "metadata": {
        "id": "9FKhRWQNFRKc"
      },
      "source": [
        "## Exercício 5\n",
        "\n",
        "A partir das regras de associação geradas no Exercício 2, filtre todas as regras que possuem o suporte do antecedente igual ao suporte da regra. O que esse filtro significa em relação às medidas objetivas que estudamos?"
      ]
    },
    {
      "cell_type": "markdown",
      "metadata": {
        "id": "03Ep0KtRGGfy"
      },
      "source": [
        "## Exercício 6\n",
        "\n",
        "Tente gerar itemsets frequentes utilizando suporte=0.\n",
        "\n",
        "O que acontece com o algoritmo APRIORI nesse cenário hipotético?\n",
        "\n",
        "*Observação: se o método apriori não aceitar suporte=0 na sua versão do pacote mlxtend, então utilize um valor de suporte muito pequeno, como suporte=0.0000001 (nesse caso, o número de itemsets gerado será menor)*"
      ]
    },
    {
      "cell_type": "markdown",
      "metadata": {
        "id": "6QmIlPiIIR20"
      },
      "source": [
        "# Classificação com k-NN\n",
        "\n",
        "Para os exercícios 1 e 2 sobre classificação com k-NN, usaremos o conjunto de dados Wine. Algumas informações sobre o conjunto de dados são listadas a seguir."
      ]
    },
    {
      "cell_type": "code",
      "metadata": {
        "id": "1e2YLqAAymax"
      },
      "source": [
        "from sklearn.datasets import load_wine\n",
        "data = load_wine()"
      ],
      "execution_count": null,
      "outputs": []
    },
    {
      "cell_type": "markdown",
      "metadata": {
        "id": "YQTnont-yn6k"
      },
      "source": [
        "Descrição do conjunto de dados"
      ]
    },
    {
      "cell_type": "code",
      "metadata": {
        "colab": {
          "base_uri": "https://localhost:8080/"
        },
        "id": "ZyYl2_s3ypx3",
        "outputId": "39fd0034-9ff4-44c0-bb3c-e30416c24e0f"
      },
      "source": [
        "print(data['DESCR'])"
      ],
      "execution_count": null,
      "outputs": [
        {
          "output_type": "stream",
          "text": [
            ".. _wine_dataset:\n",
            "\n",
            "Wine recognition dataset\n",
            "------------------------\n",
            "\n",
            "**Data Set Characteristics:**\n",
            "\n",
            "    :Number of Instances: 178 (50 in each of three classes)\n",
            "    :Number of Attributes: 13 numeric, predictive attributes and the class\n",
            "    :Attribute Information:\n",
            " \t\t- Alcohol\n",
            " \t\t- Malic acid\n",
            " \t\t- Ash\n",
            "\t\t- Alcalinity of ash  \n",
            " \t\t- Magnesium\n",
            "\t\t- Total phenols\n",
            " \t\t- Flavanoids\n",
            " \t\t- Nonflavanoid phenols\n",
            " \t\t- Proanthocyanins\n",
            "\t\t- Color intensity\n",
            " \t\t- Hue\n",
            " \t\t- OD280/OD315 of diluted wines\n",
            " \t\t- Proline\n",
            "\n",
            "    - class:\n",
            "            - class_0\n",
            "            - class_1\n",
            "            - class_2\n",
            "\t\t\n",
            "    :Summary Statistics:\n",
            "    \n",
            "    ============================= ==== ===== ======= =====\n",
            "                                   Min   Max   Mean     SD\n",
            "    ============================= ==== ===== ======= =====\n",
            "    Alcohol:                      11.0  14.8    13.0   0.8\n",
            "    Malic Acid:                   0.74  5.80    2.34  1.12\n",
            "    Ash:                          1.36  3.23    2.36  0.27\n",
            "    Alcalinity of Ash:            10.6  30.0    19.5   3.3\n",
            "    Magnesium:                    70.0 162.0    99.7  14.3\n",
            "    Total Phenols:                0.98  3.88    2.29  0.63\n",
            "    Flavanoids:                   0.34  5.08    2.03  1.00\n",
            "    Nonflavanoid Phenols:         0.13  0.66    0.36  0.12\n",
            "    Proanthocyanins:              0.41  3.58    1.59  0.57\n",
            "    Colour Intensity:              1.3  13.0     5.1   2.3\n",
            "    Hue:                          0.48  1.71    0.96  0.23\n",
            "    OD280/OD315 of diluted wines: 1.27  4.00    2.61  0.71\n",
            "    Proline:                       278  1680     746   315\n",
            "    ============================= ==== ===== ======= =====\n",
            "\n",
            "    :Missing Attribute Values: None\n",
            "    :Class Distribution: class_0 (59), class_1 (71), class_2 (48)\n",
            "    :Creator: R.A. Fisher\n",
            "    :Donor: Michael Marshall (MARSHALL%PLU@io.arc.nasa.gov)\n",
            "    :Date: July, 1988\n",
            "\n",
            "This is a copy of UCI ML Wine recognition datasets.\n",
            "https://archive.ics.uci.edu/ml/machine-learning-databases/wine/wine.data\n",
            "\n",
            "The data is the results of a chemical analysis of wines grown in the same\n",
            "region in Italy by three different cultivators. There are thirteen different\n",
            "measurements taken for different constituents found in the three types of\n",
            "wine.\n",
            "\n",
            "Original Owners: \n",
            "\n",
            "Forina, M. et al, PARVUS - \n",
            "An Extendible Package for Data Exploration, Classification and Correlation. \n",
            "Institute of Pharmaceutical and Food Analysis and Technologies,\n",
            "Via Brigata Salerno, 16147 Genoa, Italy.\n",
            "\n",
            "Citation:\n",
            "\n",
            "Lichman, M. (2013). UCI Machine Learning Repository\n",
            "[https://archive.ics.uci.edu/ml]. Irvine, CA: University of California,\n",
            "School of Information and Computer Science. \n",
            "\n",
            ".. topic:: References\n",
            "\n",
            "  (1) S. Aeberhard, D. Coomans and O. de Vel, \n",
            "  Comparison of Classifiers in High Dimensional Settings, \n",
            "  Tech. Rep. no. 92-02, (1992), Dept. of Computer Science and Dept. of  \n",
            "  Mathematics and Statistics, James Cook University of North Queensland. \n",
            "  (Also submitted to Technometrics). \n",
            "\n",
            "  The data was used with many others for comparing various \n",
            "  classifiers. The classes are separable, though only RDA \n",
            "  has achieved 100% correct classification. \n",
            "  (RDA : 100%, QDA 99.4%, LDA 98.9%, 1NN 96.1% (z-transformed data)) \n",
            "  (All results using the leave-one-out technique) \n",
            "\n",
            "  (2) S. Aeberhard, D. Coomans and O. de Vel, \n",
            "  \"THE CLASSIFICATION PERFORMANCE OF RDA\" \n",
            "  Tech. Rep. no. 92-01, (1992), Dept. of Computer Science and Dept. of \n",
            "  Mathematics and Statistics, James Cook University of North Queensland. \n",
            "  (Also submitted to Journal of Chemometrics).\n",
            "\n"
          ],
          "name": "stdout"
        }
      ]
    },
    {
      "cell_type": "markdown",
      "metadata": {
        "id": "aBzab2reyzr2"
      },
      "source": [
        "Separando os conjuntos de treinamento (70%) e teste (30%) para execução dos exercícios."
      ]
    },
    {
      "cell_type": "code",
      "metadata": {
        "id": "x_Ky-njry9Op"
      },
      "source": [
        "X = data['data']\n",
        "y = data.target\n",
        "X_train,X_test,y_train,y_test = train_test_split(X,y, test_size=0.3, random_state=42)"
      ],
      "execution_count": null,
      "outputs": []
    },
    {
      "cell_type": "markdown",
      "metadata": {
        "id": "_gBrD9YazEU5"
      },
      "source": [
        "## Exercício 1\n",
        "\n",
        "Utilize o kNN com k=3, distância euclidiana e voto majoritário nos dados do conjunto Wine. Não aplique nenhum tipo de pré-processamento nos dados. Use o método classification_report para obter algumas métricas de desempenho no conjunto de teste."
      ]
    },
    {
      "cell_type": "markdown",
      "metadata": {
        "id": "ez45ITFq0LPP"
      },
      "source": [
        "## Exercício 2\n",
        "\n",
        "Repita o Exercício 1, mas agora aplicando o método MinMaxScaler para que todos os atributos tenham valores no intervalo [0,1]. Utilize os mesmos parâmetros do classificador kNN anterior. Apresente pelo menos um motivo para a diferença obtida nos resultados de classificação."
      ]
    },
    {
      "cell_type": "markdown",
      "metadata": {
        "id": "d2kLJj4U3FVI"
      },
      "source": [
        "## Exercício 3\n",
        "\n",
        "Considere o código abaixo que realiza classificação kNN em um conjunto (sintético) de dados com 100 mil objetos e 2 atributos. Realize uma segunda classificação kNN, mas usando uma kd-tree para particionar o espaço e acelerar os cálculos das distâncias. Compare o tempo de execução de cada classificação."
      ]
    },
    {
      "cell_type": "markdown",
      "metadata": {
        "id": "MP_pQM1L5CA7"
      },
      "source": [
        "## Exercício 4\n",
        "\n",
        "Considere o código abaixo que realiza classificação kNN em um conjunto (sintético) de dados com 50 mil objetos e 30 atributos. Repita a operação anterior visando uma classificação kNN com uma kd-tree para particionar o espaço. Compare o tempo de execução de cada classificação. Por qual motivo o desempenho da kd-tree foi menor nesse caso?"
      ]
    }
  ]
}
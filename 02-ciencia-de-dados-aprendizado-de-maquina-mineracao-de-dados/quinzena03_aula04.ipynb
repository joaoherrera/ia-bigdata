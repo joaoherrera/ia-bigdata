{
  "nbformat": 4,
  "nbformat_minor": 0,
  "metadata": {
    "colab": {
      "name": "MBA-MD-2022-PARTE2-MEDIDAS-PROXIMIDADE.ipynb",
      "provenance": [],
      "collapsed_sections": []
    },
    "kernelspec": {
      "name": "python3",
      "display_name": "Python 3"
    },
    "language_info": {
      "name": "python"
    }
  },
  "cells": [
    {
      "cell_type": "markdown",
      "metadata": {
        "id": "0nA7ypQ5IB2e"
      },
      "source": [
        "# <font color=\"red\"> MBA em IA e Big Data</font>\n",
        "## <span style=\"color:red\">Curso 2 - Ciência de Dados, Aprendizado de Máquina e Mineração de Dados</span>\n",
        "\n",
        "### <span style=\"color:darkred\">Mineração de Dados</span>\n",
        "\n",
        "#### Material de Apoio - Prática sobre Medidas de Proximidade (ver Vídeo)\n",
        "\n",
        "*Ricardo M. Marcacini*<br>\n",
        "*ICMC/USP São Carlos*"
      ]
    },
    {
      "cell_type": "markdown",
      "metadata": {
        "id": "2Zcjy7PQv4of"
      },
      "source": [
        "# Importando bibliotecas"
      ]
    },
    {
      "cell_type": "code",
      "metadata": {
        "id": "xFQ2rj16vvvu"
      },
      "source": [
        "import numpy as np\n",
        "import pandas as pd\n",
        "from sklearn.neighbors import NearestNeighbors\n",
        "from sklearn import preprocessing"
      ],
      "execution_count": null,
      "outputs": []
    },
    {
      "cell_type": "markdown",
      "metadata": {
        "id": "_UeQey3JtRA9"
      },
      "source": [
        "# Medidas de Proximidade"
      ]
    },
    {
      "cell_type": "markdown",
      "metadata": {
        "id": "6fcjlHAstYbY"
      },
      "source": [
        "Para realizarmos experimentos com medidas de proximidade, usaremos uma amostra de uma base de dados sobre campanhas de marketing direto de uma instituição bancária portuguesa. As campanhas de marketing foram baseadas em ligações telefônicas. Mais informações sobre o conjunto de dados estão disponíveis em Moro et al. (2014).\n",
        "\n",
        "[1] [Moro et al., 2014] S. Moro, P. Cortez and P. Rita. A Data-Driven Approach to Predict the Success of Bank Telemarketing. Decision Support Systems, Elsevier, 62:22-31, June 2014\n",
        "\n"
      ]
    },
    {
      "cell_type": "markdown",
      "metadata": {
        "id": "aIa8elq5uBtn"
      },
      "source": [
        "# Leitura dos dados *bank_marketing.csv*\n",
        "\n",
        "Usamos o pandas para leitura do arquivo CSV.\n",
        "Em seguida, as 30 primeiras linhas são exibidas.\n",
        "Os dados já estão pré-processados.\n",
        "\n",
        "Cada linha representa um cliente do banco. Cada coluna representa um atributo do cliente.\n",
        "\n",
        "Atributos:\n",
        "\n",
        "* **age**: Idade do cliente\n",
        "* **balance**: saldo em conta do cliente\n",
        "* **duration**: duração (em segundos) do último contato do banco com o cliente"
      ]
    },
    {
      "cell_type": "code",
      "metadata": {
        "colab": {
          "base_uri": "https://localhost:8080/",
          "height": 417
        },
        "id": "iZ1UN4YMRMkn",
        "outputId": "58b92ca4-8cbd-434b-882a-dd4d38513291"
      },
      "source": [
        "dados = pd.read_csv('bank_marketing.csv')\n",
        "dados"
      ],
      "execution_count": null,
      "outputs": [
        {
          "output_type": "execute_result",
          "data": {
            "text/html": [
              "<div>\n",
              "<style scoped>\n",
              "    .dataframe tbody tr th:only-of-type {\n",
              "        vertical-align: middle;\n",
              "    }\n",
              "\n",
              "    .dataframe tbody tr th {\n",
              "        vertical-align: top;\n",
              "    }\n",
              "\n",
              "    .dataframe thead th {\n",
              "        text-align: right;\n",
              "    }\n",
              "</style>\n",
              "<table border=\"1\" class=\"dataframe\">\n",
              "  <thead>\n",
              "    <tr style=\"text-align: right;\">\n",
              "      <th></th>\n",
              "      <th>age</th>\n",
              "      <th>balance</th>\n",
              "      <th>duration</th>\n",
              "    </tr>\n",
              "  </thead>\n",
              "  <tbody>\n",
              "    <tr>\n",
              "      <th>0</th>\n",
              "      <td>30</td>\n",
              "      <td>1787</td>\n",
              "      <td>79</td>\n",
              "    </tr>\n",
              "    <tr>\n",
              "      <th>1</th>\n",
              "      <td>33</td>\n",
              "      <td>4789</td>\n",
              "      <td>220</td>\n",
              "    </tr>\n",
              "    <tr>\n",
              "      <th>2</th>\n",
              "      <td>35</td>\n",
              "      <td>1350</td>\n",
              "      <td>185</td>\n",
              "    </tr>\n",
              "    <tr>\n",
              "      <th>3</th>\n",
              "      <td>30</td>\n",
              "      <td>1476</td>\n",
              "      <td>199</td>\n",
              "    </tr>\n",
              "    <tr>\n",
              "      <th>4</th>\n",
              "      <td>59</td>\n",
              "      <td>0</td>\n",
              "      <td>226</td>\n",
              "    </tr>\n",
              "    <tr>\n",
              "      <th>...</th>\n",
              "      <td>...</td>\n",
              "      <td>...</td>\n",
              "      <td>...</td>\n",
              "    </tr>\n",
              "    <tr>\n",
              "      <th>4516</th>\n",
              "      <td>33</td>\n",
              "      <td>-333</td>\n",
              "      <td>329</td>\n",
              "    </tr>\n",
              "    <tr>\n",
              "      <th>4517</th>\n",
              "      <td>57</td>\n",
              "      <td>-3313</td>\n",
              "      <td>153</td>\n",
              "    </tr>\n",
              "    <tr>\n",
              "      <th>4518</th>\n",
              "      <td>57</td>\n",
              "      <td>295</td>\n",
              "      <td>151</td>\n",
              "    </tr>\n",
              "    <tr>\n",
              "      <th>4519</th>\n",
              "      <td>28</td>\n",
              "      <td>1137</td>\n",
              "      <td>129</td>\n",
              "    </tr>\n",
              "    <tr>\n",
              "      <th>4520</th>\n",
              "      <td>44</td>\n",
              "      <td>1136</td>\n",
              "      <td>345</td>\n",
              "    </tr>\n",
              "  </tbody>\n",
              "</table>\n",
              "<p>4521 rows × 3 columns</p>\n",
              "</div>"
            ],
            "text/plain": [
              "      age  balance  duration\n",
              "0      30     1787        79\n",
              "1      33     4789       220\n",
              "2      35     1350       185\n",
              "3      30     1476       199\n",
              "4      59        0       226\n",
              "...   ...      ...       ...\n",
              "4516   33     -333       329\n",
              "4517   57    -3313       153\n",
              "4518   57      295       151\n",
              "4519   28     1137       129\n",
              "4520   44     1136       345\n",
              "\n",
              "[4521 rows x 3 columns]"
            ]
          },
          "metadata": {
            "tags": []
          },
          "execution_count": 2
        }
      ]
    },
    {
      "cell_type": "markdown",
      "metadata": {
        "id": "3oa5Au3_u3Mf"
      },
      "source": [
        "# Uma breve análise dos atributos"
      ]
    },
    {
      "cell_type": "code",
      "metadata": {
        "colab": {
          "base_uri": "https://localhost:8080/",
          "height": 282
        },
        "id": "HpmBlV_Ru-qm",
        "outputId": "27a95dee-82a4-46de-a2f5-6486b61c1a5f"
      },
      "source": [
        "dados.age.hist()"
      ],
      "execution_count": null,
      "outputs": [
        {
          "output_type": "execute_result",
          "data": {
            "text/plain": [
              "<matplotlib.axes._subplots.AxesSubplot at 0x7f9c42029710>"
            ]
          },
          "metadata": {
            "tags": []
          },
          "execution_count": 3
        },
        {
          "output_type": "display_data",
          "data": {
            "image/png": "[encoded data removed]",
            "text/plain": [
              "<Figure size 432x288 with 1 Axes>"
            ]
          },
          "metadata": {
            "tags": [],
            "needs_background": "light"
          }
        }
      ]
    },
    {
      "cell_type": "code",
      "metadata": {
        "colab": {
          "base_uri": "https://localhost:8080/",
          "height": 282
        },
        "id": "uw07IwKMvCGt",
        "outputId": "38430157-e855-4bb9-8eea-5505c4f2a643"
      },
      "source": [
        "dados.balance.hist()"
      ],
      "execution_count": null,
      "outputs": [
        {
          "output_type": "execute_result",
          "data": {
            "text/plain": [
              "<matplotlib.axes._subplots.AxesSubplot at 0x7f9c41f89e90>"
            ]
          },
          "metadata": {
            "tags": []
          },
          "execution_count": 4
        },
        {
          "output_type": "display_data",
          "data": {
            "image/png": "[encoded data removed]",
            "text/plain": [
              "<Figure size 432x288 with 1 Axes>"
            ]
          },
          "metadata": {
            "tags": [],
            "needs_background": "light"
          }
        }
      ]
    },
    {
      "cell_type": "code",
      "metadata": {
        "colab": {
          "base_uri": "https://localhost:8080/",
          "height": 282
        },
        "id": "gTUDxh2lvNJn",
        "outputId": "60c73a94-ab55-48c6-c44c-4fb663a63386"
      },
      "source": [
        "dados.duration.hist()"
      ],
      "execution_count": null,
      "outputs": [
        {
          "output_type": "execute_result",
          "data": {
            "text/plain": [
              "<matplotlib.axes._subplots.AxesSubplot at 0x7f9c41a0dd10>"
            ]
          },
          "metadata": {
            "tags": []
          },
          "execution_count": 5
        },
        {
          "output_type": "display_data",
          "data": {
            "image/png": "[encoded data removed]",
            "text/plain": [
              "<Figure size 432x288 with 1 Axes>"
            ]
          },
          "metadata": {
            "tags": [],
            "needs_background": "light"
          }
        }
      ]
    },
    {
      "cell_type": "markdown",
      "metadata": {
        "id": "xJeFWN0pv8V2"
      },
      "source": [
        "# Testando medidas de proximidade\n",
        "Medidas: Euclidiana, Manhattan, Suprema (chebyshev)"
      ]
    },
    {
      "cell_type": "markdown",
      "metadata": {
        "id": "nydnXaLcwPCf"
      },
      "source": [
        "Usaremos o método NearestNeighbors do Scikit-Learn para testar nossas medidas de proximidade.\n",
        "\n",
        "**metric** = define a medida de proximidade desejada\n",
        "\n",
        "**n_neighbors** = determina quantos vizinhos mais próximos iremos localizar considerando a medida selecionada."
      ]
    },
    {
      "cell_type": "code",
      "metadata": {
        "id": "1xuetvEdJvov"
      },
      "source": [
        "nbrs = NearestNeighbors(metric='euclidean',n_neighbors=7).fit(dados)"
      ],
      "execution_count": null,
      "outputs": []
    },
    {
      "cell_type": "markdown",
      "metadata": {
        "id": "HRRe_cNgxwvi"
      },
      "source": [
        "Vamos localizar 7 objetos mais próximos de acordo com atributos definidos manualmente."
      ]
    },
    {
      "cell_type": "code",
      "metadata": {
        "id": "qn4gLBLyK-k2"
      },
      "source": [
        "age = 30\n",
        "balance = 200\n",
        "duration = 30\n",
        "\n",
        "distances, indices = nbrs.kneighbors([[age,balance,duration]])"
      ],
      "execution_count": null,
      "outputs": []
    },
    {
      "cell_type": "markdown",
      "metadata": {
        "id": "-QqbYg5YyLNQ"
      },
      "source": [
        "A variável *indices* armazena os IDs (pandas) dos objetos mais próximos encontrados.\n",
        "\n",
        "A variável *distances* armazena os valores das distâncias."
      ]
    },
    {
      "cell_type": "code",
      "metadata": {
        "colab": {
          "base_uri": "https://localhost:8080/"
        },
        "id": "YwxBrYUJLfjm",
        "outputId": "a4ac1821-8d6e-4c82-fbdc-a0514120d855"
      },
      "source": [
        "indices[0]"
      ],
      "execution_count": null,
      "outputs": [
        {
          "output_type": "execute_result",
          "data": {
            "text/plain": [
              "array([ 355, 3821, 3570, 3535, 3628, 2083, 2352])"
            ]
          },
          "metadata": {
            "tags": []
          },
          "execution_count": 8
        }
      ]
    },
    {
      "cell_type": "code",
      "metadata": {
        "colab": {
          "base_uri": "https://localhost:8080/"
        },
        "id": "0ITo6nokyZRv",
        "outputId": "c62a39ef-6531-4e1e-dff7-57b0b079fe11"
      },
      "source": [
        "distances"
      ],
      "execution_count": null,
      "outputs": [
        {
          "output_type": "execute_result",
          "data": {
            "text/plain": [
              "array([[ 9.        , 13.49073756, 14.07124728, 18.05547009, 19.72308292,\n",
              "        20.51828453, 23.62202362]])"
            ]
          },
          "metadata": {
            "tags": []
          },
          "execution_count": 9
        }
      ]
    },
    {
      "cell_type": "markdown",
      "metadata": {
        "id": "MupQu_ODyd5g"
      },
      "source": [
        "Vamos usar essas variáveis para filtrar os objetos mais próximos em um dataframe do pandas."
      ]
    },
    {
      "cell_type": "code",
      "metadata": {
        "colab": {
          "base_uri": "https://localhost:8080/",
          "height": 265
        },
        "id": "VnrTkY5bK9jO",
        "outputId": "6151fbfe-b88b-452e-df59-29bdddf56c0f"
      },
      "source": [
        "resultado = dados.iloc[indices[0]]\n",
        "resultado"
      ],
      "execution_count": null,
      "outputs": [
        {
          "output_type": "execute_result",
          "data": {
            "text/html": [
              "<div>\n",
              "<style scoped>\n",
              "    .dataframe tbody tr th:only-of-type {\n",
              "        vertical-align: middle;\n",
              "    }\n",
              "\n",
              "    .dataframe tbody tr th {\n",
              "        vertical-align: top;\n",
              "    }\n",
              "\n",
              "    .dataframe thead th {\n",
              "        text-align: right;\n",
              "    }\n",
              "</style>\n",
              "<table border=\"1\" class=\"dataframe\">\n",
              "  <thead>\n",
              "    <tr style=\"text-align: right;\">\n",
              "      <th></th>\n",
              "      <th>age</th>\n",
              "      <th>balance</th>\n",
              "      <th>duration</th>\n",
              "    </tr>\n",
              "  </thead>\n",
              "  <tbody>\n",
              "    <tr>\n",
              "      <th>355</th>\n",
              "      <td>30</td>\n",
              "      <td>209</td>\n",
              "      <td>30</td>\n",
              "    </tr>\n",
              "    <tr>\n",
              "      <th>3821</th>\n",
              "      <td>31</td>\n",
              "      <td>191</td>\n",
              "      <td>40</td>\n",
              "    </tr>\n",
              "    <tr>\n",
              "      <th>3570</th>\n",
              "      <td>39</td>\n",
              "      <td>209</td>\n",
              "      <td>36</td>\n",
              "    </tr>\n",
              "    <tr>\n",
              "      <th>3535</th>\n",
              "      <td>48</td>\n",
              "      <td>199</td>\n",
              "      <td>29</td>\n",
              "    </tr>\n",
              "    <tr>\n",
              "      <th>3628</th>\n",
              "      <td>29</td>\n",
              "      <td>182</td>\n",
              "      <td>38</td>\n",
              "    </tr>\n",
              "    <tr>\n",
              "      <th>2083</th>\n",
              "      <td>42</td>\n",
              "      <td>214</td>\n",
              "      <td>21</td>\n",
              "    </tr>\n",
              "    <tr>\n",
              "      <th>2352</th>\n",
              "      <td>39</td>\n",
              "      <td>179</td>\n",
              "      <td>36</td>\n",
              "    </tr>\n",
              "  </tbody>\n",
              "</table>\n",
              "</div>"
            ],
            "text/plain": [
              "      age  balance  duration\n",
              "355    30      209        30\n",
              "3821   31      191        40\n",
              "3570   39      209        36\n",
              "3535   48      199        29\n",
              "3628   29      182        38\n",
              "2083   42      214        21\n",
              "2352   39      179        36"
            ]
          },
          "metadata": {
            "tags": []
          },
          "execution_count": 10
        }
      ]
    },
    {
      "cell_type": "markdown",
      "metadata": {
        "id": "e4Dy4UNcyo7X"
      },
      "source": [
        "Vamos adicionar os valores de distância nos nossos resultados."
      ]
    },
    {
      "cell_type": "code",
      "metadata": {
        "id": "VfpVXuZGLz6G"
      },
      "source": [
        "resultado['distance'] = distances[0]"
      ],
      "execution_count": null,
      "outputs": []
    },
    {
      "cell_type": "code",
      "metadata": {
        "colab": {
          "base_uri": "https://localhost:8080/",
          "height": 265
        },
        "id": "DOmaIWVLLvCe",
        "outputId": "d6a4eec2-bea8-46e5-d2ea-fdcbad047cd7"
      },
      "source": [
        "resultado"
      ],
      "execution_count": null,
      "outputs": [
        {
          "output_type": "execute_result",
          "data": {
            "text/html": [
              "<div>\n",
              "<style scoped>\n",
              "    .dataframe tbody tr th:only-of-type {\n",
              "        vertical-align: middle;\n",
              "    }\n",
              "\n",
              "    .dataframe tbody tr th {\n",
              "        vertical-align: top;\n",
              "    }\n",
              "\n",
              "    .dataframe thead th {\n",
              "        text-align: right;\n",
              "    }\n",
              "</style>\n",
              "<table border=\"1\" class=\"dataframe\">\n",
              "  <thead>\n",
              "    <tr style=\"text-align: right;\">\n",
              "      <th></th>\n",
              "      <th>age</th>\n",
              "      <th>balance</th>\n",
              "      <th>duration</th>\n",
              "      <th>distance</th>\n",
              "    </tr>\n",
              "  </thead>\n",
              "  <tbody>\n",
              "    <tr>\n",
              "      <th>355</th>\n",
              "      <td>30</td>\n",
              "      <td>209</td>\n",
              "      <td>30</td>\n",
              "      <td>9.000000</td>\n",
              "    </tr>\n",
              "    <tr>\n",
              "      <th>3821</th>\n",
              "      <td>31</td>\n",
              "      <td>191</td>\n",
              "      <td>40</td>\n",
              "      <td>13.490738</td>\n",
              "    </tr>\n",
              "    <tr>\n",
              "      <th>3570</th>\n",
              "      <td>39</td>\n",
              "      <td>209</td>\n",
              "      <td>36</td>\n",
              "      <td>14.071247</td>\n",
              "    </tr>\n",
              "    <tr>\n",
              "      <th>3535</th>\n",
              "      <td>48</td>\n",
              "      <td>199</td>\n",
              "      <td>29</td>\n",
              "      <td>18.055470</td>\n",
              "    </tr>\n",
              "    <tr>\n",
              "      <th>3628</th>\n",
              "      <td>29</td>\n",
              "      <td>182</td>\n",
              "      <td>38</td>\n",
              "      <td>19.723083</td>\n",
              "    </tr>\n",
              "    <tr>\n",
              "      <th>2083</th>\n",
              "      <td>42</td>\n",
              "      <td>214</td>\n",
              "      <td>21</td>\n",
              "      <td>20.518285</td>\n",
              "    </tr>\n",
              "    <tr>\n",
              "      <th>2352</th>\n",
              "      <td>39</td>\n",
              "      <td>179</td>\n",
              "      <td>36</td>\n",
              "      <td>23.622024</td>\n",
              "    </tr>\n",
              "  </tbody>\n",
              "</table>\n",
              "</div>"
            ],
            "text/plain": [
              "      age  balance  duration   distance\n",
              "355    30      209        30   9.000000\n",
              "3821   31      191        40  13.490738\n",
              "3570   39      209        36  14.071247\n",
              "3535   48      199        29  18.055470\n",
              "3628   29      182        38  19.723083\n",
              "2083   42      214        21  20.518285\n",
              "2352   39      179        36  23.622024"
            ]
          },
          "metadata": {
            "tags": []
          },
          "execution_count": 12
        }
      ]
    },
    {
      "cell_type": "markdown",
      "metadata": {
        "id": "piUNgOnIyywP"
      },
      "source": [
        "Agora, vamos repetir esse procedimento para outras medidas de proximidade e comparar os resultados."
      ]
    },
    {
      "cell_type": "code",
      "metadata": {
        "colab": {
          "base_uri": "https://localhost:8080/",
          "height": 366
        },
        "id": "YbL1Vyz8Nr83",
        "outputId": "41971168-64da-4b72-a814-06f907024826"
      },
      "source": [
        "nbrs = NearestNeighbors(metric='manhattan',n_neighbors=7).fit(dados)\n",
        "\n",
        "age = 30\n",
        "balance = 200\n",
        "duration = 30\n",
        "\n",
        "distances, indices = nbrs.kneighbors([[age,balance,duration]])\n",
        "resultado = dados.iloc[indices[0]]\n",
        "resultado['distance'] = distances[0]\n",
        "\n",
        "resultado"
      ],
      "execution_count": null,
      "outputs": [
        {
          "output_type": "stream",
          "text": [
            "/usr/local/lib/python3.7/dist-packages/ipykernel_launcher.py:9: SettingWithCopyWarning: \n",
            "A value is trying to be set on a copy of a slice from a DataFrame.\n",
            "Try using .loc[row_indexer,col_indexer] = value instead\n",
            "\n",
            "See the caveats in the documentation: https://pandas.pydata.org/pandas-docs/stable/user_guide/indexing.html#returning-a-view-versus-a-copy\n",
            "  if __name__ == '__main__':\n"
          ],
          "name": "stderr"
        },
        {
          "output_type": "execute_result",
          "data": {
            "text/html": [
              "<div>\n",
              "<style scoped>\n",
              "    .dataframe tbody tr th:only-of-type {\n",
              "        vertical-align: middle;\n",
              "    }\n",
              "\n",
              "    .dataframe tbody tr th {\n",
              "        vertical-align: top;\n",
              "    }\n",
              "\n",
              "    .dataframe thead th {\n",
              "        text-align: right;\n",
              "    }\n",
              "</style>\n",
              "<table border=\"1\" class=\"dataframe\">\n",
              "  <thead>\n",
              "    <tr style=\"text-align: right;\">\n",
              "      <th></th>\n",
              "      <th>age</th>\n",
              "      <th>balance</th>\n",
              "      <th>duration</th>\n",
              "      <th>distance</th>\n",
              "    </tr>\n",
              "  </thead>\n",
              "  <tbody>\n",
              "    <tr>\n",
              "      <th>355</th>\n",
              "      <td>30</td>\n",
              "      <td>209</td>\n",
              "      <td>30</td>\n",
              "      <td>9.0</td>\n",
              "    </tr>\n",
              "    <tr>\n",
              "      <th>3821</th>\n",
              "      <td>31</td>\n",
              "      <td>191</td>\n",
              "      <td>40</td>\n",
              "      <td>20.0</td>\n",
              "    </tr>\n",
              "    <tr>\n",
              "      <th>3535</th>\n",
              "      <td>48</td>\n",
              "      <td>199</td>\n",
              "      <td>29</td>\n",
              "      <td>20.0</td>\n",
              "    </tr>\n",
              "    <tr>\n",
              "      <th>3570</th>\n",
              "      <td>39</td>\n",
              "      <td>209</td>\n",
              "      <td>36</td>\n",
              "      <td>24.0</td>\n",
              "    </tr>\n",
              "    <tr>\n",
              "      <th>3628</th>\n",
              "      <td>29</td>\n",
              "      <td>182</td>\n",
              "      <td>38</td>\n",
              "      <td>27.0</td>\n",
              "    </tr>\n",
              "    <tr>\n",
              "      <th>4147</th>\n",
              "      <td>30</td>\n",
              "      <td>227</td>\n",
              "      <td>23</td>\n",
              "      <td>34.0</td>\n",
              "    </tr>\n",
              "    <tr>\n",
              "      <th>2267</th>\n",
              "      <td>30</td>\n",
              "      <td>185</td>\n",
              "      <td>11</td>\n",
              "      <td>34.0</td>\n",
              "    </tr>\n",
              "  </tbody>\n",
              "</table>\n",
              "</div>"
            ],
            "text/plain": [
              "      age  balance  duration  distance\n",
              "355    30      209        30       9.0\n",
              "3821   31      191        40      20.0\n",
              "3535   48      199        29      20.0\n",
              "3570   39      209        36      24.0\n",
              "3628   29      182        38      27.0\n",
              "4147   30      227        23      34.0\n",
              "2267   30      185        11      34.0"
            ]
          },
          "metadata": {
            "tags": []
          },
          "execution_count": 13
        }
      ]
    },
    {
      "cell_type": "code",
      "metadata": {
        "colab": {
          "base_uri": "https://localhost:8080/",
          "height": 366
        },
        "id": "CBMUf_NIzaV4",
        "outputId": "ecf701be-5d18-4ff0-ace7-7ea4b66446dc"
      },
      "source": [
        "nbrs = NearestNeighbors(metric='chebyshev',n_neighbors=7).fit(dados)\n",
        "\n",
        "age = 30\n",
        "balance = 200\n",
        "duration = 30\n",
        "\n",
        "distances, indices = nbrs.kneighbors([[age,balance,duration]])\n",
        "resultado = dados.iloc[indices[0]]\n",
        "resultado['distance'] = distances[0]\n",
        "\n",
        "resultado"
      ],
      "execution_count": null,
      "outputs": [
        {
          "output_type": "stream",
          "text": [
            "/usr/local/lib/python3.7/dist-packages/ipykernel_launcher.py:9: SettingWithCopyWarning: \n",
            "A value is trying to be set on a copy of a slice from a DataFrame.\n",
            "Try using .loc[row_indexer,col_indexer] = value instead\n",
            "\n",
            "See the caveats in the documentation: https://pandas.pydata.org/pandas-docs/stable/user_guide/indexing.html#returning-a-view-versus-a-copy\n",
            "  if __name__ == '__main__':\n"
          ],
          "name": "stderr"
        },
        {
          "output_type": "execute_result",
          "data": {
            "text/html": [
              "<div>\n",
              "<style scoped>\n",
              "    .dataframe tbody tr th:only-of-type {\n",
              "        vertical-align: middle;\n",
              "    }\n",
              "\n",
              "    .dataframe tbody tr th {\n",
              "        vertical-align: top;\n",
              "    }\n",
              "\n",
              "    .dataframe thead th {\n",
              "        text-align: right;\n",
              "    }\n",
              "</style>\n",
              "<table border=\"1\" class=\"dataframe\">\n",
              "  <thead>\n",
              "    <tr style=\"text-align: right;\">\n",
              "      <th></th>\n",
              "      <th>age</th>\n",
              "      <th>balance</th>\n",
              "      <th>duration</th>\n",
              "      <th>distance</th>\n",
              "    </tr>\n",
              "  </thead>\n",
              "  <tbody>\n",
              "    <tr>\n",
              "      <th>355</th>\n",
              "      <td>30</td>\n",
              "      <td>209</td>\n",
              "      <td>30</td>\n",
              "      <td>9.0</td>\n",
              "    </tr>\n",
              "    <tr>\n",
              "      <th>3570</th>\n",
              "      <td>39</td>\n",
              "      <td>209</td>\n",
              "      <td>36</td>\n",
              "      <td>9.0</td>\n",
              "    </tr>\n",
              "    <tr>\n",
              "      <th>3821</th>\n",
              "      <td>31</td>\n",
              "      <td>191</td>\n",
              "      <td>40</td>\n",
              "      <td>10.0</td>\n",
              "    </tr>\n",
              "    <tr>\n",
              "      <th>2083</th>\n",
              "      <td>42</td>\n",
              "      <td>214</td>\n",
              "      <td>21</td>\n",
              "      <td>14.0</td>\n",
              "    </tr>\n",
              "    <tr>\n",
              "      <th>3535</th>\n",
              "      <td>48</td>\n",
              "      <td>199</td>\n",
              "      <td>29</td>\n",
              "      <td>18.0</td>\n",
              "    </tr>\n",
              "    <tr>\n",
              "      <th>3628</th>\n",
              "      <td>29</td>\n",
              "      <td>182</td>\n",
              "      <td>38</td>\n",
              "      <td>18.0</td>\n",
              "    </tr>\n",
              "    <tr>\n",
              "      <th>2294</th>\n",
              "      <td>48</td>\n",
              "      <td>197</td>\n",
              "      <td>47</td>\n",
              "      <td>18.0</td>\n",
              "    </tr>\n",
              "  </tbody>\n",
              "</table>\n",
              "</div>"
            ],
            "text/plain": [
              "      age  balance  duration  distance\n",
              "355    30      209        30       9.0\n",
              "3570   39      209        36       9.0\n",
              "3821   31      191        40      10.0\n",
              "2083   42      214        21      14.0\n",
              "3535   48      199        29      18.0\n",
              "3628   29      182        38      18.0\n",
              "2294   48      197        47      18.0"
            ]
          },
          "metadata": {
            "tags": []
          },
          "execution_count": 14
        }
      ]
    },
    {
      "cell_type": "code",
      "metadata": {
        "colab": {
          "base_uri": "https://localhost:8080/",
          "height": 366
        },
        "id": "lj3-8FUJ2Usn",
        "outputId": "4253be00-60bf-4fda-ec45-0a739352a708"
      },
      "source": [
        "nbrs = NearestNeighbors(metric='minkowski',n_neighbors=7, p=2).fit(dados)\n",
        "\n",
        "age = 30\n",
        "balance = 200\n",
        "duration = 30\n",
        "\n",
        "distances, indices = nbrs.kneighbors([[age,balance,duration]])\n",
        "resultado = dados.iloc[indices[0]]\n",
        "resultado['distance'] = distances[0]\n",
        "\n",
        "resultado"
      ],
      "execution_count": null,
      "outputs": [
        {
          "output_type": "stream",
          "text": [
            "/usr/local/lib/python3.7/dist-packages/ipykernel_launcher.py:9: SettingWithCopyWarning: \n",
            "A value is trying to be set on a copy of a slice from a DataFrame.\n",
            "Try using .loc[row_indexer,col_indexer] = value instead\n",
            "\n",
            "See the caveats in the documentation: https://pandas.pydata.org/pandas-docs/stable/user_guide/indexing.html#returning-a-view-versus-a-copy\n",
            "  if __name__ == '__main__':\n"
          ],
          "name": "stderr"
        },
        {
          "output_type": "execute_result",
          "data": {
            "text/html": [
              "<div>\n",
              "<style scoped>\n",
              "    .dataframe tbody tr th:only-of-type {\n",
              "        vertical-align: middle;\n",
              "    }\n",
              "\n",
              "    .dataframe tbody tr th {\n",
              "        vertical-align: top;\n",
              "    }\n",
              "\n",
              "    .dataframe thead th {\n",
              "        text-align: right;\n",
              "    }\n",
              "</style>\n",
              "<table border=\"1\" class=\"dataframe\">\n",
              "  <thead>\n",
              "    <tr style=\"text-align: right;\">\n",
              "      <th></th>\n",
              "      <th>age</th>\n",
              "      <th>balance</th>\n",
              "      <th>duration</th>\n",
              "      <th>distance</th>\n",
              "    </tr>\n",
              "  </thead>\n",
              "  <tbody>\n",
              "    <tr>\n",
              "      <th>355</th>\n",
              "      <td>30</td>\n",
              "      <td>209</td>\n",
              "      <td>30</td>\n",
              "      <td>9.000000</td>\n",
              "    </tr>\n",
              "    <tr>\n",
              "      <th>3821</th>\n",
              "      <td>31</td>\n",
              "      <td>191</td>\n",
              "      <td>40</td>\n",
              "      <td>13.490738</td>\n",
              "    </tr>\n",
              "    <tr>\n",
              "      <th>3570</th>\n",
              "      <td>39</td>\n",
              "      <td>209</td>\n",
              "      <td>36</td>\n",
              "      <td>14.071247</td>\n",
              "    </tr>\n",
              "    <tr>\n",
              "      <th>3535</th>\n",
              "      <td>48</td>\n",
              "      <td>199</td>\n",
              "      <td>29</td>\n",
              "      <td>18.055470</td>\n",
              "    </tr>\n",
              "    <tr>\n",
              "      <th>3628</th>\n",
              "      <td>29</td>\n",
              "      <td>182</td>\n",
              "      <td>38</td>\n",
              "      <td>19.723083</td>\n",
              "    </tr>\n",
              "    <tr>\n",
              "      <th>2083</th>\n",
              "      <td>42</td>\n",
              "      <td>214</td>\n",
              "      <td>21</td>\n",
              "      <td>20.518285</td>\n",
              "    </tr>\n",
              "    <tr>\n",
              "      <th>2352</th>\n",
              "      <td>39</td>\n",
              "      <td>179</td>\n",
              "      <td>36</td>\n",
              "      <td>23.622024</td>\n",
              "    </tr>\n",
              "  </tbody>\n",
              "</table>\n",
              "</div>"
            ],
            "text/plain": [
              "      age  balance  duration   distance\n",
              "355    30      209        30   9.000000\n",
              "3821   31      191        40  13.490738\n",
              "3570   39      209        36  14.071247\n",
              "3535   48      199        29  18.055470\n",
              "3628   29      182        38  19.723083\n",
              "2083   42      214        21  20.518285\n",
              "2352   39      179        36  23.622024"
            ]
          },
          "metadata": {
            "tags": []
          },
          "execution_count": 15
        }
      ]
    },
    {
      "cell_type": "markdown",
      "metadata": {
        "id": "ENPr9WJAzvUb"
      },
      "source": [
        "# Testando o efeito da normalização dos dados na medida de proximidade"
      ]
    },
    {
      "cell_type": "code",
      "metadata": {
        "colab": {
          "base_uri": "https://localhost:8080/"
        },
        "id": "nQOp2tdjNacW",
        "outputId": "01a8bff2-afd9-4011-82b2-54b35c8c1297"
      },
      "source": [
        "dados.var()"
      ],
      "execution_count": null,
      "outputs": [
        {
          "output_type": "execute_result",
          "data": {
            "text/plain": [
              "age         1.118562e+02\n",
              "balance     9.057922e+06\n",
              "duration    6.752547e+04\n",
              "dtype: float64"
            ]
          },
          "metadata": {
            "tags": []
          },
          "execution_count": 16
        }
      ]
    },
    {
      "cell_type": "code",
      "metadata": {
        "colab": {
          "base_uri": "https://localhost:8080/",
          "height": 450
        },
        "id": "yoJJcE180naQ",
        "outputId": "e8563b60-f0b1-419b-a0b0-1192ffbecd67"
      },
      "source": [
        "nbrs = NearestNeighbors(metric='euclidean',n_neighbors=7).fit(dados)\n",
        "\n",
        "objeto_id = 5\n",
        "print(dados.loc[objeto_id],\"\\n\")\n",
        "age = dados.loc[objeto_id].age\n",
        "balance = dados.loc[objeto_id].balance\n",
        "duration = dados.loc[objeto_id].duration\n",
        "\n",
        "distances, indices = nbrs.kneighbors([[age,balance,duration]])\n",
        "resultado = dados.iloc[indices[0]]\n",
        "resultado['distance'] = distances[0]\n",
        "\n",
        "resultado"
      ],
      "execution_count": null,
      "outputs": [
        {
          "output_type": "stream",
          "text": [
            "age          35\n",
            "balance     747\n",
            "duration    141\n",
            "Name: 5, dtype: int64 \n",
            "\n"
          ],
          "name": "stdout"
        },
        {
          "output_type": "stream",
          "text": [
            "/usr/local/lib/python3.7/dist-packages/ipykernel_launcher.py:11: SettingWithCopyWarning: \n",
            "A value is trying to be set on a copy of a slice from a DataFrame.\n",
            "Try using .loc[row_indexer,col_indexer] = value instead\n",
            "\n",
            "See the caveats in the documentation: https://pandas.pydata.org/pandas-docs/stable/user_guide/indexing.html#returning-a-view-versus-a-copy\n",
            "  # This is added back by InteractiveShellApp.init_path()\n"
          ],
          "name": "stderr"
        },
        {
          "output_type": "execute_result",
          "data": {
            "text/html": [
              "<div>\n",
              "<style scoped>\n",
              "    .dataframe tbody tr th:only-of-type {\n",
              "        vertical-align: middle;\n",
              "    }\n",
              "\n",
              "    .dataframe tbody tr th {\n",
              "        vertical-align: top;\n",
              "    }\n",
              "\n",
              "    .dataframe thead th {\n",
              "        text-align: right;\n",
              "    }\n",
              "</style>\n",
              "<table border=\"1\" class=\"dataframe\">\n",
              "  <thead>\n",
              "    <tr style=\"text-align: right;\">\n",
              "      <th></th>\n",
              "      <th>age</th>\n",
              "      <th>balance</th>\n",
              "      <th>duration</th>\n",
              "      <th>distance</th>\n",
              "    </tr>\n",
              "  </thead>\n",
              "  <tbody>\n",
              "    <tr>\n",
              "      <th>5</th>\n",
              "      <td>35</td>\n",
              "      <td>747</td>\n",
              "      <td>141</td>\n",
              "      <td>0.000000</td>\n",
              "    </tr>\n",
              "    <tr>\n",
              "      <th>406</th>\n",
              "      <td>41</td>\n",
              "      <td>744</td>\n",
              "      <td>125</td>\n",
              "      <td>17.349352</td>\n",
              "    </tr>\n",
              "    <tr>\n",
              "      <th>1347</th>\n",
              "      <td>29</td>\n",
              "      <td>751</td>\n",
              "      <td>121</td>\n",
              "      <td>21.260292</td>\n",
              "    </tr>\n",
              "    <tr>\n",
              "      <th>4286</th>\n",
              "      <td>39</td>\n",
              "      <td>722</td>\n",
              "      <td>141</td>\n",
              "      <td>25.317978</td>\n",
              "    </tr>\n",
              "    <tr>\n",
              "      <th>2302</th>\n",
              "      <td>28</td>\n",
              "      <td>769</td>\n",
              "      <td>153</td>\n",
              "      <td>26.019224</td>\n",
              "    </tr>\n",
              "    <tr>\n",
              "      <th>2528</th>\n",
              "      <td>33</td>\n",
              "      <td>745</td>\n",
              "      <td>115</td>\n",
              "      <td>26.153394</td>\n",
              "    </tr>\n",
              "    <tr>\n",
              "      <th>1057</th>\n",
              "      <td>23</td>\n",
              "      <td>736</td>\n",
              "      <td>119</td>\n",
              "      <td>27.367864</td>\n",
              "    </tr>\n",
              "  </tbody>\n",
              "</table>\n",
              "</div>"
            ],
            "text/plain": [
              "      age  balance  duration   distance\n",
              "5      35      747       141   0.000000\n",
              "406    41      744       125  17.349352\n",
              "1347   29      751       121  21.260292\n",
              "4286   39      722       141  25.317978\n",
              "2302   28      769       153  26.019224\n",
              "2528   33      745       115  26.153394\n",
              "1057   23      736       119  27.367864"
            ]
          },
          "metadata": {
            "tags": []
          },
          "execution_count": 17
        }
      ]
    },
    {
      "cell_type": "code",
      "metadata": {
        "colab": {
          "base_uri": "https://localhost:8080/",
          "height": 417
        },
        "id": "oDBrrFb-Nz5e",
        "outputId": "f8682d67-6b72-4db9-e0cf-384f9f7fdaf7"
      },
      "source": [
        "min_max_scaler = preprocessing.MinMaxScaler() # normalização min-max\n",
        "dados_norm = pd.DataFrame(min_max_scaler.fit_transform(dados))\n",
        "dados_norm.columns = dados.columns\n",
        "dados_norm"
      ],
      "execution_count": null,
      "outputs": [
        {
          "output_type": "execute_result",
          "data": {
            "text/html": [
              "<div>\n",
              "<style scoped>\n",
              "    .dataframe tbody tr th:only-of-type {\n",
              "        vertical-align: middle;\n",
              "    }\n",
              "\n",
              "    .dataframe tbody tr th {\n",
              "        vertical-align: top;\n",
              "    }\n",
              "\n",
              "    .dataframe thead th {\n",
              "        text-align: right;\n",
              "    }\n",
              "</style>\n",
              "<table border=\"1\" class=\"dataframe\">\n",
              "  <thead>\n",
              "    <tr style=\"text-align: right;\">\n",
              "      <th></th>\n",
              "      <th>age</th>\n",
              "      <th>balance</th>\n",
              "      <th>duration</th>\n",
              "    </tr>\n",
              "  </thead>\n",
              "  <tbody>\n",
              "    <tr>\n",
              "      <th>0</th>\n",
              "      <td>0.161765</td>\n",
              "      <td>0.068455</td>\n",
              "      <td>0.024826</td>\n",
              "    </tr>\n",
              "    <tr>\n",
              "      <th>1</th>\n",
              "      <td>0.205882</td>\n",
              "      <td>0.108750</td>\n",
              "      <td>0.071500</td>\n",
              "    </tr>\n",
              "    <tr>\n",
              "      <th>2</th>\n",
              "      <td>0.235294</td>\n",
              "      <td>0.062590</td>\n",
              "      <td>0.059914</td>\n",
              "    </tr>\n",
              "    <tr>\n",
              "      <th>3</th>\n",
              "      <td>0.161765</td>\n",
              "      <td>0.064281</td>\n",
              "      <td>0.064548</td>\n",
              "    </tr>\n",
              "    <tr>\n",
              "      <th>4</th>\n",
              "      <td>0.588235</td>\n",
              "      <td>0.044469</td>\n",
              "      <td>0.073486</td>\n",
              "    </tr>\n",
              "    <tr>\n",
              "      <th>...</th>\n",
              "      <td>...</td>\n",
              "      <td>...</td>\n",
              "      <td>...</td>\n",
              "    </tr>\n",
              "    <tr>\n",
              "      <th>4516</th>\n",
              "      <td>0.205882</td>\n",
              "      <td>0.039999</td>\n",
              "      <td>0.107580</td>\n",
              "    </tr>\n",
              "    <tr>\n",
              "      <th>4517</th>\n",
              "      <td>0.558824</td>\n",
              "      <td>0.000000</td>\n",
              "      <td>0.049321</td>\n",
              "    </tr>\n",
              "    <tr>\n",
              "      <th>4518</th>\n",
              "      <td>0.558824</td>\n",
              "      <td>0.048429</td>\n",
              "      <td>0.048659</td>\n",
              "    </tr>\n",
              "    <tr>\n",
              "      <th>4519</th>\n",
              "      <td>0.132353</td>\n",
              "      <td>0.059731</td>\n",
              "      <td>0.041377</td>\n",
              "    </tr>\n",
              "    <tr>\n",
              "      <th>4520</th>\n",
              "      <td>0.367647</td>\n",
              "      <td>0.059717</td>\n",
              "      <td>0.112877</td>\n",
              "    </tr>\n",
              "  </tbody>\n",
              "</table>\n",
              "<p>4521 rows × 3 columns</p>\n",
              "</div>"
            ],
            "text/plain": [
              "           age   balance  duration\n",
              "0     0.161765  0.068455  0.024826\n",
              "1     0.205882  0.108750  0.071500\n",
              "2     0.235294  0.062590  0.059914\n",
              "3     0.161765  0.064281  0.064548\n",
              "4     0.588235  0.044469  0.073486\n",
              "...        ...       ...       ...\n",
              "4516  0.205882  0.039999  0.107580\n",
              "4517  0.558824  0.000000  0.049321\n",
              "4518  0.558824  0.048429  0.048659\n",
              "4519  0.132353  0.059731  0.041377\n",
              "4520  0.367647  0.059717  0.112877\n",
              "\n",
              "[4521 rows x 3 columns]"
            ]
          },
          "metadata": {
            "tags": []
          },
          "execution_count": 18
        }
      ]
    },
    {
      "cell_type": "code",
      "metadata": {
        "colab": {
          "base_uri": "https://localhost:8080/"
        },
        "id": "RoZ3dGik0JL6",
        "outputId": "11a934c7-30fb-469e-829b-27551986cb6d"
      },
      "source": [
        "dados_norm.var()"
      ],
      "execution_count": null,
      "outputs": [
        {
          "output_type": "execute_result",
          "data": {
            "text/plain": [
              "age         0.024190\n",
              "balance     0.001632\n",
              "duration    0.007399\n",
              "dtype: float64"
            ]
          },
          "metadata": {
            "tags": []
          },
          "execution_count": 19
        }
      ]
    },
    {
      "cell_type": "code",
      "metadata": {
        "id": "dUX1t9ib1Fk5",
        "colab": {
          "base_uri": "https://localhost:8080/",
          "height": 417
        },
        "outputId": "1b53d3f3-282b-4e61-feee-6d950b8a00d8"
      },
      "source": [
        "dados_norm"
      ],
      "execution_count": null,
      "outputs": [
        {
          "output_type": "execute_result",
          "data": {
            "text/html": [
              "<div>\n",
              "<style scoped>\n",
              "    .dataframe tbody tr th:only-of-type {\n",
              "        vertical-align: middle;\n",
              "    }\n",
              "\n",
              "    .dataframe tbody tr th {\n",
              "        vertical-align: top;\n",
              "    }\n",
              "\n",
              "    .dataframe thead th {\n",
              "        text-align: right;\n",
              "    }\n",
              "</style>\n",
              "<table border=\"1\" class=\"dataframe\">\n",
              "  <thead>\n",
              "    <tr style=\"text-align: right;\">\n",
              "      <th></th>\n",
              "      <th>age</th>\n",
              "      <th>balance</th>\n",
              "      <th>duration</th>\n",
              "    </tr>\n",
              "  </thead>\n",
              "  <tbody>\n",
              "    <tr>\n",
              "      <th>0</th>\n",
              "      <td>0.161765</td>\n",
              "      <td>0.068455</td>\n",
              "      <td>0.024826</td>\n",
              "    </tr>\n",
              "    <tr>\n",
              "      <th>1</th>\n",
              "      <td>0.205882</td>\n",
              "      <td>0.108750</td>\n",
              "      <td>0.071500</td>\n",
              "    </tr>\n",
              "    <tr>\n",
              "      <th>2</th>\n",
              "      <td>0.235294</td>\n",
              "      <td>0.062590</td>\n",
              "      <td>0.059914</td>\n",
              "    </tr>\n",
              "    <tr>\n",
              "      <th>3</th>\n",
              "      <td>0.161765</td>\n",
              "      <td>0.064281</td>\n",
              "      <td>0.064548</td>\n",
              "    </tr>\n",
              "    <tr>\n",
              "      <th>4</th>\n",
              "      <td>0.588235</td>\n",
              "      <td>0.044469</td>\n",
              "      <td>0.073486</td>\n",
              "    </tr>\n",
              "    <tr>\n",
              "      <th>...</th>\n",
              "      <td>...</td>\n",
              "      <td>...</td>\n",
              "      <td>...</td>\n",
              "    </tr>\n",
              "    <tr>\n",
              "      <th>4516</th>\n",
              "      <td>0.205882</td>\n",
              "      <td>0.039999</td>\n",
              "      <td>0.107580</td>\n",
              "    </tr>\n",
              "    <tr>\n",
              "      <th>4517</th>\n",
              "      <td>0.558824</td>\n",
              "      <td>0.000000</td>\n",
              "      <td>0.049321</td>\n",
              "    </tr>\n",
              "    <tr>\n",
              "      <th>4518</th>\n",
              "      <td>0.558824</td>\n",
              "      <td>0.048429</td>\n",
              "      <td>0.048659</td>\n",
              "    </tr>\n",
              "    <tr>\n",
              "      <th>4519</th>\n",
              "      <td>0.132353</td>\n",
              "      <td>0.059731</td>\n",
              "      <td>0.041377</td>\n",
              "    </tr>\n",
              "    <tr>\n",
              "      <th>4520</th>\n",
              "      <td>0.367647</td>\n",
              "      <td>0.059717</td>\n",
              "      <td>0.112877</td>\n",
              "    </tr>\n",
              "  </tbody>\n",
              "</table>\n",
              "<p>4521 rows × 3 columns</p>\n",
              "</div>"
            ],
            "text/plain": [
              "           age   balance  duration\n",
              "0     0.161765  0.068455  0.024826\n",
              "1     0.205882  0.108750  0.071500\n",
              "2     0.235294  0.062590  0.059914\n",
              "3     0.161765  0.064281  0.064548\n",
              "4     0.588235  0.044469  0.073486\n",
              "...        ...       ...       ...\n",
              "4516  0.205882  0.039999  0.107580\n",
              "4517  0.558824  0.000000  0.049321\n",
              "4518  0.558824  0.048429  0.048659\n",
              "4519  0.132353  0.059731  0.041377\n",
              "4520  0.367647  0.059717  0.112877\n",
              "\n",
              "[4521 rows x 3 columns]"
            ]
          },
          "metadata": {
            "tags": []
          },
          "execution_count": 20
        }
      ]
    },
    {
      "cell_type": "code",
      "metadata": {
        "colab": {
          "base_uri": "https://localhost:8080/",
          "height": 450
        },
        "id": "P9yOwwKvN8Lu",
        "outputId": "8dfca090-13a0-4bf0-9770-16b22848d6ef"
      },
      "source": [
        "nbrs = NearestNeighbors(metric='euclidean',n_neighbors=7).fit(dados_norm)\n",
        "\n",
        "objeto_id = 5\n",
        "print(dados_norm.loc[objeto_id],\"\\n\")\n",
        "age = dados_norm.loc[objeto_id].age\n",
        "balance = dados_norm.loc[objeto_id].balance\n",
        "duration = dados_norm.loc[objeto_id].duration\n",
        "\n",
        "distances, indices = nbrs.kneighbors([[age,balance,duration]])\n",
        "resultado = dados_norm.iloc[indices[0]]\n",
        "resultado['distance'] = distances[0]\n",
        "\n",
        "resultado"
      ],
      "execution_count": null,
      "outputs": [
        {
          "output_type": "stream",
          "text": [
            "age         0.235294\n",
            "balance     0.054496\n",
            "duration    0.045349\n",
            "Name: 5, dtype: float64 \n",
            "\n"
          ],
          "name": "stdout"
        },
        {
          "output_type": "stream",
          "text": [
            "/usr/local/lib/python3.7/dist-packages/ipykernel_launcher.py:11: SettingWithCopyWarning: \n",
            "A value is trying to be set on a copy of a slice from a DataFrame.\n",
            "Try using .loc[row_indexer,col_indexer] = value instead\n",
            "\n",
            "See the caveats in the documentation: https://pandas.pydata.org/pandas-docs/stable/user_guide/indexing.html#returning-a-view-versus-a-copy\n",
            "  # This is added back by InteractiveShellApp.init_path()\n"
          ],
          "name": "stderr"
        },
        {
          "output_type": "execute_result",
          "data": {
            "text/html": [
              "<div>\n",
              "<style scoped>\n",
              "    .dataframe tbody tr th:only-of-type {\n",
              "        vertical-align: middle;\n",
              "    }\n",
              "\n",
              "    .dataframe tbody tr th {\n",
              "        vertical-align: top;\n",
              "    }\n",
              "\n",
              "    .dataframe thead th {\n",
              "        text-align: right;\n",
              "    }\n",
              "</style>\n",
              "<table border=\"1\" class=\"dataframe\">\n",
              "  <thead>\n",
              "    <tr style=\"text-align: right;\">\n",
              "      <th></th>\n",
              "      <th>age</th>\n",
              "      <th>balance</th>\n",
              "      <th>duration</th>\n",
              "      <th>distance</th>\n",
              "    </tr>\n",
              "  </thead>\n",
              "  <tbody>\n",
              "    <tr>\n",
              "      <th>5</th>\n",
              "      <td>0.235294</td>\n",
              "      <td>0.054496</td>\n",
              "      <td>0.045349</td>\n",
              "      <td>0.000000</td>\n",
              "    </tr>\n",
              "    <tr>\n",
              "      <th>829</th>\n",
              "      <td>0.235294</td>\n",
              "      <td>0.054053</td>\n",
              "      <td>0.043363</td>\n",
              "      <td>0.002035</td>\n",
              "    </tr>\n",
              "    <tr>\n",
              "      <th>2100</th>\n",
              "      <td>0.235294</td>\n",
              "      <td>0.052966</td>\n",
              "      <td>0.041046</td>\n",
              "      <td>0.004567</td>\n",
              "    </tr>\n",
              "    <tr>\n",
              "      <th>1242</th>\n",
              "      <td>0.235294</td>\n",
              "      <td>0.048469</td>\n",
              "      <td>0.043363</td>\n",
              "      <td>0.006346</td>\n",
              "    </tr>\n",
              "    <tr>\n",
              "      <th>638</th>\n",
              "      <td>0.235294</td>\n",
              "      <td>0.048160</td>\n",
              "      <td>0.046342</td>\n",
              "      <td>0.006413</td>\n",
              "    </tr>\n",
              "    <tr>\n",
              "      <th>1046</th>\n",
              "      <td>0.235294</td>\n",
              "      <td>0.048295</td>\n",
              "      <td>0.043694</td>\n",
              "      <td>0.006418</td>\n",
              "    </tr>\n",
              "    <tr>\n",
              "      <th>1544</th>\n",
              "      <td>0.235294</td>\n",
              "      <td>0.059234</td>\n",
              "      <td>0.040715</td>\n",
              "      <td>0.006628</td>\n",
              "    </tr>\n",
              "  </tbody>\n",
              "</table>\n",
              "</div>"
            ],
            "text/plain": [
              "           age   balance  duration  distance\n",
              "5     0.235294  0.054496  0.045349  0.000000\n",
              "829   0.235294  0.054053  0.043363  0.002035\n",
              "2100  0.235294  0.052966  0.041046  0.004567\n",
              "1242  0.235294  0.048469  0.043363  0.006346\n",
              "638   0.235294  0.048160  0.046342  0.006413\n",
              "1046  0.235294  0.048295  0.043694  0.006418\n",
              "1544  0.235294  0.059234  0.040715  0.006628"
            ]
          },
          "metadata": {
            "tags": []
          },
          "execution_count": 21
        }
      ]
    },
    {
      "cell_type": "markdown",
      "metadata": {
        "id": "QN5eDiiY1WuD"
      },
      "source": [
        "# Leitura dos dados *bank_marketing_binary.csv*\n",
        "\n",
        "Usamos o pandas para leitura do arquivo CSV.\n",
        "Em seguida, as 30 primeiras linhas são exibidas.\n",
        "Os dados já estão pré-processados.\n",
        "\n",
        "Cada linha representa um cliente do banco. Cada coluna representa um **atributo binário** do cliente."
      ]
    },
    {
      "cell_type": "code",
      "metadata": {
        "colab": {
          "base_uri": "https://localhost:8080/",
          "height": 993
        },
        "id": "WaCMW-5tN-JV",
        "outputId": "723260c8-8c2b-4b47-e024-a26d5aee2c52"
      },
      "source": [
        "dados = pd.read_csv('bank_marketing_binary.csv')\n",
        "dados.head(30)"
      ],
      "execution_count": null,
      "outputs": [
        {
          "output_type": "execute_result",
          "data": {
            "text/html": [
              "<div>\n",
              "<style scoped>\n",
              "    .dataframe tbody tr th:only-of-type {\n",
              "        vertical-align: middle;\n",
              "    }\n",
              "\n",
              "    .dataframe tbody tr th {\n",
              "        vertical-align: top;\n",
              "    }\n",
              "\n",
              "    .dataframe thead th {\n",
              "        text-align: right;\n",
              "    }\n",
              "</style>\n",
              "<table border=\"1\" class=\"dataframe\">\n",
              "  <thead>\n",
              "    <tr style=\"text-align: right;\">\n",
              "      <th></th>\n",
              "      <th>marital_divorced</th>\n",
              "      <th>marital_married</th>\n",
              "      <th>marital_single</th>\n",
              "      <th>education_primary</th>\n",
              "      <th>education_secondary</th>\n",
              "      <th>education_tertiary</th>\n",
              "      <th>contact_cellular</th>\n",
              "      <th>loan</th>\n",
              "      <th>housing</th>\n",
              "    </tr>\n",
              "  </thead>\n",
              "  <tbody>\n",
              "    <tr>\n",
              "      <th>0</th>\n",
              "      <td>0</td>\n",
              "      <td>1</td>\n",
              "      <td>0</td>\n",
              "      <td>1</td>\n",
              "      <td>0</td>\n",
              "      <td>0</td>\n",
              "      <td>1</td>\n",
              "      <td>0</td>\n",
              "      <td>0</td>\n",
              "    </tr>\n",
              "    <tr>\n",
              "      <th>1</th>\n",
              "      <td>0</td>\n",
              "      <td>1</td>\n",
              "      <td>0</td>\n",
              "      <td>0</td>\n",
              "      <td>1</td>\n",
              "      <td>0</td>\n",
              "      <td>1</td>\n",
              "      <td>1</td>\n",
              "      <td>1</td>\n",
              "    </tr>\n",
              "    <tr>\n",
              "      <th>2</th>\n",
              "      <td>0</td>\n",
              "      <td>0</td>\n",
              "      <td>1</td>\n",
              "      <td>0</td>\n",
              "      <td>0</td>\n",
              "      <td>1</td>\n",
              "      <td>1</td>\n",
              "      <td>0</td>\n",
              "      <td>1</td>\n",
              "    </tr>\n",
              "    <tr>\n",
              "      <th>3</th>\n",
              "      <td>0</td>\n",
              "      <td>1</td>\n",
              "      <td>0</td>\n",
              "      <td>0</td>\n",
              "      <td>0</td>\n",
              "      <td>1</td>\n",
              "      <td>0</td>\n",
              "      <td>1</td>\n",
              "      <td>1</td>\n",
              "    </tr>\n",
              "    <tr>\n",
              "      <th>4</th>\n",
              "      <td>0</td>\n",
              "      <td>1</td>\n",
              "      <td>0</td>\n",
              "      <td>0</td>\n",
              "      <td>1</td>\n",
              "      <td>0</td>\n",
              "      <td>0</td>\n",
              "      <td>0</td>\n",
              "      <td>1</td>\n",
              "    </tr>\n",
              "    <tr>\n",
              "      <th>5</th>\n",
              "      <td>0</td>\n",
              "      <td>0</td>\n",
              "      <td>1</td>\n",
              "      <td>0</td>\n",
              "      <td>0</td>\n",
              "      <td>1</td>\n",
              "      <td>1</td>\n",
              "      <td>0</td>\n",
              "      <td>0</td>\n",
              "    </tr>\n",
              "    <tr>\n",
              "      <th>6</th>\n",
              "      <td>0</td>\n",
              "      <td>1</td>\n",
              "      <td>0</td>\n",
              "      <td>0</td>\n",
              "      <td>0</td>\n",
              "      <td>1</td>\n",
              "      <td>1</td>\n",
              "      <td>0</td>\n",
              "      <td>1</td>\n",
              "    </tr>\n",
              "    <tr>\n",
              "      <th>7</th>\n",
              "      <td>0</td>\n",
              "      <td>1</td>\n",
              "      <td>0</td>\n",
              "      <td>0</td>\n",
              "      <td>1</td>\n",
              "      <td>0</td>\n",
              "      <td>1</td>\n",
              "      <td>0</td>\n",
              "      <td>1</td>\n",
              "    </tr>\n",
              "    <tr>\n",
              "      <th>8</th>\n",
              "      <td>0</td>\n",
              "      <td>1</td>\n",
              "      <td>0</td>\n",
              "      <td>0</td>\n",
              "      <td>0</td>\n",
              "      <td>1</td>\n",
              "      <td>0</td>\n",
              "      <td>0</td>\n",
              "      <td>1</td>\n",
              "    </tr>\n",
              "    <tr>\n",
              "      <th>9</th>\n",
              "      <td>0</td>\n",
              "      <td>1</td>\n",
              "      <td>0</td>\n",
              "      <td>1</td>\n",
              "      <td>0</td>\n",
              "      <td>0</td>\n",
              "      <td>1</td>\n",
              "      <td>1</td>\n",
              "      <td>1</td>\n",
              "    </tr>\n",
              "    <tr>\n",
              "      <th>10</th>\n",
              "      <td>0</td>\n",
              "      <td>1</td>\n",
              "      <td>0</td>\n",
              "      <td>0</td>\n",
              "      <td>1</td>\n",
              "      <td>0</td>\n",
              "      <td>0</td>\n",
              "      <td>0</td>\n",
              "      <td>1</td>\n",
              "    </tr>\n",
              "    <tr>\n",
              "      <th>11</th>\n",
              "      <td>0</td>\n",
              "      <td>1</td>\n",
              "      <td>0</td>\n",
              "      <td>0</td>\n",
              "      <td>1</td>\n",
              "      <td>0</td>\n",
              "      <td>1</td>\n",
              "      <td>0</td>\n",
              "      <td>1</td>\n",
              "    </tr>\n",
              "    <tr>\n",
              "      <th>12</th>\n",
              "      <td>0</td>\n",
              "      <td>1</td>\n",
              "      <td>0</td>\n",
              "      <td>0</td>\n",
              "      <td>0</td>\n",
              "      <td>1</td>\n",
              "      <td>1</td>\n",
              "      <td>0</td>\n",
              "      <td>0</td>\n",
              "    </tr>\n",
              "    <tr>\n",
              "      <th>13</th>\n",
              "      <td>0</td>\n",
              "      <td>0</td>\n",
              "      <td>1</td>\n",
              "      <td>0</td>\n",
              "      <td>1</td>\n",
              "      <td>0</td>\n",
              "      <td>1</td>\n",
              "      <td>0</td>\n",
              "      <td>0</td>\n",
              "    </tr>\n",
              "    <tr>\n",
              "      <th>14</th>\n",
              "      <td>0</td>\n",
              "      <td>1</td>\n",
              "      <td>0</td>\n",
              "      <td>0</td>\n",
              "      <td>1</td>\n",
              "      <td>0</td>\n",
              "      <td>1</td>\n",
              "      <td>1</td>\n",
              "      <td>1</td>\n",
              "    </tr>\n",
              "    <tr>\n",
              "      <th>15</th>\n",
              "      <td>0</td>\n",
              "      <td>1</td>\n",
              "      <td>0</td>\n",
              "      <td>0</td>\n",
              "      <td>0</td>\n",
              "      <td>1</td>\n",
              "      <td>1</td>\n",
              "      <td>1</td>\n",
              "      <td>0</td>\n",
              "    </tr>\n",
              "    <tr>\n",
              "      <th>16</th>\n",
              "      <td>0</td>\n",
              "      <td>1</td>\n",
              "      <td>0</td>\n",
              "      <td>0</td>\n",
              "      <td>1</td>\n",
              "      <td>0</td>\n",
              "      <td>1</td>\n",
              "      <td>0</td>\n",
              "      <td>0</td>\n",
              "    </tr>\n",
              "    <tr>\n",
              "      <th>17</th>\n",
              "      <td>0</td>\n",
              "      <td>0</td>\n",
              "      <td>1</td>\n",
              "      <td>0</td>\n",
              "      <td>0</td>\n",
              "      <td>1</td>\n",
              "      <td>1</td>\n",
              "      <td>0</td>\n",
              "      <td>1</td>\n",
              "    </tr>\n",
              "    <tr>\n",
              "      <th>18</th>\n",
              "      <td>0</td>\n",
              "      <td>0</td>\n",
              "      <td>1</td>\n",
              "      <td>1</td>\n",
              "      <td>0</td>\n",
              "      <td>0</td>\n",
              "      <td>0</td>\n",
              "      <td>0</td>\n",
              "      <td>1</td>\n",
              "    </tr>\n",
              "    <tr>\n",
              "      <th>19</th>\n",
              "      <td>0</td>\n",
              "      <td>1</td>\n",
              "      <td>0</td>\n",
              "      <td>0</td>\n",
              "      <td>1</td>\n",
              "      <td>0</td>\n",
              "      <td>1</td>\n",
              "      <td>0</td>\n",
              "      <td>0</td>\n",
              "    </tr>\n",
              "    <tr>\n",
              "      <th>20</th>\n",
              "      <td>1</td>\n",
              "      <td>0</td>\n",
              "      <td>0</td>\n",
              "      <td>0</td>\n",
              "      <td>0</td>\n",
              "      <td>0</td>\n",
              "      <td>1</td>\n",
              "      <td>0</td>\n",
              "      <td>1</td>\n",
              "    </tr>\n",
              "    <tr>\n",
              "      <th>21</th>\n",
              "      <td>1</td>\n",
              "      <td>0</td>\n",
              "      <td>0</td>\n",
              "      <td>0</td>\n",
              "      <td>0</td>\n",
              "      <td>1</td>\n",
              "      <td>1</td>\n",
              "      <td>0</td>\n",
              "      <td>0</td>\n",
              "    </tr>\n",
              "    <tr>\n",
              "      <th>22</th>\n",
              "      <td>0</td>\n",
              "      <td>0</td>\n",
              "      <td>1</td>\n",
              "      <td>0</td>\n",
              "      <td>1</td>\n",
              "      <td>0</td>\n",
              "      <td>0</td>\n",
              "      <td>0</td>\n",
              "      <td>0</td>\n",
              "    </tr>\n",
              "    <tr>\n",
              "      <th>23</th>\n",
              "      <td>0</td>\n",
              "      <td>1</td>\n",
              "      <td>0</td>\n",
              "      <td>0</td>\n",
              "      <td>1</td>\n",
              "      <td>0</td>\n",
              "      <td>1</td>\n",
              "      <td>0</td>\n",
              "      <td>0</td>\n",
              "    </tr>\n",
              "    <tr>\n",
              "      <th>24</th>\n",
              "      <td>0</td>\n",
              "      <td>1</td>\n",
              "      <td>0</td>\n",
              "      <td>0</td>\n",
              "      <td>0</td>\n",
              "      <td>1</td>\n",
              "      <td>1</td>\n",
              "      <td>0</td>\n",
              "      <td>0</td>\n",
              "    </tr>\n",
              "    <tr>\n",
              "      <th>25</th>\n",
              "      <td>0</td>\n",
              "      <td>1</td>\n",
              "      <td>0</td>\n",
              "      <td>0</td>\n",
              "      <td>0</td>\n",
              "      <td>1</td>\n",
              "      <td>1</td>\n",
              "      <td>0</td>\n",
              "      <td>0</td>\n",
              "    </tr>\n",
              "    <tr>\n",
              "      <th>26</th>\n",
              "      <td>0</td>\n",
              "      <td>1</td>\n",
              "      <td>0</td>\n",
              "      <td>1</td>\n",
              "      <td>0</td>\n",
              "      <td>0</td>\n",
              "      <td>0</td>\n",
              "      <td>0</td>\n",
              "      <td>1</td>\n",
              "    </tr>\n",
              "    <tr>\n",
              "      <th>27</th>\n",
              "      <td>0</td>\n",
              "      <td>1</td>\n",
              "      <td>0</td>\n",
              "      <td>0</td>\n",
              "      <td>0</td>\n",
              "      <td>0</td>\n",
              "      <td>0</td>\n",
              "      <td>0</td>\n",
              "      <td>0</td>\n",
              "    </tr>\n",
              "    <tr>\n",
              "      <th>28</th>\n",
              "      <td>0</td>\n",
              "      <td>1</td>\n",
              "      <td>0</td>\n",
              "      <td>0</td>\n",
              "      <td>1</td>\n",
              "      <td>0</td>\n",
              "      <td>1</td>\n",
              "      <td>1</td>\n",
              "      <td>0</td>\n",
              "    </tr>\n",
              "    <tr>\n",
              "      <th>29</th>\n",
              "      <td>0</td>\n",
              "      <td>1</td>\n",
              "      <td>0</td>\n",
              "      <td>0</td>\n",
              "      <td>1</td>\n",
              "      <td>0</td>\n",
              "      <td>1</td>\n",
              "      <td>1</td>\n",
              "      <td>0</td>\n",
              "    </tr>\n",
              "  </tbody>\n",
              "</table>\n",
              "</div>"
            ],
            "text/plain": [
              "    marital_divorced  marital_married  ...  loan  housing\n",
              "0                  0                1  ...     0        0\n",
              "1                  0                1  ...     1        1\n",
              "2                  0                0  ...     0        1\n",
              "3                  0                1  ...     1        1\n",
              "4                  0                1  ...     0        1\n",
              "5                  0                0  ...     0        0\n",
              "6                  0                1  ...     0        1\n",
              "7                  0                1  ...     0        1\n",
              "8                  0                1  ...     0        1\n",
              "9                  0                1  ...     1        1\n",
              "10                 0                1  ...     0        1\n",
              "11                 0                1  ...     0        1\n",
              "12                 0                1  ...     0        0\n",
              "13                 0                0  ...     0        0\n",
              "14                 0                1  ...     1        1\n",
              "15                 0                1  ...     1        0\n",
              "16                 0                1  ...     0        0\n",
              "17                 0                0  ...     0        1\n",
              "18                 0                0  ...     0        1\n",
              "19                 0                1  ...     0        0\n",
              "20                 1                0  ...     0        1\n",
              "21                 1                0  ...     0        0\n",
              "22                 0                0  ...     0        0\n",
              "23                 0                1  ...     0        0\n",
              "24                 0                1  ...     0        0\n",
              "25                 0                1  ...     0        0\n",
              "26                 0                1  ...     0        1\n",
              "27                 0                1  ...     0        0\n",
              "28                 0                1  ...     1        0\n",
              "29                 0                1  ...     1        0\n",
              "\n",
              "[30 rows x 9 columns]"
            ]
          },
          "metadata": {
            "tags": []
          },
          "execution_count": 22
        }
      ]
    },
    {
      "cell_type": "code",
      "metadata": {
        "colab": {
          "base_uri": "https://localhost:8080/",
          "height": 369
        },
        "id": "WEr-ZMzEdrHc",
        "outputId": "13d1f29a-99cc-458f-998a-44510fea8349"
      },
      "source": [
        "nbrs = NearestNeighbors(metric='jaccard',n_neighbors=7).fit(dados)\n",
        "\n",
        "marital_divorced=0\n",
        "marital_married=1\n",
        "marital_single=0\n",
        "\n",
        "education_primary=0\n",
        "education_secondary=0\n",
        "education_tertiary=1\n",
        "\n",
        "contact_cellular=1\n",
        "loan=0\n",
        "housing=1\n",
        "\n",
        "distances, indices = nbrs.kneighbors([[marital_divorced,\n",
        "                                       marital_married,\n",
        "                                       marital_single,\n",
        "                                       education_primary,\n",
        "                                       education_secondary,\n",
        "                                       education_tertiary,\n",
        "                                       contact_cellular,\n",
        "                                       loan,\n",
        "                                       housing]])\n",
        "resultado = dados.iloc[indices[0]]\n",
        "resultado['distance'] = distances[0]\n",
        "\n",
        "resultado"
      ],
      "execution_count": null,
      "outputs": [
        {
          "output_type": "stream",
          "text": [
            "/usr/local/lib/python3.7/dist-packages/ipykernel_launcher.py:25: SettingWithCopyWarning: \n",
            "A value is trying to be set on a copy of a slice from a DataFrame.\n",
            "Try using .loc[row_indexer,col_indexer] = value instead\n",
            "\n",
            "See the caveats in the documentation: https://pandas.pydata.org/pandas-docs/stable/user_guide/indexing.html#returning-a-view-versus-a-copy\n"
          ],
          "name": "stderr"
        },
        {
          "output_type": "execute_result",
          "data": {
            "text/html": [
              "<div>\n",
              "<style scoped>\n",
              "    .dataframe tbody tr th:only-of-type {\n",
              "        vertical-align: middle;\n",
              "    }\n",
              "\n",
              "    .dataframe tbody tr th {\n",
              "        vertical-align: top;\n",
              "    }\n",
              "\n",
              "    .dataframe thead th {\n",
              "        text-align: right;\n",
              "    }\n",
              "</style>\n",
              "<table border=\"1\" class=\"dataframe\">\n",
              "  <thead>\n",
              "    <tr style=\"text-align: right;\">\n",
              "      <th></th>\n",
              "      <th>marital_divorced</th>\n",
              "      <th>marital_married</th>\n",
              "      <th>marital_single</th>\n",
              "      <th>education_primary</th>\n",
              "      <th>education_secondary</th>\n",
              "      <th>education_tertiary</th>\n",
              "      <th>contact_cellular</th>\n",
              "      <th>loan</th>\n",
              "      <th>housing</th>\n",
              "      <th>distance</th>\n",
              "    </tr>\n",
              "  </thead>\n",
              "  <tbody>\n",
              "    <tr>\n",
              "      <th>248</th>\n",
              "      <td>0</td>\n",
              "      <td>1</td>\n",
              "      <td>0</td>\n",
              "      <td>0</td>\n",
              "      <td>0</td>\n",
              "      <td>1</td>\n",
              "      <td>1</td>\n",
              "      <td>0</td>\n",
              "      <td>1</td>\n",
              "      <td>0.0</td>\n",
              "    </tr>\n",
              "    <tr>\n",
              "      <th>804</th>\n",
              "      <td>0</td>\n",
              "      <td>1</td>\n",
              "      <td>0</td>\n",
              "      <td>0</td>\n",
              "      <td>0</td>\n",
              "      <td>1</td>\n",
              "      <td>1</td>\n",
              "      <td>0</td>\n",
              "      <td>1</td>\n",
              "      <td>0.0</td>\n",
              "    </tr>\n",
              "    <tr>\n",
              "      <th>245</th>\n",
              "      <td>0</td>\n",
              "      <td>1</td>\n",
              "      <td>0</td>\n",
              "      <td>0</td>\n",
              "      <td>0</td>\n",
              "      <td>1</td>\n",
              "      <td>1</td>\n",
              "      <td>0</td>\n",
              "      <td>1</td>\n",
              "      <td>0.0</td>\n",
              "    </tr>\n",
              "    <tr>\n",
              "      <th>250</th>\n",
              "      <td>0</td>\n",
              "      <td>1</td>\n",
              "      <td>0</td>\n",
              "      <td>0</td>\n",
              "      <td>0</td>\n",
              "      <td>1</td>\n",
              "      <td>1</td>\n",
              "      <td>0</td>\n",
              "      <td>1</td>\n",
              "      <td>0.0</td>\n",
              "    </tr>\n",
              "    <tr>\n",
              "      <th>785</th>\n",
              "      <td>0</td>\n",
              "      <td>1</td>\n",
              "      <td>0</td>\n",
              "      <td>0</td>\n",
              "      <td>0</td>\n",
              "      <td>1</td>\n",
              "      <td>1</td>\n",
              "      <td>0</td>\n",
              "      <td>1</td>\n",
              "      <td>0.0</td>\n",
              "    </tr>\n",
              "    <tr>\n",
              "      <th>791</th>\n",
              "      <td>0</td>\n",
              "      <td>1</td>\n",
              "      <td>0</td>\n",
              "      <td>0</td>\n",
              "      <td>0</td>\n",
              "      <td>1</td>\n",
              "      <td>1</td>\n",
              "      <td>0</td>\n",
              "      <td>1</td>\n",
              "      <td>0.0</td>\n",
              "    </tr>\n",
              "    <tr>\n",
              "      <th>782</th>\n",
              "      <td>0</td>\n",
              "      <td>1</td>\n",
              "      <td>0</td>\n",
              "      <td>0</td>\n",
              "      <td>0</td>\n",
              "      <td>1</td>\n",
              "      <td>1</td>\n",
              "      <td>0</td>\n",
              "      <td>1</td>\n",
              "      <td>0.0</td>\n",
              "    </tr>\n",
              "  </tbody>\n",
              "</table>\n",
              "</div>"
            ],
            "text/plain": [
              "     marital_divorced  marital_married  marital_single  ...  loan  housing  distance\n",
              "248                 0                1               0  ...     0        1       0.0\n",
              "804                 0                1               0  ...     0        1       0.0\n",
              "245                 0                1               0  ...     0        1       0.0\n",
              "250                 0                1               0  ...     0        1       0.0\n",
              "785                 0                1               0  ...     0        1       0.0\n",
              "791                 0                1               0  ...     0        1       0.0\n",
              "782                 0                1               0  ...     0        1       0.0\n",
              "\n",
              "[7 rows x 10 columns]"
            ]
          },
          "metadata": {
            "tags": []
          },
          "execution_count": 23
        }
      ]
    },
    {
      "cell_type": "markdown",
      "metadata": {
        "id": "5A-_cVsf336B"
      },
      "source": [
        "# Informações complementares\n",
        "\n",
        "* Outra medidas de distâncias no Scikit-Learn:\n",
        "\n",
        "https://scikit-learn.org/stable/modules/generated/sklearn.neighbors.DistanceMetric.html#sklearn.neighbors.DistanceMetric\n"
      ]
    }
  ]
}
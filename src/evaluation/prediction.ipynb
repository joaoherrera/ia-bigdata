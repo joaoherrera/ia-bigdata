{
 "cells": [
  {
   "attachments": {},
   "cell_type": "markdown",
   "metadata": {},
   "source": [
    "# Prediction"
   ]
  },
  {
   "attachments": {},
   "cell_type": "markdown",
   "metadata": {},
   "source": [
    "Select a directory with images and run the classifier."
   ]
  },
  {
   "cell_type": "code",
   "execution_count": 12,
   "metadata": {},
   "outputs": [],
   "source": [
    "import torch\n",
    "import numpy as np\n",
    "import matplotlib.pyplot as plt\n",
    "import os\n",
    "import cv2\n",
    "from src.architectures.MaskRCNNDetector import MaskRCNNDetector\n",
    "from src.dataset.dataset_utils import read_image"
   ]
  },
  {
   "cell_type": "markdown",
   "metadata": {},
   "source": [
    "Name your experiment"
   ]
  },
  {
   "cell_type": "code",
   "execution_count": null,
   "metadata": {},
   "outputs": [],
   "source": [
    "EXPERIMENT_NAME = \"ai-palatal-rugae-exp01\""
   ]
  },
  {
   "attachments": {},
   "cell_type": "markdown",
   "metadata": {},
   "source": [
    "Load model"
   ]
  },
  {
   "cell_type": "code",
   "execution_count": null,
   "metadata": {},
   "outputs": [],
   "source": [
    "model_path = f\"{EXPERIMENT_NAME}/checkpoint.pth\"\n",
    "model = MaskRCNNDetector(model_path)\n",
    "model.load()\n",
    "model.to(torch.device(\"cuda:0\"))    # Load model in GPU"
   ]
  },
  {
   "attachments": {},
   "cell_type": "markdown",
   "metadata": {},
   "source": [
    "Set input images"
   ]
  },
  {
   "cell_type": "markdown",
   "metadata": {},
   "source": [
    "input_directory = f\"\"\n",
    "images = sorted(os.listdir(input_directory))"
   ]
  },
  {
   "cell_type": "markdown",
   "metadata": {},
   "source": [
    "Apply model to get predicted categories"
   ]
  },
  {
   "cell_type": "code",
   "execution_count": null,
   "metadata": {},
   "outputs": [],
   "source": [
    "for image_name in images:\n",
    "    image_path = os.path.join(input_directory, image_name)\n",
    "    image = read_image(image_path).transpose(2, 0, 1).astype(np.float32)\n",
    "    image = torch.from_numpy(image)\n",
    "    image = image.unsqueeze(0).to(torch.device(\"cuda:0\"))\n",
    "\n",
    "    pred_class = np.round(model(image).item())\n",
    "    print(f\"Image name: {image_name} -- Predicted class: {pred_class}\")"
   ]
  }
 ],
 "metadata": {
  "kernelspec": {
   "display_name": "Python 3",
   "language": "python",
   "name": "python3"
  },
  "language_info": {
   "codemirror_mode": {
    "name": "ipython",
    "version": 3
   },
   "file_extension": ".py",
   "mimetype": "text/x-python",
   "name": "python",
   "nbconvert_exporter": "python",
   "pygments_lexer": "ipython3",
   "version": "3.10.6"
  },
  "orig_nbformat": 4
 },
 "nbformat": 4,
 "nbformat_minor": 2
}

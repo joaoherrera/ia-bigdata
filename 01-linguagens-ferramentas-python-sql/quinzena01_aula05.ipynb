{
 "cells": [
  {
   "cell_type": "markdown",
   "metadata": {
    "colab_type": "text",
    "id": "9VJ-bL09Mv7M"
   },
   "source": [
    "# <font color=\"red\"> MBA em IA e Big Data</font>\n",
    "## <span style=\"color:red\">Linguagens e Ferramentas para Inteligência Artificial e Big Data (Python e SQL)</span>\n",
    "\n",
    "### <span style=\"color:darkred\">Numpy: parte 1</span>\n",
    "\n",
    "*Moacir Antonelli Ponti*<br>\n",
    "*ICMC/USP São Carlos*"
   ]
  },
  {
   "cell_type": "markdown",
   "metadata": {
    "colab_type": "text",
    "id": "t3RlxFYAMv7R"
   },
   "source": [
    "__Conteúdo:__\n",
    "\n",
    "- Arrays\n",
    "- Manipulação das dimensões\n",
    "- Iteração\n",
    "- Indexação e fatiamento\n",
    "- Visões e cópias \n",
    "\n",
    "---"
   ]
  },
  {
   "cell_type": "markdown",
   "metadata": {
    "colab_type": "text",
    "id": "bDbah9r4Mv7V"
   },
   "source": [
    "## Numpy \n",
    "\n",
    "Processamento vetorial/matricial:\n",
    "- métodos são majoritariamente escritos em C, garantindo eficiência computacional\n",
    "- recursos para computação científica e álgebra linear\n",
    "\n",
    "Outros pacotes dependem fortemente de `numpy`:\n",
    "- `pandas`\n",
    "- `matplotlib`\n",
    "- `sklearn`"
   ]
  },
  {
   "cell_type": "markdown",
   "metadata": {},
   "source": [
    "# Numpy Arrays"
   ]
  },
  {
   "cell_type": "markdown",
   "metadata": {
    "colab_type": "text",
    "id": "naeNRp44Mv7Z"
   },
   "source": [
    "A estrutura de dados base, se assemelham às listas em Python, no entanto:\n",
    "- Todo elemento em um array deve ser do mesmo tipo, tipicamente `float` ou `int`;\n",
    "- Arrays viabilizam a realização eficiente de operações numéricas com grandes quantidades de dados, mais eficientes que listas;\n",
    "- Cada dimensão de um array é chamada de eixo (_axis_)\n",
    "- Eixos são numerados a partir de `0`\n",
    "- Elementos acessados utilizando colchetes `[]`"
   ]
  },
  {
   "cell_type": "markdown",
   "metadata": {
    "colab_type": "text",
    "id": "9Ar2USJFMv7b"
   },
   "source": [
    "### Construindo arrays\n",
    "\n",
    "#### A partir de listas\n",
    "\n",
    "Utilizando o construtor `numpy.array()`"
   ]
  },
  {
   "cell_type": "code",
   "execution_count": 6,
   "metadata": {
    "colab": {
     "base_uri": "https://localhost:8080/",
     "height": 87
    },
    "colab_type": "code",
    "executionInfo": {
     "elapsed": 1268,
     "status": "ok",
     "timestamp": 1595607714455,
     "user": {
      "displayName": "Luis Gustavo Nonato",
      "photoUrl": "",
      "userId": "16109025348268293164"
     },
     "user_tz": 180
    },
    "id": "lZM8Fx74Mv7h",
    "outputId": "3534273c-910e-4352-c724-89725aa9afa6"
   },
   "outputs": [
    {
     "name": "stdout",
     "output_type": "stream",
     "text": [
      "Lista: [1, 3, 5, 7, 13]\n",
      "Numpy array: [ 1  3  5  7 13]\n"
     ]
    }
   ],
   "source": [
    "import numpy as np\n",
    "\n",
    "lista = [1, 3, 5, 7, 13]\n",
    "a1d = np.array(lista)\n",
    "\n",
    "print('Lista:', lista)\n",
    "print('Numpy array:', a1d)"
   ]
  },
  {
   "cell_type": "markdown",
   "metadata": {},
   "source": [
    "#### Por métodos `numpy`:\n",
    "\n",
    "`zeros`, `ones`,  `arange`,  `linspace`"
   ]
  },
  {
   "cell_type": "code",
   "execution_count": 13,
   "metadata": {
    "colab": {
     "base_uri": "https://localhost:8080/",
     "height": 87
    },
    "colab_type": "code",
    "executionInfo": {
     "elapsed": 681,
     "status": "ok",
     "timestamp": 1595356322092,
     "user": {
      "displayName": "Luis Gustavo Nonato",
      "photoUrl": "",
      "userId": "16109025348268293164"
     },
     "user_tz": 180
    },
    "id": "blyoeB0cMv7s",
    "outputId": "b8ca07a1-ec5b-4018-a1d3-69eabe0d43a8"
   },
   "outputs": [
    {
     "name": "stdout",
     "output_type": "stream",
     "text": [
      "Zeros:  [0. 0. 0. 0. 0. 0. 0. 0.]\n",
      "Ones:  [1. 1. 1. 1. 1. 1. 1. 1. 1. 1.]\n",
      "Range:  [ 0  2  4  6  8 10]\n",
      "Linspace:  [1.   1.25 1.5  1.75 2.  ]\n",
      "Linspace2:  [0.   0.01 0.02 0.03 0.04 0.05 0.06 0.07 0.08 0.09 0.1  0.11 0.12 0.13\n",
      " 0.14 0.15 0.16 0.17 0.18 0.19 0.2  0.21 0.22 0.23 0.24 0.25 0.26 0.27\n",
      " 0.28 0.29 0.3  0.31 0.32 0.33 0.34 0.35 0.36 0.37 0.38 0.39 0.4  0.41\n",
      " 0.42 0.43 0.44 0.45 0.46 0.47 0.48 0.49 0.5  0.51 0.52 0.53 0.54 0.55\n",
      " 0.56 0.57 0.58 0.59 0.6  0.61 0.62 0.63 0.64 0.65 0.66 0.67 0.68 0.69\n",
      " 0.7  0.71 0.72 0.73 0.74 0.75 0.76 0.77 0.78 0.79 0.8  0.81 0.82 0.83\n",
      " 0.84 0.85 0.86 0.87 0.88 0.89 0.9  0.91 0.92 0.93 0.94 0.95 0.96 0.97\n",
      " 0.98 0.99 1.  ]\n"
     ]
    }
   ],
   "source": [
    "# array com oito elementos iguais a zero\n",
    "b1d = np.zeros((8))  \n",
    "print('Zeros: ',b1d)\n",
    "\n",
    "# array com dez elementos iguais a um\n",
    "c1d = np.ones((10))  \n",
    "print('Ones: ',c1d)\n",
    "\n",
    "# array com numeros entre 1 e menor que 11, com passo 2 (similar a `range`)\n",
    "d1d = np.arange(0,11,2)  \n",
    "print('Range: ',d1d)\n",
    "\n",
    "# array com 5 números igualmente espaçados no intervalo entre 1 e 2 \n",
    "e1d = np.linspace(1,2,5) \n",
    "print('Linspace: ',e1d)\n",
    "\n",
    "e1d2 = np.linspace(0,1,101) \n",
    "print('Linspace2: ',e1d2)"
   ]
  },
  {
   "cell_type": "markdown",
   "metadata": {},
   "source": [
    "#### Arrays multidimensionais"
   ]
  },
  {
   "cell_type": "code",
   "execution_count": 14,
   "metadata": {
    "colab": {
     "base_uri": "https://localhost:8080/",
     "height": 140
    },
    "colab_type": "code",
    "executionInfo": {
     "elapsed": 711,
     "status": "ok",
     "timestamp": 1595356646859,
     "user": {
      "displayName": "Luis Gustavo Nonato",
      "photoUrl": "",
      "userId": "16109025348268293164"
     },
     "user_tz": 180
    },
    "id": "MTAeC_YHMv71",
    "outputId": "81de5cf6-452a-4d49-bef5-0882b0db896d"
   },
   "outputs": [
    {
     "name": "stdout",
     "output_type": "stream",
     "text": [
      "a2d=\n",
      " [[ 1  3  5  7  9 11]\n",
      " [ 2  4  6  8 10 12]\n",
      " [ 0  1  2  3  4  5]]\n"
     ]
    }
   ],
   "source": [
    "a2d = np.array([[1,3,5,7,9,11],\n",
    "                [2,4,6,8,10,12],\n",
    "                [0,1,2,3,4,5]]  )\n",
    "print('a2d=\\n',a2d)"
   ]
  },
  {
   "cell_type": "code",
   "execution_count": 15,
   "metadata": {
    "colab": {
     "base_uri": "https://localhost:8080/",
     "height": 297
    },
    "colab_type": "code",
    "executionInfo": {
     "elapsed": 640,
     "status": "ok",
     "timestamp": 1595356492022,
     "user": {
      "displayName": "Luis Gustavo Nonato",
      "photoUrl": "",
      "userId": "16109025348268293164"
     },
     "user_tz": 180
    },
    "id": "Ce1wcc3rMv78",
    "outputId": "21b40a36-4b83-4f23-f8b9-f418dd496183"
   },
   "outputs": [
    {
     "name": "stdout",
     "output_type": "stream",
     "text": [
      "Zeros 2d: \n",
      " [[0. 0. 0.]\n",
      " [0. 0. 0.]\n",
      " [0. 0. 0.]\n",
      " [0. 0. 0.]\n",
      " [0. 0. 0.]]\n",
      "Ones 2d:\n",
      " [[1. 1. 1. 1. 1. 1. 1. 1.]\n",
      " [1. 1. 1. 1. 1. 1. 1. 1.]\n",
      " [1. 1. 1. 1. 1. 1. 1. 1.]\n",
      " [1. 1. 1. 1. 1. 1. 1. 1.]]\n",
      "Identity: \n",
      " [[1. 0. 0.]\n",
      " [0. 1. 0.]\n",
      " [0. 0. 1.]]\n"
     ]
    }
   ],
   "source": [
    "#matriz 5X3 de zeros\n",
    "b2d = np.zeros((5,3))  \n",
    "print('Zeros 2d: \\n',b2d)\n",
    "\n",
    "# criando matriz 4X8 de 1s\n",
    "c2d = np.ones((4,8))\n",
    "print('Ones 2d:\\n',c2d)\n",
    "\n",
    "# criando matrix identidade 3X3\n",
    "d2d = np.identity(3) \n",
    "print('Identity: \\n',d2d)"
   ]
  },
  {
   "cell_type": "markdown",
   "metadata": {
    "colab_type": "text",
    "id": "lJfI-14GMv8D"
   },
   "source": [
    "Arrays são objetos _ndarrays_ \n",
    "\n",
    "Seus atributos são: \n",
    "- `ndarray.ndim`: número de eixos (dimensões) do array\n",
    "- `ndarray.shape`: uma tupla de inteiros indicando o tamanho do array em cada dimensão\n",
    "- `ndarray.size`:  o número total de elementos do array\n",
    "- `ndarray.dtype`: tipo dos elementos no array\n",
    "- `ndarray.itemsize`: o tamanho em bytes de cada elemento do array\n",
    "- `ndarray.T`: versão transposta do array"
   ]
  },
  {
   "cell_type": "code",
   "execution_count": 16,
   "metadata": {},
   "outputs": [
    {
     "name": "stdout",
     "output_type": "stream",
     "text": [
      "[ 1  3  5  7 13]\n",
      "[[1. 1. 1. 1. 1. 1. 1. 1.]\n",
      " [1. 1. 1. 1. 1. 1. 1. 1.]\n",
      " [1. 1. 1. 1. 1. 1. 1. 1.]\n",
      " [1. 1. 1. 1. 1. 1. 1. 1.]]\n"
     ]
    }
   ],
   "source": [
    "print(a1d)\n",
    "print(c2d)"
   ]
  },
  {
   "cell_type": "code",
   "execution_count": 17,
   "metadata": {
    "colab": {
     "base_uri": "https://localhost:8080/",
     "height": 105
    },
    "colab_type": "code",
    "executionInfo": {
     "elapsed": 669,
     "status": "ok",
     "timestamp": 1595356654376,
     "user": {
      "displayName": "Luis Gustavo Nonato",
      "photoUrl": "",
      "userId": "16109025348268293164"
     },
     "user_tz": 180
    },
    "id": "G-8zEew1Mv8G",
    "outputId": "d723fbce-7d7e-4875-e791-7a7c4d42e0a4"
   },
   "outputs": [
    {
     "name": "stdout",
     "output_type": "stream",
     "text": [
      " ndim: numero de eixos dos arrays\n",
      "a1d.ndim = 1\n",
      "c2d.ndim = 2\n"
     ]
    }
   ],
   "source": [
    "print(\" ndim: numero de eixos dos arrays\")\n",
    "print('a1d.ndim =',a1d.ndim)\n",
    "print('c2d.ndim =',c2d.ndim)"
   ]
  },
  {
   "cell_type": "code",
   "execution_count": 18,
   "metadata": {
    "colab": {
     "base_uri": "https://localhost:8080/",
     "height": 122
    },
    "colab_type": "code",
    "executionInfo": {
     "elapsed": 663,
     "status": "ok",
     "timestamp": 1595290744184,
     "user": {
      "displayName": "Luis Gustavo Nonato",
      "photoUrl": "",
      "userId": "16109025348268293164"
     },
     "user_tz": 180
    },
    "id": "z9KYTXlzun5I",
    "outputId": "110e7a5b-b0ea-4d80-aa4c-7a9211967300"
   },
   "outputs": [
    {
     "name": "stdout",
     "output_type": "stream",
     "text": [
      "\n",
      " shape: tamanho do array em cada dimensao\n",
      "a1d.shape = (5,)\n",
      "b1d.shape = (8,)\n",
      "a2d.shape = (3, 6)\n",
      "c2d.shape = (4, 8)\n"
     ]
    }
   ],
   "source": [
    "print(\"\\n shape: tamanho do array em cada dimensao\")\n",
    "print('a1d.shape =',a1d.shape)\n",
    "print('b1d.shape =',b1d.shape)\n",
    "print('a2d.shape =',a2d.shape)\n",
    "print('c2d.shape =',c2d.shape)"
   ]
  },
  {
   "cell_type": "code",
   "execution_count": 19,
   "metadata": {
    "colab": {
     "base_uri": "https://localhost:8080/",
     "height": 122
    },
    "colab_type": "code",
    "executionInfo": {
     "elapsed": 691,
     "status": "ok",
     "timestamp": 1595356705031,
     "user": {
      "displayName": "Luis Gustavo Nonato",
      "photoUrl": "",
      "userId": "16109025348268293164"
     },
     "user_tz": 180
    },
    "id": "1-EASdKGushI",
    "outputId": "d83c8724-febf-4d95-bd57-ef985e41fc65"
   },
   "outputs": [
    {
     "name": "stdout",
     "output_type": "stream",
     "text": [
      "\n",
      " size: numero total de elementos\n",
      "a1d.size = 5\n",
      "b1d.size = 8\n",
      "a2d.size = 18\n",
      "c2d.size = 32\n"
     ]
    }
   ],
   "source": [
    "print(\"\\n size: numero total de elementos\")\n",
    "print('a1d.size =',a1d.size)\n",
    "print('b1d.size =',b1d.size)\n",
    "print('a2d.size =',a2d.size)\n",
    "print('c2d.size =',c2d.size)"
   ]
  },
  {
   "cell_type": "code",
   "execution_count": 20,
   "metadata": {
    "colab": {
     "base_uri": "https://localhost:8080/",
     "height": 122
    },
    "colab_type": "code",
    "executionInfo": {
     "elapsed": 673,
     "status": "ok",
     "timestamp": 1595356728764,
     "user": {
      "displayName": "Luis Gustavo Nonato",
      "photoUrl": "",
      "userId": "16109025348268293164"
     },
     "user_tz": 180
    },
    "id": "k4r5TNJ3u6yg",
    "outputId": "42db8cfb-32da-4390-b0a3-cc9a45a49a55"
   },
   "outputs": [
    {
     "name": "stdout",
     "output_type": "stream",
     "text": [
      "\n",
      " dtype: tipo dos elementos\n",
      "a1d.dtype = int64\n",
      "b1d.dtype = float64\n",
      "a2d.dtype = int64\n",
      "c2d.dtype = float64\n"
     ]
    }
   ],
   "source": [
    "print(\"\\n dtype: tipo dos elementos\")\n",
    "print('a1d.dtype =',a1d.dtype)\n",
    "print('b1d.dtype =',b1d.dtype)\n",
    "print('a2d.dtype =',a2d.dtype)\n",
    "print('c2d.dtype =',c2d.dtype)"
   ]
  },
  {
   "cell_type": "code",
   "execution_count": 21,
   "metadata": {
    "colab": {
     "base_uri": "https://localhost:8080/",
     "height": 122
    },
    "colab_type": "code",
    "executionInfo": {
     "elapsed": 641,
     "status": "ok",
     "timestamp": 1595356742140,
     "user": {
      "displayName": "Luis Gustavo Nonato",
      "photoUrl": "",
      "userId": "16109025348268293164"
     },
     "user_tz": 180
    },
    "id": "7xDEtZ4Ou-JO",
    "outputId": "336cdae1-8edc-43bb-fe6d-dba7f9b4418d"
   },
   "outputs": [
    {
     "name": "stdout",
     "output_type": "stream",
     "text": [
      "\n",
      " itemsize: tamanho em bytes de cada elemento\n",
      "a1d.itemsize = 8\n",
      "b1d.itemsize = 8\n",
      "a2d.itemsize = 8\n",
      "c2d.itemsize = 8\n"
     ]
    }
   ],
   "source": [
    "print(\"\\n itemsize: tamanho em bytes de cada elemento\")\n",
    "print('a1d.itemsize =',a1d.itemsize)\n",
    "print('b1d.itemsize =',b1d.itemsize)\n",
    "print('a2d.itemsize =',a2d.itemsize)\n",
    "print('c2d.itemsize =',c2d.itemsize)"
   ]
  },
  {
   "cell_type": "markdown",
   "metadata": {},
   "source": [
    "### Especificando tipo com `astype()`"
   ]
  },
  {
   "cell_type": "code",
   "execution_count": 24,
   "metadata": {},
   "outputs": [
    {
     "name": "stdout",
     "output_type": "stream",
     "text": [
      "d2d.dtype = uint16\n",
      "[[1 0 0]\n",
      " [0 1 0]\n",
      " [0 0 1]]\n",
      "d2d.dtype = int64\n",
      "[[1 0 0]\n",
      " [0 1 0]\n",
      " [0 0 1]]\n",
      "d2d.dtype = uint16\n",
      "[[1 0 0]\n",
      " [0 1 0]\n",
      " [0 0 1]]\n"
     ]
    }
   ],
   "source": [
    "print('d2d.dtype =',d2d.dtype)\n",
    "print(d2d)\n",
    "\n",
    "d2d = d2d.astype(int)\n",
    "print('d2d.dtype =',d2d.dtype)\n",
    "print(d2d)\n",
    "\n",
    "d2d = d2d.astype(np.uint16)\n",
    "print('d2d.dtype =',d2d.dtype)\n",
    "print(d2d)"
   ]
  },
  {
   "cell_type": "markdown",
   "metadata": {
    "colab_type": "text",
    "id": "RNu0ZuBoMv8N"
   },
   "source": [
    "### Dimensão livre\n",
    "\n",
    "Arrays unidimensionais podem ter uma das dimensões livres. "
   ]
  },
  {
   "cell_type": "code",
   "execution_count": 25,
   "metadata": {
    "colab": {
     "base_uri": "https://localhost:8080/",
     "height": 87
    },
    "colab_type": "code",
    "executionInfo": {
     "elapsed": 633,
     "status": "ok",
     "timestamp": 1595356814053,
     "user": {
      "displayName": "Luis Gustavo Nonato",
      "photoUrl": "",
      "userId": "16109025348268293164"
     },
     "user_tz": 180
    },
    "id": "bX_UV1VjMv8P",
    "outputId": "9dab704c-f472-49bb-c699-b38791f018a2"
   },
   "outputs": [
    {
     "name": "stdout",
     "output_type": "stream",
     "text": [
      "a.shape =  (5,)\n",
      "b.shape =  (5, 1)\n",
      "a.ndim =  1\n",
      "b.ndim =  2\n"
     ]
    }
   ],
   "source": [
    "a = np.zeros((5))\n",
    "b = np.zeros((5,1))\n",
    "print('a.shape = ',a.shape)\n",
    "print('b.shape = ',b.shape)\n",
    "print('a.ndim = ',a.ndim)\n",
    "print('b.ndim = ',b.ndim)"
   ]
  },
  {
   "cell_type": "markdown",
   "metadata": {
    "colab_type": "text",
    "id": "BUnGVt2gMv8X"
   },
   "source": [
    "array com shape (5,) possui apenas 1 eixo;<br> \n",
    "array com shape (5,1) possui 2 eixos (ndim = 2) \n",
    "\n",
    "* Este último corresponde a uma matrix com 5 linhas e 1 coluna."
   ]
  },
  {
   "cell_type": "markdown",
   "metadata": {
    "colab_type": "text",
    "id": "MInQig_qMv8Y"
   },
   "source": [
    "### Acessando elementos de um array\n",
    "\n",
    "Similar a sequências, mas usamos apenas um colchete, mesmo para arrays multidimensionais"
   ]
  },
  {
   "cell_type": "code",
   "execution_count": 29,
   "metadata": {},
   "outputs": [
    {
     "data": {
      "text/plain": [
       "array([ 7, 13])"
      ]
     },
     "execution_count": 29,
     "metadata": {},
     "output_type": "execute_result"
    }
   ],
   "source": [
    "a1d[3:]"
   ]
  },
  {
   "cell_type": "code",
   "execution_count": 30,
   "metadata": {},
   "outputs": [
    {
     "name": "stdout",
     "output_type": "stream",
     "text": [
      "[[ 1  3  5  7  9 11]\n",
      " [ 2  4  6  8 10 12]\n",
      " [ 0  1  2  3  4  5]]\n"
     ]
    }
   ],
   "source": [
    "print(a2d)"
   ]
  },
  {
   "cell_type": "code",
   "execution_count": 32,
   "metadata": {
    "colab": {
     "base_uri": "https://localhost:8080/",
     "height": 227
    },
    "colab_type": "code",
    "executionInfo": {
     "elapsed": 686,
     "status": "ok",
     "timestamp": 1595356962834,
     "user": {
      "displayName": "Luis Gustavo Nonato",
      "photoUrl": "",
      "userId": "16109025348268293164"
     },
     "user_tz": 180
    },
    "id": "2s6BhhgqMv8a",
    "outputId": "30eff5dc-fd34-4d4e-c35f-aa89a1b212d3"
   },
   "outputs": [
    {
     "name": "stdout",
     "output_type": "stream",
     "text": [
      "1\n",
      "8\n",
      "4\n"
     ]
    }
   ],
   "source": [
    "print(a2d[ 0, 0])\n",
    "print(a2d[ 1, 3])\n",
    "print(a2d[-1,-2])"
   ]
  },
  {
   "cell_type": "code",
   "execution_count": null,
   "metadata": {},
   "outputs": [],
   "source": [
    "print(a2d[0])"
   ]
  },
  {
   "cell_type": "markdown",
   "metadata": {
    "colab_type": "text",
    "id": "z1oqJnQgMv8g"
   },
   "source": [
    "### Iterando com `for`\n",
    "\n",
    "> percorre cada linha.\n",
    "\n",
    "* Podemos enumerar as linhas para pegar seus índices.\n",
    "* Iterar por elementos exige laço duplo ou achatar (*flatten*) o array."
   ]
  },
  {
   "cell_type": "code",
   "execution_count": 43,
   "metadata": {},
   "outputs": [
    {
     "name": "stdout",
     "output_type": "stream",
     "text": [
      "1\n",
      "3\n",
      "5\n",
      "7\n",
      "13\n"
     ]
    }
   ],
   "source": [
    "for el in a1d:\n",
    "    print(el)"
   ]
  },
  {
   "cell_type": "code",
   "execution_count": 45,
   "metadata": {},
   "outputs": [
    {
     "name": "stdout",
     "output_type": "stream",
     "text": [
      "[ 1  3  5  7  9 11]\n",
      "[ 2  4  6  8 10 12]\n",
      "[0 1 2 3 4 5]\n"
     ]
    }
   ],
   "source": [
    "for el in a2d:\n",
    "    print(el)"
   ]
  },
  {
   "cell_type": "code",
   "execution_count": 47,
   "metadata": {
    "scrolled": true
   },
   "outputs": [
    {
     "name": "stdout",
     "output_type": "stream",
     "text": [
      "Linha 0 = [ 1  3  5  7  9 11]\n",
      "Linha 1 = [ 2  4  6  8 10 12]\n",
      "Linha 2 = [0 1 2 3 4 5]\n"
     ]
    }
   ],
   "source": [
    "# usamos enumerate para retornar a enumeração e cada linha\n",
    "for i, el in enumerate(a2d):\n",
    "    print('Linha', i, '=', el)"
   ]
  },
  {
   "cell_type": "code",
   "execution_count": 48,
   "metadata": {},
   "outputs": [
    {
     "name": "stdout",
     "output_type": "stream",
     "text": [
      "[[1 0 0]\n",
      " [0 1 0]\n",
      " [0 0 1]]\n"
     ]
    }
   ],
   "source": [
    "print(d2d)"
   ]
  },
  {
   "cell_type": "code",
   "execution_count": 49,
   "metadata": {
    "colab": {
     "base_uri": "https://localhost:8080/",
     "height": 1000
    },
    "colab_type": "code",
    "executionInfo": {
     "elapsed": 717,
     "status": "ok",
     "timestamp": 1595290865873,
     "user": {
      "displayName": "Luis Gustavo Nonato",
      "photoUrl": "",
      "userId": "16109025348268293164"
     },
     "user_tz": 180
    },
    "id": "0bUHuspkMv8i",
    "outputId": "0c832ca3-b0f7-400f-e89c-bc66d91355fe"
   },
   "outputs": [
    {
     "name": "stdout",
     "output_type": "stream",
     "text": [
      "elemento  0   0  =  1\n",
      "elemento  0   1  =  0\n",
      "elemento  0   2  =  0\n",
      "elemento  1   0  =  0\n",
      "elemento  1   1  =  1\n",
      "elemento  1   2  =  0\n",
      "elemento  2   0  =  0\n",
      "elemento  2   1  =  0\n",
      "elemento  2   2  =  1\n"
     ]
    }
   ],
   "source": [
    "# iterando utilizando indices\n",
    "for i in range(d2d.shape[0]): \n",
    "    for j in range(d2d.shape[1]):\n",
    "        print('elemento ',i,' ',j,' = ', d2d[i,j])"
   ]
  },
  {
   "cell_type": "code",
   "execution_count": 51,
   "metadata": {},
   "outputs": [
    {
     "name": "stdout",
     "output_type": "stream",
     "text": [
      "0 1\n",
      "1 0\n",
      "2 0\n",
      "3 0\n",
      "4 1\n",
      "5 0\n",
      "6 0\n",
      "7 0\n",
      "8 1\n"
     ]
    }
   ],
   "source": [
    "# o atributo 'flat' coloca todos os elementos como em uma lista\n",
    "for i,el in enumerate(d2d.flat):\n",
    "    print(i,el)"
   ]
  },
  {
   "cell_type": "markdown",
   "metadata": {},
   "source": [
    "---\n",
    "#### <font color=\"blue\">Exercício 2.6</font>\n",
    "\n",
    "Dada uma lista de tuplas, em que cada tupla é formada por um par (str,list). Ver um exemplo abaixo.\n",
    "\n",
    "```\n",
    "l_tup = [('a',[8, 4, 6, 1]), ('b',[1, 2, 3, 4]), ('c',[5, 3, 3, 3])]\n",
    "```\n",
    "\n",
    "* Converta a lista de tuplas em um numpy array bidimensional em que cada lista é transformada em uma linha do array, ignorando a string. \n",
    "* Percorra cada linha do array resultante usando `for`, exibindo na tela os 3 últimos elementos de cada array\n",
    "\n",
    "Seu código deve funcionar para qualquer número de tuplas na lista, assuma que as listas tem sempre o mesmo número de elementos, todos numéricos.\n",
    "\n",
    "---"
   ]
  },
  {
   "cell_type": "code",
   "execution_count": 5,
   "metadata": {},
   "outputs": [
    {
     "name": "stdout",
     "output_type": "stream",
     "text": [
      "[4 6 1]\n",
      "[2 3 4]\n",
      "[3 3 3]\n"
     ]
    }
   ],
   "source": [
    "# Respostas 24/07/2022\n",
    "\n",
    "import numpy as np\n",
    "\n",
    "l_tup = [('a', [8, 4, 6, 1]), ('b', [1, 2, 3 ,4]), ('c', [5, 3, 3, 3])]\n",
    "m_tup = np.array([tup[1] for tup in l_tup])\n",
    "\n",
    "for m in m_tup:\n",
    "    print(m[-3:])"
   ]
  },
  {
   "cell_type": "markdown",
   "metadata": {
    "colab_type": "text",
    "id": "VyaFfVKsMv8o"
   },
   "source": [
    "### *Slicing* em arrays\n",
    "\n",
    "- como em listas, mas em múltiplas dimensões\n",
    "- omitir um índice corresponde a recuperar toda a dimensão omitida\n",
    "- um slice é uma \"visão\" (__VIEW__) do array original, como uma referência, isto é, o dado *não é copiado*"
   ]
  },
  {
   "cell_type": "code",
   "execution_count": 52,
   "metadata": {
    "colab": {
     "base_uri": "https://localhost:8080/",
     "height": 367
    },
    "colab_type": "code",
    "executionInfo": {
     "elapsed": 569,
     "status": "ok",
     "timestamp": 1595607963347,
     "user": {
      "displayName": "Luis Gustavo Nonato",
      "photoUrl": "",
      "userId": "16109025348268293164"
     },
     "user_tz": 180
    },
    "id": "-QLQN4B7Mv8s",
    "outputId": "21a15a1d-0810-4012-c3c6-1023a26ba6ac"
   },
   "outputs": [
    {
     "name": "stdout",
     "output_type": "stream",
     "text": [
      "[[ 1  3  5  7  9]\n",
      " [ 2  4  6  8 12]\n",
      " [ 0  1  2  3  4]]\n"
     ]
    }
   ],
   "source": [
    "a2d = np.array(  [[1,3,5,7,9],     # criando um array bidimensional a partir de uma\n",
    "                  [2,4,6,8,12],  # lista de listas\n",
    "                  [0,1,2,3,4]])\n",
    "print(a2d)"
   ]
  },
  {
   "cell_type": "code",
   "execution_count": 55,
   "metadata": {},
   "outputs": [
    {
     "name": "stdout",
     "output_type": "stream",
     "text": [
      "[ 2  4  6  8 12]\n",
      "[ 2  4  6  8 12]\n",
      "\n",
      "recuperando 2 linhas:\n",
      "[[ 2  4  6  8 12]\n",
      " [ 0  1  2  3  4]]\n"
     ]
    }
   ],
   "source": [
    "# slicing de linhas\n",
    "print(a2d[1])\n",
    "print(a2d[1,])\n",
    "\n",
    "print(\"\\nrecuperando 2 linhas:\")\n",
    "print(a2d[1:3,:])"
   ]
  },
  {
   "cell_type": "code",
   "execution_count": 58,
   "metadata": {},
   "outputs": [
    {
     "name": "stdout",
     "output_type": "stream",
     "text": [
      "[5 6 2]\n",
      "\n",
      "[[3 5 7]\n",
      " [4 6 8]\n",
      " [1 2 3]]\n"
     ]
    }
   ],
   "source": [
    "# slicing de colunas\n",
    "print(a2d[:,2]) # retorna a coluna como um array 1d\n",
    "print()\n",
    "print(a2d[:,1:4])"
   ]
  },
  {
   "cell_type": "code",
   "execution_count": 59,
   "metadata": {},
   "outputs": [
    {
     "name": "stdout",
     "output_type": "stream",
     "text": [
      "[[ 4  6  8 12]\n",
      " [ 1  2  3  4]]\n"
     ]
    }
   ],
   "source": [
    "# slicing de blocos\n",
    "print(a2d[1:,1:5])"
   ]
  },
  {
   "cell_type": "code",
   "execution_count": 62,
   "metadata": {},
   "outputs": [
    {
     "name": "stdout",
     "output_type": "stream",
     "text": [
      "[[1 3 5 7 9]\n",
      " [0 1 2 3 4]]\n",
      "[[7 3 5]\n",
      " [8 4 6]\n",
      " [3 1 2]]\n"
     ]
    }
   ],
   "source": [
    "# slicing passando uma lista personalizada (em ordem)\n",
    "print(a2d[ [0,2] , :]) \n",
    "\n",
    "# abaixo retorna-se as coluans 3, 1 e 2, nessa ordem\n",
    "print(a2d[ : , [3,1,2]]) "
   ]
  },
  {
   "cell_type": "markdown",
   "metadata": {
    "colab_type": "text",
    "id": "iQ6dzl6aMv83"
   },
   "source": [
    "### Métodos \n",
    "\n",
    "* `ravel`:  concatena as linhas da matriz em um array 1d, mantendo a referência\n",
    "* `flatten`: concatena as linhas da matriz em um array 1d, retornando uma cópia\n",
    "* `reshape`: refaz as dimensões, mantendo o número de elementos\n",
    "\n",
    "OBS: o atributo `flat` usado anteriormente é um \"iterador\" não gerando um array"
   ]
  },
  {
   "cell_type": "code",
   "execution_count": 69,
   "metadata": {},
   "outputs": [
    {
     "name": "stdout",
     "output_type": "stream",
     "text": [
      "[[ 0  1  2  3  4]\n",
      " [ 5  6  7  8  9]\n",
      " [10 11 12 13 14]\n",
      " [15 16 17 18 19]]\n"
     ]
    }
   ],
   "source": [
    "# gera array com 12 elementos, e redimensiona para uma matriz 3x4\n",
    "a = np.arange(20).reshape(4,5)\n",
    "print(a)"
   ]
  },
  {
   "cell_type": "code",
   "execution_count": 70,
   "metadata": {},
   "outputs": [
    {
     "name": "stdout",
     "output_type": "stream",
     "text": [
      "[ 0  1  2  3  4  5  6  7  8  9 10 11 12 13 14 15 16 17 18 19]\n"
     ]
    }
   ],
   "source": [
    "# atribuímos a b, mas mantendo a referencia para `a`\n",
    "b = a.ravel()\n",
    "print(b)\n"
   ]
  },
  {
   "cell_type": "code",
   "execution_count": 71,
   "metadata": {},
   "outputs": [
    {
     "name": "stdout",
     "output_type": "stream",
     "text": [
      "\n",
      " [   0    1    2    3 1000    5    6    7    8    9   10   11   12   13\n",
      "   14   15   16   17   18   19]\n",
      "[[   0    1    2    3 1000]\n",
      " [   5    6    7    8    9]\n",
      " [  10   11   12   13   14]\n",
      " [  15   16   17   18   19]]\n"
     ]
    }
   ],
   "source": [
    "b[4] = 1000\n",
    "print('\\n',b)\n",
    "print(a)"
   ]
  },
  {
   "cell_type": "code",
   "execution_count": 72,
   "metadata": {},
   "outputs": [
    {
     "name": "stdout",
     "output_type": "stream",
     "text": [
      "[ 999    1    2    3 1000    5    6    7    8    9   10   11   12   13\n",
      "   14   15   16   17   18   19]\n",
      "\n",
      " [[   0    1    2    3 1000]\n",
      " [   5    6    7    8    9]\n",
      " [  10   11   12   13   14]\n",
      " [  15   16   17   18   19]]\n"
     ]
    }
   ],
   "source": [
    "# atribui a c uma cópia\n",
    "c = a.flatten()\n",
    "\n",
    "c[0] = 999\n",
    "print(c)\n",
    "print('\\n',a)"
   ]
  },
  {
   "cell_type": "markdown",
   "metadata": {
    "colab_type": "text",
    "id": "e8d7O8aZMv9F"
   },
   "source": [
    "### Transposta com atributo `T` "
   ]
  },
  {
   "cell_type": "code",
   "execution_count": 73,
   "metadata": {
    "colab": {
     "base_uri": "https://localhost:8080/",
     "height": 227
    },
    "colab_type": "code",
    "executionInfo": {
     "elapsed": 590,
     "status": "ok",
     "timestamp": 1595608755188,
     "user": {
      "displayName": "Luis Gustavo Nonato",
      "photoUrl": "",
      "userId": "16109025348268293164"
     },
     "user_tz": 180
    },
    "id": "ahaKozUVMv9F",
    "outputId": "cb1be77e-2bb9-4002-b27c-c2736d35c4c8"
   },
   "outputs": [
    {
     "name": "stdout",
     "output_type": "stream",
     "text": [
      "[[ 0  1  2  3  4]\n",
      " [ 5  6  7  8  9]\n",
      " [10 11 12 13 14]]\n",
      "(3, 5)\n",
      "\n",
      "Transposta\n",
      "[[ 0  5 10]\n",
      " [ 1  6 11]\n",
      " [ 2  7 12]\n",
      " [ 3  8 13]\n",
      " [ 4  9 14]]\n",
      "(5, 3)\n"
     ]
    }
   ],
   "source": [
    "a = np.arange(15).reshape(3,5)\n",
    "print(a)\n",
    "print(a.shape)\n",
    "\n",
    "print('\\nTransposta')\n",
    "print(a.T)\n",
    "print(a.T.shape)"
   ]
  },
  {
   "cell_type": "markdown",
   "metadata": {
    "colab_type": "text",
    "id": "AM3gkSb1Mv9L"
   },
   "source": [
    "### Filtragem com operador lógico\n",
    "\n",
    "Um array de valores booleanos (máscara booleana) pode ser usado para selecionar elementos em um array.\n",
    "\n",
    "Úteis para atribuições de maneira eficiente e elegante.\n"
   ]
  },
  {
   "cell_type": "code",
   "execution_count": 74,
   "metadata": {
    "colab": {
     "base_uri": "https://localhost:8080/",
     "height": 315
    },
    "colab_type": "code",
    "executionInfo": {
     "elapsed": 574,
     "status": "ok",
     "timestamp": 1595608955755,
     "user": {
      "displayName": "Luis Gustavo Nonato",
      "photoUrl": "",
      "userId": "16109025348268293164"
     },
     "user_tz": 180
    },
    "id": "hWYbbzNbMv9N",
    "outputId": "fc8bdc43-b249-45ce-cafc-4a306f794b84"
   },
   "outputs": [
    {
     "name": "stdout",
     "output_type": "stream",
     "text": [
      "[[ 0  1  2  3  4  5]\n",
      " [ 6  7  8  9 10 11]\n",
      " [12 13 14 15 16 17]]\n"
     ]
    }
   ],
   "source": [
    "# gerando numeros entre 0 e 17 e reformatando em uma matriz 3x6\n",
    "x = np.arange(18).reshape(3,6)\n",
    "print(x)"
   ]
  },
  {
   "cell_type": "code",
   "execution_count": 75,
   "metadata": {},
   "outputs": [
    {
     "name": "stdout",
     "output_type": "stream",
     "text": [
      "\n",
      "Mascara booleana da matriz para valores maiores que 7\n",
      "[[False False False False False False]\n",
      " [False False  True  True  True  True]\n",
      " [ True  True  True  True  True  True]]\n"
     ]
    }
   ],
   "source": [
    "# calculando uma máscara booleana onde o valor True \n",
    "# corresponde aos elementos maiores que 7\n",
    "mask = (x > 7)\n",
    "print('\\nMascara booleana da matriz para valores maiores que 7')\n",
    "print(mask)"
   ]
  },
  {
   "cell_type": "code",
   "execution_count": 80,
   "metadata": {},
   "outputs": [
    {
     "name": "stdout",
     "output_type": "stream",
     "text": [
      "\n",
      "Recuperando apenas os elementos maiores que 7\n",
      "[-1 -1 -1 -1 -1 -1 -1 -1 -1 -1]\n",
      "\n",
      "Modificando apenas os elementos maiores que 7\n",
      "[[ 0  1  2  3  4  5]\n",
      " [ 6  7 -1 -1 -1 -1]\n",
      " [-1 -1 -1 -1 -1 -1]]\n",
      "Filtrando pela negacao da mascara\n",
      "[0 1 2 3 4 5 6 7]\n"
     ]
    }
   ],
   "source": [
    "print('\\nRecuperando apenas os elementos maiores que 7')\n",
    "print(x[mask])\n",
    "\n",
    "print('\\nModificando apenas os elementos maiores que 7')\n",
    "x[mask] = -1\n",
    "print(x)\n",
    "\n",
    "print('Filtrando pela negacao da mascara')\n",
    "# filtrando e atribuindo a novo array elementos menores ou iguais a 7\n",
    "y = x[~mask]\n",
    "print(y)"
   ]
  },
  {
   "cell_type": "markdown",
   "metadata": {
    "colab_type": "text",
    "id": "UCBuVSK_Mv9S"
   },
   "source": [
    "### Visões  (__view__)\n",
    "\n",
    "Slicing cria uma __view__ de um array, não uma cópia\n",
    "- Uma __view__ é criada ao fatiar (slicing) o array\n",
    "- Uma __view__ é uma referência a uma parte de um array\n",
    "- Alterar elementos da __view__ afeta o array original\n",
    "- É possível copiar usando `numpy.copy()`"
   ]
  },
  {
   "cell_type": "code",
   "execution_count": 82,
   "metadata": {
    "colab": {
     "base_uri": "https://localhost:8080/",
     "height": 385
    },
    "colab_type": "code",
    "executionInfo": {
     "elapsed": 618,
     "status": "ok",
     "timestamp": 1595609198137,
     "user": {
      "displayName": "Luis Gustavo Nonato",
      "photoUrl": "",
      "userId": "16109025348268293164"
     },
     "user_tz": 180
    },
    "id": "QCR_dZyeMv9T",
    "outputId": "88c2dddc-c491-4d38-e614-492ded978ea4",
    "scrolled": true
   },
   "outputs": [
    {
     "name": "stdout",
     "output_type": "stream",
     "text": [
      "[[8 7 0 4 6 3]\n",
      " [3 1 1 2 2 8]\n",
      " [5 1 1 9 3 0]]\n"
     ]
    }
   ],
   "source": [
    "# matriz com 3x6 números aleatórios\n",
    "# aqui usamos o método randint do numpy\n",
    "x = np.random.randint(0,10,18).reshape(3,6)\n",
    "print(x)\n",
    "\n",
    "# criando uma view\n",
    "y = x[1:,:3]\n",
    "\n",
    "# criando uma cópia\n",
    "z = np.copy(x[1:,:3])"
   ]
  },
  {
   "cell_type": "code",
   "execution_count": 83,
   "metadata": {},
   "outputs": [
    {
     "name": "stdout",
     "output_type": "stream",
     "text": [
      "[[3 1 1]\n",
      " [5 1 1]]\n",
      "[[3 1 1]\n",
      " [5 1 1]]\n"
     ]
    }
   ],
   "source": [
    "print(y)\n",
    "print(z)"
   ]
  },
  {
   "cell_type": "code",
   "execution_count": 85,
   "metadata": {},
   "outputs": [
    {
     "name": "stdout",
     "output_type": "stream",
     "text": [
      "\n",
      "Elementos [1,1] modificados para 99:\n",
      "View:\n",
      " [[ 3  1  1]\n",
      " [ 5 99  1]]\n",
      "\n",
      "Elementos [0,1] modificados para 88:\n",
      "Cópia:\n",
      " [[ 3 88  1]\n",
      " [ 5  1  1]]\n",
      "\n",
      "Matriz original é afetada pela view:\n",
      "[[ 8  7  0  4  6  3]\n",
      " [ 3  1  1  2  2  8]\n",
      " [ 5 99  1  9  3  0]]\n"
     ]
    }
   ],
   "source": [
    "# modificando um elemento da view\n",
    "y[1,1] = 99\n",
    "# modificando um elemento da cópia\n",
    "z[0,1] = 88\n",
    "\n",
    "print('\\nElementos [1,1] modificados para 99:')\n",
    "print('View:\\n',y)\n",
    "print('\\nElementos [0,1] modificados para 88:')\n",
    "print('Cópia:\\n',z)\n",
    "\n",
    "print('\\nMatriz original é afetada pela view:')\n",
    "print(x)"
   ]
  },
  {
   "cell_type": "markdown",
   "metadata": {},
   "source": [
    "---\n",
    "\n",
    "#### <font color=\"blue\">Exercício 2.7</font>\n",
    "\n",
    "Use o método `randint` do `numpy` para criar um array bidimensional com 6x10 elementos inteiros entre 1 e 5. \n",
    "\n",
    "A seguir, considerando apenas a submatriz formada pelas linhas: 2 até 6 e as colunas 2, 5 e 8, copie para uma matriz unidimensional os valores maiores ou iguais a 4.\n",
    "\n",
    "---"
   ]
  },
  {
   "cell_type": "code",
   "execution_count": 12,
   "metadata": {},
   "outputs": [
    {
     "name": "stdout",
     "output_type": "stream",
     "text": [
      "[5 5 5 4 4 4]\n"
     ]
    }
   ],
   "source": [
    "import numpy as np\n",
    "\n",
    "rand_array = np.random.randint(1, 6, size=(6, 10))\n",
    "subm_array = rand_array[1:, [1, 4, 7]]\n",
    "subm_array = subm_array[subm_array >= 4]\n",
    "\n",
    "print(subm_array)"
   ]
  }
 ],
 "metadata": {
  "colab": {
   "collapsed_sections": [],
   "name": "Numpy I .ipynb",
   "provenance": []
  },
  "kernelspec": {
   "display_name": "Python 3.8.10 64-bit",
   "language": "python",
   "name": "python3"
  },
  "language_info": {
   "codemirror_mode": {
    "name": "ipython",
    "version": 3
   },
   "file_extension": ".py",
   "mimetype": "text/x-python",
   "name": "python",
   "nbconvert_exporter": "python",
   "pygments_lexer": "ipython3",
   "version": "3.8.10"
  },
  "vscode": {
   "interpreter": {
    "hash": "31f2aee4e71d21fbe5cf8b01ff0e069b9275f58929596ceb00d14d90e3e16cd6"
   }
  }
 },
 "nbformat": 4,
 "nbformat_minor": 1
}

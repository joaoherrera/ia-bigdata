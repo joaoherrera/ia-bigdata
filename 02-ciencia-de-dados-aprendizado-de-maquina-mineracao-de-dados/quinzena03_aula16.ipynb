{
  "nbformat": 4,
  "nbformat_minor": 0,
  "metadata": {
    "colab": {
      "name": "MBA-MD-2022-PARTE8-ESCALABILIDADE.ipynb",
      "provenance": [],
      "collapsed_sections": []
    },
    "kernelspec": {
      "name": "python3",
      "display_name": "Python 3"
    },
    "language_info": {
      "name": "python"
    }
  },
  "cells": [
    {
      "cell_type": "markdown",
      "metadata": {
        "id": "eEiIE9ze6CEZ"
      },
      "source": [
        "# <font color=\"red\"> MBA em IA e Big Data</font>\n",
        "## <span style=\"color:red\">Curso 2 - Ciência de Dados, Aprendizado de Máquina e Mineração de Dados</span>\n",
        "\n",
        "### <span style=\"color:darkred\">Mineração de Dados</span>\n",
        "\n",
        "#### Material de Apoio - Testando Técnicas para Análise de Grandes Bases de Dados (ver Vídeo)\n",
        "\n",
        "*Ricardo M. Marcacini*<br>\n",
        "*ICMC/USP São Carlos*"
      ]
    },
    {
      "cell_type": "markdown",
      "metadata": {
        "id": "01S08te4Fdbt"
      },
      "source": [
        "# Bibliotecas"
      ]
    },
    {
      "cell_type": "code",
      "metadata": {
        "id": "flGNSgQ6_11-"
      },
      "source": [
        "import numpy as np\n",
        "import pandas as pd\n",
        "import seaborn as sns\n",
        "import matplotlib.pyplot as plt\n",
        "from sklearn.neighbors import KNeighborsClassifier\n",
        "from sklearn.model_selection import train_test_split\n",
        "from sklearn.metrics import classification_report,plot_confusion_matrix,confusion_matrix\n",
        "from sklearn import preprocessing\n",
        "import numpy as np\n",
        "from sklearn.dummy import DummyClassifier\n",
        "from sklearn.cluster import KMeans\n",
        "from sklearn.cluster import MiniBatchKMeans\n",
        "from sklearn.metrics.cluster import adjusted_rand_score\n",
        "from sklearn.cluster import Birch\n",
        "from sklearn.datasets import make_blobs\n",
        "import scipy\n",
        "from scipy.spatial import distance_matrix \n",
        "from scipy.cluster import hierarchy \n",
        "from scipy.spatial.distance import pdist"
      ],
      "execution_count": null,
      "outputs": []
    },
    {
      "cell_type": "markdown",
      "metadata": {
        "id": "0A96l2nacLvp"
      },
      "source": [
        "# Acelerando cálculo de distâncias\n",
        "### Comparando KNN com e sem KD-Tree"
      ]
    },
    {
      "cell_type": "markdown",
      "metadata": {
        "id": "IZONNkF9_JtJ"
      },
      "source": [
        "Gerando um conjunto de dados com 250 mil objetos e 2 atributos"
      ]
    },
    {
      "cell_type": "code",
      "metadata": {
        "id": "xuo8jWeXcAro"
      },
      "source": [
        "X, y = make_blobs(n_samples=250000, centers=3, n_features=2, random_state=0)"
      ],
      "execution_count": null,
      "outputs": []
    },
    {
      "cell_type": "markdown",
      "metadata": {
        "id": "hM8aH0B0_OEe"
      },
      "source": [
        "Dividindo em treino (90%) e teste (10%)"
      ]
    },
    {
      "cell_type": "code",
      "metadata": {
        "id": "UQ9ce0jIch2t"
      },
      "source": [
        "X_train, X_test, y_train, y_test = train_test_split(X, y, test_size=0.1, random_state=42)"
      ],
      "execution_count": null,
      "outputs": []
    },
    {
      "cell_type": "code",
      "metadata": {
        "colab": {
          "base_uri": "https://localhost:8080/"
        },
        "id": "c2kpKohics5L",
        "outputId": "053bb9bd-4a7a-47d3-dcd4-2cb481f4d8dc"
      },
      "source": [
        "X_train.shape"
      ],
      "execution_count": null,
      "outputs": [
        {
          "output_type": "execute_result",
          "data": {
            "text/plain": [
              "(225000, 2)"
            ]
          },
          "metadata": {
            "tags": []
          },
          "execution_count": 4
        }
      ]
    },
    {
      "cell_type": "code",
      "metadata": {
        "colab": {
          "base_uri": "https://localhost:8080/"
        },
        "id": "x1k7rj2bcupd",
        "outputId": "73af5cb4-076e-4363-9b07-59ce3a920317"
      },
      "source": [
        "X_test.shape"
      ],
      "execution_count": null,
      "outputs": [
        {
          "output_type": "execute_result",
          "data": {
            "text/plain": [
              "(25000, 2)"
            ]
          },
          "metadata": {
            "tags": []
          },
          "execution_count": 5
        }
      ]
    },
    {
      "cell_type": "markdown",
      "metadata": {
        "id": "8MbyaMkg_T6G"
      },
      "source": [
        "Instanciando knn com e sem kd-tree"
      ]
    },
    {
      "cell_type": "code",
      "metadata": {
        "colab": {
          "base_uri": "https://localhost:8080/"
        },
        "id": "68wWERd8cIDR",
        "outputId": "948d5fb3-f238-4754-9bdb-602934127173"
      },
      "source": [
        "# sem kd-tree\n",
        "knn1 = KNeighborsClassifier(n_neighbors=3,algorithm='brute')\n",
        "knn1.fit(X_train,y_train)\n",
        "\n",
        "# com kd-tree\n",
        "knn2 = KNeighborsClassifier(n_neighbors=3,algorithm='kd_tree')\n",
        "knn2.fit(X_train,y_train)"
      ],
      "execution_count": null,
      "outputs": [
        {
          "output_type": "execute_result",
          "data": {
            "text/plain": [
              "KNeighborsClassifier(algorithm='kd_tree', leaf_size=30, metric='minkowski',\n",
              "                     metric_params=None, n_jobs=None, n_neighbors=3, p=2,\n",
              "                     weights='uniform')"
            ]
          },
          "metadata": {
            "tags": []
          },
          "execution_count": 6
        }
      ]
    },
    {
      "cell_type": "markdown",
      "metadata": {
        "id": "c3F5WK1y_XF1"
      },
      "source": [
        "Comparando o tempo de classificação"
      ]
    },
    {
      "cell_type": "code",
      "metadata": {
        "colab": {
          "base_uri": "https://localhost:8080/"
        },
        "id": "eMXW-a5Kc7ZD",
        "outputId": "2caaf2fb-093d-43c2-caf4-73275e4a13b8"
      },
      "source": [
        "%time knn1.predict(X_test)"
      ],
      "execution_count": null,
      "outputs": [
        {
          "output_type": "stream",
          "text": [
            "CPU times: user 1min 21s, sys: 5.56 s, total: 1min 27s\n",
            "Wall time: 1min 13s\n"
          ],
          "name": "stdout"
        },
        {
          "output_type": "execute_result",
          "data": {
            "text/plain": [
              "array([1, 1, 2, ..., 1, 2, 0])"
            ]
          },
          "metadata": {
            "tags": []
          },
          "execution_count": 7
        }
      ]
    },
    {
      "cell_type": "code",
      "metadata": {
        "colab": {
          "base_uri": "https://localhost:8080/"
        },
        "id": "oDiVpu4gdg7k",
        "outputId": "a911349d-a5a1-421d-99f8-4d710c9d211a"
      },
      "source": [
        "%time knn2.predict(X_test)"
      ],
      "execution_count": null,
      "outputs": [
        {
          "output_type": "stream",
          "text": [
            "CPU times: user 872 ms, sys: 30.6 ms, total: 902 ms\n",
            "Wall time: 877 ms\n"
          ],
          "name": "stdout"
        },
        {
          "output_type": "execute_result",
          "data": {
            "text/plain": [
              "array([1, 1, 2, ..., 1, 2, 0])"
            ]
          },
          "metadata": {
            "tags": []
          },
          "execution_count": 8
        }
      ]
    },
    {
      "cell_type": "markdown",
      "metadata": {
        "id": "aIfJ0xwSedWF"
      },
      "source": [
        "# Amostragem de Dados\n",
        "### Comparando k-Means com Mini-Batch k-Means"
      ]
    },
    {
      "cell_type": "markdown",
      "metadata": {
        "id": "KMLC5Ok__aSl"
      },
      "source": [
        "Gerando um conjunto de dados com 5 milhões de objetos e 2 atributos."
      ]
    },
    {
      "cell_type": "code",
      "metadata": {
        "id": "NAHxd6UKfPH1"
      },
      "source": [
        "X, y = make_blobs(n_samples=5000000, centers=3, n_features=2, random_state=0)"
      ],
      "execution_count": null,
      "outputs": []
    },
    {
      "cell_type": "markdown",
      "metadata": {
        "id": "uB9G2et9_ePW"
      },
      "source": [
        "Verificando o tempo de agrupamento obtido com o k-means."
      ]
    },
    {
      "cell_type": "code",
      "metadata": {
        "colab": {
          "base_uri": "https://localhost:8080/"
        },
        "id": "1zSprjNHeVS_",
        "outputId": "a79c7fa8-16c9-44e0-fcb2-d2b79371b0ea"
      },
      "source": [
        "%time kmeans = KMeans(n_clusters=3, random_state=0).fit(X)"
      ],
      "execution_count": null,
      "outputs": [
        {
          "output_type": "stream",
          "text": [
            "CPU times: user 27.3 s, sys: 2.77 s, total: 30 s\n",
            "Wall time: 26.4 s\n"
          ],
          "name": "stdout"
        }
      ]
    },
    {
      "cell_type": "markdown",
      "metadata": {
        "id": "QhxKfsyV_iYu"
      },
      "source": [
        "Verificando o tempo de agrupamento obtido com o MiniBatchKMeans"
      ]
    },
    {
      "cell_type": "code",
      "metadata": {
        "colab": {
          "base_uri": "https://localhost:8080/"
        },
        "id": "ORDW8eEPfESx",
        "outputId": "acde4d29-3d4e-4aa3-a6a7-9bd80080d16f"
      },
      "source": [
        "%time mini_batch_kmeans = MiniBatchKMeans(n_clusters=3, random_state=0, batch_size=10000).fit(X)"
      ],
      "execution_count": null,
      "outputs": [
        {
          "output_type": "stream",
          "text": [
            "CPU times: user 2.19 s, sys: 170 ms, total: 2.36 s\n",
            "Wall time: 2.21 s\n"
          ],
          "name": "stdout"
        }
      ]
    },
    {
      "cell_type": "markdown",
      "metadata": {
        "id": "8qJzj7cl_l_2"
      },
      "source": [
        "Vamos comparar também a qualidade dos agrupamentos obtidos"
      ]
    },
    {
      "cell_type": "code",
      "metadata": {
        "colab": {
          "base_uri": "https://localhost:8080/"
        },
        "id": "iDrTSdcRfvIN",
        "outputId": "35819d82-5458-4f91-c004-3feda70bc18b"
      },
      "source": [
        "print('ARI do kMeans=',adjusted_rand_score(kmeans.labels_, y))\n",
        "print('ARI do Mini-Batch-kMeans=',adjusted_rand_score(mini_batch_kmeans.labels_, y))"
      ],
      "execution_count": null,
      "outputs": [
        {
          "output_type": "stream",
          "text": [
            "ARI do kMeans= 0.774973843535662\n",
            "ARI do Mini-Batch-kMeans= 0.774977370878373\n"
          ],
          "name": "stdout"
        }
      ]
    },
    {
      "cell_type": "markdown",
      "metadata": {
        "id": "dqQM2NkCgYH0"
      },
      "source": [
        "# Representação Condensada dos Dados\n",
        "## Testando o BIRCH"
      ]
    },
    {
      "cell_type": "markdown",
      "metadata": {
        "id": "80W2h4Ql_qc-"
      },
      "source": [
        "Gerando um conjunto de dados com 500 mil objetos e 2 atributos."
      ]
    },
    {
      "cell_type": "code",
      "metadata": {
        "id": "e0gU1Av_hKR2"
      },
      "source": [
        "X, y = make_blobs(n_samples=500000, centers=3, n_features=2, random_state=0)"
      ],
      "execution_count": null,
      "outputs": []
    },
    {
      "cell_type": "markdown",
      "metadata": {
        "id": "c9c-7xOI_uh2"
      },
      "source": [
        "Analisando o tempo de agrupamento obtido com o Birch"
      ]
    },
    {
      "cell_type": "code",
      "metadata": {
        "colab": {
          "base_uri": "https://localhost:8080/"
        },
        "id": "N6Sbz2VlgmFU",
        "outputId": "45dbe46c-b662-4e67-ec03-5d0af6f5cf34"
      },
      "source": [
        "%time birch = Birch(n_clusters=3,branching_factor=25,threshold=1.0).fit(X)"
      ],
      "execution_count": null,
      "outputs": [
        {
          "output_type": "stream",
          "text": [
            "CPU times: user 8.83 s, sys: 101 ms, total: 8.93 s\n",
            "Wall time: 8.85 s\n"
          ],
          "name": "stdout"
        }
      ]
    },
    {
      "cell_type": "code",
      "metadata": {
        "colab": {
          "base_uri": "https://localhost:8080/"
        },
        "id": "eJPLD2ePiiFM",
        "outputId": "2f0a4757-7fda-44e0-ce25-c7bf2b22d114"
      },
      "source": [
        "print('ARI do BIRCH=',adjusted_rand_score(birch.labels_, y))"
      ],
      "execution_count": null,
      "outputs": [
        {
          "output_type": "stream",
          "text": [
            "ARI do BIRCH= 0.752659006418802\n"
          ],
          "name": "stdout"
        }
      ]
    },
    {
      "cell_type": "markdown",
      "metadata": {
        "id": "MbWsMMUl_z0N"
      },
      "source": [
        "Verificando os centros de cada subcluster do Birch"
      ]
    },
    {
      "cell_type": "code",
      "metadata": {
        "colab": {
          "base_uri": "https://localhost:8080/"
        },
        "id": "IZ3K8Tjigo93",
        "outputId": "4dd5a986-7723-481b-dcab-27e378ea88fa"
      },
      "source": [
        "birch.subcluster_centers_"
      ],
      "execution_count": null,
      "outputs": [
        {
          "output_type": "execute_result",
          "data": {
            "text/plain": [
              "array([[-1.73104751,  3.91528953],\n",
              "       [ 1.2995008 ,  1.05082094],\n",
              "       [ 0.04652435,  4.57569911],\n",
              "       [ 2.98231652,  0.24925057],\n",
              "       [ 2.75012674,  1.82594824],\n",
              "       [ 1.82403444,  4.05941591],\n",
              "       [ 1.40020952,  5.51288545],\n",
              "       [-1.65216953,  1.68880442],\n",
              "       [ 0.89248219,  2.85205458],\n",
              "       [ 1.42194045, -0.36982932],\n",
              "       [-2.7870488 ,  2.87220378],\n",
              "       [-0.70545819,  2.82112769]])"
            ]
          },
          "metadata": {
            "tags": []
          },
          "execution_count": 16
        }
      ]
    },
    {
      "cell_type": "code",
      "metadata": {
        "colab": {
          "base_uri": "https://localhost:8080/"
        },
        "id": "hNL6W3DZoSLE",
        "outputId": "2452d1c0-bb7b-411c-dd59-0f9e664dbc93"
      },
      "source": [
        "birch.subcluster_centers_.shape"
      ],
      "execution_count": null,
      "outputs": [
        {
          "output_type": "execute_result",
          "data": {
            "text/plain": [
              "(12, 2)"
            ]
          },
          "metadata": {
            "tags": []
          },
          "execution_count": 17
        }
      ]
    },
    {
      "cell_type": "markdown",
      "metadata": {
        "id": "pvu1eytH_4n3"
      },
      "source": [
        "Usando os subclusters do Birch para permitir executar outra tarefa que é custosa computacionalmente, como agrupamento hierárquico aglomerativo."
      ]
    },
    {
      "cell_type": "code",
      "metadata": {
        "colab": {
          "base_uri": "https://localhost:8080/",
          "height": 268
        },
        "id": "J_G0F7I-j-V7",
        "outputId": "f731d4d1-2de9-4777-b3a2-9854e2d871c5"
      },
      "source": [
        "M = pdist(birch.subcluster_centers_) # calcula matriz de dissimilaridade\n",
        "Z = hierarchy.linkage(M, 'complete')\n",
        "dendrogram = hierarchy.dendrogram(Z)"
      ],
      "execution_count": null,
      "outputs": [
        {
          "output_type": "display_data",
          "data": {
            "image/png": "[encoded data removed]",
            "text/plain": [
              "<Figure size 432x288 with 1 Axes>"
            ]
          },
          "metadata": {
            "tags": [],
            "needs_background": "light"
          }
        }
      ]
    }
  ]
}
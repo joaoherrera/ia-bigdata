{
  "cells": [
    {
      "cell_type": "markdown",
      "metadata": {
        "id": "pAhZAIxmtSU8"
      },
      "source": [
        "# <font color=\"red\"> MBA em IA e Big Data</font>\n",
        "## <span style=\"color:red\">Linguagens e Ferramentas para Inteligência Artificial e Big Data (Python e SQL)</span>\n",
        "\n",
        "### <span style=\"color:darkred\">Python: referências, operações e funções</span>\n",
        "\n",
        "## Avaliação\n",
        "\n",
        "*Leandro Franco de Souza*<br>\n",
        "*ICMC/USP São Carlos*\n",
        "\n",
        "*(com material do Prof. Moacir Antonelli Ponti)*"
      ]
    },
    {
      "cell_type": "markdown",
      "metadata": {
        "id": "miUxYVS8tSU9"
      },
      "source": [
        "<font color='red'> As respostas devem ser fornecidas no Moodle. O notebook é apenas para a implementação dos códigos que fornecerão as respostas</font>"
      ]
    },
    {
      "cell_type": "markdown",
      "metadata": {
        "id": "znRlqp3ntSU-"
      },
      "source": [
        "## Questão 1\n",
        "\n",
        "Considere que temos tuplas contendo registros de passageiros em um vôo. As tuplas são organizadas de forma que os elementos estão sempre nessa ordem:\n",
        "* Abreviação do país com 3 letras (ex. 'BRA', 'ARG')\n",
        "* Passaporte\n",
        "* Mês de vencimento do passaporte\n",
        "* Ano de vencimento do passaporte\n",
        "* Valor pago pelo trecho\n",
        "\n",
        "Seja uma lista contendo tuplas do tipo acima.  Calcule o valor médio pago pelo trecho entre todos os passageiros\n",
        "\n",
        "a) 996.4<br>\n",
        "b) 999.99<br>\n",
        "c) 1009.1<br>\n",
        "d) 990.50"
      ]
    },
    {
      "cell_type": "code",
      "execution_count": 1,
      "metadata": {
        "id": "YyUU1M4ltSU-",
        "outputId": "623ca07d-1ae9-43ea-d5c3-ac963b159130"
      },
      "outputs": [
        {
          "data": {
            "text/plain": [
              "[('BRA', 'DFD-2992', 12, 2021, 999.0),\n",
              " ('ARG', '1112992', 1, 2022, 899.0),\n",
              " ('EUA', 'AB3DA000', 11, 2021, 1023.0),\n",
              " ('BRA', 'GCG-1112', 9, 2021, 900.0),\n",
              " ('ESP', 'DFD-2992', 11, 2021, 899.0),\n",
              " ('URU', 'AEC423', 3, 2023, 699.0),\n",
              " ('PAR', 'DFD-2992', 2, 2025, 1099.0),\n",
              " ('ARL', 'X123111Z', 10, 2021, 954.0),\n",
              " ('URU', 'BAC203', 2, 2025, 1011.0),\n",
              " ('ARG', '3112323', 10, 2021, 1250.0),\n",
              " ('URU', 'ABC123', 12, 2024, 1001.5),\n",
              " ('BRA', 'AAB-2992', 8, 2021, 1050.9),\n",
              " ('BRA', 'EFE-2992', 8, 2022, 1170.1),\n",
              " ('VEN', 'GAC292', 4, 2023, 1000.6),\n",
              " ('PER', '2992DDE', 9, 2021, 989.9)]"
            ]
          },
          "execution_count": 1,
          "metadata": {},
          "output_type": "execute_result"
        }
      ],
      "source": [
        "lv = [('BRA', 'DFD-2992', 12, 2021, 999.0),\n",
        "      ('ARG', '1112992', 1, 2022, 899.0),\n",
        "      ('EUA', 'AB3DA000', 11, 2021, 1023.0),\n",
        "      ('BRA', 'GCG-1112', 9, 2021, 900.0),\n",
        "      ('ESP', 'DFD-2992', 11, 2021, 899.0),\n",
        "      ('URU', 'AEC423', 3, 2023, 699.0),\n",
        "      ('PAR', 'DFD-2992', 2, 2025, 1099.0),\n",
        "      ('ARL', 'X123111Z', 10, 2021, 954.0),\n",
        "      ('URU', 'BAC203', 2, 2025, 1011.0),\n",
        "      ('ARG', '3112323', 10, 2021, 1250.0),\n",
        "      ('URU', 'ABC123', 12, 2024, 1001.5),\n",
        "      ('BRA', 'AAB-2992', 8, 2021, 1050.9),\n",
        "      ('BRA', 'EFE-2992', 8, 2022, 1170.1),\n",
        "      ('VEN', 'GAC292', 4, 2023, 1000.6),\n",
        "      ('PER', '2992DDE', 9, 2021, 989.9)]\n",
        "\n",
        "lv"
      ]
    },
    {
      "cell_type": "code",
      "execution_count": 2,
      "metadata": {
        "id": "uo08BgmmtSU_"
      },
      "outputs": [
        {
          "name": "stdout",
          "output_type": "stream",
          "text": [
            "Average ticket price 996.4\n"
          ]
        }
      ],
      "source": [
        "###\n",
        "\n",
        "ticket_prices = [data[-1] for data in lv]\n",
        "avg_prices = sum(ticket_prices) / len(ticket_prices)\n",
        "\n",
        "print(f\"Average ticket price {avg_prices}\")\n"
      ]
    },
    {
      "cell_type": "markdown",
      "metadata": {
        "id": "NIa_bYhutSVA"
      },
      "source": [
        "## Questão 2\n",
        "\n",
        "Considere ainda a mesma lista de tuplas anterior. Crie uma nova lista contendo strings formada pelo mes e ano de vencimento no formato: `mm/aaaa`. Exemplo: se temos mes = 9 e ano = 2022 a string resultante será `'9/2022'`\n",
        "\n",
        "A seguir, conte quantas dessas strings possuem tamanho maior do que 6.\n",
        "\n",
        "a) 10<br>\n",
        "b) 4<br>\n",
        "c) 6<br>\n",
        "d) 3"
      ]
    },
    {
      "cell_type": "code",
      "execution_count": 7,
      "metadata": {
        "id": "ht3UR5KxtSVA"
      },
      "outputs": [
        {
          "name": "stdout",
          "output_type": "stream",
          "text": [
            "['12/2021', '1/2022', '11/2021', '9/2021', '11/2021', '3/2023', '2/2025', '10/2021', '2/2025', '10/2021', '12/2024', '8/2021', '8/2022', '4/2023', '9/2021']\n",
            "[7, 6, 7, 6, 7, 6, 6, 7, 6, 7, 7, 6, 6, 6, 6]\n",
            "Number of strings with more than 6 characters 6\n"
          ]
        }
      ],
      "source": [
        "###\n",
        "\n",
        "passengers_date = [f\"{data[2]}/{data[3]}\" for data in lv]\n",
        "date_count = [len(date) for date in passengers_date]\n",
        "string_count = len([dc for dc in date_count if dc > 6])\n",
        "\n",
        "print(f\"Number of strings with more than 6 characters {string_count}\")"
      ]
    },
    {
      "cell_type": "markdown",
      "metadata": {
        "id": "njQyG03ptSVA"
      },
      "source": [
        "## Questão 3\n",
        "\n",
        "Carregue o arquivo <font style=\"font-family: monaco\">WorldCupMatches.csv</font>, disponível para download. Baixe o arquivo no seu diretório de trabalho para responder as questões.\n",
        "\n",
        "O arquivo <font style=\"font-family: monaco\">WorldCupMatches.csv</font> contém informações sobre todas as partidas de copas do mundo entre 1930 e 2014, ou seja, cada linha no arquivo corresponde a uma partida de futebol em copa do mundo.\n",
        "\n",
        "Algumas das colunas que serão importantes para resolver as questões são:\n",
        "- __Year__: indica o ano da copa\n",
        "- __Stage__: em qual fase da copa a partida aconteceu\n",
        "- __HomeTeamName__: nome do time anfitrião da partida\n",
        "- __AwayTeamName__: nome do time adversário na partida\n",
        "- __Attendance__: número de espectadores da partida\n",
        "- __Stadium__: estádio onde a partida foi realizada\n",
        "\n",
        "Qual o número de colunas do dataframe e quantas colunas são de tipos numéricos?\n",
        "\n",
        "a) 20 colunas, 12 numéricas<br>\n",
        "b) 836 colunas, 12 numéricas<br>\n",
        "c) 20 colunas, 8 numéricas<br>\n",
        "d) 836 colunas, 8 numéricas"
      ]
    },
    {
      "cell_type": "code",
      "execution_count": 8,
      "metadata": {
        "id": "7fJ--Aa0tSVB"
      },
      "outputs": [],
      "source": [
        "import pandas as pd\n",
        "###"
      ]
    },
    {
      "cell_type": "code",
      "execution_count": 9,
      "metadata": {
        "id": "SbsrSaR5tlSB"
      },
      "outputs": [
        {
          "name": "stdout",
          "output_type": "stream",
          "text": [
            "<class 'pandas.core.frame.DataFrame'>\n",
            "RangeIndex: 836 entries, 0 to 835\n",
            "Data columns (total 20 columns):\n",
            " #   Column             Non-Null Count  Dtype  \n",
            "---  ------             --------------  -----  \n",
            " 0   Year               836 non-null    int64  \n",
            " 1   Datetime           836 non-null    object \n",
            " 2   Stage              836 non-null    object \n",
            " 3   Stadium            836 non-null    object \n",
            " 4   City               836 non-null    object \n",
            " 5   HomeTeamName       836 non-null    object \n",
            " 6   HomeTeamGoals      836 non-null    int64  \n",
            " 7   AwayTeamGoals      836 non-null    int64  \n",
            " 8   AwayTeamName       836 non-null    object \n",
            " 9   WinConditions      836 non-null    object \n",
            " 10  Attendance         836 non-null    float64\n",
            " 11  HalfTimeHomeGoals  836 non-null    int64  \n",
            " 12  HalfTimeAwayGoals  836 non-null    int64  \n",
            " 13  Referee            836 non-null    object \n",
            " 14  Assistant1         836 non-null    object \n",
            " 15  Assistant2         836 non-null    object \n",
            " 16  RoundID            836 non-null    int64  \n",
            " 17  MatchID            836 non-null    int64  \n",
            " 18  HomeTeamInitials   836 non-null    object \n",
            " 19  AwayTeamInitials   836 non-null    object \n",
            "dtypes: float64(1), int64(7), object(12)\n",
            "memory usage: 130.8+ KB\n",
            "None\n"
          ]
        }
      ],
      "source": [
        "wc_matches = pd.read_csv(\"data/WorldCupMatches.csv\")\n",
        "print(wc_matches.info())"
      ]
    },
    {
      "cell_type": "markdown",
      "metadata": {
        "id": "O1tRXf8ztlSB"
      },
      "source": [
        "## Questão 4\n",
        "\n",
        "Crie uma função lambda que processe uma tupla contendo um produto definido na forma:\n",
        "(nome_produto (str), preco (float), ano validade (int), mes validade (int))\n",
        "E que retorne uma nova tupla contendo o nome do produto concatenado com ` em promoção`, e o preço com desconto de 50%.\n",
        "\n",
        "Exemplo: `('macarrao', 10.0, 2021, 8)`\n",
        "\n",
        "Saída da função: `('macarrao em promocao', 5.0, 2021, 8)`\n",
        "\n",
        "Crie uma função que receba uma lista contendo as tuplas de produtos, um ano e mês de vencimento, e que utilize essa função lambda numa comprehension para retornar uma nova lista contendo apenas produtos próximos ao vencimento, para os quais será feita uma promoção com desconto de 50%. Serão considerados próximos ao vencimento produtos até o ano e mês passados como argumento da função.\n",
        "\n",
        "Exemplo de uso da funcao: gera_lista_promocao(prods, 2021, 8).\n",
        "\n",
        "Considerando que produtos com vencimento até Agosto de 2021 estão próximos ao vencimento, use sua função para retornar uma lista de produtos em promoção. Qual é o preço mínimo e máximo dos produtos dessa lista?\n",
        "\n",
        "a) Menor: 1,00; Maior: 4,49<br>\n",
        "b) Menor: 1,25; Maior: 5,25<br>\n",
        "c) Menor: 1,25; Maior: 4,49<br>\n",
        "d) Menor: 1,00; Maior: 5,25"
      ]
    },
    {
      "cell_type": "code",
      "execution_count": 10,
      "metadata": {
        "id": "5zrYBTtntlSB"
      },
      "outputs": [],
      "source": [
        "prods = [('macarrao', 5.99, 2021, 7),\n",
        "      ('palmito', 12.50, 2022, 8),\n",
        "      ('arroz', 21.50, 2021, 9),      \n",
        "      ('feijao', 8.50, 2022, 10),\n",
        "      ('grao de bico', 8.50, 2022, 8),\n",
        "      ('feijao preto', 8.90, 2021, 7),\n",
        "      ('molho', 2.50, 2021, 6),\n",
        "      ('cafe', 7.30, 2021, 6),\n",
        "      ('manteiga', 8.99, 2021, 7),\n",
        "      ('chocolate', 2.00, 2021, 9),\n",
        "      ('azeite', 10.50, 2022, 1),\n",
        "      ('farinha', 3.50, 2021, 7),\n",
        "      ('fuba', 4.50, 2022, 8)]      "
      ]
    },
    {
      "cell_type": "code",
      "execution_count": 13,
      "metadata": {
        "id": "txLGqQsLtlSC"
      },
      "outputs": [
        {
          "name": "stdout",
          "output_type": "stream",
          "text": [
            "Products on sale [('macarrao em promoção', 2.995, 2021, 7), ('feijao preto em promoção', 4.45, 2021, 7), ('molho em promoção', 1.25, 2021, 6), ('cafe em promoção', 3.65, 2021, 6), ('manteiga em promoção', 4.495, 2021, 7), ('farinha em promoção', 1.75, 2021, 7)]\n",
            "Lowest price 1.25\n",
            "Highest price 4.495\n"
          ]
        }
      ],
      "source": [
        "from numpy import product\n",
        "\n",
        "\n",
        "apply_sale = lambda data: (f\"{data[0]} em promoção\", data[1] * 0.5, data[2], data[3])\n",
        "\n",
        "def create_sale_list(products, year, month):\n",
        "    return [apply_sale(data) for data in products if data[2] < year or (data[2] == year and data[3] <= month)]\n",
        "\n",
        "products_sale = create_sale_list(prods, 2021, 8)\n",
        "sale_prices = [data[1] for data in products_sale]\n",
        "\n",
        "min_price = min(sale_prices)\n",
        "max_price = max(sale_prices)\n",
        "\n",
        "print(f\"Products on sale {products_sale}\")\n",
        "print(f\"Lowest price {min_price}\")\n",
        "print(f\"Highest price {max_price}\")"
      ]
    },
    {
      "cell_type": "markdown",
      "metadata": {
        "id": "IlqNYfQLtlSE"
      },
      "source": [
        "## Questão 5\n",
        "\n",
        "Carregue o arquivo `sales2.csv`. Sem realizar nenhum pré processamento\n",
        "\n",
        "\n",
        "1. Crie uma visão do dataframe contendo as colunas Item Type e Total Profit apenas das linhas contendo Order Priority = H ou Order Priority = M, e com Units Sold maior do que 1000.\n",
        "2. Nessa visão, calcule a média e o máximo do Total Profit agrupado pelo Item Type.\n",
        "\n",
        "Quais são os valores de média e máximo para os itens de tipo: Beverages e Fruits, sem considerar casas decimais?\n",
        "\n",
        "a) Beverages: Média=111837, Máximo=147031; Fruits: Média=9485, Máximo 18405<br>\n",
        "b) Beverages: Média=147031, Máximo=147031; Fruits: Média=12228, Máximo 18405<br>\n",
        "c) Beverages: Média=111837, Máximo=111837; Fruits: Média=9485, Máximo 12228<br>\n",
        "d) Beverages: Média=147031, Máximo=147031; Fruits: Média=9485, Máximo 18405<br>\n"
      ]
    },
    {
      "cell_type": "code",
      "execution_count": 42,
      "metadata": {
        "id": "MaGPuQuNtlSE"
      },
      "outputs": [
        {
          "data": {
            "text/html": [
              "<div>\n",
              "<style scoped>\n",
              "    .dataframe tbody tr th:only-of-type {\n",
              "        vertical-align: middle;\n",
              "    }\n",
              "\n",
              "    .dataframe tbody tr th {\n",
              "        vertical-align: top;\n",
              "    }\n",
              "\n",
              "    .dataframe thead th {\n",
              "        text-align: right;\n",
              "    }\n",
              "</style>\n",
              "<table border=\"1\" class=\"dataframe\">\n",
              "  <thead>\n",
              "    <tr style=\"text-align: right;\">\n",
              "      <th></th>\n",
              "      <th>mean</th>\n",
              "      <th>amax</th>\n",
              "    </tr>\n",
              "    <tr>\n",
              "      <th>Item Type</th>\n",
              "      <th></th>\n",
              "      <th></th>\n",
              "    </tr>\n",
              "  </thead>\n",
              "  <tbody>\n",
              "    <tr>\n",
              "      <th>Baby Food</th>\n",
              "      <td>4.935512e+05</td>\n",
              "      <td>825738.04</td>\n",
              "    </tr>\n",
              "    <tr>\n",
              "      <th>Beverages</th>\n",
              "      <td>1.470317e+05</td>\n",
              "      <td>147031.74</td>\n",
              "    </tr>\n",
              "    <tr>\n",
              "      <th>Cereal</th>\n",
              "      <td>4.381071e+05</td>\n",
              "      <td>766835.04</td>\n",
              "    </tr>\n",
              "    <tr>\n",
              "      <th>Clothes</th>\n",
              "      <td>3.528241e+05</td>\n",
              "      <td>449159.04</td>\n",
              "    </tr>\n",
              "    <tr>\n",
              "      <th>Cosmetics</th>\n",
              "      <td>1.026766e+06</td>\n",
              "      <td>1678540.98</td>\n",
              "    </tr>\n",
              "    <tr>\n",
              "      <th>Fruits</th>\n",
              "      <td>1.222834e+04</td>\n",
              "      <td>18405.17</td>\n",
              "    </tr>\n",
              "    <tr>\n",
              "      <th>Household</th>\n",
              "      <td>1.427267e+06</td>\n",
              "      <td>1487261.02</td>\n",
              "    </tr>\n",
              "    <tr>\n",
              "      <th>Meat</th>\n",
              "      <td>2.726724e+05</td>\n",
              "      <td>272672.40</td>\n",
              "    </tr>\n",
              "    <tr>\n",
              "      <th>Office Supplies</th>\n",
              "      <td>5.950583e+05</td>\n",
              "      <td>1046233.75</td>\n",
              "    </tr>\n",
              "    <tr>\n",
              "      <th>Personal Care</th>\n",
              "      <td>1.100385e+05</td>\n",
              "      <td>144521.02</td>\n",
              "    </tr>\n",
              "    <tr>\n",
              "      <th>Snacks</th>\n",
              "      <td>4.040108e+05</td>\n",
              "      <td>404010.78</td>\n",
              "    </tr>\n",
              "  </tbody>\n",
              "</table>\n",
              "</div>"
            ],
            "text/plain": [
              "                         mean        amax\n",
              "Item Type                                \n",
              "Baby Food        4.935512e+05   825738.04\n",
              "Beverages        1.470317e+05   147031.74\n",
              "Cereal           4.381071e+05   766835.04\n",
              "Clothes          3.528241e+05   449159.04\n",
              "Cosmetics        1.026766e+06  1678540.98\n",
              "Fruits           1.222834e+04    18405.17\n",
              "Household        1.427267e+06  1487261.02\n",
              "Meat             2.726724e+05   272672.40\n",
              "Office Supplies  5.950583e+05  1046233.75\n",
              "Personal Care    1.100385e+05   144521.02\n",
              "Snacks           4.040108e+05   404010.78"
            ]
          },
          "execution_count": 42,
          "metadata": {},
          "output_type": "execute_result"
        }
      ],
      "source": [
        "import pandas as pd\n",
        "import numpy as np\n",
        "\n",
        "df = pd.read_csv('data/sales2.csv')\n",
        "\n",
        "profits = df.loc[((df[\"Order Priority\"] == \"H\") | (df[\"Order Priority\"] == \"M\")) & (df[\"Units Sold\"] > 1000), [\"Item Type\", \"Total Profit\"]]\n",
        "profits.groupby([\"Item Type\"])[\"Total Profit\"].agg([np.mean, np.max])\n"
      ]
    }
  ],
  "metadata": {
    "colab": {
      "collapsed_sections": [],
      "name": "Python_atividades_quinzenais.ipynb",
      "provenance": []
    },
    "kernelspec": {
      "display_name": "Python 3.8.10 64-bit",
      "language": "python",
      "name": "python3"
    },
    "language_info": {
      "codemirror_mode": {
        "name": "ipython",
        "version": 3
      },
      "file_extension": ".py",
      "mimetype": "text/x-python",
      "name": "python",
      "nbconvert_exporter": "python",
      "pygments_lexer": "ipython3",
      "version": "3.8.10"
    },
    "toc": {
      "base_numbering": 1,
      "nav_menu": {},
      "number_sections": true,
      "sideBar": true,
      "skip_h1_title": false,
      "title_cell": "Table of Contents",
      "title_sidebar": "Contents",
      "toc_cell": false,
      "toc_position": {},
      "toc_section_display": true,
      "toc_window_display": false
    },
    "vscode": {
      "interpreter": {
        "hash": "31f2aee4e71d21fbe5cf8b01ff0e069b9275f58929596ceb00d14d90e3e16cd6"
      }
    }
  },
  "nbformat": 4,
  "nbformat_minor": 0
}

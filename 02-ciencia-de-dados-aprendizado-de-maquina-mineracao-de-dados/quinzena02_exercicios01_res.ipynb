{
  "nbformat": 4,
  "nbformat_minor": 5,
  "metadata": {
    "kernelspec": {
      "display_name": "BigData2021",
      "language": "python",
      "name": "bigdata2021"
    },
    "language_info": {
      "codemirror_mode": {
        "name": "ipython",
        "version": 3
      },
      "file_extension": ".py",
      "mimetype": "text/x-python",
      "name": "python",
      "nbconvert_exporter": "python",
      "pygments_lexer": "ipython3",
      "version": "3.8.11"
    },
    "colab": {
      "name": "Exercicio_fixação_resolvidoSVM_NB_KNN.ipynb",
      "provenance": []
    }
  },
  "cells": [
    {
      "cell_type": "markdown",
      "metadata": {
        "id": "precise-split"
      },
      "source": [
        "# SCC-ICMC-USP \n",
        "\n",
        "\n",
        "# CURSO 2 - CD-AM-DM\n",
        "# Exercício de fixação \n",
        "# Profa. Roseli A. F. Romero\n",
        "\n",
        "---\n",
        "\n",
        "### Objetivos:\n",
        "- Praticar a utilização de Métodos de Aprendizado de Máquina \n",
        "- SVMs, NB, KNN\n",
        "- Comparar métodos diferentes\n",
        "- Curvas ROC"
      ],
      "id": "precise-split"
    },
    {
      "cell_type": "code",
      "metadata": {
        "id": "B4rixxHMAgJK"
      },
      "source": [
        ""
      ],
      "id": "B4rixxHMAgJK",
      "execution_count": null,
      "outputs": []
    },
    {
      "cell_type": "markdown",
      "metadata": {
        "id": "victorian-optics"
      },
      "source": [
        "---\n",
        "\n",
        "### Questão 1.\n",
        "\n",
        "Carregue o dataset Spambase e faça uma breve exploração dos dados"
      ],
      "id": "victorian-optics"
    },
    {
      "cell_type": "code",
      "metadata": {
        "id": "industrial-thong",
        "outputId": "415d6ee5-bd35-4aad-f670-fe5f56748dba"
      },
      "source": [
        "import pandas as pd\n",
        "\n",
        "dataset = pd.read_csv(\"spambase.csv\")\n",
        "dataset"
      ],
      "id": "industrial-thong",
      "execution_count": null,
      "outputs": [
        {
          "output_type": "execute_result",
          "data": {
            "text/html": [
              "<div>\n",
              "<style scoped>\n",
              "    .dataframe tbody tr th:only-of-type {\n",
              "        vertical-align: middle;\n",
              "    }\n",
              "\n",
              "    .dataframe tbody tr th {\n",
              "        vertical-align: top;\n",
              "    }\n",
              "\n",
              "    .dataframe thead th {\n",
              "        text-align: right;\n",
              "    }\n",
              "</style>\n",
              "<table border=\"1\" class=\"dataframe\">\n",
              "  <thead>\n",
              "    <tr style=\"text-align: right;\">\n",
              "      <th></th>\n",
              "      <th>word_freq_make</th>\n",
              "      <th>word_freq_address</th>\n",
              "      <th>word_freq_all</th>\n",
              "      <th>word_freq_3d</th>\n",
              "      <th>word_freq_our</th>\n",
              "      <th>word_freq_over</th>\n",
              "      <th>word_freq_remove</th>\n",
              "      <th>word_freq_internet</th>\n",
              "      <th>word_freq_order</th>\n",
              "      <th>word_freq_mail</th>\n",
              "      <th>...</th>\n",
              "      <th>char_freq_;</th>\n",
              "      <th>char_freq_(</th>\n",
              "      <th>char_freq_[</th>\n",
              "      <th>char_freq_!</th>\n",
              "      <th>char_freq_$</th>\n",
              "      <th>char_freq_#</th>\n",
              "      <th>capital_run_length_average</th>\n",
              "      <th>capital_run_length_longest</th>\n",
              "      <th>capital_run_length_total</th>\n",
              "      <th>is_spam</th>\n",
              "    </tr>\n",
              "  </thead>\n",
              "  <tbody>\n",
              "    <tr>\n",
              "      <th>0</th>\n",
              "      <td>0.00</td>\n",
              "      <td>0.64</td>\n",
              "      <td>0.64</td>\n",
              "      <td>0.0</td>\n",
              "      <td>0.32</td>\n",
              "      <td>0.00</td>\n",
              "      <td>0.00</td>\n",
              "      <td>0.00</td>\n",
              "      <td>0.00</td>\n",
              "      <td>0.00</td>\n",
              "      <td>...</td>\n",
              "      <td>0.000</td>\n",
              "      <td>0.000</td>\n",
              "      <td>0.0</td>\n",
              "      <td>0.778</td>\n",
              "      <td>0.000</td>\n",
              "      <td>0.000</td>\n",
              "      <td>3.756</td>\n",
              "      <td>61</td>\n",
              "      <td>278</td>\n",
              "      <td>1</td>\n",
              "    </tr>\n",
              "    <tr>\n",
              "      <th>1</th>\n",
              "      <td>0.21</td>\n",
              "      <td>0.28</td>\n",
              "      <td>0.50</td>\n",
              "      <td>0.0</td>\n",
              "      <td>0.14</td>\n",
              "      <td>0.28</td>\n",
              "      <td>0.21</td>\n",
              "      <td>0.07</td>\n",
              "      <td>0.00</td>\n",
              "      <td>0.94</td>\n",
              "      <td>...</td>\n",
              "      <td>0.000</td>\n",
              "      <td>0.132</td>\n",
              "      <td>0.0</td>\n",
              "      <td>0.372</td>\n",
              "      <td>0.180</td>\n",
              "      <td>0.048</td>\n",
              "      <td>5.114</td>\n",
              "      <td>101</td>\n",
              "      <td>1028</td>\n",
              "      <td>1</td>\n",
              "    </tr>\n",
              "    <tr>\n",
              "      <th>2</th>\n",
              "      <td>0.06</td>\n",
              "      <td>0.00</td>\n",
              "      <td>0.71</td>\n",
              "      <td>0.0</td>\n",
              "      <td>1.23</td>\n",
              "      <td>0.19</td>\n",
              "      <td>0.19</td>\n",
              "      <td>0.12</td>\n",
              "      <td>0.64</td>\n",
              "      <td>0.25</td>\n",
              "      <td>...</td>\n",
              "      <td>0.010</td>\n",
              "      <td>0.143</td>\n",
              "      <td>0.0</td>\n",
              "      <td>0.276</td>\n",
              "      <td>0.184</td>\n",
              "      <td>0.010</td>\n",
              "      <td>9.821</td>\n",
              "      <td>485</td>\n",
              "      <td>2259</td>\n",
              "      <td>1</td>\n",
              "    </tr>\n",
              "    <tr>\n",
              "      <th>3</th>\n",
              "      <td>0.00</td>\n",
              "      <td>0.00</td>\n",
              "      <td>0.00</td>\n",
              "      <td>0.0</td>\n",
              "      <td>0.63</td>\n",
              "      <td>0.00</td>\n",
              "      <td>0.31</td>\n",
              "      <td>0.63</td>\n",
              "      <td>0.31</td>\n",
              "      <td>0.63</td>\n",
              "      <td>...</td>\n",
              "      <td>0.000</td>\n",
              "      <td>0.137</td>\n",
              "      <td>0.0</td>\n",
              "      <td>0.137</td>\n",
              "      <td>0.000</td>\n",
              "      <td>0.000</td>\n",
              "      <td>3.537</td>\n",
              "      <td>40</td>\n",
              "      <td>191</td>\n",
              "      <td>1</td>\n",
              "    </tr>\n",
              "    <tr>\n",
              "      <th>4</th>\n",
              "      <td>0.00</td>\n",
              "      <td>0.00</td>\n",
              "      <td>0.00</td>\n",
              "      <td>0.0</td>\n",
              "      <td>0.63</td>\n",
              "      <td>0.00</td>\n",
              "      <td>0.31</td>\n",
              "      <td>0.63</td>\n",
              "      <td>0.31</td>\n",
              "      <td>0.63</td>\n",
              "      <td>...</td>\n",
              "      <td>0.000</td>\n",
              "      <td>0.135</td>\n",
              "      <td>0.0</td>\n",
              "      <td>0.135</td>\n",
              "      <td>0.000</td>\n",
              "      <td>0.000</td>\n",
              "      <td>3.537</td>\n",
              "      <td>40</td>\n",
              "      <td>191</td>\n",
              "      <td>1</td>\n",
              "    </tr>\n",
              "    <tr>\n",
              "      <th>...</th>\n",
              "      <td>...</td>\n",
              "      <td>...</td>\n",
              "      <td>...</td>\n",
              "      <td>...</td>\n",
              "      <td>...</td>\n",
              "      <td>...</td>\n",
              "      <td>...</td>\n",
              "      <td>...</td>\n",
              "      <td>...</td>\n",
              "      <td>...</td>\n",
              "      <td>...</td>\n",
              "      <td>...</td>\n",
              "      <td>...</td>\n",
              "      <td>...</td>\n",
              "      <td>...</td>\n",
              "      <td>...</td>\n",
              "      <td>...</td>\n",
              "      <td>...</td>\n",
              "      <td>...</td>\n",
              "      <td>...</td>\n",
              "      <td>...</td>\n",
              "    </tr>\n",
              "    <tr>\n",
              "      <th>4596</th>\n",
              "      <td>0.31</td>\n",
              "      <td>0.00</td>\n",
              "      <td>0.62</td>\n",
              "      <td>0.0</td>\n",
              "      <td>0.00</td>\n",
              "      <td>0.31</td>\n",
              "      <td>0.00</td>\n",
              "      <td>0.00</td>\n",
              "      <td>0.00</td>\n",
              "      <td>0.00</td>\n",
              "      <td>...</td>\n",
              "      <td>0.000</td>\n",
              "      <td>0.232</td>\n",
              "      <td>0.0</td>\n",
              "      <td>0.000</td>\n",
              "      <td>0.000</td>\n",
              "      <td>0.000</td>\n",
              "      <td>1.142</td>\n",
              "      <td>3</td>\n",
              "      <td>88</td>\n",
              "      <td>0</td>\n",
              "    </tr>\n",
              "    <tr>\n",
              "      <th>4597</th>\n",
              "      <td>0.00</td>\n",
              "      <td>0.00</td>\n",
              "      <td>0.00</td>\n",
              "      <td>0.0</td>\n",
              "      <td>0.00</td>\n",
              "      <td>0.00</td>\n",
              "      <td>0.00</td>\n",
              "      <td>0.00</td>\n",
              "      <td>0.00</td>\n",
              "      <td>0.00</td>\n",
              "      <td>...</td>\n",
              "      <td>0.000</td>\n",
              "      <td>0.000</td>\n",
              "      <td>0.0</td>\n",
              "      <td>0.353</td>\n",
              "      <td>0.000</td>\n",
              "      <td>0.000</td>\n",
              "      <td>1.555</td>\n",
              "      <td>4</td>\n",
              "      <td>14</td>\n",
              "      <td>0</td>\n",
              "    </tr>\n",
              "    <tr>\n",
              "      <th>4598</th>\n",
              "      <td>0.30</td>\n",
              "      <td>0.00</td>\n",
              "      <td>0.30</td>\n",
              "      <td>0.0</td>\n",
              "      <td>0.00</td>\n",
              "      <td>0.00</td>\n",
              "      <td>0.00</td>\n",
              "      <td>0.00</td>\n",
              "      <td>0.00</td>\n",
              "      <td>0.00</td>\n",
              "      <td>...</td>\n",
              "      <td>0.102</td>\n",
              "      <td>0.718</td>\n",
              "      <td>0.0</td>\n",
              "      <td>0.000</td>\n",
              "      <td>0.000</td>\n",
              "      <td>0.000</td>\n",
              "      <td>1.404</td>\n",
              "      <td>6</td>\n",
              "      <td>118</td>\n",
              "      <td>0</td>\n",
              "    </tr>\n",
              "    <tr>\n",
              "      <th>4599</th>\n",
              "      <td>0.96</td>\n",
              "      <td>0.00</td>\n",
              "      <td>0.00</td>\n",
              "      <td>0.0</td>\n",
              "      <td>0.32</td>\n",
              "      <td>0.00</td>\n",
              "      <td>0.00</td>\n",
              "      <td>0.00</td>\n",
              "      <td>0.00</td>\n",
              "      <td>0.00</td>\n",
              "      <td>...</td>\n",
              "      <td>0.000</td>\n",
              "      <td>0.057</td>\n",
              "      <td>0.0</td>\n",
              "      <td>0.000</td>\n",
              "      <td>0.000</td>\n",
              "      <td>0.000</td>\n",
              "      <td>1.147</td>\n",
              "      <td>5</td>\n",
              "      <td>78</td>\n",
              "      <td>0</td>\n",
              "    </tr>\n",
              "    <tr>\n",
              "      <th>4600</th>\n",
              "      <td>0.00</td>\n",
              "      <td>0.00</td>\n",
              "      <td>0.65</td>\n",
              "      <td>0.0</td>\n",
              "      <td>0.00</td>\n",
              "      <td>0.00</td>\n",
              "      <td>0.00</td>\n",
              "      <td>0.00</td>\n",
              "      <td>0.00</td>\n",
              "      <td>0.00</td>\n",
              "      <td>...</td>\n",
              "      <td>0.000</td>\n",
              "      <td>0.000</td>\n",
              "      <td>0.0</td>\n",
              "      <td>0.125</td>\n",
              "      <td>0.000</td>\n",
              "      <td>0.000</td>\n",
              "      <td>1.250</td>\n",
              "      <td>5</td>\n",
              "      <td>40</td>\n",
              "      <td>0</td>\n",
              "    </tr>\n",
              "  </tbody>\n",
              "</table>\n",
              "<p>4601 rows × 58 columns</p>\n",
              "</div>"
            ],
            "text/plain": [
              "      word_freq_make  word_freq_address  word_freq_all  word_freq_3d  \\\n",
              "0               0.00               0.64           0.64           0.0   \n",
              "1               0.21               0.28           0.50           0.0   \n",
              "2               0.06               0.00           0.71           0.0   \n",
              "3               0.00               0.00           0.00           0.0   \n",
              "4               0.00               0.00           0.00           0.0   \n",
              "...              ...                ...            ...           ...   \n",
              "4596            0.31               0.00           0.62           0.0   \n",
              "4597            0.00               0.00           0.00           0.0   \n",
              "4598            0.30               0.00           0.30           0.0   \n",
              "4599            0.96               0.00           0.00           0.0   \n",
              "4600            0.00               0.00           0.65           0.0   \n",
              "\n",
              "      word_freq_our  word_freq_over  word_freq_remove  word_freq_internet  \\\n",
              "0              0.32            0.00              0.00                0.00   \n",
              "1              0.14            0.28              0.21                0.07   \n",
              "2              1.23            0.19              0.19                0.12   \n",
              "3              0.63            0.00              0.31                0.63   \n",
              "4              0.63            0.00              0.31                0.63   \n",
              "...             ...             ...               ...                 ...   \n",
              "4596           0.00            0.31              0.00                0.00   \n",
              "4597           0.00            0.00              0.00                0.00   \n",
              "4598           0.00            0.00              0.00                0.00   \n",
              "4599           0.32            0.00              0.00                0.00   \n",
              "4600           0.00            0.00              0.00                0.00   \n",
              "\n",
              "      word_freq_order  word_freq_mail  ...  char_freq_;  char_freq_(  \\\n",
              "0                0.00            0.00  ...        0.000        0.000   \n",
              "1                0.00            0.94  ...        0.000        0.132   \n",
              "2                0.64            0.25  ...        0.010        0.143   \n",
              "3                0.31            0.63  ...        0.000        0.137   \n",
              "4                0.31            0.63  ...        0.000        0.135   \n",
              "...               ...             ...  ...          ...          ...   \n",
              "4596             0.00            0.00  ...        0.000        0.232   \n",
              "4597             0.00            0.00  ...        0.000        0.000   \n",
              "4598             0.00            0.00  ...        0.102        0.718   \n",
              "4599             0.00            0.00  ...        0.000        0.057   \n",
              "4600             0.00            0.00  ...        0.000        0.000   \n",
              "\n",
              "      char_freq_[  char_freq_!  char_freq_$  char_freq_#  \\\n",
              "0             0.0        0.778        0.000        0.000   \n",
              "1             0.0        0.372        0.180        0.048   \n",
              "2             0.0        0.276        0.184        0.010   \n",
              "3             0.0        0.137        0.000        0.000   \n",
              "4             0.0        0.135        0.000        0.000   \n",
              "...           ...          ...          ...          ...   \n",
              "4596          0.0        0.000        0.000        0.000   \n",
              "4597          0.0        0.353        0.000        0.000   \n",
              "4598          0.0        0.000        0.000        0.000   \n",
              "4599          0.0        0.000        0.000        0.000   \n",
              "4600          0.0        0.125        0.000        0.000   \n",
              "\n",
              "      capital_run_length_average  capital_run_length_longest  \\\n",
              "0                          3.756                          61   \n",
              "1                          5.114                         101   \n",
              "2                          9.821                         485   \n",
              "3                          3.537                          40   \n",
              "4                          3.537                          40   \n",
              "...                          ...                         ...   \n",
              "4596                       1.142                           3   \n",
              "4597                       1.555                           4   \n",
              "4598                       1.404                           6   \n",
              "4599                       1.147                           5   \n",
              "4600                       1.250                           5   \n",
              "\n",
              "      capital_run_length_total  is_spam  \n",
              "0                          278        1  \n",
              "1                         1028        1  \n",
              "2                         2259        1  \n",
              "3                          191        1  \n",
              "4                          191        1  \n",
              "...                        ...      ...  \n",
              "4596                        88        0  \n",
              "4597                        14        0  \n",
              "4598                       118        0  \n",
              "4599                        78        0  \n",
              "4600                        40        0  \n",
              "\n",
              "[4601 rows x 58 columns]"
            ]
          },
          "metadata": {
            "tags": []
          },
          "execution_count": 1
        }
      ]
    },
    {
      "cell_type": "code",
      "metadata": {
        "id": "interracial-royal",
        "outputId": "4f589b16-d6ad-4d17-e081-d9a1d9db6655"
      },
      "source": [
        "dataset.info()"
      ],
      "id": "interracial-royal",
      "execution_count": null,
      "outputs": [
        {
          "output_type": "stream",
          "text": [
            "<class 'pandas.core.frame.DataFrame'>\n",
            "RangeIndex: 4601 entries, 0 to 4600\n",
            "Data columns (total 58 columns):\n",
            " #   Column                      Non-Null Count  Dtype  \n",
            "---  ------                      --------------  -----  \n",
            " 0   word_freq_make              4601 non-null   float64\n",
            " 1   word_freq_address           4601 non-null   float64\n",
            " 2   word_freq_all               4601 non-null   float64\n",
            " 3   word_freq_3d                4601 non-null   float64\n",
            " 4   word_freq_our               4601 non-null   float64\n",
            " 5   word_freq_over              4601 non-null   float64\n",
            " 6   word_freq_remove            4601 non-null   float64\n",
            " 7   word_freq_internet          4601 non-null   float64\n",
            " 8   word_freq_order             4601 non-null   float64\n",
            " 9   word_freq_mail              4601 non-null   float64\n",
            " 10  word_freq_receive           4601 non-null   float64\n",
            " 11  word_freq_will              4601 non-null   float64\n",
            " 12  word_freq_people            4601 non-null   float64\n",
            " 13  word_freq_report            4601 non-null   float64\n",
            " 14  word_freq_addresses         4601 non-null   float64\n",
            " 15  word_freq_free              4601 non-null   float64\n",
            " 16  word_freq_business          4601 non-null   float64\n",
            " 17  word_freq_email             4601 non-null   float64\n",
            " 18  word_freq_you               4601 non-null   float64\n",
            " 19  word_freq_credit            4601 non-null   float64\n",
            " 20  word_freq_your              4601 non-null   float64\n",
            " 21  word_freq_font              4601 non-null   float64\n",
            " 22  word_freq_000               4601 non-null   float64\n",
            " 23  word_freq_money             4601 non-null   float64\n",
            " 24  word_freq_hp                4601 non-null   float64\n",
            " 25  word_freq_hpl               4601 non-null   float64\n",
            " 26  word_freq_george            4601 non-null   float64\n",
            " 27  word_freq_650               4601 non-null   float64\n",
            " 28  word_freq_lab               4601 non-null   float64\n",
            " 29  word_freq_labs              4601 non-null   float64\n",
            " 30  word_freq_telnet            4601 non-null   float64\n",
            " 31  word_freq_857               4601 non-null   float64\n",
            " 32  word_freq_data              4601 non-null   float64\n",
            " 33  word_freq_415               4601 non-null   float64\n",
            " 34  word_freq_85                4601 non-null   float64\n",
            " 35  word_freq_technology        4601 non-null   float64\n",
            " 36  word_freq_1999              4601 non-null   float64\n",
            " 37  word_freq_parts             4601 non-null   float64\n",
            " 38  word_freq_pm                4601 non-null   float64\n",
            " 39  word_freq_direct            4601 non-null   float64\n",
            " 40  word_freq_cs                4601 non-null   float64\n",
            " 41  word_freq_meeting           4601 non-null   float64\n",
            " 42  word_freq_original          4601 non-null   float64\n",
            " 43  word_freq_project           4601 non-null   float64\n",
            " 44  word_freq_re                4601 non-null   float64\n",
            " 45  word_freq_edu               4601 non-null   float64\n",
            " 46  word_freq_table             4601 non-null   float64\n",
            " 47  word_freq_conference        4601 non-null   float64\n",
            " 48  char_freq_;                 4601 non-null   float64\n",
            " 49  char_freq_(                 4601 non-null   float64\n",
            " 50  char_freq_[                 4601 non-null   float64\n",
            " 51  char_freq_!                 4601 non-null   float64\n",
            " 52  char_freq_$                 4601 non-null   float64\n",
            " 53  char_freq_#                 4601 non-null   float64\n",
            " 54  capital_run_length_average  4601 non-null   float64\n",
            " 55  capital_run_length_longest  4601 non-null   int64  \n",
            " 56  capital_run_length_total    4601 non-null   int64  \n",
            " 57  is_spam                     4601 non-null   int64  \n",
            "dtypes: float64(55), int64(3)\n",
            "memory usage: 2.0 MB\n"
          ],
          "name": "stdout"
        }
      ]
    },
    {
      "cell_type": "markdown",
      "metadata": {
        "id": "broadband-midwest"
      },
      "source": [
        "**Esperavamos que todos os atributos fossem numéricos. O método `info()` nos diz que todos os atributos são numéricos, então o dataset foi carregado corretamente**"
      ],
      "id": "broadband-midwest"
    },
    {
      "cell_type": "markdown",
      "metadata": {
        "id": "constant-annotation"
      },
      "source": [
        "### Questão 2- Verificar se existem dados faltantes."
      ],
      "id": "constant-annotation"
    },
    {
      "cell_type": "code",
      "metadata": {
        "scrolled": false,
        "id": "amino-register",
        "outputId": "8c9037e8-2d95-48d7-dccc-8a998db94fa4"
      },
      "source": [
        "dataset.isnull().sum()"
      ],
      "id": "amino-register",
      "execution_count": null,
      "outputs": [
        {
          "output_type": "execute_result",
          "data": {
            "text/plain": [
              "word_freq_make                0\n",
              "word_freq_address             0\n",
              "word_freq_all                 0\n",
              "word_freq_3d                  0\n",
              "word_freq_our                 0\n",
              "word_freq_over                0\n",
              "word_freq_remove              0\n",
              "word_freq_internet            0\n",
              "word_freq_order               0\n",
              "word_freq_mail                0\n",
              "word_freq_receive             0\n",
              "word_freq_will                0\n",
              "word_freq_people              0\n",
              "word_freq_report              0\n",
              "word_freq_addresses           0\n",
              "word_freq_free                0\n",
              "word_freq_business            0\n",
              "word_freq_email               0\n",
              "word_freq_you                 0\n",
              "word_freq_credit              0\n",
              "word_freq_your                0\n",
              "word_freq_font                0\n",
              "word_freq_000                 0\n",
              "word_freq_money               0\n",
              "word_freq_hp                  0\n",
              "word_freq_hpl                 0\n",
              "word_freq_george              0\n",
              "word_freq_650                 0\n",
              "word_freq_lab                 0\n",
              "word_freq_labs                0\n",
              "word_freq_telnet              0\n",
              "word_freq_857                 0\n",
              "word_freq_data                0\n",
              "word_freq_415                 0\n",
              "word_freq_85                  0\n",
              "word_freq_technology          0\n",
              "word_freq_1999                0\n",
              "word_freq_parts               0\n",
              "word_freq_pm                  0\n",
              "word_freq_direct              0\n",
              "word_freq_cs                  0\n",
              "word_freq_meeting             0\n",
              "word_freq_original            0\n",
              "word_freq_project             0\n",
              "word_freq_re                  0\n",
              "word_freq_edu                 0\n",
              "word_freq_table               0\n",
              "word_freq_conference          0\n",
              "char_freq_;                   0\n",
              "char_freq_(                   0\n",
              "char_freq_[                   0\n",
              "char_freq_!                   0\n",
              "char_freq_$                   0\n",
              "char_freq_#                   0\n",
              "capital_run_length_average    0\n",
              "capital_run_length_longest    0\n",
              "capital_run_length_total      0\n",
              "is_spam                       0\n",
              "dtype: int64"
            ]
          },
          "metadata": {
            "tags": []
          },
          "execution_count": 3
        }
      ]
    },
    {
      "cell_type": "markdown",
      "metadata": {
        "id": "continental-parallel"
      },
      "source": [
        "**Não há dados faltantes**"
      ],
      "id": "continental-parallel"
    },
    {
      "cell_type": "markdown",
      "metadata": {
        "id": "substantial-policy"
      },
      "source": [
        "### Questão 3 - Verificar a distribuição das classes."
      ],
      "id": "substantial-policy"
    },
    {
      "cell_type": "code",
      "metadata": {
        "id": "public-florist",
        "outputId": "38c3c995-a80c-433b-eb8b-31ec92606954"
      },
      "source": [
        "dataset[\"is_spam\"].hist()\n",
        "print(\"Contagem das classes:\")\n",
        "contagem_classes = dataset[\"is_spam\"].value_counts()\n",
        "total = dataset.shape[0]\n",
        "print(\"Classe 0 (não spam): %d/%d (%.2f%%)\" % (contagem_classes[0], total, (contagem_classes[0]/total)*100))\n",
        "print(\"Classe 1 (spam):%d/%d (%.2f%%)\" % (contagem_classes[1],total, (contagem_classes[1]/total)*100))"
      ],
      "id": "public-florist",
      "execution_count": null,
      "outputs": [
        {
          "output_type": "stream",
          "text": [
            "Contagem das classes:\n",
            "Classe 0 (não spam): 2788/4601 (60.60%)\n",
            "Classe 1 (spam):1813/4601 (39.40%)\n"
          ],
          "name": "stdout"
        },
        {
          "output_type": "display_data",
          "data": {
            "image/png": "[encoded data removed]",
            "text/plain": [
              "<Figure size 432x288 with 1 Axes>"
            ]
          },
          "metadata": {
            "tags": [],
            "needs_background": "light"
          }
        }
      ]
    },
    {
      "cell_type": "markdown",
      "metadata": {
        "id": "controlling-communications"
      },
      "source": [
        "**Não há um desbalanceamento severo**"
      ],
      "id": "controlling-communications"
    },
    {
      "cell_type": "markdown",
      "metadata": {
        "id": "stopped-representative"
      },
      "source": [
        "### Questão 04.\n",
        "\n",
        "Prepare os dados dividindo-os em atributos e classes."
      ],
      "id": "stopped-representative"
    },
    {
      "cell_type": "code",
      "metadata": {
        "id": "first-missouri",
        "outputId": "c66fea73-dc31-49ab-849c-e3fd2b802d6c"
      },
      "source": [
        "X = dataset.drop(['is_spam'], axis=1).values\n",
        "y = dataset['is_spam'].values\n",
        "print(X.shape)\n",
        "print(y.shape)"
      ],
      "id": "first-missouri",
      "execution_count": null,
      "outputs": [
        {
          "output_type": "stream",
          "text": [
            "(4601, 57)\n",
            "(4601,)\n"
          ],
          "name": "stdout"
        }
      ]
    },
    {
      "cell_type": "markdown",
      "metadata": {
        "id": "oriental-qatar"
      },
      "source": [
        "### Questão 05.\n",
        "\n",
        "Gere ao menos 5 parametrizações do algoritmo SVM. Para armazenar essas parametrizações, utilize uma estrutura do tipo dicionário, armazenando um identificador da parametrização como chave e o modelo SVM como valor. Um exemplo para o modelo do KNN pode ser visto abaixo. Avalie essas parametrizações utilizando a função `avaliar_modelos` definida na célula abaixo.\n",
        "\n",
        "- Exemplo de parametrizações do knn:\n",
        "```\n",
        "parametrizacoes_knn = {\n",
        "    \"K = 2\": KNeighborsClassifier(n_neighbors=2),\n",
        "    \"K = 5\": KNeighborsClassifier(n_neighbors=5),\n",
        "    \"K = 7\": KNeighborsClassifier(n_neighbors=7)\n",
        "}\n",
        "```"
      ],
      "id": "oriental-qatar"
    },
    {
      "cell_type": "code",
      "metadata": {
        "id": "collectible-creation"
      },
      "source": [
        "from sklearn.metrics import accuracy_score, recall_score, roc_auc_score\n",
        "from sklearn.model_selection import StratifiedKFold\n",
        "from sklearn.preprocessing import StandardScaler\n",
        "import numpy as np\n",
        "\n",
        "resultados = {    \n",
        "    \"Parametrização\" :[],\n",
        "    \"Acuracia\" :[],\n",
        "    \"Recall\" :[],\n",
        "    \"Roc_auc\" :[]\n",
        "}\n",
        "\n",
        "\n",
        "def avaliar_modelos(parametrizacoes, X, y, resultados):\n",
        "    \"\"\"Avalia modelos utilizando 10-fold cross-validation\n",
        "\n",
        "    Essa função recebe um conjunto de parametrizações, um conjunto de \n",
        "    atributos e labels e cria uma estrutura de resultados.    \n",
        "    \"\"\"\n",
        "\n",
        "    # Vamos iterar sobre cada parametrização no dicionário.\n",
        "    # Ao adicionar .items(), vamos iterar sobre todos os pares\n",
        "    # (chave, valor) do dicionário:\n",
        "    for nome, modelo in parametrizacoes.items():\n",
        "        print(\"Avaliando parametrização:\", nome)\n",
        "        print(\"\\tProgresso: [\", end = '')\n",
        "        # Vamos padronizar nossos dados com o StandardScaler\n",
        "        scaler = StandardScaler()\n",
        "        # StratifiedKFold irá separar nossos dados em K splits estratificados,\n",
        "        # ou seja, K splits onde a distribuição das classes será igual ao dos\n",
        "        # dados originais. Shuffle irá embaralhar nossos dados antes de efetuar\n",
        "        # o split.\n",
        "        cv = StratifiedKFold(n_splits=10, shuffle=True, random_state=0)\n",
        "        # As 3 listas a seguir irão armazenar as métricas de acurácia, recall e\n",
        "        # área sob a curva ROC de cada fold. Usaremos essas listas para calcular\n",
        "        # a média de cada métrica.\n",
        "        accs_scores = []\n",
        "        recall_scores = []        \n",
        "        roc_aucs_scores = []\n",
        "        # O método split irá retornar índices que nós usaremos pra indexar os\n",
        "        # conjuntos X e y. Por exemplo, se tivermos 10 exemplos no nosso conjunto\n",
        "        # de dados e quisermos realizar 5 splits, uma possível divisão de splits\n",
        "        # seria [1, 2], [0, 3], [4, 9], [5, 8], [6, 7]. Então para cada iteração\n",
        "        # do for, o método split separa 1 desses splits para treino e o resto \n",
        "        # para teste (ex. teste = [1, 2], treino = [0, 3, 4, 9, 5, 8, 6, 7]). O \n",
        "        # loop for acaba depois que todos os splits forem usados para teste.        \n",
        "        for treino, teste in cv.split(X, y):            \n",
        "            # Fit apenas no conjunto de treino:\n",
        "            scaler.fit(X[treino])\n",
        "            # Vamos escalar tanto os dados de treino quanto de teste.\n",
        "            X_treino_escalado = scaler.transform(X[treino])\n",
        "            X_teste_escalado = scaler.transform(X[teste])\n",
        "            # Fit do modelo nos dados de treino:\n",
        "            modelo.fit(X_treino_escalado, y[treino])\n",
        "            # Calculo das métricas do fold. Armazenamos elas nas listas que\n",
        "            # definimos anteriormente.\n",
        "            y_pred = modelo.predict(X_teste_escalado)                    \n",
        "            accs_scores.append(accuracy_score(y[teste], y_pred))\n",
        "            recall_scores.append(recall_score(y[teste], y_pred))\n",
        "            # y_score calculado como especificado em:\n",
        "            # https://scikit-learn.org/stable/modules/generated/sklearn.metrics.roc_auc_score.html\n",
        "            y_score = modelo.predict_proba(X_teste_escalado)[:, 1]\n",
        "            roc_aucs_scores.append(roc_auc_score(y[teste], y_score))\n",
        "            # Barra de progresso             \n",
        "            print(\"#\", end = '')\n",
        "        print(\"]\")\n",
        "        # Adicionando média dos folds aos resultados:        \n",
        "        resultados[\"Parametrização\"].append(nome)\n",
        "        resultados[\"Acuracia\"].append(np.mean(accs_scores))\n",
        "        resultados[\"Recall\"].append(np.mean(recall_scores))\n",
        "        resultados[\"Roc_auc\"].append(np.mean(roc_aucs_scores))"
      ],
      "id": "collectible-creation",
      "execution_count": null,
      "outputs": []
    },
    {
      "cell_type": "markdown",
      "source": [
        "### Questão 6. Criar as parametrizações propriamente ditas para o método SVC."
      ],
      "metadata": {
        "id": "ykGJ8kCQwXbC"
      },
      "id": "ykGJ8kCQwXbC"
    },
    {
      "cell_type": "code",
      "metadata": {
        "id": "color-gazette",
        "outputId": "734ee512-7a7f-4f91-f4fa-2ebc62f16430"
      },
      "source": [
        "from sklearn.svm import SVC\n",
        "# criando as diferentes parametrizações para o método SVC\n",
        "modelos_svm = {\n",
        "    \"Kernel rbf, gamma auto\": SVC(kernel = 'rbf', gamma='auto', probability=True),\n",
        "    \"Kernel linear\": SVC(kernel = 'linear', probability=True),\n",
        "    \"Kernel sigmoide\": SVC(kernel = 'sigmoid', probability=True),\n",
        "    \"Kernel polinomial grau 2\": SVC(kernel = 'poly', degree=2, probability=True),\n",
        "    \"Kernel polinomial grau 3\": SVC(kernel = 'poly', degree=3, probability=True)\n",
        "}\n",
        "\n",
        "avaliar_modelos(modelos_svm, X, y, resultados)"
      ],
      "id": "color-gazette",
      "execution_count": null,
      "outputs": [
        {
          "output_type": "stream",
          "text": [
            "Avaliando parametrização: Kernel rbf, gamma auto\n",
            "[##########]\n",
            "Avaliando parametrização: Kernel linear\n",
            "[##########]\n",
            "Avaliando parametrização: Kernel sigmoide\n",
            "[##########]\n",
            "Avaliando parametrização: Kernel polinomial grau 2\n",
            "[##########]\n",
            "Avaliando parametrização: Kernel polinomial grau 3\n",
            "[##########]\n"
          ],
          "name": "stdout"
        }
      ]
    },
    {
      "cell_type": "markdown",
      "metadata": {
        "id": "labeled-consent"
      },
      "source": [
        "### Questão 7 - Vamos gerar um dataframe com o dicionário de resultados para podermos manipulá-lo mais fácilmente:"
      ],
      "id": "labeled-consent"
    },
    {
      "cell_type": "code",
      "metadata": {
        "id": "floating-anthony",
        "outputId": "a2433b4b-08a9-4a41-9446-bdfc45af5f15"
      },
      "source": [
        "# resultados\n",
        "resultados_df = pd.DataFrame.from_dict(resultados)\n",
        "resultados_df"
      ],
      "id": "floating-anthony",
      "execution_count": null,
      "outputs": [
        {
          "output_type": "execute_result",
          "data": {
            "text/html": [
              "<div>\n",
              "<style scoped>\n",
              "    .dataframe tbody tr th:only-of-type {\n",
              "        vertical-align: middle;\n",
              "    }\n",
              "\n",
              "    .dataframe tbody tr th {\n",
              "        vertical-align: top;\n",
              "    }\n",
              "\n",
              "    .dataframe thead th {\n",
              "        text-align: right;\n",
              "    }\n",
              "</style>\n",
              "<table border=\"1\" class=\"dataframe\">\n",
              "  <thead>\n",
              "    <tr style=\"text-align: right;\">\n",
              "      <th></th>\n",
              "      <th>Parametrização</th>\n",
              "      <th>Acuracia</th>\n",
              "      <th>Recall</th>\n",
              "      <th>Roc_auc</th>\n",
              "    </tr>\n",
              "  </thead>\n",
              "  <tbody>\n",
              "    <tr>\n",
              "      <th>0</th>\n",
              "      <td>Kernel rbf, gamma auto</td>\n",
              "      <td>0.934146</td>\n",
              "      <td>0.896287</td>\n",
              "      <td>0.975088</td>\n",
              "    </tr>\n",
              "    <tr>\n",
              "      <th>1</th>\n",
              "      <td>Kernel linear</td>\n",
              "      <td>0.928062</td>\n",
              "      <td>0.892438</td>\n",
              "      <td>0.971802</td>\n",
              "    </tr>\n",
              "    <tr>\n",
              "      <th>2</th>\n",
              "      <td>Kernel sigmoide</td>\n",
              "      <td>0.880247</td>\n",
              "      <td>0.836170</td>\n",
              "      <td>0.926166</td>\n",
              "    </tr>\n",
              "    <tr>\n",
              "      <th>3</th>\n",
              "      <td>Kernel polinomial grau 2</td>\n",
              "      <td>0.848735</td>\n",
              "      <td>0.658615</td>\n",
              "      <td>0.954409</td>\n",
              "    </tr>\n",
              "    <tr>\n",
              "      <th>4</th>\n",
              "      <td>Kernel polinomial grau 3</td>\n",
              "      <td>0.784616</td>\n",
              "      <td>0.482123</td>\n",
              "      <td>0.957036</td>\n",
              "    </tr>\n",
              "  </tbody>\n",
              "</table>\n",
              "</div>"
            ],
            "text/plain": [
              "             Parametrização  Acuracia    Recall   Roc_auc\n",
              "0    Kernel rbf, gamma auto  0.934146  0.896287  0.975088\n",
              "1             Kernel linear  0.928062  0.892438  0.971802\n",
              "2           Kernel sigmoide  0.880247  0.836170  0.926166\n",
              "3  Kernel polinomial grau 2  0.848735  0.658615  0.954409\n",
              "4  Kernel polinomial grau 3  0.784616  0.482123  0.957036"
            ]
          },
          "metadata": {
            "tags": []
          },
          "execution_count": 8
        }
      ]
    },
    {
      "cell_type": "markdown",
      "metadata": {
        "id": "faced-offering"
      },
      "source": [
        "### Questão 8 - Determine a melhor parametrização, baseando-se na métrica Roc AUC, e recupere o modelo associado a ela. \n",
        "- Queremos achar a parametrização que gerou maior roc auc entre as parametrizações testadas:"
      ],
      "id": "faced-offering"
    },
    {
      "cell_type": "code",
      "metadata": {
        "id": "south-sherman",
        "outputId": "691f9ba6-9714-4578-f317-fd43edd276df"
      },
      "source": [
        "max_roc_auc = resultados_df[\"Roc_auc\"].max()\n",
        "# Usamos o iloc para pegar apenas o primeiro resultado\n",
        "melhor_parametrizacao = resultados_df.query(\"Roc_auc == @max_roc_auc\").iloc[0]\n",
        "melhor_parametrizacao"
      ],
      "id": "south-sherman",
      "execution_count": null,
      "outputs": [
        {
          "output_type": "execute_result",
          "data": {
            "text/plain": [
              "Parametrização    Kernel rbf, gamma auto\n",
              "Acuracia                        0.934146\n",
              "Recall                          0.896287\n",
              "Roc_auc                         0.975088\n",
              "Name: 0, dtype: object"
            ]
          },
          "metadata": {
            "tags": []
          },
          "execution_count": 9
        }
      ]
    },
    {
      "cell_type": "markdown",
      "metadata": {
        "id": "executive-infrastructure"
      },
      "source": [
        "### Questão 9 - Repetir a questão 8 mas fazendo isso diretamente com o método `idxmax()`:"
      ],
      "id": "executive-infrastructure"
    },
    {
      "cell_type": "code",
      "metadata": {
        "id": "distributed-basis",
        "outputId": "9c4d2207-8e62-4696-b467-20f7a07d1bbb"
      },
      "source": [
        "melhor_parametrizacao = resultados_df.loc[resultados_df[\"Roc_auc\"].idxmax()]\n",
        "melhor_parametrizacao"
      ],
      "id": "distributed-basis",
      "execution_count": null,
      "outputs": [
        {
          "output_type": "execute_result",
          "data": {
            "text/plain": [
              "Parametrização    Kernel rbf, gamma auto\n",
              "Acuracia                        0.934146\n",
              "Recall                          0.896287\n",
              "Roc_auc                         0.975088\n",
              "Name: 0, dtype: object"
            ]
          },
          "metadata": {
            "tags": []
          },
          "execution_count": 10
        }
      ]
    },
    {
      "cell_type": "markdown",
      "metadata": {
        "id": "classical-finder"
      },
      "source": [
        "### Questão 10 - Agora vamos recuperar o modelo com a melhor parametrização:"
      ],
      "id": "classical-finder"
    },
    {
      "cell_type": "code",
      "metadata": {
        "id": "fifty-continent",
        "outputId": "ef7f344a-344a-42ea-c072-55b0571d4a6b"
      },
      "source": [
        "# Acessando o valor da parametrização como string:\n",
        "nome_parametrizacao = melhor_parametrizacao[\"Parametrização\"]\n",
        "print(nome_parametrizacao)\n",
        "melhor_modelo_svm = modelos_svm[nome_parametrizacao]\n",
        "type(melhor_modelo_svm)"
      ],
      "id": "fifty-continent",
      "execution_count": null,
      "outputs": [
        {
          "output_type": "stream",
          "text": [
            "Kernel rbf, gamma auto\n"
          ],
          "name": "stdout"
        },
        {
          "output_type": "execute_result",
          "data": {
            "text/plain": [
              "sklearn.svm._classes.SVC"
            ]
          },
          "metadata": {
            "tags": []
          },
          "execution_count": 11
        }
      ]
    },
    {
      "cell_type": "markdown",
      "metadata": {
        "id": "living-addition"
      },
      "source": [
        "### Questão 11.\n",
        "Calcule a curva roc para a melhor parametrização encontrada, utilizando 10-fold cross-validation. Plote-as no mesmo gráfico. Para isso, utilize a função `plot_kfold_roc_curves` abaixo"
      ],
      "id": "living-addition"
    },
    {
      "cell_type": "code",
      "metadata": {
        "id": "reverse-bhutan"
      },
      "source": [
        "from sklearn.metrics import roc_curve\n",
        "import matplotlib.pyplot as plt\n",
        "from sklearn.metrics import plot_roc_curve\n",
        "from sklearn.metrics import auc\n",
        "\n",
        "def plot_kfold_roc_curves(model, X, y, k=10):\n",
        "    tprs = []\n",
        "    aucs = []\n",
        "    mean_fpr = np.linspace(0, 1, 100)\n",
        "    cv = StratifiedKFold(n_splits=10, shuffle=True, random_state=0)    \n",
        "    fig = plt.figure(figsize=(15,10))    \n",
        "    ax = fig.gca()\n",
        "    \n",
        "    # Plota as curvas ROC de cada fold:\n",
        "    print(\"\\tProgresso: [\", end = '')\n",
        "    for i, (train, test) in enumerate(cv.split(X, y)):\n",
        "        model.fit(X[train], y[train])\n",
        "        viz = plot_roc_curve(model, X[test], y[test],\n",
        "                            name='ROC fold {}'.format(i),\n",
        "                            alpha=0.3, lw=1, ax=ax)\n",
        "        interp_tpr = np.interp(mean_fpr, viz.fpr, viz.tpr)\n",
        "        interp_tpr[0] = 0.0\n",
        "        tprs.append(interp_tpr)\n",
        "        aucs.append(viz.roc_auc)  \n",
        "        print(\"#\", end = '')\n",
        "    print(\"]\")\n",
        "\n",
        "    # Plota a curva ROC média dos folds:\n",
        "    mean_tpr = np.mean(tprs, axis=0)\n",
        "    mean_tpr[-1] = 1.0\n",
        "    mean_auc = auc(mean_fpr, mean_tpr)\n",
        "    std_auc = np.std(aucs)\n",
        "    ax.plot(mean_fpr, mean_tpr, color='b',\n",
        "            label=r'ROC Médio (AUC = %0.2f $\\pm$ %0.2f)' % (mean_auc, std_auc),\n",
        "            lw=2, alpha=.8)\n",
        "    \n",
        "    # Plota uma região de +- 1 desvio padrão da média\n",
        "    std_tpr = np.std(tprs, axis=0)\n",
        "    tprs_upper = np.minimum(mean_tpr + std_tpr, 1)\n",
        "    tprs_lower = np.maximum(mean_tpr - std_tpr, 0)\n",
        "    ax.fill_between(mean_fpr, tprs_lower, tprs_upper, color='grey', alpha=.2,\n",
        "            label=r'$\\pm$ 1 desvio padrão')\n",
        "\n",
        "    ax.set(xlim=[-0.05, 1.05], ylim=[-0.05, 1.05],\n",
        "    title=\"Curva ROC para o classificador com %d-fold cross-validation\" % (k))\n",
        "    ax.legend(loc=\"lower right\")\n",
        "    plt.xlabel('Taxa Falsos Positivos')\n",
        "    plt.ylabel('Taxa Verdadeiros Positivos')\n",
        "    "
      ],
      "id": "reverse-bhutan",
      "execution_count": null,
      "outputs": []
    },
    {
      "cell_type": "code",
      "metadata": {
        "id": "organized-technician",
        "outputId": "c20c8659-b0b7-4669-995a-a28f8c03e2ae"
      },
      "source": [
        "plot_kfold_roc_curves(melhor_modelo_svm, X, y)"
      ],
      "id": "organized-technician",
      "execution_count": null,
      "outputs": [
        {
          "output_type": "stream",
          "text": [
            "Progresso: [##########]\n"
          ],
          "name": "stdout"
        },
        {
          "output_type": "display_data",
          "data": {
            "image/png": "[encoded data removed]",
            "text/plain": [
              "<Figure size 1080x720 with 1 Axes>"
            ]
          },
          "metadata": {
            "tags": [],
            "needs_background": "light"
          }
        }
      ]
    }
  ]
}
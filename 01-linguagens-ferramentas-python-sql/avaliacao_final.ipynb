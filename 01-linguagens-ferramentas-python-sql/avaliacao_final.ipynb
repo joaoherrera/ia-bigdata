{
  "cells": [
    {
      "cell_type": "markdown",
      "metadata": {
        "id": "ReORm8G1IgKs"
      },
      "source": [
        "# <font color=\"red\"> MBA em IA e Big Data</font>\n",
        "## <span style=\"color:red\">Linguagens e Ferramentas para Inteligência Artificial e Big Data (Python e SQL)</span>\n",
        "\n",
        "### Avaliação final - Python\n",
        "\n",
        "*Leandro Franco de Souza* <br>\n",
        "\n",
        "*ICMC/USP São Carlos*"
      ]
    },
    {
      "cell_type": "markdown",
      "metadata": {
        "id": "xcSW3yB6IgKv"
      },
      "source": [
        "<font color='red'> As respostas devem ser fornecidas no Moodle. O notebook é apenas para a implementação dos códigos que fornecerão as respostas</font>\n",
        "\n",
        "\n",
        "<font color='red'> _This notebook should be used to implement the source-code in order to obtain the results. With those results, answer the questions in the Moodle system._ </font>\n"
      ]
    },
    {
      "cell_type": "markdown",
      "metadata": {
        "id": "w7rLGfOWIgKw"
      },
      "source": [
        "---\n",
        "\n",
        "## Questão 1\n",
        "\n",
        "Considere que temos tuplas contendo registros de passageiros em um vôo. As tuplas são organizadas de forma que os elementos estão sempre nessa ordem:\n",
        "* Abreviação do país com 3 letras (ex. 'BRA', 'ARG')\n",
        "* Passaporte\n",
        "* Mês de vencimento do passaporte\n",
        "* Ano de vencimento do passaporte\n",
        "* Valor pago pelo trecho\n",
        "\n",
        "Seja uma lista contendo tuplas do tipo acima.  Calcule o valor médio pago pelo trecho entre todos os passageiros, considerando duas casas decimais.\n",
        "\n",
        "a) 996.4 <br>\n",
        "b) 999.70<br>\n",
        "c) 1009.1<br>\n",
        "d) 990.50"
      ]
    },
    {
      "cell_type": "code",
      "execution_count": 29,
      "metadata": {
        "id": "8TaE4Evu4dP-"
      },
      "outputs": [
        {
          "name": "stdout",
          "output_type": "stream",
          "text": [
            "Ticket average price: 999.7045454545455\n"
          ]
        }
      ],
      "source": [
        "lv = [('BRA', 'DFD-2992', 12, 2021, 999.0),\n",
        "      ('ARG', '1112992', 1, 2022, 899.0),\n",
        "      ('EUA', 'AB3DA000', 11, 2021, 1023.0),\n",
        "      ('BRA', 'GCG-1112', 9, 2021, 900.0),\n",
        "      ('ESP', 'DFD-2992', 11, 2021, 899.0),\n",
        "      ('URU', 'ECZ118', 10, 2021, 1099.9),\n",
        "      ('BRA', 'CAE-1533', 9, 2021, 999.5),\n",
        "      ('BRA', 'ACG-0152', 8, 2021, 799.5),\n",
        "      ('URU', 'AEC423', 3, 2023, 699.0),\n",
        "      ('PAR', 'DFD-2992', 2, 2025, 1099.0),\n",
        "      ('ARL', 'X123111Z', 10, 2021, 954.0),\n",
        "      ('URU', 'BAC203', 2, 2025, 1011.0),\n",
        "      ('ARG', '3012300', 9, 2021, 1259.0),\n",
        "      ('URU', 'AEC410', 10, 2021, 699.0),\n",
        "      ('ARG', '3111023', 11, 2021, 1190.0),\n",
        "      ('VEN', 'IAD130', 8, 2022, 1000.6),\n",
        "      ('URU', 'ABC123', 12, 2024, 1001.5),\n",
        "      ('ARG', '3112323', 10, 2021, 1250.0),\n",
        "      ('BRA', 'AAB-2992', 8, 2021, 1050.9),\n",
        "      ('BRA', 'EFE-2992', 8, 2022, 1170.1),\n",
        "      ('VEN', 'GAC292', 4, 2023, 1000.6),\n",
        "      ('PER', '2992DDE', 9, 2021, 989.9)]\n",
        "\n",
        "all_prices = [data[-1] for data in lv]\n",
        "average_price = sum(all_prices) / len(all_prices)\n",
        "\n",
        "print(f\"Ticket average price: {average_price}\")"
      ]
    },
    {
      "cell_type": "markdown",
      "metadata": {
        "id": "A4k82jTDIgKw"
      },
      "source": [
        "---\n",
        "\n",
        "## Questão 2\n",
        "\n",
        "Considere a mesma lista anteriormente utilizada. Escreva um programa para calcular: quantos passageiros no vôo dos países: 'BRA' e 'ARG' e de todos os outros países agrupados (Outros), possuem passaporte com vencimento em novembro de 2021 ou anterior e cujo valor da passagem é maior do que a média do valor pago por todos os passageiros?\n",
        "\n",
        "a) BRA = 3, ARG = 1, Outros = 4<br>\n",
        "b) BRA = 4, ARG = 2, Outros = 4<br>\n",
        "c) BRA = 1, ARG = 3, Outros = 2<br>\n",
        "d) BRA = 4, ARG = 2, Outros = 9"
      ]
    },
    {
      "cell_type": "code",
      "execution_count": 7,
      "metadata": {
        "id": "n3ThmPkhIgKy"
      },
      "outputs": [
        {
          "name": "stdout",
          "output_type": "stream",
          "text": [
            "BRA: 1, ARG: 3, Others: 2\n"
          ]
        }
      ],
      "source": [
        "#### \n",
        "\n",
        "def is_expired(data):\n",
        "    return (data[3] < 2021) or (data[2] <= 11 and data[3] == 2021)\n",
        "\n",
        "def price_higher_than_avg(data):\n",
        "    return data[-1] > average_price\n",
        "\n",
        "\n",
        "brazilians = len([data for data in lv if is_expired(data) and price_higher_than_avg(data) and data[0] == \"BRA\"])\n",
        "argentinians = len([data for data in lv if is_expired(data) and price_higher_than_avg(data) and data[0] == \"ARG\"])\n",
        "others = len([data for data in lv if is_expired(data) and price_higher_than_avg(data) and data[0] != \"BRA\" and data[0] != \"ARG\"])\n",
        "\n",
        "print(f\"BRA: {brazilians}, ARG: {argentinians}, Others: {others}\")"
      ]
    },
    {
      "cell_type": "code",
      "execution_count": 36,
      "metadata": {},
      "outputs": [
        {
          "name": "stdout",
          "output_type": "stream",
          "text": [
            "9\n"
          ]
        }
      ],
      "source": [
        "expiration = [len(f\"{data[2]}/{data[3]}\") for data in lv]\n",
        "expiration_count = sum([1 if exp > 6 else 0 for exp in expiration])\n",
        "\n",
        "print(expiration_count)"
      ]
    },
    {
      "cell_type": "markdown",
      "metadata": {
        "id": "Q9JsJVRTIgKz"
      },
      "source": [
        "---\n",
        "\n",
        "## Questão 3\n",
        "\n",
        "Desejamos armazenar informações de produtos contendo os seguintes campos de dados:\n",
        "* id: string, exemplo: 'SK1012'\n",
        "* descricao: string, exemplo: 'Caneta esferográfica azul'\n",
        "* preço: float, exemplo: 1.59\n",
        "* quantidade em estoque: int, exemplo: 10000\n",
        "* outras informações: strings contendo dados adicionais, exemplo: '16 cm', 'retrátil', 'ponta fina', em quantidade não especificada podendo ser zero ou mais informações.\n",
        "\n",
        "Será preciso armazenar diversos produtos e recuperá-los por meio do atributo *id*. Após armazenados, os dados referentes a *id*, *descricao* e *outras informacoes* não serão alterados, mas os dados referentes à *quantidade em estoque* e *preco* poderão ser modificados.\n",
        "\n",
        "Considerando as estruturas em Python: lista, tupla e dicionário, qual seria a escolha ideal para armazenar e manipular os dados conforme descritos?\n",
        "\n",
        "a) Dicionário cuja chave é id, e cujo valor é uma tupla contendo descrição e outras informações para que sejam imutáveis, e temos uma lista à parte para armazenar preço e quantidade na mesma ordem dos ids do dicionário permitindo recuperá-los pelo índice numérico<br>\n",
        "b) Dicionário cuja chave é id, e cujo valor é uma lista contendo os campos preço e quantidade, e mais uma tupla, que terá a descrição na primeira posição e outras informações nas posições seguintes.<br>\n",
        "c) Lista contendo tuplas de produtos, cujo primeiro elemento da tupla é id, seguido por descrição e outras informações, e um elemento da tupla é uma outra lista contendo quantidade e preço para que possam ser alterados se necessário<br>\n",
        "d) Lista contendo dicionários de produtos, cada dicionário possui como chave um id, seguido por uma tupla contendo descrição e outras informações, e uma lista contendo quantidade e preço para que possam ser alterados se necessário"
      ]
    },
    {
      "cell_type": "code",
      "execution_count": 12,
      "metadata": {},
      "outputs": [
        {
          "ename": "TypeError",
          "evalue": "'tuple' object does not support item assignment",
          "output_type": "error",
          "traceback": [
            "\u001b[0;31m---------------------------------------------------------------------------\u001b[0m",
            "\u001b[0;31mTypeError\u001b[0m                                 Traceback (most recent call last)",
            "\u001b[1;32m/home/joaoherrera/Downloads/LFIABD_Python_Avaliacao_final_(1)1a5.ipynb Cell 8\u001b[0m in \u001b[0;36m<cell line: 9>\u001b[0;34m()\u001b[0m\n\u001b[1;32m      <a href='vscode-notebook-cell:/home/joaoherrera/Downloads/LFIABD_Python_Avaliacao_final_%281%291a5.ipynb#ch0000009?line=6'>7</a>\u001b[0m \u001b[39m# c)\u001b[39;00m\n\u001b[1;32m      <a href='vscode-notebook-cell:/home/joaoherrera/Downloads/LFIABD_Python_Avaliacao_final_%281%291a5.ipynb#ch0000009?line=7'>8</a>\u001b[0m products \u001b[39m=\u001b[39m [(\u001b[39m\"\u001b[39m\u001b[39mSK1012\u001b[39m\u001b[39m\"\u001b[39m, \u001b[39m\"\u001b[39m\u001b[39mBlue pen\u001b[39m\u001b[39m\"\u001b[39m, \u001b[39m\"\u001b[39m\u001b[39m16cm\u001b[39m\u001b[39m\"\u001b[39m, [\u001b[39m45.50\u001b[39m, \u001b[39m10\u001b[39m])]\n\u001b[0;32m----> <a href='vscode-notebook-cell:/home/joaoherrera/Downloads/LFIABD_Python_Avaliacao_final_%281%291a5.ipynb#ch0000009?line=8'>9</a>\u001b[0m products[\u001b[39m-\u001b[39m\u001b[39m1\u001b[39m][\u001b[39m0\u001b[39m] \u001b[39m=\u001b[39m \u001b[39m10\u001b[39m\n",
            "\u001b[0;31mTypeError\u001b[0m: 'tuple' object does not support item assignment"
          ]
        }
      ],
      "source": [
        "# a)\n",
        "description, products = {\"SK1012\": (\"Blue pen\", \"\")},  [45.50, 10]\n",
        "\n",
        "# b)X\n",
        "products, description = {\"SK1012\": [45.50, 10]}, (\"Blue pen\", \"16cm\")\n",
        "\n",
        "# c)\n",
        "products = [(\"SK1012\", \"Blue pen\", \"16cm\", [45.50, 10])]\n",
        "\n",
        "# d)\n",
        "# products = [{\"SK1012\": (\"Blue pen\", \"16cm\"), [45.50, 10]}]\n"
      ]
    },
    {
      "cell_type": "markdown",
      "metadata": {
        "id": "VzCGy9tMIgKz"
      },
      "source": [
        "--- \n",
        "\n",
        "## Questão 4\n",
        "\n",
        "Carregue o arquivo <font style=\"font-family: monaco\">WorldCupMatches.csv</font>, disponível para download. Baixe o arquivo no seu diretório de trabalho para responder as questões.\n",
        "\n",
        "O arquivo <font style=\"font-family: monaco\">WorldCupMatches.csv</font> contém informações sobre todas as partidas de copas do mundo entre 1930 e 2014, ou seja, cada linha no arquivo corresponde a uma partida de futebol em copa do mundo.\n",
        "\n",
        "Algumas das colunas que serão importantes para resolver as questões são:\n",
        "- __Year__: indica o ano da copa\n",
        "- __Stage__: em qual fase da copa a partida aconteceu\n",
        "- __HomeTeamName__: nome do time anfitrião da partida\n",
        "- __AwayTeamName__: nome do time adversário na partida\n",
        "- __Attendance__: número de espectadores da partida\n",
        "- __Stadium__: estádio onde a partida foi realizada\n",
        "\n",
        "Usando o `groupby` calcule a média de gols `HomeTeamGoals` de cada time da coluna `HomeTeamName`. Qual o time com a maior média de gols?<br>\n",
        "Analisando os times do `AwayTeamName`, faça o mesmo cálculo de média do `AwayTeamGoals`. Qual o time com a maior média de gols?<br>\n",
        "As respostas para primeira e segunda pergunta são respectivamente:\n",
        "\n",
        "a) Turkey 5.000000 e Czech Republic\t3.000000 <br>\n",
        "b) Turkey 5.000000 e Brazil 1.730769<br>\n",
        "c) Russia\t3.000000 e Czech Republic\t3.000000 <br>\n",
        "d) Hungary\t4.055556 e Germany 2.250000 <br>"
      ]
    },
    {
      "cell_type": "code",
      "execution_count": 37,
      "metadata": {},
      "outputs": [
        {
          "name": "stdout",
          "output_type": "stream",
          "text": [
            "HomeTeamName\n",
            "Turkey    5.0\n",
            "Name: HomeTeamGoals, dtype: float64\n",
            "AwayTeamName\n",
            "Czech Republic    3.0\n",
            "Name: AwayTeamGoals, dtype: float64\n"
          ]
        }
      ],
      "source": [
        "import pandas as pd\n",
        "\n",
        "wc_matches = pd.read_csv(\"data/WorldCupMatches.csv\")\n",
        "\n",
        "wc_teams_home = wc_matches.groupby([\"HomeTeamName\"])[\"HomeTeamGoals\"].mean()\n",
        "print(wc_teams_home[wc_teams_home == max(wc_teams_home)])\n",
        "\n",
        "wc_teams_away = wc_matches.groupby([\"AwayTeamName\"])[\"AwayTeamGoals\"].mean()\n",
        "print(wc_teams_away[wc_teams_away == max(wc_teams_away)])"
      ]
    },
    {
      "cell_type": "code",
      "execution_count": 39,
      "metadata": {},
      "outputs": [
        {
          "name": "stdout",
          "output_type": "stream",
          "text": [
            "<class 'pandas.core.frame.DataFrame'>\n",
            "RangeIndex: 836 entries, 0 to 835\n",
            "Data columns (total 20 columns):\n",
            " #   Column             Non-Null Count  Dtype  \n",
            "---  ------             --------------  -----  \n",
            " 0   Year               836 non-null    int64  \n",
            " 1   Datetime           836 non-null    object \n",
            " 2   Stage              836 non-null    object \n",
            " 3   Stadium            836 non-null    object \n",
            " 4   City               836 non-null    object \n",
            " 5   HomeTeamName       836 non-null    object \n",
            " 6   HomeTeamGoals      836 non-null    int64  \n",
            " 7   AwayTeamGoals      836 non-null    int64  \n",
            " 8   AwayTeamName       836 non-null    object \n",
            " 9   WinConditions      836 non-null    object \n",
            " 10  Attendance         836 non-null    float64\n",
            " 11  HalfTimeHomeGoals  836 non-null    int64  \n",
            " 12  HalfTimeAwayGoals  836 non-null    int64  \n",
            " 13  Referee            836 non-null    object \n",
            " 14  Assistant1         836 non-null    object \n",
            " 15  Assistant2         836 non-null    object \n",
            " 16  RoundID            836 non-null    int64  \n",
            " 17  MatchID            836 non-null    int64  \n",
            " 18  HomeTeamInitials   836 non-null    object \n",
            " 19  AwayTeamInitials   836 non-null    object \n",
            "dtypes: float64(1), int64(7), object(12)\n",
            "memory usage: 130.8+ KB\n"
          ]
        }
      ],
      "source": [
        "wc_matches.info()"
      ]
    },
    {
      "cell_type": "markdown",
      "metadata": {
        "id": "8hHsIMIGCsVN"
      },
      "source": [
        "---\n",
        "\n",
        "## Questão 5\n",
        "\n",
        "Abra a base de dados `titanic.tsv` usando o `Pandas` e carregue-a num dataframe na variável `tit`. A coluna `Survived` tem valor 1 para sobrevivente e 0 para não sobrevivente, portanto uma média desta coluna nos retorna a porcentagem de sobreviventes. Calcule separando por sexo (`Sex`) e classe (`Pclass`) a quantidade de sobreviventes. Qual a maior e menor porcentagem de sobreviventes (`Sex` `Pclass` e média de `Survived`)?<br>\n",
        "\n",
        "a) female 1 0.801285 e male 3 0.235449<br>\n",
        "b) female 1 0.968085 e male 3 0.135447<br>\n",
        "c) female 1 0.987085 e male 3 0.135432<br>\n",
        "d) female 1 0.968085 e male 3 0.153445<br>"
      ]
    },
    {
      "cell_type": "code",
      "execution_count": 27,
      "metadata": {},
      "outputs": [
        {
          "name": "stdout",
          "output_type": "stream",
          "text": [
            "Sex     Pclass\n",
            "female  1         0.968085\n",
            "Name: Survived, dtype: float64\n",
            "Sex   Pclass\n",
            "male  3         0.135447\n",
            "Name: Survived, dtype: float64\n"
          ]
        }
      ],
      "source": [
        "import pandas as pd\n",
        "\n",
        "tit = pd.read_csv(\"data/titanic.tsv\", sep='\\t')\n",
        "\n",
        "survivors_gender = tit.groupby([\"Sex\", \"Pclass\"])[\"Survived\"].mean()\n",
        "\n",
        "print(survivors_gender[survivors_gender == survivors_gender.max()])\n",
        "print(survivors_gender[survivors_gender == survivors_gender.min()])"
      ]
    }
  ],
  "metadata": {
    "colab": {
      "collapsed_sections": [],
      "name": "LFIABD_Python_Avaliacao_final (1).ipynb",
      "provenance": []
    },
    "kernelspec": {
      "display_name": "Python 3.8.10 64-bit",
      "language": "python",
      "name": "python3"
    },
    "language_info": {
      "codemirror_mode": {
        "name": "ipython",
        "version": 3
      },
      "file_extension": ".py",
      "mimetype": "text/x-python",
      "name": "python",
      "nbconvert_exporter": "python",
      "pygments_lexer": "ipython3",
      "version": "3.8.10"
    },
    "toc": {
      "base_numbering": 1,
      "nav_menu": {},
      "number_sections": true,
      "sideBar": true,
      "skip_h1_title": false,
      "title_cell": "Table of Contents",
      "title_sidebar": "Contents",
      "toc_cell": false,
      "toc_position": {},
      "toc_section_display": true,
      "toc_window_display": false
    },
    "vscode": {
      "interpreter": {
        "hash": "31f2aee4e71d21fbe5cf8b01ff0e069b9275f58929596ceb00d14d90e3e16cd6"
      }
    }
  },
  "nbformat": 4,
  "nbformat_minor": 0
}

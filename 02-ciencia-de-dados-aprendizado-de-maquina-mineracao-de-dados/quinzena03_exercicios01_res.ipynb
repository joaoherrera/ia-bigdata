{
  "nbformat": 4,
  "nbformat_minor": 0,
  "metadata": {
    "colab": {
      "name": " MBA-MD-2022-EXERCICIOS-PARTE1-5-RESOLVIDOS.ipynb",
      "provenance": [],
      "collapsed_sections": []
    },
    "kernelspec": {
      "display_name": "Python 3",
      "language": "python",
      "name": "python3"
    },
    "language_info": {
      "codemirror_mode": {
        "name": "ipython",
        "version": 3
      },
      "file_extension": ".py",
      "mimetype": "text/x-python",
      "name": "python",
      "nbconvert_exporter": "python",
      "pygments_lexer": "ipython3",
      "version": "3.9.5"
    },
    "toc": {
      "base_numbering": 1,
      "nav_menu": {},
      "number_sections": true,
      "sideBar": true,
      "skip_h1_title": false,
      "title_cell": "Table of Contents",
      "title_sidebar": "Contents",
      "toc_cell": false,
      "toc_position": {},
      "toc_section_display": true,
      "toc_window_display": false
    }
  },
  "cells": [
    {
      "cell_type": "markdown",
      "metadata": {
        "id": "x8VUohVKQh5l"
      },
      "source": [
        "# <font color=\"red\"> MBA em IA e Big Data</font>\n",
        "## <span style=\"color:red\">Curso 2 - Ciência de Dados, Aprendizado de Máquina e Mineração de Dados</span>\n",
        "\n",
        "### <span style=\"color:darkred\">Mineração de Dados</span>\n",
        "\n",
        "## Exercícios de Fixação - Aulas: Parte 1 até Parte 5\n",
        "\n",
        "*Ricardo M. Marcacini*<br>\n",
        "*ICMC/USP São Carlos*"
      ]
    },
    {
      "cell_type": "markdown",
      "metadata": {
        "id": "P1gGG6yeQh5m"
      },
      "source": [
        "#### <span style=\"color:red\">Recomenda-se fortemente que os exercícios sejam feitos sem consultar as respostas antecipadamente.</span>"
      ]
    },
    {
      "cell_type": "markdown",
      "metadata": {
        "id": "9sFBaTxKvOnT"
      },
      "source": [
        "# Bibliotecas necessárias para execução dos exercícios\n",
        "\n",
        "Nós usamos bibliotecas que geralmente estão disponíveis por padrão no ambiente Python-Anaconda e também no Google Colab. Caso receba mensagem de erro ao importar alguma das bibliotecas, então será necessário instalar o respectivo pacote no seu ambiente. Nesse caso, envie uma mensagem no fórum da disciplina para receber ajuda. "
      ]
    },
    {
      "cell_type": "code",
      "metadata": {
        "id": "q45g0HmtvLjb"
      },
      "source": [
        "# importando bibliotecas\n",
        "import numpy as np\n",
        "import pandas as pd\n",
        "from sklearn.neighbors import NearestNeighbors\n",
        "from sklearn import preprocessing\n",
        "import scipy\n",
        "from scipy.spatial import distance_matrix \n",
        "from scipy.cluster import hierarchy \n",
        "from scipy.spatial.distance import pdist\n",
        "from sklearn.cluster import KMeans\n",
        "from sklearn.metrics import silhouette_samples, silhouette_score\n",
        "import seaborn as sns"
      ],
      "execution_count": null,
      "outputs": []
    },
    {
      "cell_type": "markdown",
      "metadata": {
        "id": "LxKrzj_-s2mN"
      },
      "source": [
        "# Arquivo CSV (dados) para os Exercícios de Fixação\n",
        "\n",
        "Utilizar os dados do arquivo **bank_marketing_exercicio.csv** para realização dos exercícios de fixação.\n",
        "\n",
        "Para executar o código abaixo, certifique-se de que o arquivo bank_marketing_exercicio.csv esteja no mesmo diretório desse script."
      ]
    },
    {
      "cell_type": "code",
      "metadata": {
        "colab": {
          "base_uri": "https://localhost:8080/",
          "height": 417
        },
        "id": "Ksk58ZHOuB3M",
        "outputId": "63576269-559c-45bf-a5b2-5286c5134366"
      },
      "source": [
        "import pandas as pd\n",
        "\n",
        "df_dados = pd.read_csv('bank_marketing_exercicio.csv')\n",
        "df_dados"
      ],
      "execution_count": null,
      "outputs": [
        {
          "output_type": "execute_result",
          "data": {
            "text/html": [
              "<div>\n",
              "<style scoped>\n",
              "    .dataframe tbody tr th:only-of-type {\n",
              "        vertical-align: middle;\n",
              "    }\n",
              "\n",
              "    .dataframe tbody tr th {\n",
              "        vertical-align: top;\n",
              "    }\n",
              "\n",
              "    .dataframe thead th {\n",
              "        text-align: right;\n",
              "    }\n",
              "</style>\n",
              "<table border=\"1\" class=\"dataframe\">\n",
              "  <thead>\n",
              "    <tr style=\"text-align: right;\">\n",
              "      <th></th>\n",
              "      <th>age</th>\n",
              "      <th>balance</th>\n",
              "      <th>duration</th>\n",
              "    </tr>\n",
              "  </thead>\n",
              "  <tbody>\n",
              "    <tr>\n",
              "      <th>0</th>\n",
              "      <td>37</td>\n",
              "      <td>4760</td>\n",
              "      <td>182</td>\n",
              "    </tr>\n",
              "    <tr>\n",
              "      <th>1</th>\n",
              "      <td>30</td>\n",
              "      <td>-393</td>\n",
              "      <td>435</td>\n",
              "    </tr>\n",
              "    <tr>\n",
              "      <th>2</th>\n",
              "      <td>32</td>\n",
              "      <td>2979</td>\n",
              "      <td>156</td>\n",
              "    </tr>\n",
              "    <tr>\n",
              "      <th>3</th>\n",
              "      <td>30</td>\n",
              "      <td>1185</td>\n",
              "      <td>284</td>\n",
              "    </tr>\n",
              "    <tr>\n",
              "      <th>4</th>\n",
              "      <td>42</td>\n",
              "      <td>221</td>\n",
              "      <td>720</td>\n",
              "    </tr>\n",
              "    <tr>\n",
              "      <th>...</th>\n",
              "      <td>...</td>\n",
              "      <td>...</td>\n",
              "      <td>...</td>\n",
              "    </tr>\n",
              "    <tr>\n",
              "      <th>395</th>\n",
              "      <td>47</td>\n",
              "      <td>477</td>\n",
              "      <td>973</td>\n",
              "    </tr>\n",
              "    <tr>\n",
              "      <th>396</th>\n",
              "      <td>40</td>\n",
              "      <td>4795</td>\n",
              "      <td>57</td>\n",
              "    </tr>\n",
              "    <tr>\n",
              "      <th>397</th>\n",
              "      <td>42</td>\n",
              "      <td>216</td>\n",
              "      <td>144</td>\n",
              "    </tr>\n",
              "    <tr>\n",
              "      <th>398</th>\n",
              "      <td>36</td>\n",
              "      <td>2880</td>\n",
              "      <td>283</td>\n",
              "    </tr>\n",
              "    <tr>\n",
              "      <th>399</th>\n",
              "      <td>31</td>\n",
              "      <td>202</td>\n",
              "      <td>146</td>\n",
              "    </tr>\n",
              "  </tbody>\n",
              "</table>\n",
              "<p>400 rows × 3 columns</p>\n",
              "</div>"
            ],
            "text/plain": [
              "     age  balance  duration\n",
              "0     37     4760       182\n",
              "1     30     -393       435\n",
              "2     32     2979       156\n",
              "3     30     1185       284\n",
              "4     42      221       720\n",
              "..   ...      ...       ...\n",
              "395   47      477       973\n",
              "396   40     4795        57\n",
              "397   42      216       144\n",
              "398   36     2880       283\n",
              "399   31      202       146\n",
              "\n",
              "[400 rows x 3 columns]"
            ]
          },
          "metadata": {
            "tags": []
          },
          "execution_count": 2
        }
      ]
    },
    {
      "cell_type": "markdown",
      "metadata": {
        "id": "KG6rCC6gutp0"
      },
      "source": [
        "# Exercício 1\n",
        "\n",
        "Utilize a distância euclidiana para recuperar e listar os 10 objetos mais próximos ao primeiro objeto da base.\n",
        "\n",
        "Observação: o primeiro objeto será retornado como vizinho dele mesmo (distância=0), ou seja, ele também estará presente na lista dos 10 objetos mais próximos.\n"
      ]
    },
    {
      "cell_type": "code",
      "metadata": {
        "colab": {
          "base_uri": "https://localhost:8080/",
          "height": 458
        },
        "id": "aVJiVbVFvD00",
        "outputId": "273ed52c-09bb-47df-ac09-c6f3de478412"
      },
      "source": [
        "nbrs = NearestNeighbors(metric='euclidean',n_neighbors=10).fit(df_dados)\n",
        "\n",
        "# recuperando features do primeiro objeto da base\n",
        "objeto_id = 0\n",
        "objeto = df_dados.loc[objeto_id].to_list()\n",
        "\n",
        "distances, indices = nbrs.kneighbors([objeto])\n",
        "resultado = df_dados.iloc[indices[0]]\n",
        "resultado['distance'] = distances[0]\n",
        "\n",
        "resultado"
      ],
      "execution_count": null,
      "outputs": [
        {
          "output_type": "stream",
          "text": [
            "/usr/local/lib/python3.7/dist-packages/ipykernel_launcher.py:9: SettingWithCopyWarning: \n",
            "A value is trying to be set on a copy of a slice from a DataFrame.\n",
            "Try using .loc[row_indexer,col_indexer] = value instead\n",
            "\n",
            "See the caveats in the documentation: https://pandas.pydata.org/pandas-docs/stable/user_guide/indexing.html#returning-a-view-versus-a-copy\n",
            "  if __name__ == '__main__':\n"
          ],
          "name": "stderr"
        },
        {
          "output_type": "execute_result",
          "data": {
            "text/html": [
              "<div>\n",
              "<style scoped>\n",
              "    .dataframe tbody tr th:only-of-type {\n",
              "        vertical-align: middle;\n",
              "    }\n",
              "\n",
              "    .dataframe tbody tr th {\n",
              "        vertical-align: top;\n",
              "    }\n",
              "\n",
              "    .dataframe thead th {\n",
              "        text-align: right;\n",
              "    }\n",
              "</style>\n",
              "<table border=\"1\" class=\"dataframe\">\n",
              "  <thead>\n",
              "    <tr style=\"text-align: right;\">\n",
              "      <th></th>\n",
              "      <th>age</th>\n",
              "      <th>balance</th>\n",
              "      <th>duration</th>\n",
              "      <th>distance</th>\n",
              "    </tr>\n",
              "  </thead>\n",
              "  <tbody>\n",
              "    <tr>\n",
              "      <th>0</th>\n",
              "      <td>37</td>\n",
              "      <td>4760</td>\n",
              "      <td>182</td>\n",
              "      <td>0.000000</td>\n",
              "    </tr>\n",
              "    <tr>\n",
              "      <th>338</th>\n",
              "      <td>37</td>\n",
              "      <td>4760</td>\n",
              "      <td>187</td>\n",
              "      <td>5.000000</td>\n",
              "    </tr>\n",
              "    <tr>\n",
              "      <th>370</th>\n",
              "      <td>32</td>\n",
              "      <td>4761</td>\n",
              "      <td>159</td>\n",
              "      <td>23.558438</td>\n",
              "    </tr>\n",
              "    <tr>\n",
              "      <th>394</th>\n",
              "      <td>37</td>\n",
              "      <td>4798</td>\n",
              "      <td>156</td>\n",
              "      <td>46.043458</td>\n",
              "    </tr>\n",
              "    <tr>\n",
              "      <th>390</th>\n",
              "      <td>33</td>\n",
              "      <td>4789</td>\n",
              "      <td>220</td>\n",
              "      <td>47.968740</td>\n",
              "    </tr>\n",
              "    <tr>\n",
              "      <th>275</th>\n",
              "      <td>33</td>\n",
              "      <td>4790</td>\n",
              "      <td>137</td>\n",
              "      <td>54.230987</td>\n",
              "    </tr>\n",
              "    <tr>\n",
              "      <th>6</th>\n",
              "      <td>79</td>\n",
              "      <td>4738</td>\n",
              "      <td>151</td>\n",
              "      <td>56.648036</td>\n",
              "    </tr>\n",
              "    <tr>\n",
              "      <th>156</th>\n",
              "      <td>41</td>\n",
              "      <td>4824</td>\n",
              "      <td>168</td>\n",
              "      <td>65.635356</td>\n",
              "    </tr>\n",
              "    <tr>\n",
              "      <th>323</th>\n",
              "      <td>55</td>\n",
              "      <td>4809</td>\n",
              "      <td>223</td>\n",
              "      <td>66.377707</td>\n",
              "    </tr>\n",
              "    <tr>\n",
              "      <th>201</th>\n",
              "      <td>30</td>\n",
              "      <td>4787</td>\n",
              "      <td>99</td>\n",
              "      <td>87.561407</td>\n",
              "    </tr>\n",
              "  </tbody>\n",
              "</table>\n",
              "</div>"
            ],
            "text/plain": [
              "     age  balance  duration   distance\n",
              "0     37     4760       182   0.000000\n",
              "338   37     4760       187   5.000000\n",
              "370   32     4761       159  23.558438\n",
              "394   37     4798       156  46.043458\n",
              "390   33     4789       220  47.968740\n",
              "275   33     4790       137  54.230987\n",
              "6     79     4738       151  56.648036\n",
              "156   41     4824       168  65.635356\n",
              "323   55     4809       223  66.377707\n",
              "201   30     4787        99  87.561407"
            ]
          },
          "metadata": {
            "tags": []
          },
          "execution_count": 3
        }
      ]
    },
    {
      "cell_type": "markdown",
      "metadata": {
        "id": "O-pheAQEw_rc"
      },
      "source": [
        "# Exercício 2\n",
        "\n",
        "Utilize a distância de Minkowski correspondente à distância de Manhattan para recuperar e listar os 10 objetos mais próximos ao primeiro objeto da base.\n",
        "\n",
        "Observação: o primeiro objeto será retornado como vizinho dele mesmo (distância=0), ou seja, ele também estará presente na lista dos 10 objetos mais próximos."
      ]
    },
    {
      "cell_type": "code",
      "metadata": {
        "colab": {
          "base_uri": "https://localhost:8080/",
          "height": 474
        },
        "id": "H4fh9Hmfxnjz",
        "outputId": "b95b9bc7-2b08-4cfb-cbdd-3dcf120de78f"
      },
      "source": [
        "nbrs = NearestNeighbors(metric='minkowski',n_neighbors=10, p=1).fit(df_dados)\n",
        "\n",
        "\n",
        "# recuperando features do primeiro objeto da base\n",
        "objeto_id = 0\n",
        "objeto = df_dados.loc[objeto_id].to_list()\n",
        "print('Atributos')\n",
        "\n",
        "distances, indices = nbrs.kneighbors([objeto])\n",
        "resultado = df_dados.iloc[indices[0]]\n",
        "resultado['distance'] = distances[0]\n",
        "\n",
        "resultado"
      ],
      "execution_count": null,
      "outputs": [
        {
          "output_type": "stream",
          "text": [
            "Atributos\n"
          ],
          "name": "stdout"
        },
        {
          "output_type": "stream",
          "text": [
            "/usr/local/lib/python3.7/dist-packages/ipykernel_launcher.py:11: SettingWithCopyWarning: \n",
            "A value is trying to be set on a copy of a slice from a DataFrame.\n",
            "Try using .loc[row_indexer,col_indexer] = value instead\n",
            "\n",
            "See the caveats in the documentation: https://pandas.pydata.org/pandas-docs/stable/user_guide/indexing.html#returning-a-view-versus-a-copy\n",
            "  # This is added back by InteractiveShellApp.init_path()\n"
          ],
          "name": "stderr"
        },
        {
          "output_type": "execute_result",
          "data": {
            "text/html": [
              "<div>\n",
              "<style scoped>\n",
              "    .dataframe tbody tr th:only-of-type {\n",
              "        vertical-align: middle;\n",
              "    }\n",
              "\n",
              "    .dataframe tbody tr th {\n",
              "        vertical-align: top;\n",
              "    }\n",
              "\n",
              "    .dataframe thead th {\n",
              "        text-align: right;\n",
              "    }\n",
              "</style>\n",
              "<table border=\"1\" class=\"dataframe\">\n",
              "  <thead>\n",
              "    <tr style=\"text-align: right;\">\n",
              "      <th></th>\n",
              "      <th>age</th>\n",
              "      <th>balance</th>\n",
              "      <th>duration</th>\n",
              "      <th>distance</th>\n",
              "    </tr>\n",
              "  </thead>\n",
              "  <tbody>\n",
              "    <tr>\n",
              "      <th>0</th>\n",
              "      <td>37</td>\n",
              "      <td>4760</td>\n",
              "      <td>182</td>\n",
              "      <td>0.0</td>\n",
              "    </tr>\n",
              "    <tr>\n",
              "      <th>338</th>\n",
              "      <td>37</td>\n",
              "      <td>4760</td>\n",
              "      <td>187</td>\n",
              "      <td>5.0</td>\n",
              "    </tr>\n",
              "    <tr>\n",
              "      <th>370</th>\n",
              "      <td>32</td>\n",
              "      <td>4761</td>\n",
              "      <td>159</td>\n",
              "      <td>29.0</td>\n",
              "    </tr>\n",
              "    <tr>\n",
              "      <th>394</th>\n",
              "      <td>37</td>\n",
              "      <td>4798</td>\n",
              "      <td>156</td>\n",
              "      <td>64.0</td>\n",
              "    </tr>\n",
              "    <tr>\n",
              "      <th>390</th>\n",
              "      <td>33</td>\n",
              "      <td>4789</td>\n",
              "      <td>220</td>\n",
              "      <td>71.0</td>\n",
              "    </tr>\n",
              "    <tr>\n",
              "      <th>275</th>\n",
              "      <td>33</td>\n",
              "      <td>4790</td>\n",
              "      <td>137</td>\n",
              "      <td>79.0</td>\n",
              "    </tr>\n",
              "    <tr>\n",
              "      <th>156</th>\n",
              "      <td>41</td>\n",
              "      <td>4824</td>\n",
              "      <td>168</td>\n",
              "      <td>82.0</td>\n",
              "    </tr>\n",
              "    <tr>\n",
              "      <th>6</th>\n",
              "      <td>79</td>\n",
              "      <td>4738</td>\n",
              "      <td>151</td>\n",
              "      <td>95.0</td>\n",
              "    </tr>\n",
              "    <tr>\n",
              "      <th>323</th>\n",
              "      <td>55</td>\n",
              "      <td>4809</td>\n",
              "      <td>223</td>\n",
              "      <td>108.0</td>\n",
              "    </tr>\n",
              "    <tr>\n",
              "      <th>201</th>\n",
              "      <td>30</td>\n",
              "      <td>4787</td>\n",
              "      <td>99</td>\n",
              "      <td>117.0</td>\n",
              "    </tr>\n",
              "  </tbody>\n",
              "</table>\n",
              "</div>"
            ],
            "text/plain": [
              "     age  balance  duration  distance\n",
              "0     37     4760       182       0.0\n",
              "338   37     4760       187       5.0\n",
              "370   32     4761       159      29.0\n",
              "394   37     4798       156      64.0\n",
              "390   33     4789       220      71.0\n",
              "275   33     4790       137      79.0\n",
              "156   41     4824       168      82.0\n",
              "6     79     4738       151      95.0\n",
              "323   55     4809       223     108.0\n",
              "201   30     4787        99     117.0"
            ]
          },
          "metadata": {
            "tags": []
          },
          "execution_count": 4
        }
      ]
    },
    {
      "cell_type": "markdown",
      "metadata": {
        "id": "WTLlgzKJyNOT"
      },
      "source": [
        "# Exercício 3\n",
        "\n",
        "Faça o agrupamento hierárquico da base de clientes de marketing utilizando Single-Link e distância euclidiana. Plote o dendrograma. Avalie o dendrograma por meio do índice de Correlação Cofenética.\n",
        "\n",
        "Observação: use o pdist() para calcular a matriz de distâncias."
      ]
    },
    {
      "cell_type": "code",
      "metadata": {
        "colab": {
          "base_uri": "https://localhost:8080/",
          "height": 265
        },
        "id": "2lMu-wD_yXlt",
        "outputId": "7ccff083-b5e3-41b7-f439-504aba6c391e"
      },
      "source": [
        "M = pdist(df_dados,metric='euclidean') # calcula matriz de dissimilaridade com distância euclidiana\n",
        "Z_single_link = hierarchy.linkage(M, 'single') # agrupamento com single-link\n",
        "dendrogram_single_link = hierarchy.dendrogram(Z_single_link) # plotando dendrograma"
      ],
      "execution_count": null,
      "outputs": [
        {
          "output_type": "display_data",
          "data": {
            "image/png": "[encoded data removed]",
            "text/plain": [
              "<Figure size 432x288 with 1 Axes>"
            ]
          },
          "metadata": {
            "tags": [],
            "needs_background": "light"
          }
        }
      ]
    },
    {
      "cell_type": "code",
      "metadata": {
        "colab": {
          "base_uri": "https://localhost:8080/"
        },
        "id": "-hH0SQMvzaJl",
        "outputId": "b320636e-1b3f-49b7-b1f7-cf2891e177a0"
      },
      "source": [
        "# analisando o dendrograma via correlação cofenética\n",
        "result = scipy.cluster.hierarchy.cophenet(Z_single_link,M)\n",
        "print('Correlacao cofenetica (Single-Link) = ',result[0])"
      ],
      "execution_count": null,
      "outputs": [
        {
          "output_type": "stream",
          "text": [
            "Correlacao cofenetica (Single-Link) =  0.81875177674553\n"
          ],
          "name": "stdout"
        }
      ]
    },
    {
      "cell_type": "code",
      "metadata": {
        "colab": {
          "base_uri": "https://localhost:8080/",
          "height": 277
        },
        "id": "rQ0TkEN00I3c",
        "outputId": "7bb47fce-bb0b-404f-c20c-ea27ae8eb449"
      },
      "source": [
        "# dica (opcional): para melhorar a visualização do dendrograma, pode usar o modo truncate\n",
        "dendrogram = hierarchy.dendrogram(Z_single_link,truncate_mode='lastp') # plotando dendrograma"
      ],
      "execution_count": null,
      "outputs": [
        {
          "output_type": "display_data",
          "data": {
            "image/png": "[encoded data removed]",
            "text/plain": [
              "<Figure size 432x288 with 1 Axes>"
            ]
          },
          "metadata": {
            "tags": [],
            "needs_background": "light"
          }
        }
      ]
    },
    {
      "cell_type": "markdown",
      "metadata": {
        "id": "YE_sGqAezu96"
      },
      "source": [
        "# Exercício 4\n",
        "\n",
        "Faça o agrupamento hierárquico da base de clientes de marketing utilizando Average-Link e distância euclidiana. Plote o dendrograma. Avalie o dendrograma por meio do índice de Correlação Cofenética.\n",
        "\n",
        "Observação: use o pdist() para calcular a matriz de distâncias."
      ]
    },
    {
      "cell_type": "code",
      "metadata": {
        "colab": {
          "base_uri": "https://localhost:8080/",
          "height": 265
        },
        "id": "foJeDFDlzwmz",
        "outputId": "2edacfe7-001f-4c04-a5b7-9e29ddae5588"
      },
      "source": [
        "# obs: aqui na seria necessário recalcular a matriz de dissimilaridades M. Poderia aproveitar a mesma do exercício anterior.\n",
        "M = pdist(df_dados,metric='euclidean') # calcula matriz de dissimilaridade com distância euclidiana\n",
        "\n",
        "Z_average_link = hierarchy.linkage(M, 'average') # agrupamento com average-link\n",
        "dendrogram_average_link = hierarchy.dendrogram(Z_average_link) # plotando dendrograma"
      ],
      "execution_count": null,
      "outputs": [
        {
          "output_type": "display_data",
          "data": {
            "image/png": "[encoded data removed]",
            "text/plain": [
              "<Figure size 432x288 with 1 Axes>"
            ]
          },
          "metadata": {
            "tags": [],
            "needs_background": "light"
          }
        }
      ]
    },
    {
      "cell_type": "code",
      "metadata": {
        "colab": {
          "base_uri": "https://localhost:8080/"
        },
        "id": "OkaHyyqU0v_1",
        "outputId": "0f1ad94b-e433-43cf-c0c8-885051ef1783"
      },
      "source": [
        "# analisando o dendrograma via correlação cofenética\n",
        "result = scipy.cluster.hierarchy.cophenet(Z_average_link,M)\n",
        "print('Correlacao cofenetica (Average Link) = ',result[0])"
      ],
      "execution_count": null,
      "outputs": [
        {
          "output_type": "stream",
          "text": [
            "Correlacao cofenetica (Average Link) =  0.8544630737725877\n"
          ],
          "name": "stdout"
        }
      ]
    },
    {
      "cell_type": "code",
      "metadata": {
        "colab": {
          "base_uri": "https://localhost:8080/",
          "height": 277
        },
        "id": "mh0Uuuvo0tfN",
        "outputId": "b6ffe94c-65d8-4fac-ee87-29464cdbdd9f"
      },
      "source": [
        "# dica (opcional): para melhorar a visualização do dendrograma, pode usar o modo truncate\n",
        "dendrogram_average_link = hierarchy.dendrogram(Z_average_link,truncate_mode='lastp') # plotando dendrograma"
      ],
      "execution_count": null,
      "outputs": [
        {
          "output_type": "display_data",
          "data": {
            "image/png": "[encoded data removed]",
            "text/plain": [
              "<Figure size 432x288 with 1 Axes>"
            ]
          },
          "metadata": {
            "tags": [],
            "needs_background": "light"
          }
        }
      ]
    },
    {
      "cell_type": "markdown",
      "metadata": {
        "id": "OKCSJhVN0-SW"
      },
      "source": [
        "# Exercício 5\n",
        "\n",
        "Escolha o agrupamento/dendrograma com maior correlação cofenética (proveniente do exercício 3 e 4). Utilize a medida de silhueta do agrupamento para identificar um número apropriado de clusters entre 3 e 10 (melhor partição via corte no dendrograma)."
      ]
    },
    {
      "cell_type": "code",
      "metadata": {
        "colab": {
          "base_uri": "https://localhost:8080/",
          "height": 481
        },
        "id": "M3FmFJB_1XDG",
        "outputId": "0aabf6af-8a0a-408b-e46f-5db5b5081405"
      },
      "source": [
        "L = [] # lista para armazenar silhueta de cada k\n",
        "\n",
        "best_particao_hc = None\n",
        "best_silhueta = -1\n",
        "best_k = -1\n",
        "\n",
        "for k in range(3,11): # variando de 3 até 10\n",
        "  \n",
        "  # cortando o dendrograma para obter k clusters\n",
        "  particao = hierarchy.cut_tree(Z_average_link,n_clusters=k)\n",
        "  particao = particao.T[0] # transformando a estrutura em uma particao\n",
        "\n",
        "  # avaliando a partição com silhueta\n",
        "  silhouette_avg = silhouette_score(df_dados, particao)\n",
        "\n",
        "  print('k=',k,'Silhueta=',silhouette_avg)\n",
        "  L.append((k,silhouette_avg))\n",
        "\n",
        "  if silhouette_avg > best_silhueta:\n",
        "    best_silhueta = silhouette_avg\n",
        "    best_particao_hc = particao\n",
        "    best_k = k\n",
        "\n",
        "# imprimindo o melhor num. de clusters\n",
        "print('\\n[Melhor partição] Silhueta retornou valor de ',best_silhueta,'para k =',best_k,'\\n')\n",
        "\n",
        "\n",
        "# plotando\n",
        "df_average_link_silhueta = pd.DataFrame(L)\n",
        "df_average_link_silhueta.columns = ['k','silhueta']\n",
        "df_average_link_silhueta.plot(kind='line',x='k',y='silhueta')"
      ],
      "execution_count": null,
      "outputs": [
        {
          "output_type": "stream",
          "text": [
            "k= 3 Silhueta= 0.6513281778671453\n",
            "k= 4 Silhueta= 0.7159252903584553\n",
            "k= 5 Silhueta= 0.7027635750067796\n",
            "k= 6 Silhueta= 0.696465950326659\n",
            "k= 7 Silhueta= 0.7135774279805044\n",
            "k= 8 Silhueta= 0.7130649821033721\n",
            "k= 9 Silhueta= 0.7036377732644883\n",
            "k= 10 Silhueta= 0.7083201653882838\n",
            "\n",
            "[Melhor partição] Silhueta retornou valor de  0.7159252903584553 para k = 4 \n",
            "\n"
          ],
          "name": "stdout"
        },
        {
          "output_type": "execute_result",
          "data": {
            "text/plain": [
              "<matplotlib.axes._subplots.AxesSubplot at 0x7fd58549a710>"
            ]
          },
          "metadata": {
            "tags": []
          },
          "execution_count": 11
        },
        {
          "output_type": "display_data",
          "data": {
            "image/png": "[encoded data removed]",
            "text/plain": [
              "<Figure size 432x288 with 1 Axes>"
            ]
          },
          "metadata": {
            "tags": [],
            "needs_background": "light"
          }
        }
      ]
    },
    {
      "cell_type": "markdown",
      "metadata": {
        "id": "ldzXpcQW3tdm"
      },
      "source": [
        "# Exercício 6\n",
        "\n",
        "Agrupe os objetos utilizando o algoritmo k-means com as seguintes configurações:\n",
        "\n",
        "*   Número máximo de iterações igual a 300\n",
        "*   Inicialização aleatória dos centroides\n",
        "*   Número de vezes que o k-means será executado com diferentes inicializações de centroides igual a 10\n",
        "*   Número de clusters igual a 5\n",
        "\n",
        "No final, apresente os centroides.\n",
        "\n",
        "Atenção: use random_state=42 para garantir que serão utilizadas as mesmas sementes aleatórias do exercício resolvido."
      ]
    },
    {
      "cell_type": "code",
      "metadata": {
        "colab": {
          "base_uri": "https://localhost:8080/"
        },
        "id": "EJbyUHB75WGV",
        "outputId": "6d216839-be54-47bc-b55e-bb372e0d0042"
      },
      "source": [
        "kmeans = KMeans(n_clusters=5,n_init=10,init='random',max_iter=300,random_state=42)\n",
        "kmeans.fit(df_dados)"
      ],
      "execution_count": null,
      "outputs": [
        {
          "output_type": "execute_result",
          "data": {
            "text/plain": [
              "KMeans(algorithm='auto', copy_x=True, init='random', max_iter=300, n_clusters=5,\n",
              "       n_init=10, n_jobs=None, precompute_distances='auto', random_state=42,\n",
              "       tol=0.0001, verbose=0)"
            ]
          },
          "metadata": {
            "tags": []
          },
          "execution_count": 12
        }
      ]
    },
    {
      "cell_type": "code",
      "metadata": {
        "colab": {
          "base_uri": "https://localhost:8080/"
        },
        "id": "R1wdCeTl59Bf",
        "outputId": "d8042ded-e922-4e4f-a441-a871aaa2b1df"
      },
      "source": [
        "centroids = kmeans.cluster_centers_\n",
        "centroids"
      ],
      "execution_count": null,
      "outputs": [
        {
          "output_type": "execute_result",
          "data": {
            "text/plain": [
              "array([[   40.325,   345.165,   355.43 ],\n",
              "       [   42.94 ,  4883.86 ,   223.06 ],\n",
              "       [   43.86 , 13541.84 ,   229.62 ],\n",
              "       [   44.04 ,  2822.72 ,   238.84 ],\n",
              "       [   43.54 ,  8144.24 ,   228.02 ]])"
            ]
          },
          "metadata": {
            "tags": []
          },
          "execution_count": 13
        }
      ]
    },
    {
      "cell_type": "markdown",
      "metadata": {
        "id": "KiWWpE3Z66I3"
      },
      "source": [
        "# Exercício 7\n",
        "\n",
        "Apresente os 3 objetos mais próximos do centroide representante do cluster=0. Use a distância euclidiana."
      ]
    },
    {
      "cell_type": "code",
      "metadata": {
        "colab": {
          "base_uri": "https://localhost:8080/",
          "height": 293
        },
        "id": "1SlBroO47GMd",
        "outputId": "2df48dcc-638b-4aea-9cda-b81205a524db"
      },
      "source": [
        "nbrs = NearestNeighbors(metric='euclidean',n_neighbors=3).fit(df_dados)\n",
        "\n",
        "# usando as features do centroide 0\n",
        "objeto = centroids[0]\n",
        "print('Features do centroide 0: ',objeto, \"\\n\\n\")\n",
        "\n",
        "distances, indices = nbrs.kneighbors([objeto])\n",
        "resultado = df_dados.iloc[indices[0]]\n",
        "resultado['distance'] = distances[0]\n",
        "\n",
        "resultado"
      ],
      "execution_count": null,
      "outputs": [
        {
          "output_type": "stream",
          "text": [
            "Features do centroide 0:  [ 40.325 345.165 355.43 ] \n",
            "\n",
            "\n"
          ],
          "name": "stdout"
        },
        {
          "output_type": "stream",
          "text": [
            "/usr/local/lib/python3.7/dist-packages/ipykernel_launcher.py:9: SettingWithCopyWarning: \n",
            "A value is trying to be set on a copy of a slice from a DataFrame.\n",
            "Try using .loc[row_indexer,col_indexer] = value instead\n",
            "\n",
            "See the caveats in the documentation: https://pandas.pydata.org/pandas-docs/stable/user_guide/indexing.html#returning-a-view-versus-a-copy\n",
            "  if __name__ == '__main__':\n"
          ],
          "name": "stderr"
        },
        {
          "output_type": "execute_result",
          "data": {
            "text/html": [
              "<div>\n",
              "<style scoped>\n",
              "    .dataframe tbody tr th:only-of-type {\n",
              "        vertical-align: middle;\n",
              "    }\n",
              "\n",
              "    .dataframe tbody tr th {\n",
              "        vertical-align: top;\n",
              "    }\n",
              "\n",
              "    .dataframe thead th {\n",
              "        text-align: right;\n",
              "    }\n",
              "</style>\n",
              "<table border=\"1\" class=\"dataframe\">\n",
              "  <thead>\n",
              "    <tr style=\"text-align: right;\">\n",
              "      <th></th>\n",
              "      <th>age</th>\n",
              "      <th>balance</th>\n",
              "      <th>duration</th>\n",
              "      <th>distance</th>\n",
              "    </tr>\n",
              "  </thead>\n",
              "  <tbody>\n",
              "    <tr>\n",
              "      <th>127</th>\n",
              "      <td>52</td>\n",
              "      <td>230</td>\n",
              "      <td>198</td>\n",
              "      <td>195.405956</td>\n",
              "    </tr>\n",
              "    <tr>\n",
              "      <th>175</th>\n",
              "      <td>46</td>\n",
              "      <td>225</td>\n",
              "      <td>201</td>\n",
              "      <td>195.756118</td>\n",
              "    </tr>\n",
              "    <tr>\n",
              "      <th>325</th>\n",
              "      <td>40</td>\n",
              "      <td>219</td>\n",
              "      <td>204</td>\n",
              "      <td>197.100882</td>\n",
              "    </tr>\n",
              "  </tbody>\n",
              "</table>\n",
              "</div>"
            ],
            "text/plain": [
              "     age  balance  duration    distance\n",
              "127   52      230       198  195.405956\n",
              "175   46      225       201  195.756118\n",
              "325   40      219       204  197.100882"
            ]
          },
          "metadata": {
            "tags": []
          },
          "execution_count": 14
        }
      ]
    },
    {
      "cell_type": "markdown",
      "metadata": {
        "id": "Snz6GXP_7o2n"
      },
      "source": [
        "# Exercício 8\n",
        "\n",
        "Use o índice de silhueta para identificar qual é a melhor partição entre as obtidas pelo Exercício 5 e Exercício 6."
      ]
    },
    {
      "cell_type": "code",
      "metadata": {
        "colab": {
          "base_uri": "https://localhost:8080/"
        },
        "id": "vyCypi5S3v9k",
        "outputId": "88ed672a-0ffe-4d73-dad6-ecfa4e690d98"
      },
      "source": [
        "sil_ex5 = silhouette_score(df_dados, best_particao_hc)\n",
        "sil_ex6 = silhouette_score(df_dados, kmeans.labels_)\n",
        "\n",
        "print('Silhueta da partição obtida no Ex. 5:',sil_ex5)\n",
        "print('Silhueta da partição obtida no Ex. 6:',sil_ex6)"
      ],
      "execution_count": null,
      "outputs": [
        {
          "output_type": "stream",
          "text": [
            "Silhueta da partição obtida no Ex. 5: 0.7159252903584553\n",
            "Silhueta da partição obtida no Ex. 6: 0.7302185343753516\n"
          ],
          "name": "stdout"
        }
      ]
    },
    {
      "cell_type": "markdown",
      "metadata": {
        "id": "BnWSWCTE9xDE"
      },
      "source": [
        "# Exercício 9\n",
        "\n",
        "Utilize os atributos \"balance\" (eixo x) e \"duration\" (eixo y) para plotar os objetos usando um scatter-plot. A cor dos pontos deve corresponder aos clusters obtidos pelo k-means do Exercício 6.\n",
        "\n"
      ]
    },
    {
      "cell_type": "code",
      "metadata": {
        "colab": {
          "base_uri": "https://localhost:8080/",
          "height": 296
        },
        "id": "2xmFA64D99Cj",
        "outputId": "4fc88d06-6778-425a-d5c4-acb105f6ce0c"
      },
      "source": [
        "df_dados['cluster_kmeans'] = kmeans.labels_\n",
        "sns.scatterplot(data=df_dados, x='balance', y='duration', hue=\"cluster_kmeans\")"
      ],
      "execution_count": null,
      "outputs": [
        {
          "output_type": "execute_result",
          "data": {
            "text/plain": [
              "<matplotlib.axes._subplots.AxesSubplot at 0x7fd58585d050>"
            ]
          },
          "metadata": {
            "tags": []
          },
          "execution_count": 16
        },
        {
          "output_type": "display_data",
          "data": {
            "image/png": "[encoded data removed]",
            "text/plain": [
              "<Figure size 432x288 with 1 Axes>"
            ]
          },
          "metadata": {
            "tags": [],
            "needs_background": "light"
          }
        }
      ]
    },
    {
      "cell_type": "markdown",
      "metadata": {
        "id": "1hPREkiP_bhX"
      },
      "source": [
        "# Exercício 10\n",
        "\n",
        "Utilize os atributos \"balance\" (eixo x) e \"duration\" (eixo y) para plotar os objetos usando um scatter-plot. A cor dos pontos deve corresponder aos clusters obtidos pela melhor partição extraída do dendrograma (Exercício 5)."
      ]
    },
    {
      "cell_type": "code",
      "metadata": {
        "colab": {
          "base_uri": "https://localhost:8080/",
          "height": 296
        },
        "id": "0hCy_g3tAFdv",
        "outputId": "82ff0dd3-f684-4228-ae5b-8aed18d6ba89"
      },
      "source": [
        "df_dados['cluster_hc'] = best_particao_hc\n",
        "sns.scatterplot(data=df_dados, x='balance', y='duration', hue=\"cluster_hc\")"
      ],
      "execution_count": null,
      "outputs": [
        {
          "output_type": "execute_result",
          "data": {
            "text/plain": [
              "<matplotlib.axes._subplots.AxesSubplot at 0x7fd585705d90>"
            ]
          },
          "metadata": {
            "tags": []
          },
          "execution_count": 17
        },
        {
          "output_type": "display_data",
          "data": {
            "image/png": "[encoded data removed]",
            "text/plain": [
              "<Figure size 432x288 with 1 Axes>"
            ]
          },
          "metadata": {
            "tags": [],
            "needs_background": "light"
          }
        }
      ]
    }
  ]
}
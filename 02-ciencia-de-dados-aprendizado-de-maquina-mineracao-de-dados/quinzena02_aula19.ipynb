{
  "nbformat": 4,
  "nbformat_minor": 0,
  "metadata": {
    "colab": {
      "name": "Exemplo_PCA_complementar.ipynb",
      "provenance": []
    },
    "kernelspec": {
      "name": "python3",
      "display_name": "Python 3"
    },
    "language_info": {
      "name": "python"
    }
  },
  "cells": [
    {
      "cell_type": "markdown",
      "source": [
        ""
      ],
      "metadata": {
        "id": "QR7d4pozvEeR"
      }
    },
    {
      "cell_type": "markdown",
      "source": [
        "## **MBA EM INTELIGENCIA ARTIFICIAL E BIGDATA**\n",
        "## **CURSO 2 - CD, AM E DM** \n",
        "## **PROFA. ROSELI AP. FRANCELIN ROMERO** \n",
        "#-------------------------------------------------\n",
        "#**PRINCIPAL COMPONENT ANALYSIS** - **PCA**\n",
        "# **OBJETIVO:**\n",
        "##### - **REDUÇÃO DA DIMENSIONALIDADE DOS DADOS**\n",
        "##### - **DIMINUIR O NUMERO DE ATRIBUTOS COM A MENOR PERDA DE INFORMAÇÃO ACEITÁVEL**\n",
        "## - **COMPONENTES PRINCIPAIS SÃO EIXOS ORTOGONAIS** \n",
        "##### -  **POSICIONA OS EIXOS PRINCIPAIS NA DIREÇÃO DE MAIOR VARIÂNCIA**\n",
        "\n",
        "### **OBJETIVO:**\n",
        "# Calcular as componentes principais através da matriz de Covariancia e de seus respectivos auto-valores e auto-vetores"
      ],
      "metadata": {
        "id": "RE0Mamj_vJvh"
      }
    },
    {
      "cell_type": "code",
      "execution_count": 3,
      "metadata": {
        "id": "Drv2130u5RHx"
      },
      "outputs": [],
      "source": [
        "from sklearn.datasets import load_iris \n",
        "import pandas as pd"
      ]
    },
    {
      "cell_type": "code",
      "source": [
        "raw_data = load_iris()"
      ],
      "metadata": {
        "id": "rLocuUmB5h4X"
      },
      "execution_count": 52,
      "outputs": []
    },
    {
      "cell_type": "code",
      "source": [
        "import numpy as np\n",
        "from scipy.stats.mstats import zscore\n",
        "from sklearn.decomposition import PCA\n",
        "\n",
        "# Criando um DataFrame a partir de raw_data\n",
        "df = pd.DataFrame(raw_data[\"data\"], columns=raw_data[\"feature_names\"])\n",
        "# Adicionando uma coluna com as classes\n",
        "class_names = raw_data[\"target_names\"]\n",
        "classes = [class_names[i] for i in raw_data[\"target\"]]\n",
        "df[\"class\"] = classes\n",
        "# Estipulando quanto de variancia é desejada\n",
        "var_per = 0.90 \n",
        "# abandonando a coluna referente a classe\n",
        "data_col= df.drop(columns=\"class\")\n",
        "#\n",
        "# Transformando os dados em media = 0\n",
        "#\n",
        "data_col-=np.mean(data_col)\n",
        "#\n",
        "# Transformando os dados em variancia = 1\n",
        "#\n",
        "data_col/=np.std(data_col)\n",
        "print(\"matriz_modificada\")\n",
        "print(data_col)\n",
        "#\n",
        "# Calculando a matriz de covariancia\n",
        "#\n",
        "cov_mat =np.cov(data_col, rowvar=False)\n",
        "# Imprimindo a matriz de Covariancia\n",
        "print(\"Matriz_Covarianca\")\n",
        "print(cov_mat)\n",
        "#\n",
        "#Calculando os auto-valores e respectivos auto-vetores\n",
        "#\n",
        "evals, evecs = np.linalg.eigh(cov_mat)\n",
        "#\n",
        "# colocando em ordem decrescente os auto-valores\n",
        "idx = np.argsort(evals)[::-1]\n",
        "evecs = evecs[:,idx]\n",
        "evals = evals[idx]\n",
        "\n",
        "print(\"_\"*30)\n",
        "print(\"Autovalores\", evals)\n",
        "print(\"_\"*30)\n",
        "print(\"Autovetores: cada linha é um auto-vetor correspondente a seu respectivo auto-valor\")\n",
        "print(evecs.T[:, :])\n",
        "#\n",
        "#Calculando a variancia que cada componente preserva\n",
        "variance = evals/np.sum(evals)\n",
        "print(\"__\"*30)\n",
        "print(\"Variancia de cada componente:\",variance)\n",
        "for i, ratio in enumerate(variance):\n",
        "  print(f\"Z{i+1} é responsável por {ratio*100} da variância total\")\n",
        "\n",
        "#Calculando a variancia acumulada em relação ao no. de componentes\n",
        "#\n",
        "print(\"__\"*30)\n",
        "variance_retained=np.cumsum(evals)/np.sum(evals)\n",
        "print(\"Variancia acumulada\", variance_retained)\n",
        "\n",
        "index=np.argmax(variance_retained>=var_per)\n",
        "evecs = evecs[:,:index+1]\n",
        "reduced_data=np.dot(evecs.T, data_col.T).T\n",
        "print(\"Autovalores\", evals)\n",
        "print(\"_\"*30)\n",
        "print(\"Autovetores: cada linha é um auto-vetor correspondente a seu respectivo auto-valor\")\n",
        "print(evecs.T[:, :])\n",
        "print(\"_\"*30)\n",
        "#using scipy package somente para comparação e verificação que as componentes obtidas são identicas\n",
        "# No caso só está sendo impresso o no. de componentes correspondentes a var_per (variancia requerida)\n",
        "clf=PCA(var_per)\n",
        "X_train=data_col\n",
        "X_train=clf.fit_transform(X_train)\n",
        "print(\"Auto-valores obtidos via scipy\\n\", clf.explained_variance_)\n",
        "print(\"_\"*30)\n",
        "print(\"Auto-vetores obtidos via scipy\\n\", clf.components_[:,:])\n",
        "print(\"__\"*30)\n",
        "\n"
      ],
      "metadata": {
        "colab": {
          "base_uri": "https://localhost:8080/"
        },
        "id": "7UBubbzacrP9",
        "outputId": "44b1d0d5-3dd3-44e0-8a9b-949742e4967c"
      },
      "execution_count": 49,
      "outputs": [
        {
          "output_type": "stream",
          "name": "stdout",
          "text": [
            "matriz_modificada\n",
            "     sepal length (cm)  sepal width (cm)  petal length (cm)  petal width (cm)\n",
            "0            -0.900681          1.019004          -1.340227         -1.315444\n",
            "1            -1.143017         -0.131979          -1.340227         -1.315444\n",
            "2            -1.385353          0.328414          -1.397064         -1.315444\n",
            "3            -1.506521          0.098217          -1.283389         -1.315444\n",
            "4            -1.021849          1.249201          -1.340227         -1.315444\n",
            "..                 ...               ...                ...               ...\n",
            "145           1.038005         -0.131979           0.819596          1.448832\n",
            "146           0.553333         -1.282963           0.705921          0.922303\n",
            "147           0.795669         -0.131979           0.819596          1.053935\n",
            "148           0.432165          0.788808           0.933271          1.448832\n",
            "149           0.068662         -0.131979           0.762758          0.790671\n",
            "\n",
            "[150 rows x 4 columns]\n",
            "Matriz_Covarianca\n",
            "[[ 1.00671141 -0.11835884  0.87760447  0.82343066]\n",
            " [-0.11835884  1.00671141 -0.43131554 -0.36858315]\n",
            " [ 0.87760447 -0.43131554  1.00671141  0.96932762]\n",
            " [ 0.82343066 -0.36858315  0.96932762  1.00671141]]\n",
            "______________________________\n",
            "Autovalores [2.93808505 0.9201649  0.14774182 0.02085386]\n",
            "______________________________\n",
            "Autovetores: cada linha é um auto-vetor correspondente a seu respectivo auto-valor\n",
            "[[-0.52106591  0.26934744 -0.5804131  -0.56485654]\n",
            " [ 0.37741762  0.92329566  0.02449161  0.06694199]\n",
            " [ 0.71956635 -0.24438178 -0.14212637 -0.63427274]\n",
            " [ 0.26128628 -0.12350962 -0.80144925  0.52359713]]\n",
            "____________________________________________________________\n",
            "Variancia de cada componente: [0.72962445 0.22850762 0.03668922 0.00517871]\n",
            "Z1 é responsável por 72.96244541329992 da variância total\n",
            "Z2 é responsável por 22.850761786701725 da variância total\n",
            "Z3 é responsável por 3.6689218892828612 da variância total\n",
            "Z4 é responsável por 0.5178709107155008 da variância total\n",
            "____________________________________________________________\n",
            "Variancia acumulada [0.72962445 0.95813207 0.99482129 1.        ]\n",
            "Autovalores [2.93808505 0.9201649  0.14774182 0.02085386]\n",
            "______________________________\n",
            "Autovetores: cada linha é um auto-vetor correspondente a seu respectivo auto-valor\n",
            "[[-0.52106591  0.26934744 -0.5804131  -0.56485654]\n",
            " [ 0.37741762  0.92329566  0.02449161  0.06694199]]\n",
            "______________________________\n",
            "Auto-valores obtidos via scipy\n",
            " [2.93808505 0.9201649 ]\n",
            "______________________________\n",
            "Auto-vetores obtidos via scipy\n",
            " [[ 0.52106591 -0.26934744  0.5804131   0.56485654]\n",
            " [ 0.37741762  0.92329566  0.02449161  0.06694199]]\n",
            "____________________________________________________________\n"
          ]
        }
      ]
    },
    {
      "cell_type": "markdown",
      "source": [
        "# Vamos plotar o grafico das componentes principais: Z1 x Z2.\n",
        "# Nota-se como as classes estão separadas."
      ],
      "metadata": {
        "id": "OMiJ9IkDUEOy"
      }
    },
    {
      "cell_type": "code",
      "source": [
        "import matplotlib.pyplot as plt\n",
        "import seaborn as sns\n",
        "sns.scatterplot(x=X_train[:, 0], y=X_train[:, 1], hue=classes)"
      ],
      "metadata": {
        "colab": {
          "base_uri": "https://localhost:8080/",
          "height": 283
        },
        "id": "JO69yXrOTIB_",
        "outputId": "a7f93293-7685-4b5b-be32-5b0ec70516f0"
      },
      "execution_count": 51,
      "outputs": [
        {
          "output_type": "execute_result",
          "data": {
            "text/plain": [
              "<matplotlib.axes._subplots.AxesSubplot at 0x7fccaa56e790>"
            ]
          },
          "metadata": {},
          "execution_count": 51
        },
        {
          "output_type": "display_data",
          "data": {
            "text/plain": [
              "<Figure size 432x288 with 1 Axes>"
            ],
            "image/png": "[encoded data removed]"
          },
          "metadata": {
            "needs_background": "light"
          }
        }
      ]
    }
  ]
}
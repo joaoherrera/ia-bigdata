{
  "nbformat": 4,
  "nbformat_minor": 5,
  "metadata": {
    "kernelspec": {
      "display_name": "BigData2021",
      "language": "python",
      "name": "bigdata2021"
    },
    "language_info": {
      "codemirror_mode": {
        "name": "ipython",
        "version": 3
      },
      "file_extension": ".py",
      "mimetype": "text/x-python",
      "name": "python",
      "nbconvert_exporter": "python",
      "pygments_lexer": "ipython3",
      "version": "3.8.11"
    },
    "colab": {
      "name": "Avaliação_Quinzenal_1_atualizado.ipynb",
      "provenance": [],
      "collapsed_sections": []
    }
  },
  "cells": [
    {
      "cell_type": "markdown",
      "metadata": {
        "id": "median-importance"
      },
      "source": [
        "#**CURSO 2 - CIENCIA DE DADOS, APRENDIZADO DE MÁQUINA E DATA MINING**\n",
        "## **PROFa. Roseli A F Romero**\n",
        "\n",
        "# **Exploração de dados**\n",
        "\n",
        "Para todos os exercícios dessa parte, considere a base de dados de jogadores de futebol (`jogadores_exercicio1.csv`).\n",
        "\n",
        "\n",
        "### **Questão 01**.\n",
        "\n",
        "#Com base nos valores da média e desvio padrão dos atributos `weight` e `age` podemos dizer que:\n",
        "\n",
        "a) o desvio padrão do atributo `weight` corresponde a menos de 10% da sua média<br>\n",
        "b) o desvio padrão do atributo `age` corresponde a mais de 20% da sua média<br>\n",
        "c) não há praticamente nenhuma variação nos dados dos atributos `weight` e `age`<br>\n",
        "d) nenhuma das anteriores\n"
      ],
      "id": "median-importance"
    },
    {
      "cell_type": "markdown",
      "metadata": {
        "id": "recreational-journalism"
      },
      "source": [
        "---\n",
        "### **Questão 02**.\n",
        "\n",
        "Considerando o histograma do atributo `weight`, podemos afirmar que:\n",
        "\n",
        "a) a maioria dos dados estão entre 60 e 70<br>\n",
        "b) a maioria dos dados estão entre 65 e 85<br>\n",
        "c) os dados apresentam uma distribuição uniforme<br>\n",
        "d) nenhuma das anteriores"
      ],
      "id": "recreational-journalism"
    },
    {
      "cell_type": "markdown",
      "metadata": {
        "id": "damaged-facility"
      },
      "source": [
        "---\n",
        "### **Questão 03**.\n",
        "\n",
        "Considerando o boxplot do atributo `age`, podemos afirmar que:\n",
        "\n",
        "a) o valor que separa 75% dos dados (terceiro quartil) é maior que 40<br>\n",
        "b) o valor que separa 25% dos dados (primeiro quartil) é menor que 30<br>\n",
        "c) existe ao menos um outlier nesse conjunto<br>\n",
        "d) nenhuma das anteriores"
      ],
      "id": "damaged-facility"
    },
    {
      "cell_type": "markdown",
      "metadata": {
        "id": "cardiac-taxation"
      },
      "source": [
        "---\n",
        "# Pré-processamento\n",
        "\n",
        "### **Questão 04**.\n",
        "\n",
        "Considere os dados abaixo armazenados na variável `data`. Ao normalizá-los entre 0 e 1 por meio da biblioteca MinMaxScaler, qual o valor da segunda linha?\n",
        "\n",
        "a) 0, 0.7, 0.33<br>\n",
        "b) 1, 0, 0.5<br>\n",
        "c) 0.5, 0.4, 0.3<br>\n",
        "d) nenhuma das anteriores"
      ],
      "id": "cardiac-taxation"
    },
    {
      "cell_type": "code",
      "source": [
        "import numpy as np\n",
        "\n",
        "data = np.array([\n",
        "        [10, 20, 30],\n",
        "        [400, -2, 60],\n",
        "        [5, 80, 90]\n",
        "    ])\n",
        "\n",
        "from sklearn.preprocessing import MinMaxScaler"
      ],
      "metadata": {
        "id": "3cWwzQjNqbEq"
      },
      "id": "3cWwzQjNqbEq",
      "execution_count": null,
      "outputs": []
    },
    {
      "cell_type": "markdown",
      "metadata": {
        "id": "afraid-stewart"
      },
      "source": [
        "---\n",
        "# PCA e Regressão Linear\n",
        "\n",
        "### **Questão 05**.\n",
        "\n",
        "Para essa questão, utilizaremos o dataset `boston house prices`. Você deve:\n",
        "\n",
        "1.   Dividir o dataset em 80% treino e 20% teste (com `random_state=0`)\n",
        "2.   Padronizar os dados utilizando `StandardScaler`\n",
        "3.   Aplicar a técnica `PCA` e reduzir a dimensionalidade dos atributos para 2\n",
        "4.   Treinar um regressor linear e calcular as métricas `R2`, `Mean Squared Error` e` Mean Absolute Error` sobre o conjunto de **teste**\n",
        "\n",
        "As métricas obtidas foram:\n",
        "\n",
        "a) R2: 0.15, MSE: 69.06 e MAE: 5.93<br>\n",
        "b) R2: 0.26, MSE: 73.4 e MAE: 5.77<br>\n",
        "c) R2: 0.32, MSE: 56.95 e MAE: 5.9<br>\n",
        "d) R2: 0.26, MSE: 61.41 e MAE: 5.56\n",
        "\n",
        "\n",
        "\n",
        "#### Observações\n",
        "- Lembre-se de utilizar apenas o conjunto de **treino** para fit do `PCA`, `LinearRegression` e `StandardScaler`.\n",
        "\n"
      ],
      "id": "afraid-stewart"
    },
    {
      "cell_type": "code",
      "source": [
        "from sklearn.datasets import load_boston\n",
        "from sklearn.decomposition import PCA\n",
        "from sklearn.model_selection import train_test_split\n",
        "from sklearn.linear_model import LinearRegression\n",
        "from sklearn.metrics import r2_score, mean_squared_error, mean_absolute_error\n",
        "from sklearn.preprocessing import StandardScaler"
      ],
      "metadata": {
        "id": "GEFBwvGIqwy9"
      },
      "id": "GEFBwvGIqwy9",
      "execution_count": null,
      "outputs": []
    }
  ]
}